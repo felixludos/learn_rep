{
 "cells": [
  {
   "cell_type": "code",
   "execution_count": 1,
   "id": "1cdcaca1",
   "metadata": {},
   "outputs": [
    {
     "data": {
      "text/html": [
       "<style>.container { width:80% !important; }</style>"
      ],
      "text/plain": [
       "<IPython.core.display.HTML object>"
      ]
     },
     "metadata": {},
     "output_type": "display_data"
    }
   ],
   "source": [
    "import sys, os, time, shutil, random\n",
    "from pathlib import Path\n",
    "_cwd = os.getcwd()\n",
    "os.chdir(Path(_cwd)/'..')\n",
    "from IPython.core.display import display, HTML\n",
    "display(HTML(\"<style>.container { width:80% !important; }</style>\"))\n",
    "# %load_ext autoreload\n",
    "# %autoreload 2\n",
    "# %pdb\n",
    "from itertools import product, cycle\n",
    "from heapq import heapify, heappush, heappop\n",
    "import h5py as hf\n",
    "import cv2\n",
    "import omnifig as fig\n",
    "import numpy as np\n",
    "np.set_printoptions(linewidth=120)\n",
    "import pickle\n",
    "from tabulate import tabulate\n",
    "from tqdm.notebook import tqdm\n",
    "import torch\n",
    "from torch import nn\n",
    "import torch.nn.functional as F\n",
    "import torch.distributions as distrib\n",
    "import torch.multiprocessing as mp\n",
    "# import torchvision.models\n",
    "from torch.utils.data import Dataset, DataLoader, TensorDataset\n",
    "import networkx as nx\n",
    "\n",
    "%matplotlib notebook\n",
    "import matplotlib.pyplot as plt\n",
    "#plt.switch_backend('Qt5Agg') #('Qt5Agg')\n",
    "import matplotlib.patches as mpatches\n",
    "import matplotlib.pyplot as plt\n",
    "import matplotlib.cm\n",
    "from matplotlib import animation\n",
    "import matplotlib as mpl\n",
    "from matplotlib.collections import PatchCollection\n",
    "# mpl.rc('image', cmap='gray')\n",
    "import seaborn as sns\n",
    "import pandas as pd\n",
    "from sklearn.preprocessing import normalize\n",
    "\n",
    "fig.initialize()\n",
    "\n",
    "import omnilearn as learn\n",
    "from omnilearn import models\n",
    "from omnilearn import util\n",
    "from omnilearn.data import InterventionSamplerBase\n",
    "from omnilearn import viz as viz_util\n",
    "\n",
    "from sklearn.cluster import MeanShift, estimate_bandwidth, DBSCAN, KMeans\n",
    "from sklearn.datasets import make_blobs\n",
    "from sklearn.decomposition import PCA\n",
    "\n",
    "from src import sample_full_interventions, response_mat, conditioned_reponses\n",
    "from src.responses import sample_full_interventions\n",
    "\n",
    "# import gpumap\n",
    "from c3linearize import linearize, class_graph\n",
    "\n",
    "fig.get_config().silence();"
   ]
  },
  {
   "cell_type": "code",
   "execution_count": null,
   "id": "ed895278",
   "metadata": {},
   "outputs": [],
   "source": []
  },
  {
   "cell_type": "code",
   "execution_count": 2,
   "id": "0fc2bdec",
   "metadata": {},
   "outputs": [],
   "source": [
    "rnames = '''3ds_vae1_d-conv_s1_210523-164722\t3ds_vae1_d-conv_d24-s1_210523-164723\n",
    "3ds_vae1_d-conv_s2_210523-164723\t3ds_vae1_d-conv_d24-s2_210523-164722\n",
    "3ds_vae2_d-conv_s1_210523-164723\t3ds_vae2_d-conv_d24-s1_210523-164722\n",
    "3ds_vae2_d-conv_s2_210523-164722\t3ds_vae2_d-conv_d24-s2_210523-164722\n",
    "3ds_vae4_d-conv_s1_210523-164723\t3ds_vae4_d-conv_d24-s1_210523-164722\n",
    "3ds_vae4_d-conv_s2_210523-164722\t3ds_vae4_d-conv_d24-s2_210523-164722\n",
    "3ds_vae8_d-conv_s1_210523-164722\t3ds_vae8_d-conv_d24-s1_210523-164723\n",
    "3ds_vae8_d-conv_s2_210523-164722\t3ds_vae8_d-conv_d24-s2_210523-164722'''.replace('\\t', '\\n').split('\\n')"
   ]
  },
  {
   "cell_type": "code",
   "execution_count": null,
   "id": "5ae942ef",
   "metadata": {},
   "outputs": [],
   "source": [
    "cat = 'toy'"
   ]
  },
  {
   "cell_type": "code",
   "execution_count": 5,
   "id": "afabd52b",
   "metadata": {},
   "outputs": [],
   "source": [
    "tmpl = 'unbuffer fig eval-multiple-metrics eval/mpi --cat sim --run-name {}'\n",
    "tmpl = 'unbuffer fig eval-multiple-metrics eval/3ds --run-name {}'"
   ]
  },
  {
   "cell_type": "code",
   "execution_count": 6,
   "id": "1d8c811e",
   "metadata": {},
   "outputs": [
    {
     "name": "stdout",
     "output_type": "stream",
     "text": [
      "unbuffer fig eval-multiple-metrics eval/3ds --run-name 3ds_vae1_d-conv_s1_210523-164722\n",
      "unbuffer fig eval-multiple-metrics eval/3ds --run-name 3ds_vae1_d-conv_d24-s1_210523-164723\n",
      "unbuffer fig eval-multiple-metrics eval/3ds --run-name 3ds_vae1_d-conv_s2_210523-164723\n",
      "unbuffer fig eval-multiple-metrics eval/3ds --run-name 3ds_vae1_d-conv_d24-s2_210523-164722\n",
      "unbuffer fig eval-multiple-metrics eval/3ds --run-name 3ds_vae2_d-conv_s1_210523-164723\n",
      "unbuffer fig eval-multiple-metrics eval/3ds --run-name 3ds_vae2_d-conv_d24-s1_210523-164722\n",
      "unbuffer fig eval-multiple-metrics eval/3ds --run-name 3ds_vae2_d-conv_s2_210523-164722\n",
      "unbuffer fig eval-multiple-metrics eval/3ds --run-name 3ds_vae2_d-conv_d24-s2_210523-164722\n",
      "unbuffer fig eval-multiple-metrics eval/3ds --run-name 3ds_vae4_d-conv_s1_210523-164723\n",
      "unbuffer fig eval-multiple-metrics eval/3ds --run-name 3ds_vae4_d-conv_d24-s1_210523-164722\n",
      "unbuffer fig eval-multiple-metrics eval/3ds --run-name 3ds_vae4_d-conv_s2_210523-164722\n",
      "unbuffer fig eval-multiple-metrics eval/3ds --run-name 3ds_vae4_d-conv_d24-s2_210523-164722\n",
      "unbuffer fig eval-multiple-metrics eval/3ds --run-name 3ds_vae8_d-conv_s1_210523-164722\n",
      "unbuffer fig eval-multiple-metrics eval/3ds --run-name 3ds_vae8_d-conv_d24-s1_210523-164723\n",
      "unbuffer fig eval-multiple-metrics eval/3ds --run-name 3ds_vae8_d-conv_s2_210523-164722\n",
      "unbuffer fig eval-multiple-metrics eval/3ds --run-name 3ds_vae8_d-conv_d24-s2_210523-164722\n"
     ]
    }
   ],
   "source": [
    "print('\\n'.join(tmpl.format(n) for n in rnames))"
   ]
  },
  {
   "cell_type": "code",
   "execution_count": null,
   "id": "61ad9d94",
   "metadata": {},
   "outputs": [],
   "source": []
  },
  {
   "cell_type": "code",
   "execution_count": null,
   "id": "701bd32c",
   "metadata": {},
   "outputs": [],
   "source": []
  },
  {
   "cell_type": "code",
   "execution_count": null,
   "id": "9648c987",
   "metadata": {},
   "outputs": [],
   "source": []
  },
  {
   "cell_type": "code",
   "execution_count": null,
   "id": "577c1642",
   "metadata": {},
   "outputs": [],
   "source": []
  },
  {
   "cell_type": "code",
   "execution_count": null,
   "id": "e6f8dd50",
   "metadata": {},
   "outputs": [],
   "source": []
  },
  {
   "cell_type": "code",
   "execution_count": null,
   "id": "545e2dbe",
   "metadata": {},
   "outputs": [],
   "source": []
  }
 ],
 "metadata": {
  "kernelspec": {
   "display_name": "Python 3",
   "language": "python",
   "name": "python3"
  },
  "language_info": {
   "codemirror_mode": {
    "name": "ipython",
    "version": 3
   },
   "file_extension": ".py",
   "mimetype": "text/x-python",
   "name": "python",
   "nbconvert_exporter": "python",
   "pygments_lexer": "ipython3",
   "version": "3.7.4"
  }
 },
 "nbformat": 4,
 "nbformat_minor": 5
}
