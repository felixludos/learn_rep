{
 "cells": [
  {
   "cell_type": "code",
   "execution_count": 1,
   "id": "daec7b80",
   "metadata": {
    "scrolled": false
   },
   "outputs": [
    {
     "name": "stderr",
     "output_type": "stream",
     "text": [
      "2021-11-11 18:05:07.585592: W tensorflow/stream_executor/platform/default/dso_loader.cc:64] Could not load dynamic library 'libcudart.so.11.0'; dlerror: libcudart.so.11.0: cannot open shared object file: No such file or directory; LD_LIBRARY_PATH: /is/ei/fleeb/miniconda3/lib/python3.8/site-packages/cv2/../../lib64:/is/ei/fleeb/.mujoco/mujoco200/bin\n",
      "2021-11-11 18:05:07.585608: I tensorflow/stream_executor/cuda/cudart_stub.cc:29] Ignore above cudart dlerror if you do not have a GPU set up on your machine.\n",
      "WARNING:/is/ei/fleeb/workspace/code/foundation/omnilearn/op/pretrained.py: Unable to import \"timm\"\n"
     ]
    }
   ],
   "source": [
    "import sys, os, time, shutil, random\n",
    "from pathlib import Path\n",
    "_cwd = os.getcwd()\n",
    "os.chdir(Path(_cwd)/'..')\n",
    "from IPython.core.display import display, HTML\n",
    "# display(HTML(\"<style>.container { width:98% !important; }</style>\"))\n",
    "# %load_ext autoreload\n",
    "# %autoreload 2\n",
    "# %pdb\n",
    "import h5py as hf\n",
    "import omnifig as fig\n",
    "import numpy as np\n",
    "np.set_printoptions(linewidth=120)\n",
    "import pickle\n",
    "from tabulate import tabulate\n",
    "from tqdm import tqdm_notebook as tqdm\n",
    "import torch\n",
    "from torch import nn\n",
    "import torch.nn.functional as F\n",
    "import torch.distributions as distrib\n",
    "import torch.multiprocessing as mp\n",
    "# import torchvision.models\n",
    "from torch.utils.data import Dataset, DataLoader, TensorDataset\n",
    "# import timm\n",
    "\n",
    "%matplotlib notebook\n",
    "import matplotlib.pyplot as plt\n",
    "#plt.switch_backend('Qt5Agg') #('Qt5Agg')\n",
    "import matplotlib.patches as mpatches\n",
    "import matplotlib.pyplot as plt\n",
    "import matplotlib.cm\n",
    "from matplotlib import animation\n",
    "import matplotlib as mpl\n",
    "# mpl.rc('image', cmap='gray')\n",
    "import seaborn as sns\n",
    "import pandas as pd\n",
    "from sklearn.preprocessing import normalize\n",
    "\n",
    "fig.initialize()\n",
    "\n",
    "import omnilearn as learn\n",
    "from omnilearn import models\n",
    "from omnilearn import util\n",
    "from omnilearn.data import InterventionSamplerBase\n",
    "\n",
    "from sklearn.decomposition import PCA\n",
    "import sklearn.datasets\n",
    "\n",
    "# from src import sample_full_interventions, response_mat, factor_reponses\n",
    "\n",
    "# import gpumap\n",
    "from c3linearize import linearize, class_graph\n"
   ]
  },
  {
   "cell_type": "code",
   "execution_count": 2,
   "id": "d3994f08",
   "metadata": {},
   "outputs": [],
   "source": [
    "base_props = {'ID': 'inception-v3', 'pretrained': True}"
   ]
  },
  {
   "cell_type": "code",
   "execution_count": 11,
   "id": "ffc52b46",
   "metadata": {
    "scrolled": true
   },
   "outputs": [
    {
     "name": "stdout",
     "output_type": "stream",
     "text": [
      "| dataset: [<class 'omnifig.config.ConfigDict'>]\n",
      "| CREATING . (type=dataset)\n",
      "|  > .num_workers: 0\n",
      "|  > batch_size: 128\n",
      "|  > shuffle: True\n",
      "|  > drop_last: True\n",
      "|  > .step_device --> .device: 'cuda'\n",
      "|  > infinite: False (by default)\n",
      "|  > extractor: None (by default)\n",
      "|  > allow_batched: True (by default)\n",
      "|  > split [dict with 1 item/s]\n",
      "|  >  > (val): 0.166666\n",
      "|  > shuffle-split: True (by default)\n",
      "|  > split-src: 'train' (by default)\n",
      "|  > wrappers: [] (by default)\n",
      "|  > default-mode --> mode: 'train' (by default)\n",
      "|  > _dataset_type --> dataset-name --> name: 'mnist'\n",
      "|  > _dataset_mod: [] (by default)\n",
      "|  > mode-aliases [dict with 1 item/s]\n",
      "|  >  > (eval): 'val'\n",
      "|  > .seed: 0\n",
      "|  > device: 'cpu'\n",
      "|  > pin_memory: True (by default)\n",
      "|  > epoch_seed --> .seed: 0\n",
      "|  > skip_load: False (by default)\n",
      "|  > CREATING . (type=dataset/mnist)\n",
      "|  >  > dataroot: None (by default)\n",
      "|  >  > mode: 'train'\n",
      "|  >  > download: False\n",
      "|  >  > train: True (by default)\n",
      "|  >  > resize: True (by default)\n",
      "|  >  > supervised: True (by default)\n",
      "|  >  > target_attr: 'targets' (by default)\n",
      "|  >  > as_bytes: False (by default)\n",
      "|  >  > epsilon: 1e-08 (by default)\n",
      "|  >  > din: (1, 32, 32) (by default)\n",
      "|  >  > dout: 10 (by default)\n"
     ]
    },
    {
     "name": "stderr",
     "output_type": "stream",
     "text": [
      "/is/ei/fleeb/miniconda3/lib/python3.8/site-packages/torch/nn/functional.py:3454: UserWarning: Default upsampling behavior when mode=bilinear is changed to align_corners=False since 0.4.0. Please specify align_corners=True if the old behavior is desired. See the documentation of nn.Upsample for details.\n",
      "  warnings.warn(\n"
     ]
    },
    {
     "data": {
      "text/plain": [
       "50000"
      ]
     },
     "execution_count": 11,
     "metadata": {},
     "output_type": "execute_result"
    }
   ],
   "source": [
    "dataset = fig.quick_run('load-data', 'd/mnist')\n",
    "len(dataset)"
   ]
  },
  {
   "cell_type": "code",
   "execution_count": 12,
   "id": "dc5a1669",
   "metadata": {},
   "outputs": [
    {
     "data": {
      "text/plain": [
       "PosixPath('/is/ei/fleeb/workspace/local_data/mnist')"
      ]
     },
     "execution_count": 12,
     "metadata": {},
     "output_type": "execute_result"
    }
   ],
   "source": [
    "root = dataset.get_root()\n",
    "root"
   ]
  },
  {
   "cell_type": "code",
   "execution_count": 13,
   "id": "8beab2fd",
   "metadata": {},
   "outputs": [
    {
     "data": {
      "text/plain": [
       "['train_192_mu',\n",
       " 'train_192_sigma',\n",
       " 'train_2048_mu',\n",
       " 'train_2048_sigma',\n",
       " 'train_64_mu',\n",
       " 'train_64_sigma',\n",
       " 'train_768_mu',\n",
       " 'train_768_sigma']"
      ]
     },
     "execution_count": 13,
     "metadata": {},
     "output_type": "execute_result"
    }
   ],
   "source": [
    "# name = f'{dataset.cat}_fid_stats.h5'\n",
    "name = f'fid_stats.h5'\n",
    "\n",
    "f = hf.File(root/name)\n",
    "list(f.keys())"
   ]
  },
  {
   "cell_type": "code",
   "execution_count": null,
   "id": "1151024e",
   "metadata": {},
   "outputs": [],
   "source": []
  },
  {
   "cell_type": "code",
   "execution_count": 14,
   "id": "a27d9929",
   "metadata": {},
   "outputs": [],
   "source": [
    "# fid = fig.quick_create('loss', ident='frechet-distance')\n",
    "# fid"
   ]
  },
  {
   "cell_type": "code",
   "execution_count": 15,
   "id": "ceafc287",
   "metadata": {},
   "outputs": [],
   "source": [
    "# m1, s1 = torch.from_numpy(f['train_2048_mu'][:]), torch.from_numpy(f['train_2048_sigma'][:])\n",
    "# m2, s2 = torch.from_numpy(f['test_2048_mu'][:]), torch.from_numpy(f['test_2048_sigma'][:])\n",
    "\n",
    "# fid((m1, s1), (m2, s2))"
   ]
  },
  {
   "cell_type": "code",
   "execution_count": 16,
   "id": "cf9852ee",
   "metadata": {},
   "outputs": [
    {
     "name": "stdout",
     "output_type": "stream",
     "text": [
      "{'dim': 192, 'mode': 'train', 'ID': 'inception-v3', 'pretrained': True}\n",
      "{'dim': 2048, 'mode': 'train', 'ID': 'inception-v3', 'pretrained': True}\n",
      "{'dim': 64, 'mode': 'train', 'ID': 'inception-v3', 'pretrained': True}\n",
      "{'dim': 768, 'mode': 'train', 'ID': 'inception-v3', 'pretrained': True}\n"
     ]
    }
   ],
   "source": [
    "for key in [key for key in f.keys() if key.endswith('_mu')]:\n",
    "    mode, dim, _ = key.split('_')\n",
    "    dim = int(dim)\n",
    "    props = {'dim':dim, 'mode':mode, **base_props}\n",
    "    \n",
    "    dataset.save_stats(props, (torch.from_numpy(f[f'{mode}_{dim}_mu'][:]), \n",
    "                               torch.from_numpy(f[f'{mode}_{dim}_sigma'][:])))\n",
    "    print(props)"
   ]
  },
  {
   "cell_type": "code",
   "execution_count": 17,
   "id": "2d1d4fea",
   "metadata": {},
   "outputs": [
    {
     "data": {
      "text/plain": [
       "{'train-inception-v3': [[{'dim': 192,\n",
       "    'mode': 'train',\n",
       "    'ID': 'inception-v3',\n",
       "    'pretrained': True},\n",
       "   'train-inception-v3-0'],\n",
       "  [{'dim': 2048, 'mode': 'train', 'ID': 'inception-v3', 'pretrained': True},\n",
       "   'train-inception-v3-1'],\n",
       "  [{'dim': 64, 'mode': 'train', 'ID': 'inception-v3', 'pretrained': True},\n",
       "   'train-inception-v3-2'],\n",
       "  [{'dim': 768, 'mode': 'train', 'ID': 'inception-v3', 'pretrained': True},\n",
       "   'train-inception-v3-3']]}"
      ]
     },
     "execution_count": 17,
     "metadata": {},
     "output_type": "execute_result"
    }
   ],
   "source": [
    "table = dataset.get_datafile('stats/table')\n",
    "table"
   ]
  },
  {
   "cell_type": "code",
   "execution_count": null,
   "id": "dce9ecad",
   "metadata": {},
   "outputs": [],
   "source": []
  },
  {
   "cell_type": "code",
   "execution_count": null,
   "id": "30f9725f",
   "metadata": {},
   "outputs": [],
   "source": []
  }
 ],
 "metadata": {
  "kernelspec": {
   "display_name": "Python 3 (ipykernel)",
   "language": "python",
   "name": "python3"
  },
  "language_info": {
   "codemirror_mode": {
    "name": "ipython",
    "version": 3
   },
   "file_extension": ".py",
   "mimetype": "text/x-python",
   "name": "python",
   "nbconvert_exporter": "python",
   "pygments_lexer": "ipython3",
   "version": "3.8.8"
  }
 },
 "nbformat": 4,
 "nbformat_minor": 5
}
