{
 "cells": [
  {
   "cell_type": "code",
   "execution_count": 1,
   "metadata": {},
   "outputs": [
    {
     "name": "stdout",
     "output_type": "stream",
     "text": [
      "WARNING: no requirements.txt found\n",
      "WARNING: A component with name conv was already registered\n"
     ]
    }
   ],
   "source": [
    "import sys, os, time, shutil\n",
    "from IPython.core.display import display, HTML\n",
    "# display(HTML(\"<style>.container { width:98% !important; }</style>\"))\n",
    "os.environ['FOUNDATION_RUN_MODE'] = 'jupyter'\n",
    "# %load_ext autoreload\n",
    "# %autoreload 2\n",
    "# %pdb\n",
    "from tqdm import tqdm_notebook as tqdm\n",
    "import torch\n",
    "import torch.nn as nn\n",
    "import torch.nn.functional as F\n",
    "import torch.distributions as distrib\n",
    "import torch.multiprocessing as mp\n",
    "import torchvision.models\n",
    "from torch.utils.data import Dataset, DataLoader, TensorDataset\n",
    "\n",
    "import matplotlib.pyplot as plt\n",
    "import seaborn as sns\n",
    "import pandas as pd\n",
    "from sklearn.preprocessing import normalize\n",
    "\n",
    "import gym\n",
    "import inspect\n",
    "import numpy as np\n",
    "import pickle\n",
    "\n",
    "#%matplotlib tk\n",
    "import matplotlib.pyplot as plt\n",
    "#plt.switch_backend('Qt5Agg') #('Qt5Agg')\n",
    "import foundation as fd\n",
    "from foundation import models\n",
    "from foundation import util\n",
    "from foundation import train as trn\n",
    "#from foundation.util import replicate, Cloner\n",
    "\n",
    "import matplotlib.patches as mpatches\n",
    "import matplotlib.pyplot as plt\n",
    "import matplotlib.cm\n",
    "from matplotlib import animation\n",
    "import matplotlib as mpl\n",
    "# mpl.rc('image', cmap='gray')\n",
    "\n",
    "# import gpumap\n",
    "# import umap, shap\n",
    "# import umap.plot\n",
    "\n",
    "from sklearn.decomposition import PCA\n",
    "import sklearn.datasets\n",
    "\n",
    "# import gpumap\n",
    "\n",
    "%matplotlib notebook\n",
    "\n",
    "# import project as proj\n",
    "# import pointnets as ptn\n",
    "\n",
    "np.set_printoptions(linewidth=120)"
   ]
  },
  {
   "cell_type": "code",
   "execution_count": 57,
   "metadata": {},
   "outputs": [],
   "source": [
    "N = 10000"
   ]
  },
  {
   "cell_type": "code",
   "execution_count": 92,
   "metadata": {},
   "outputs": [],
   "source": [
    "m1, s1 = 0.1, .8\n",
    "m2, s2 = -2, .2\n",
    "v1, v2 = s1**2, s2**2"
   ]
  },
  {
   "cell_type": "code",
   "execution_count": 93,
   "metadata": {},
   "outputs": [
    {
     "name": "stdout",
     "output_type": "stream",
     "text": [
      "0.10 +/- 0.80\n",
      "-2.00 +/- 0.20\n",
      "-0.21 +/- 1.60\n",
      "-0.23 +/- 1.60\n",
      "-0.19 +/- 1.62\n"
     ]
    }
   ],
   "source": [
    "a = torch.normal(m1, s1, (N,))\n",
    "b = torch.normal(m2, s2, (N,))\n",
    "y = a * b\n",
    "w = torch.normal(y.mean(), y.std(), (N,))\n",
    "q = torch.normal(m1*m2, np.sqrt(v1*v2 + v1*m2**2 + v2*m1**2), (N,))\n",
    "\n",
    "print('{:.2f} +/- {:.2f}'.format(a.mean(), a.std()))\n",
    "print('{:.2f} +/- {:.2f}'.format(b.mean(), b.std()))\n",
    "print('{:.2f} +/- {:.2f}'.format(y.mean(), y.std()))\n",
    "print('{:.2f} +/- {:.2f}'.format(w.mean(), w.std()))\n",
    "print('{:.2f} +/- {:.2f}'.format(q.mean(), q.std()))"
   ]
  },
  {
   "cell_type": "code",
   "execution_count": 82,
   "metadata": {},
   "outputs": [
    {
     "data": {
      "image/png": "[encoded data removed]",
      "text/plain": [
       "<Figure size 432x288 with 1 Axes>"
      ]
     },
     "metadata": {
      "needs_background": "light"
     },
     "output_type": "display_data"
    }
   ],
   "source": [
    "plt.figure()\n",
    "plt.violinplot(np.stack([a, b, y, w, q]).T, vert=True, showmeans=True)\n",
    "pass"
   ]
  },
  {
   "cell_type": "code",
   "execution_count": 35,
   "metadata": {},
   "outputs": [
    {
     "data": {
      "text/plain": [
       "(tensor(1.3713), tensor(1.3876))"
      ]
     },
     "execution_count": 35,
     "metadata": {},
     "output_type": "execute_result"
    }
   ],
   "source": [
    "(a+b).std(), (a-b).std()"
   ]
  },
  {
   "cell_type": "code",
   "execution_count": 91,
   "metadata": {},
   "outputs": [],
   "source": [
    "from torch import distributions as distrib\n",
    "from torch.distributions import Normal"
   ]
  },
  {
   "cell_type": "code",
   "execution_count": null,
   "metadata": {},
   "outputs": [],
   "source": []
  },
  {
   "cell_type": "code",
   "execution_count": null,
   "metadata": {},
   "outputs": [],
   "source": []
  }
 ],
 "metadata": {
  "kernelspec": {
   "display_name": "Python 3",
   "language": "python",
   "name": "python3"
  },
  "language_info": {
   "codemirror_mode": {
    "name": "ipython",
    "version": 3
   },
   "file_extension": ".py",
   "mimetype": "text/x-python",
   "name": "python",
   "nbconvert_exporter": "python",
   "pygments_lexer": "ipython3",
   "version": "3.7.4"
  }
 },
 "nbformat": 4,
 "nbformat_minor": 2
}
