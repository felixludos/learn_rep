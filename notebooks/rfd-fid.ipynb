{
 "cells": [
  {
   "cell_type": "code",
   "execution_count": 2,
   "id": "dbf3dcfd",
   "metadata": {},
   "outputs": [
    {
     "data": {
      "text/html": [
       "<style>.container { width:80% !important; }</style>"
      ],
      "text/plain": [
       "<IPython.core.display.HTML object>"
      ]
     },
     "metadata": {},
     "output_type": "display_data"
    }
   ],
   "source": [
    "import sys, os, time, shutil, random\n",
    "from pathlib import Path\n",
    "_cwd = os.getcwd()\n",
    "os.chdir(Path(_cwd)/'..')\n",
    "from IPython.core.display import display, HTML\n",
    "display(HTML(\"<style>.container { width:80% !important; }</style>\"))\n",
    "# %load_ext autoreload\n",
    "# %autoreload 2\n",
    "# %pdb\n",
    "from itertools import product, cycle\n",
    "from heapq import heapify, heappush, heappop\n",
    "import cv2\n",
    "import omnifig as fig\n",
    "import numpy as np\n",
    "np.set_printoptions(linewidth=120)\n",
    "import pickle\n",
    "from tabulate import tabulate\n",
    "from tqdm.notebook import tqdm\n",
    "import torch\n",
    "from torch import nn\n",
    "import torch.nn.functional as F\n",
    "import torch.distributions as distrib\n",
    "import torch.multiprocessing as mp\n",
    "# import torchvision.models\n",
    "from torch.utils.data import Dataset, DataLoader, TensorDataset\n",
    "import networkx as nx\n",
    "\n",
    "%matplotlib notebook\n",
    "import matplotlib.pyplot as plt\n",
    "#plt.switch_backend('Qt5Agg') #('Qt5Agg')\n",
    "import matplotlib.patches as mpatches\n",
    "import matplotlib.pyplot as plt\n",
    "import matplotlib.cm\n",
    "from matplotlib import animation\n",
    "import matplotlib as mpl\n",
    "from matplotlib.collections import PatchCollection\n",
    "# mpl.rc('image', cmap='gray')\n",
    "import seaborn as sns\n",
    "import pandas as pd\n",
    "from sklearn.preprocessing import normalize\n",
    "\n",
    "fig.initialize()\n",
    "\n",
    "import omnilearn as learn\n",
    "from omnilearn import models\n",
    "from omnilearn import util\n",
    "from omnilearn.data import InterventionSamplerBase\n",
    "from omnilearn import viz as viz_util\n",
    "\n",
    "from sklearn.cluster import MeanShift, estimate_bandwidth, DBSCAN\n",
    "from sklearn.datasets import make_blobs\n",
    "from sklearn.decomposition import PCA\n",
    "\n",
    "from src import sample_full_interventions, response_mat, factor_reponses\n",
    "from src.responses import sample_full_interventions\n",
    "\n",
    "# import gpumap\n",
    "from c3linearize import linearize, class_graph\n"
   ]
  },
  {
   "cell_type": "code",
   "execution_count": 3,
   "id": "7d055b0f",
   "metadata": {},
   "outputs": [],
   "source": [
    "device = 'cuda'\n",
    "# device = 'cuda:1'\n",
    "dataset = None\n",
    "root = Path(r'C:/Users/anwan/Documents/workspace/rfd_models/')\n",
    "figure_root = Path('figures/responses')\n",
    "figure_root = None\n",
    "if figure_root is not None and not figure_root.exists():\n",
    "    figure_root.mkdir()\n",
    "seed = 10\n",
    "B = 128\n",
    "N = 16\n",
    "G = 32"
   ]
  },
  {
   "cell_type": "code",
   "execution_count": 4,
   "id": "1fc904de",
   "metadata": {},
   "outputs": [
    {
     "name": "stdout",
     "output_type": "stream",
     "text": [
      "-  ---------------------------------------------------------------------------\n",
      "0  rfd_ae_e-c16_d-s16_d16-strd-trans-lrp00005-bs64_210524-161408\n",
      "1  rfd_ae_e-c16_d-s16_d16-strd-trans-lrp00005-bs64-wdp0001_210524-161607\n",
      "2  rfd_ae_e-c16_d-s16_d16-strd-trans-lrp00005-bs64-ch256_210524-161708\n",
      "3  rfd_ae_e-c16_d-c16_d16-strd-trans-lrp00005-bs64-ch256_210524-213908\n",
      "4  rfd_vae1_e-c16_d-c16_d16-strd-trans-lrp00005-bs64-ch256_210524-214205\n",
      "5  rfd_vae2_e-c16_d-c16_d16-strd-trans-lrp00005-bs64-ch256_210524-214633\n",
      "6  rfd_vae1_e-l16_d-l16_d16-strd-trans-lrp00005-bs64-ch256_210524-214809\n",
      "7  rfd_wae10_e-c16_d-c16_d16-strd-trans-lrp00005-bs64-ch256_210524-215009\n",
      "8  rfd_ae_e-c16_d-s16_d16-strd-trans-lrp00005-bs64-ch256-nosplit_210525-122527\n",
      "-  ---------------------------------------------------------------------------\n"
     ]
    }
   ],
   "source": [
    "run_names = '''rfd_ae_e-c16_d-s16_d16-strd-trans-lrp00005-bs64_210524-161408\n",
    "rfd_ae_e-c16_d-s16_d16-strd-trans-lrp00005-bs64-wdp0001_210524-161607\n",
    "rfd_ae_e-c16_d-s16_d16-strd-trans-lrp00005-bs64-ch256_210524-161708\n",
    "rfd_ae_e-c16_d-c16_d16-strd-trans-lrp00005-bs64-ch256_210524-213908\n",
    "rfd_vae1_e-c16_d-c16_d16-strd-trans-lrp00005-bs64-ch256_210524-214205\n",
    "rfd_vae2_e-c16_d-c16_d16-strd-trans-lrp00005-bs64-ch256_210524-214633\n",
    "rfd_vae1_e-l16_d-l16_d16-strd-trans-lrp00005-bs64-ch256_210524-214809\n",
    "rfd_wae10_e-c16_d-c16_d16-strd-trans-lrp00005-bs64-ch256_210524-215009\n",
    "rfd_ae_e-c16_d-s16_d16-strd-trans-lrp00005-bs64-ch256-nosplit_210525-122527'''.split('\\n')\n",
    "print(tabulate(enumerate(run_names)))"
   ]
  },
  {
   "cell_type": "code",
   "execution_count": 7,
   "id": "c56bbb12",
   "metadata": {},
   "outputs": [
    {
     "name": "stdout",
     "output_type": "stream",
     "text": [
      "unbuffer fig eval-fix-hybrid eval/rfd-fid --load rfd_ae_e-c16_d-s16_d16-strd-trans-lrp00005-bs64_210524-161408 --eval.mode test --eval.ident final\n",
      "unbuffer fig eval-fix-hybrid eval/rfd-fid --load rfd_ae_e-c16_d-s16_d16-strd-trans-lrp00005-bs64-wdp0001_210524-161607 --eval.mode test --eval.ident final\n",
      "unbuffer fig eval-fix-hybrid eval/rfd-fid --load rfd_ae_e-c16_d-s16_d16-strd-trans-lrp00005-bs64-ch256_210524-161708 --eval.mode test --eval.ident final\n",
      "unbuffer fig eval-fix-hybrid eval/rfd-fid --load rfd_ae_e-c16_d-c16_d16-strd-trans-lrp00005-bs64-ch256_210524-213908 --eval.mode test --eval.ident final\n",
      "unbuffer fig eval-fix-hybrid eval/rfd-fid --load rfd_vae1_e-c16_d-c16_d16-strd-trans-lrp00005-bs64-ch256_210524-214205 --eval.mode test --eval.ident final\n",
      "unbuffer fig eval-fix-hybrid eval/rfd-fid --load rfd_vae2_e-c16_d-c16_d16-strd-trans-lrp00005-bs64-ch256_210524-214633 --eval.mode test --eval.ident final\n",
      "unbuffer fig eval-fix-hybrid eval/rfd-fid --load rfd_vae1_e-l16_d-l16_d16-strd-trans-lrp00005-bs64-ch256_210524-214809 --eval.mode test --eval.ident final\n",
      "unbuffer fig eval-fix-hybrid eval/rfd-fid --load rfd_wae10_e-c16_d-c16_d16-strd-trans-lrp00005-bs64-ch256_210524-215009 --eval.mode test --eval.ident final\n",
      "unbuffer fig eval-fix-hybrid eval/rfd-fid --load rfd_ae_e-c16_d-s16_d16-strd-trans-lrp00005-bs64-ch256-nosplit_210525-122527 --eval.mode test --eval.ident final\n"
     ]
    }
   ],
   "source": [
    "print('\\n'.join([f'unbuffer fig eval-fix-hybrid eval/rfd-fid --load {r} --eval.mode test --eval.ident final' for r in run_names]))"
   ]
  },
  {
   "cell_type": "code",
   "execution_count": null,
   "id": "582d4adc",
   "metadata": {},
   "outputs": [],
   "source": []
  },
  {
   "cell_type": "code",
   "execution_count": 4,
   "id": "ca3adda9",
   "metadata": {},
   "outputs": [
    {
     "data": {
      "text/plain": [
       "'rfd_ae_e-c16_d-c16_d16-strd-trans-lrp00005-bs64-ch256_210524-213908'"
      ]
     },
     "execution_count": 4,
     "metadata": {},
     "output_type": "execute_result"
    }
   ],
   "source": [
    "run_name = random.choice(run_names)\n",
    "\n",
    "run_name = run_names[2]\n",
    "run_name = run_names[3]\n",
    "\n",
    "run_name"
   ]
  },
  {
   "cell_type": "code",
   "execution_count": 5,
   "id": "09ed1fc0",
   "metadata": {},
   "outputs": [
    {
     "name": "stderr",
     "output_type": "stream",
     "text": [
      "ERROR:omnifig.organization: Could not find mod \"cls-run\" for component \"sae-run\"\n"
     ]
    },
    {
     "data": {
      "text/plain": [
       "{'arch_type': 'c16',\n",
       " 'dataset_type': 'rfd',\n",
       " 'dec_type': 'c16',\n",
       " 'enc_type': 'c16',\n",
       " 'extra': 'd16-strd-trans-lrp00005-bs64-ch256',\n",
       " 'model_type': 'ae',\n",
       " 'size': 128}"
      ]
     },
     "execution_count": 5,
     "metadata": {},
     "output_type": "execute_result"
    }
   ],
   "source": [
    "load_config = fig.get_config(path=run_name, root=str(root), **{'override.device':device})\n",
    "load_config.set_silent(True)\n",
    "run = fig.run('load-run', load_config)\n",
    "A = run.get_config()\n",
    "A.push('model-override.model._model_mod.hybrid', 1)\n",
    "A.set_silent(True)\n",
    "info = A.pull('info')\n",
    "info"
   ]
  },
  {
   "cell_type": "code",
   "execution_count": 6,
   "id": "27e57e46",
   "metadata": {},
   "outputs": [
    {
     "name": "stdout",
     "output_type": "stream",
     "text": [
      "Hybrid_Autoencoder(\n",
      "  (encoder): MultiLayer(\n",
      "    (layers): ModuleList(\n",
      "      (0): ConvLayer(\n",
      "        residual=False\n",
      "        (conv): Conv2d(3, 256, kernel_size=(5, 5), stride=(2, 2), padding=(2, 2))\n",
      "        (norm): GroupNorm(8, 256, eps=1e-05, affine=True)\n",
      "        (nonlin): ELU(alpha=1.0, inplace=True)\n",
      "      )\n",
      "      (1): ConvLayer(\n",
      "        residual=False\n",
      "        (conv): Conv2d(256, 256, kernel_size=(3, 3), stride=(1, 1), padding=(1, 1))\n",
      "        (norm): GroupNorm(8, 256, eps=1e-05, affine=True)\n",
      "        (nonlin): ELU(alpha=1.0, inplace=True)\n",
      "      )\n",
      "      (2): ConvLayer(\n",
      "        residual=False\n",
      "        (conv): Conv2d(256, 256, kernel_size=(3, 3), stride=(1, 1), padding=(1, 1))\n",
      "        (norm): GroupNorm(8, 256, eps=1e-05, affine=True)\n",
      "        (nonlin): ELU(alpha=1.0, inplace=True)\n",
      "      )\n",
      "      (3): ConvLayer(\n",
      "        residual=False\n",
      "        (conv): Conv2d(256, 256, kernel_size=(3, 3), stride=(2, 2), padding=(1, 1))\n",
      "        (norm): GroupNorm(8, 256, eps=1e-05, affine=True)\n",
      "        (nonlin): ELU(alpha=1.0, inplace=True)\n",
      "      )\n",
      "      (4): ConvLayer(\n",
      "        residual=False\n",
      "        (conv): Conv2d(256, 256, kernel_size=(3, 3), stride=(1, 1), padding=(1, 1))\n",
      "        (norm): GroupNorm(8, 256, eps=1e-05, affine=True)\n",
      "        (nonlin): ELU(alpha=1.0, inplace=True)\n",
      "      )\n",
      "      (5): ConvLayer(\n",
      "        residual=False\n",
      "        (conv): Conv2d(256, 256, kernel_size=(3, 3), stride=(1, 1), padding=(1, 1))\n",
      "        (norm): GroupNorm(8, 256, eps=1e-05, affine=True)\n",
      "        (nonlin): ELU(alpha=1.0, inplace=True)\n",
      "      )\n",
      "      (6): ConvLayer(\n",
      "        residual=False\n",
      "        (conv): Conv2d(256, 256, kernel_size=(3, 3), stride=(2, 2), padding=(1, 1))\n",
      "        (norm): GroupNorm(8, 256, eps=1e-05, affine=True)\n",
      "        (nonlin): ELU(alpha=1.0, inplace=True)\n",
      "      )\n",
      "      (7): ConvLayer(\n",
      "        residual=False\n",
      "        (conv): Conv2d(256, 256, kernel_size=(3, 3), stride=(1, 1), padding=(1, 1))\n",
      "        (norm): GroupNorm(8, 256, eps=1e-05, affine=True)\n",
      "        (nonlin): ELU(alpha=1.0, inplace=True)\n",
      "      )\n",
      "      (8): ConvLayer(\n",
      "        residual=False\n",
      "        (conv): Conv2d(256, 256, kernel_size=(3, 3), stride=(1, 1), padding=(1, 1))\n",
      "        (norm): GroupNorm(8, 256, eps=1e-05, affine=True)\n",
      "        (nonlin): ELU(alpha=1.0, inplace=True)\n",
      "      )\n",
      "      (9): ConvLayer(\n",
      "        residual=False\n",
      "        (conv): Conv2d(256, 256, kernel_size=(3, 3), stride=(2, 2), padding=(1, 1))\n",
      "        (norm): GroupNorm(8, 256, eps=1e-05, affine=True)\n",
      "        (nonlin): ELU(alpha=1.0, inplace=True)\n",
      "      )\n",
      "      (10): ConvLayer(\n",
      "        residual=False\n",
      "        (conv): Conv2d(256, 256, kernel_size=(3, 3), stride=(1, 1), padding=(1, 1))\n",
      "        (norm): GroupNorm(8, 256, eps=1e-05, affine=True)\n",
      "        (nonlin): ELU(alpha=1.0, inplace=True)\n",
      "      )\n",
      "      (11): ConvLayer(\n",
      "        residual=False\n",
      "        (conv): Conv2d(256, 256, kernel_size=(3, 3), stride=(1, 1), padding=(1, 1))\n",
      "        (norm): GroupNorm(8, 256, eps=1e-05, affine=True)\n",
      "        (nonlin): ELU(alpha=1.0, inplace=True)\n",
      "      )\n",
      "      (12): ConvLayer(\n",
      "        residual=False\n",
      "        (conv): Conv2d(256, 256, kernel_size=(3, 3), stride=(2, 2), padding=(1, 1))\n",
      "        (norm): GroupNorm(8, 256, eps=1e-05, affine=True)\n",
      "        (nonlin): ELU(alpha=1.0, inplace=True)\n",
      "      )\n",
      "      (13): ConvLayer(\n",
      "        residual=False\n",
      "        (conv): Conv2d(256, 256, kernel_size=(3, 3), stride=(1, 1), padding=(1, 1))\n",
      "        (norm): GroupNorm(8, 256, eps=1e-05, affine=True)\n",
      "        (nonlin): ELU(alpha=1.0, inplace=True)\n",
      "      )\n",
      "      (14): ConvLayer(\n",
      "        residual=False\n",
      "        (conv): Conv2d(256, 256, kernel_size=(3, 3), stride=(1, 1), padding=(1, 1))\n",
      "        (norm): GroupNorm(8, 256, eps=1e-05, affine=True)\n",
      "        (nonlin): ELU(alpha=1.0, inplace=True)\n",
      "      )\n",
      "      (15): ConvLayer(\n",
      "        residual=False\n",
      "        (conv): Conv2d(256, 256, kernel_size=(3, 3), stride=(2, 2), padding=(1, 1))\n",
      "        (norm): GroupNorm(8, 256, eps=1e-05, affine=True)\n",
      "        (nonlin): ELU(alpha=1.0, inplace=True)\n",
      "      )\n",
      "      (16): MLP(\n",
      "        (0): Flatten(start_dim=1, end_dim=-1)\n",
      "        (1): Linear(in_features=1024, out_features=512, bias=True)\n",
      "        (2): ELU(alpha=1.0, inplace=True)\n",
      "        (3): Linear(in_features=512, out_features=256, bias=True)\n",
      "        (4): ELU(alpha=1.0, inplace=True)\n",
      "        (5): Linear(in_features=256, out_features=128, bias=True)\n",
      "        (6): ELU(alpha=1.0, inplace=True)\n",
      "        (7): Linear(in_features=128, out_features=16, bias=True)\n",
      "      )\n",
      "    )\n",
      "  )\n",
      "  (decoder): MultiLayer(\n",
      "    (layers): ModuleList(\n",
      "      (0): MLP(\n",
      "        (0): Linear(in_features=16, out_features=128, bias=True)\n",
      "        (1): ELU(alpha=1.0, inplace=True)\n",
      "        (2): Linear(in_features=128, out_features=256, bias=True)\n",
      "        (3): ELU(alpha=1.0, inplace=True)\n",
      "        (4): Linear(in_features=256, out_features=512, bias=True)\n",
      "        (5): ELU(alpha=1.0, inplace=True)\n",
      "        (6): Linear(in_features=512, out_features=1024, bias=True)\n",
      "        (7): Reshaper(out=(256, 2, 2))\n",
      "      )\n",
      "      (1): ConvLayer(\n",
      "        residual=False\n",
      "        (conv): ConvTranspose2d(256, 256, kernel_size=(4, 4), stride=(2, 2), padding=(1, 1))\n",
      "        (norm): GroupNorm(8, 256, eps=1e-05, affine=True)\n",
      "        (nonlin): ELU(alpha=1.0, inplace=True)\n",
      "      )\n",
      "      (2): ConvLayer(\n",
      "        residual=False\n",
      "        (conv): Conv2d(256, 256, kernel_size=(3, 3), stride=(1, 1), padding=(1, 1))\n",
      "        (norm): GroupNorm(8, 256, eps=1e-05, affine=True)\n",
      "        (nonlin): ELU(alpha=1.0, inplace=True)\n",
      "      )\n",
      "      (3): ConvLayer(\n",
      "        residual=False\n",
      "        (conv): Conv2d(256, 256, kernel_size=(3, 3), stride=(1, 1), padding=(1, 1))\n",
      "        (norm): GroupNorm(8, 256, eps=1e-05, affine=True)\n",
      "        (nonlin): ELU(alpha=1.0, inplace=True)\n",
      "      )\n",
      "      (4): ConvLayer(\n",
      "        residual=False\n",
      "        (conv): ConvTranspose2d(256, 256, kernel_size=(4, 4), stride=(2, 2), padding=(1, 1))\n",
      "        (norm): GroupNorm(8, 256, eps=1e-05, affine=True)\n",
      "        (nonlin): ELU(alpha=1.0, inplace=True)\n",
      "      )\n",
      "      (5): ConvLayer(\n",
      "        residual=False\n",
      "        (conv): Conv2d(256, 256, kernel_size=(3, 3), stride=(1, 1), padding=(1, 1))\n",
      "        (norm): GroupNorm(8, 256, eps=1e-05, affine=True)\n",
      "        (nonlin): ELU(alpha=1.0, inplace=True)\n",
      "      )\n",
      "      (6): ConvLayer(\n",
      "        residual=False\n",
      "        (conv): Conv2d(256, 256, kernel_size=(3, 3), stride=(1, 1), padding=(1, 1))\n",
      "        (norm): GroupNorm(8, 256, eps=1e-05, affine=True)\n",
      "        (nonlin): ELU(alpha=1.0, inplace=True)\n",
      "      )\n",
      "      (7): ConvLayer(\n",
      "        residual=False\n",
      "        (conv): ConvTranspose2d(256, 256, kernel_size=(4, 4), stride=(2, 2), padding=(1, 1))\n",
      "        (norm): GroupNorm(8, 256, eps=1e-05, affine=True)\n",
      "        (nonlin): ELU(alpha=1.0, inplace=True)\n",
      "      )\n",
      "      (8): ConvLayer(\n",
      "        residual=False\n",
      "        (conv): Conv2d(256, 256, kernel_size=(3, 3), stride=(1, 1), padding=(1, 1))\n",
      "        (norm): GroupNorm(8, 256, eps=1e-05, affine=True)\n",
      "        (nonlin): ELU(alpha=1.0, inplace=True)\n",
      "      )\n",
      "      (9): ConvLayer(\n",
      "        residual=False\n",
      "        (conv): Conv2d(256, 256, kernel_size=(3, 3), stride=(1, 1), padding=(1, 1))\n",
      "        (norm): GroupNorm(8, 256, eps=1e-05, affine=True)\n",
      "        (nonlin): ELU(alpha=1.0, inplace=True)\n",
      "      )\n",
      "      (10): ConvLayer(\n",
      "        residual=False\n",
      "        (conv): ConvTranspose2d(256, 256, kernel_size=(4, 4), stride=(2, 2), padding=(1, 1))\n",
      "        (norm): GroupNorm(8, 256, eps=1e-05, affine=True)\n",
      "        (nonlin): ELU(alpha=1.0, inplace=True)\n",
      "      )\n",
      "      (11): ConvLayer(\n",
      "        residual=False\n",
      "        (conv): Conv2d(256, 256, kernel_size=(3, 3), stride=(1, 1), padding=(1, 1))\n",
      "        (norm): GroupNorm(8, 256, eps=1e-05, affine=True)\n",
      "        (nonlin): ELU(alpha=1.0, inplace=True)\n",
      "      )\n",
      "      (12): ConvLayer(\n",
      "        residual=False\n",
      "        (conv): Conv2d(256, 256, kernel_size=(3, 3), stride=(1, 1), padding=(1, 1))\n",
      "        (norm): GroupNorm(8, 256, eps=1e-05, affine=True)\n",
      "        (nonlin): ELU(alpha=1.0, inplace=True)\n",
      "      )\n",
      "      (13): ConvLayer(\n",
      "        residual=False\n",
      "        (conv): ConvTranspose2d(256, 256, kernel_size=(4, 4), stride=(2, 2), padding=(1, 1))\n",
      "        (norm): GroupNorm(8, 256, eps=1e-05, affine=True)\n",
      "        (nonlin): ELU(alpha=1.0, inplace=True)\n",
      "      )\n",
      "      (14): ConvLayer(\n",
      "        residual=False\n",
      "        (conv): Conv2d(256, 256, kernel_size=(3, 3), stride=(1, 1), padding=(1, 1))\n",
      "        (norm): GroupNorm(8, 256, eps=1e-05, affine=True)\n",
      "        (nonlin): ELU(alpha=1.0, inplace=True)\n",
      "      )\n",
      "      (15): ConvLayer(\n",
      "        residual=False\n",
      "        (conv): Conv2d(256, 256, kernel_size=(3, 3), stride=(1, 1), padding=(1, 1))\n",
      "        (norm): GroupNorm(8, 256, eps=1e-05, affine=True)\n",
      "        (nonlin): ELU(alpha=1.0, inplace=True)\n",
      "      )\n",
      "      (16): ConvLayer(\n",
      "        residual=False\n",
      "        (conv): ConvTranspose2d(256, 3, kernel_size=(4, 4), stride=(2, 2), padding=(1, 1))\n",
      "        (nonlin): Sigmoid()\n",
      "      )\n",
      "    )\n",
      "  )\n",
      "  (criterion): BCELoss()\n",
      ")\n",
      "Adam (\n",
      "Parameter Group 0\n",
      "    amsgrad: False\n",
      "    betas: (0.9, 0.999)\n",
      "    eps: 1e-08\n",
      "    lr: 5e-05\n",
      "    weight_decay: 0\n",
      ")\n",
      "Number of model parameters: 21426963\n"
     ]
    },
    {
     "name": "stdout",
     "output_type": "stream",
     "text": [
      "Loaded parameters from C:\\Users\\anwan\\Documents\\workspace\\rfd_models\\rfd_ae_e-c16_d-c16_d16-strd-trans-lrp00005-bs64-ch256_210524-213908\\ckpt200000\n"
     ]
    }
   ],
   "source": [
    "model = run.get_model()\n",
    "model.switch_to('val')\n",
    "model.to(device);"
   ]
  },
  {
   "cell_type": "code",
   "execution_count": 7,
   "id": "9ff3f2d4",
   "metadata": {},
   "outputs": [],
   "source": [
    "# data = run.get_results('eval')\n",
    "# data.keys()"
   ]
  },
  {
   "cell_type": "code",
   "execution_count": 8,
   "id": "e1bfb3d4",
   "metadata": {},
   "outputs": [],
   "source": [
    "# data['hybrid_fid']"
   ]
  },
  {
   "cell_type": "code",
   "execution_count": null,
   "id": "737db85f",
   "metadata": {},
   "outputs": [],
   "source": []
  },
  {
   "cell_type": "code",
   "execution_count": 9,
   "id": "3d2974d3",
   "metadata": {},
   "outputs": [
    {
     "name": "stdout",
     "output_type": "stream",
     "text": [
      "====== Opening RFD Dataset ======\n"
     ]
    },
    {
     "data": {
      "text/plain": [
       "720000"
      ]
     },
     "execution_count": 9,
     "metadata": {},
     "output_type": "execute_result"
    }
   ],
   "source": [
    "if dataset is None:\n",
    "    dataset = run.get_dataset()\n",
    "len(dataset)"
   ]
  },
  {
   "cell_type": "code",
   "execution_count": 10,
   "id": "6fc9d853",
   "metadata": {},
   "outputs": [
    {
     "data": {
      "text/plain": [
       "{'heldout_test', 'real_test', 'test', 'train'}"
      ]
     },
     "execution_count": 10,
     "metadata": {},
     "output_type": "execute_result"
    }
   ],
   "source": [
    "dataset.get_available_modes()"
   ]
  },
  {
   "cell_type": "code",
   "execution_count": null,
   "id": "f78558fd",
   "metadata": {},
   "outputs": [],
   "source": []
  },
  {
   "cell_type": "code",
   "execution_count": 11,
   "id": "1ef79c46",
   "metadata": {},
   "outputs": [
    {
     "data": {
      "text/plain": [
       "torch.Size([128, 3, 128, 128])"
      ]
     },
     "execution_count": 11,
     "metadata": {},
     "output_type": "execute_result"
    }
   ],
   "source": [
    "batch = dataset.get_batch(batch_size=128, shuffle=True)\n",
    "batch.shape"
   ]
  },
  {
   "cell_type": "code",
   "execution_count": 12,
   "id": "d6105f8d",
   "metadata": {},
   "outputs": [
    {
     "data": {
      "text/plain": [
       "torch.Size([128, 16])"
      ]
     },
     "execution_count": 12,
     "metadata": {},
     "output_type": "execute_result"
    }
   ],
   "source": [
    "with torch.no_grad():\n",
    "    Q = model.encode(batch)\n",
    "    if isinstance(Q, distrib.Normal):\n",
    "        Q = Q.loc\n",
    "    if model._latent is None:\n",
    "        model._latent = Q\n",
    "Q.shape"
   ]
  },
  {
   "cell_type": "code",
   "execution_count": 13,
   "id": "dca8a201",
   "metadata": {},
   "outputs": [],
   "source": [
    "A.update({\n",
    "    'novel': True,\n",
    "    'skip-expensive': True,\n",
    "    'dataset.batch_size': 16,\n",
    "    'evaluation': None,\n",
    "    'inline': True,\n",
    "    'pbar._type': 'progress-bar',\n",
    "    'pbar.display-on': 'jupyter',\n",
    "    'fid.dim': 2048,\n",
    "    'fid.n_samples': 50000,\n",
    "    'fid.batch_size': 32,\n",
    "})"
   ]
  },
  {
   "cell_type": "code",
   "execution_count": null,
   "id": "95e3e647",
   "metadata": {},
   "outputs": [
    {
     "name": "stdout",
     "output_type": "stream",
     "text": [
      "Will save results to C:\\Users\\anwan\\Documents\\workspace\\rfd_models\\rfd_ae_e-c16_d-c16_d16-strd-trans-lrp00005-bs64-ch256_210524-213908\n",
      "Loading inception model dim=2048\n"
     ]
    },
    {
     "data": {
      "application/vnd.jupyter.widget-view+json": {
       "model_id": "bcdae8f35f7b442fa322b15e04efee9b",
       "version_major": 2,
       "version_minor": 0
      },
      "text/plain": [
       "  0%|          | 0/50000 [00:00<?, ?it/s]"
      ]
     },
     "metadata": {},
     "output_type": "display_data"
    }
   ],
   "source": [
    "out = run.evaluate(overwrite=True)"
   ]
  },
  {
   "cell_type": "code",
   "execution_count": null,
   "id": "d5b2b188",
   "metadata": {},
   "outputs": [],
   "source": [
    "out.keys()"
   ]
  },
  {
   "cell_type": "code",
   "execution_count": 25,
   "id": "acedada1",
   "metadata": {},
   "outputs": [
    {
     "data": {
      "text/plain": [
       "{'rec_fid': 16.907577234205405,\n",
       " 'prior_fid': 35.69107753449731,\n",
       " 'hybrid_fid': 28.269544532424334}"
      ]
     },
     "execution_count": 25,
     "metadata": {},
     "output_type": "execute_result"
    }
   ],
   "source": [
    "{k:v for k,v in out.items() if k.endswith('_fid')}"
   ]
  },
  {
   "cell_type": "code",
   "execution_count": 25,
   "id": "8bd378f8",
   "metadata": {},
   "outputs": [
    {
     "data": {
      "text/plain": [
       "{'rec_fid': 16.907577234205405,\n",
       " 'prior_fid': 35.69107753449731,\n",
       " 'hybrid_fid': 28.269544532424334}"
      ]
     },
     "execution_count": 25,
     "metadata": {},
     "output_type": "execute_result"
    }
   ],
   "source": [
    "{k:v for k,v in out.items() if k.endswith('_fid')}"
   ]
  },
  {
   "cell_type": "code",
   "execution_count": 15,
   "id": "534a0a3a",
   "metadata": {},
   "outputs": [
    {
     "data": {
      "text/plain": [
       "{'rec_fid': 9.521835270454687, 'hybrid_fid': 19.730062040454442}"
      ]
     },
     "execution_count": 15,
     "metadata": {},
     "output_type": "execute_result"
    }
   ],
   "source": [
    "{k:v for k,v in out.items() if k.endswith('_fid')}"
   ]
  },
  {
   "cell_type": "code",
   "execution_count": null,
   "id": "e5ad2af2",
   "metadata": {},
   "outputs": [],
   "source": []
  },
  {
   "cell_type": "code",
   "execution_count": null,
   "id": "990a6a5d",
   "metadata": {},
   "outputs": [],
   "source": []
  },
  {
   "cell_type": "code",
   "execution_count": null,
   "id": "2ddf87e7",
   "metadata": {},
   "outputs": [],
   "source": []
  },
  {
   "cell_type": "code",
   "execution_count": null,
   "id": "1d9ee7ed",
   "metadata": {},
   "outputs": [],
   "source": []
  },
  {
   "cell_type": "code",
   "execution_count": null,
   "id": "8bad8631",
   "metadata": {},
   "outputs": [],
   "source": []
  },
  {
   "cell_type": "code",
   "execution_count": null,
   "id": "fb9276ba",
   "metadata": {},
   "outputs": [],
   "source": []
  }
 ],
 "metadata": {
  "kernelspec": {
   "display_name": "Python 3",
   "language": "python",
   "name": "python3"
  },
  "language_info": {
   "codemirror_mode": {
    "name": "ipython",
    "version": 3
   },
   "file_extension": ".py",
   "mimetype": "text/x-python",
   "name": "python",
   "nbconvert_exporter": "python",
   "pygments_lexer": "ipython3",
   "version": "3.7.4"
  }
 },
 "nbformat": 4,
 "nbformat_minor": 5
}
