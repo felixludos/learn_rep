{
 "cells": [
  {
   "cell_type": "code",
   "execution_count": 2,
   "id": "00bec997",
   "metadata": {},
   "outputs": [
    {
     "data": {
      "text/html": [
       "<style>.container { width:80% !important; }</style>"
      ],
      "text/plain": [
       "<IPython.core.display.HTML object>"
      ]
     },
     "metadata": {},
     "output_type": "display_data"
    }
   ],
   "source": [
    "import sys, os, time, shutil, random\n",
    "from pathlib import Path\n",
    "_cwd = os.getcwd()\n",
    "os.chdir(Path(_cwd)/'..')\n",
    "from IPython.core.display import display, HTML\n",
    "display(HTML(\"<style>.container { width:80% !important; }</style>\"))\n",
    "# %load_ext autoreload\n",
    "# %autoreload 2\n",
    "# %pdb\n",
    "from itertools import product, cycle\n",
    "from heapq import heapify, heappush, heappop\n",
    "import cv2\n",
    "import omnifig as fig\n",
    "import numpy as np\n",
    "np.set_printoptions(linewidth=120)\n",
    "import pickle\n",
    "from tabulate import tabulate\n",
    "from tqdm.notebook import tqdm\n",
    "import torch\n",
    "from torch import nn\n",
    "import torch.nn.functional as F\n",
    "import torch.distributions as distrib\n",
    "import torch.multiprocessing as mp\n",
    "# import torchvision.models\n",
    "from torch.utils.data import Dataset, DataLoader, TensorDataset\n",
    "import networkx as nx\n",
    "\n",
    "%matplotlib notebook\n",
    "import matplotlib.pyplot as plt\n",
    "#plt.switch_backend('Qt5Agg') #('Qt5Agg')\n",
    "import matplotlib.patches as mpatches\n",
    "import matplotlib.pyplot as plt\n",
    "import matplotlib.cm\n",
    "from matplotlib import animation\n",
    "import matplotlib as mpl\n",
    "from matplotlib.collections import PatchCollection\n",
    "# mpl.rc('image', cmap='gray')\n",
    "import seaborn as sns\n",
    "import pandas as pd\n",
    "from sklearn.preprocessing import normalize\n",
    "\n",
    "fig.initialize()\n",
    "\n",
    "import omnilearn as learn\n",
    "from omnilearn import models\n",
    "from omnilearn import util\n",
    "from omnilearn.data import InterventionSamplerBase\n",
    "from omnilearn import viz as viz_util\n",
    "\n",
    "from sklearn.cluster import MeanShift, estimate_bandwidth, DBSCAN\n",
    "from sklearn.datasets import make_blobs\n",
    "from sklearn.decomposition import PCA\n",
    "\n",
    "from src import sample_full_interventions, response_mat\n",
    "from src.responses import sample_full_interventions\n",
    "\n",
    "# import gpumap\n",
    "from c3linearize import linearize, class_graph\n"
   ]
  },
  {
   "cell_type": "code",
   "execution_count": 3,
   "id": "49aa2e65",
   "metadata": {},
   "outputs": [],
   "source": [
    "device = 'cuda'\n",
    "# device = 'cuda:1'\n",
    "dataset = None\n",
    "root = Path(r'C:/Users/anwan/Documents/workspace/rfd_models/')\n",
    "figure_root = Path('figures/responses')\n",
    "figure_root = None\n",
    "if figure_root is not None and not figure_root.exists():\n",
    "    figure_root.mkdir()\n",
    "seed = 10\n",
    "B = 128\n",
    "N = 16\n",
    "G = 32"
   ]
  },
  {
   "cell_type": "code",
   "execution_count": 9,
   "id": "5429b152",
   "metadata": {},
   "outputs": [
    {
     "name": "stdout",
     "output_type": "stream",
     "text": [
      "-  ---------------------------------------------------------------------------\n",
      "0  rfd_ae_e-c16_d-s16_d16-strd-trans-lrp00005-bs64-ch256_210524-161708\n",
      "1  rfd_ae_e-c16_d-c16_d16-strd-trans-lrp00005-bs64-ch256_210524-213908\n",
      "2  rfd_vae1_e-c16_d-c16_d16-strd-trans-lrp00005-bs64-ch256_210524-214205\n",
      "3  rfd_vae2_e-c16_d-c16_d16-strd-trans-lrp00005-bs64-ch256_210524-214633\n",
      "4  rfd_vae1_e-l16_d-l16_d16-strd-trans-lrp00005-bs64-ch256_210524-214809\n",
      "5  rfd_wae10_e-c16_d-c16_d16-strd-trans-lrp00005-bs64-ch256_210524-215009\n",
      "6  rfd_ae_e-c16_d-s16_d16-strd-trans-lrp00005-bs64-ch256-nosplit_210525-122527\n",
      "-  ---------------------------------------------------------------------------\n"
     ]
    }
   ],
   "source": [
    "run_names = '''rfd_ae_e-c16_d-s16_d16-strd-trans-lrp00005-bs64_210524-161408\n",
    "rfd_ae_e-c16_d-s16_d16-strd-trans-lrp00005-bs64-wdp0001_210524-161607\n",
    "rfd_ae_e-c16_d-s16_d16-strd-trans-lrp00005-bs64-ch256_210524-161708\n",
    "rfd_ae_e-c16_d-c16_d16-strd-trans-lrp00005-bs64-ch256_210524-213908\n",
    "rfd_vae1_e-c16_d-c16_d16-strd-trans-lrp00005-bs64-ch256_210524-214205\n",
    "rfd_vae2_e-c16_d-c16_d16-strd-trans-lrp00005-bs64-ch256_210524-214633\n",
    "rfd_vae1_e-l16_d-l16_d16-strd-trans-lrp00005-bs64-ch256_210524-214809\n",
    "rfd_wae10_e-c16_d-c16_d16-strd-trans-lrp00005-bs64-ch256_210524-215009\n",
    "rfd_ae_e-c16_d-s16_d16-strd-trans-lrp00005-bs64-ch256-nosplit_210525-122527'''.split('\\n')\n",
    "run_names = run_names[2:]\n",
    "print(tabulate(enumerate(run_names)))"
   ]
  },
  {
   "cell_type": "code",
   "execution_count": 5,
   "id": "95003975",
   "metadata": {},
   "outputs": [],
   "source": [
    "# print('\\n'.join([f'unbuffer fig eval-fix-hybrid eval/rfd-fid --load {r} --mode test --ident final' for r in run_names]))"
   ]
  },
  {
   "cell_type": "code",
   "execution_count": 10,
   "id": "9a605cb0",
   "metadata": {},
   "outputs": [
    {
     "name": "stderr",
     "output_type": "stream",
     "text": [
      "ERROR:omnifig.organization: Could not find mod \"cls-run\" for component \"sae-run\"\n",
      "ERROR:omnifig.organization: Could not find mod \"cls-run\" for component \"sae-run\"\n",
      "ERROR:omnifig.organization: Could not find mod \"cls-run\" for component \"sae-run\"\n"
     ]
    },
    {
     "name": "stdout",
     "output_type": "stream",
     "text": [
      "| path: 'rfd_ae_e-c16_d-s16_d16-strd-trans-lrp00005-bs64-ch256_210524-161708'\n",
      "| saveroot: None (by default)\n",
      "| root: 'C:\\\\Users\\\\anwan\\\\Documents\\\\workspace\\\\rfd_models'\n",
      "| [Pushed] path: 'C:\\\\Users\\\\anwan\\\\Documents\\\\workspace\\\\rfd_models\\\\rfd_ae_e-c16_d-s16_d16-strd-trans-lrp00005-bs64-ch256_210524-161708'\n",
      "| run: [<class 'omnifig.config.ConfigDict'>]\n",
      "| CREATING . (type=sae-run) (mod={'cls-run': 3, 'inline': 5, 'timed-run': 1})\n",
      "|  > silent: None (by default)\n",
      "|  > invisible: False (by default)\n",
      "|  > use_config_root: True (by default)\n",
      "|  > .path: 'C:\\\\Users\\\\anwan\\\\Documents\\\\workspace\\\\rfd_models\\\\rfd_ae_e-c16_d-s16_d16-strd-trans-lrp00005-bs64-ch256_210524-161708'\n",
      "|  > [Pushed] path: 'C:\\\\Users\\\\anwan\\\\Documents\\\\workspace\\\\rfd_models\\\\rfd_ae_e-c16_d-s16_d16-strd-trans-lrp00005-bs64-ch256_210524-161708'\n",
      "|  > ckpt-num: None (by default)\n",
      "|  > best: False (by default)\n",
      "|  > last: True (by default)\n",
      "|  > [Pushed] dataset._load-ckpt: 'C:\\\\Users\\\\anwan\\\\Documents\\\\workspace\\\\rfd_models\\\\rfd_ae_e-c16_d-s16_d16-strd-trans-lrp00005-bs64-ch256_210524-161708\\\\ckpt200000'\n",
      "|  > [Pushed] model._load-ckpt: 'C:\\\\Users\\\\anwan\\\\Documents\\\\workspace\\\\rfd_models\\\\rfd_ae_e-c16_d-s16_d16-strd-trans-lrp00005-bs64-ch256_210524-161708\\\\ckpt200000'\n",
      "|  > [Pushed] records._load-ckpt: 'C:\\\\Users\\\\anwan\\\\Documents\\\\workspace\\\\rfd_models\\\\rfd_ae_e-c16_d-s16_d16-strd-trans-lrp00005-bs64-ch256_210524-161708\\\\ckpt200000'\n",
      "|  > [Pushed] clock._load-ckpt: 'C:\\\\Users\\\\anwan\\\\Documents\\\\workspace\\\\rfd_models\\\\rfd_ae_e-c16_d-s16_d16-strd-trans-lrp00005-bs64-ch256_210524-161708\\\\ckpt200000'\n",
      "|  > CREATING clock (type=clock)\n",
      "|  >  > CREATING .stats (type=stats-manager)\n",
      "|  >  >  > stat-collection-fmts: {} (by default)\n",
      "|  >  >  > reset-modes [list with 2 item/s]\n",
      "|  >  >  >  > (0): 'val'\n",
      "|  >  >  >  > (1): 'test'\n",
      "|  >  >  > mode: 'train' (by default)\n",
      "|  >  >  > meter-info: [<class 'omnifig.config.ConfigDict'>]\n",
      "|  >  > stats-fmt: None (by default)\n",
      "|  >  > smooth-tau --> tau: 1\n",
      "|  >  > limit: None (by default)\n",
      "|  >  > skip_load: False (by default)\n",
      "|  >  > _load-ckpt: 'C:\\\\Users\\\\anwan\\\\Documents\\\\workspace\\\\rfd_models\\\\rfd_ae_e-c16_d-s16_d16-strd-trans-lrp00005-bs64-ch256_210524-161708\\\\ckpt200000'\n",
      "|  >  > timed-fmt: 'time-{}' (by default)\n",
      "|  > CREATING . (type=records)\n",
      "|  >  > include_zero: False (by default)\n",
      "|  >  > freq: 500\n",
      "|  >  > mode: 'train' (by default)\n",
      "|  >  > .seed: 0\n",
      "|  >  > _history: None (by default)\n",
      "|  >  > REUSING .stats (type=stats-manager): id=0x1add490a4c8\n",
      "|  >  > CREATING .logger (type=logger)\n",
      "|  >  >  > log_dir --> .path: 'C:\\\\Users\\\\anwan\\\\Documents\\\\workspace\\\\rfd_models\\\\rfd_ae_e-c16_d-s16_d16-strd-trans-lrp00005-bs64-ch256_210524-161708'\n",
      "|  >  >  > tensorboard: True\n",
      "|  >  >  > txt: False (by default)\n",
      "|  >  >  > logfile: None (by default)\n",
      "|  >  >  > kwargs: {} (by default)\n",
      "|  >  > use_log_fmts: True (by default)\n",
      "|  >  > stats_format: 'json' (by default)\n",
      "|  >  > info_format: 'yaml' (by default)\n",
      "|  >  > log-smooth: True (by default)\n",
      "|  >  > log-model-str: True (by default)\n",
      "|  > inline: False (by default)\n",
      "|  > pbar: None (by default)\n",
      "| path: 'rfd_ae_e-c16_d-c16_d16-strd-trans-lrp00005-bs64-ch256_210524-213908'\n",
      "| saveroot: None (by default)\n",
      "| root: 'C:\\\\Users\\\\anwan\\\\Documents\\\\workspace\\\\rfd_models'\n",
      "| [Pushed] path: 'C:\\\\Users\\\\anwan\\\\Documents\\\\workspace\\\\rfd_models\\\\rfd_ae_e-c16_d-c16_d16-strd-trans-lrp00005-bs64-ch256_210524-213908'\n",
      "| run: [<class 'omnifig.config.ConfigDict'>]\n",
      "| CREATING . (type=sae-run) (mod={'cls-run': 3, 'inline': 5, 'timed-run': 1})\n",
      "|  > silent: None (by default)\n",
      "|  > invisible: False (by default)\n",
      "|  > use_config_root: True (by default)\n",
      "|  > .path: 'C:\\\\Users\\\\anwan\\\\Documents\\\\workspace\\\\rfd_models\\\\rfd_ae_e-c16_d-c16_d16-strd-trans-lrp00005-bs64-ch256_210524-213908'\n",
      "|  > [Pushed] path: 'C:\\\\Users\\\\anwan\\\\Documents\\\\workspace\\\\rfd_models\\\\rfd_ae_e-c16_d-c16_d16-strd-trans-lrp00005-bs64-ch256_210524-213908'\n",
      "|  > ckpt-num: None (by default)\n",
      "|  > best: False (by default)\n",
      "|  > last: True (by default)\n",
      "|  > [Pushed] dataset._load-ckpt: 'C:\\\\Users\\\\anwan\\\\Documents\\\\workspace\\\\rfd_models\\\\rfd_ae_e-c16_d-c16_d16-strd-trans-lrp00005-bs64-ch256_210524-213908\\\\ckpt200000'\n",
      "|  > [Pushed] model._load-ckpt: 'C:\\\\Users\\\\anwan\\\\Documents\\\\workspace\\\\rfd_models\\\\rfd_ae_e-c16_d-c16_d16-strd-trans-lrp00005-bs64-ch256_210524-213908\\\\ckpt200000'\n",
      "|  > [Pushed] records._load-ckpt: 'C:\\\\Users\\\\anwan\\\\Documents\\\\workspace\\\\rfd_models\\\\rfd_ae_e-c16_d-c16_d16-strd-trans-lrp00005-bs64-ch256_210524-213908\\\\ckpt200000'\n",
      "|  > [Pushed] clock._load-ckpt: 'C:\\\\Users\\\\anwan\\\\Documents\\\\workspace\\\\rfd_models\\\\rfd_ae_e-c16_d-c16_d16-strd-trans-lrp00005-bs64-ch256_210524-213908\\\\ckpt200000'\n",
      "|  > CREATING clock (type=clock)\n",
      "|  >  > CREATING .stats (type=stats-manager)\n",
      "|  >  >  > stat-collection-fmts: {} (by default)\n",
      "|  >  >  > reset-modes [list with 2 item/s]\n",
      "|  >  >  >  > (0): 'val'\n",
      "|  >  >  >  > (1): 'test'\n",
      "|  >  >  > mode: 'train' (by default)\n",
      "|  >  >  > meter-info: [<class 'omnifig.config.ConfigDict'>]\n",
      "|  >  > stats-fmt: None (by default)\n",
      "|  >  > smooth-tau --> tau: 1\n",
      "|  >  > limit: None (by default)\n",
      "|  >  > skip_load: False (by default)\n",
      "|  >  > _load-ckpt: 'C:\\\\Users\\\\anwan\\\\Documents\\\\workspace\\\\rfd_models\\\\rfd_ae_e-c16_d-c16_d16-strd-trans-lrp00005-bs64-ch256_210524-213908\\\\ckpt200000'\n",
      "|  >  > timed-fmt: 'time-{}' (by default)\n",
      "|  > CREATING . (type=records)\n",
      "|  >  > include_zero: False (by default)\n",
      "|  >  > freq: 500\n",
      "|  >  > mode: 'train' (by default)\n",
      "|  >  > .seed: 0\n",
      "|  >  > _history: None (by default)\n",
      "|  >  > REUSING .stats (type=stats-manager): id=0x1add4bd5678\n",
      "|  >  > CREATING .logger (type=logger)\n",
      "|  >  >  > log_dir --> .path: 'C:\\\\Users\\\\anwan\\\\Documents\\\\workspace\\\\rfd_models\\\\rfd_ae_e-c16_d-c16_d16-strd-trans-lrp00005-bs64-ch256_210524-213908'\n",
      "|  >  >  > tensorboard: True\n",
      "|  >  >  > txt: False (by default)\n",
      "|  >  >  > logfile: None (by default)\n",
      "|  >  >  > kwargs: {} (by default)\n",
      "|  >  > use_log_fmts: True (by default)\n",
      "|  >  > stats_format: 'json' (by default)\n",
      "|  >  > info_format: 'yaml' (by default)\n",
      "|  >  > log-smooth: True (by default)\n",
      "|  >  > log-model-str: True (by default)\n",
      "|  > inline: False (by default)\n",
      "|  > pbar: None (by default)\n",
      "| path: 'rfd_vae1_e-c16_d-c16_d16-strd-trans-lrp00005-bs64-ch256_210524-214205'\n",
      "| saveroot: None (by default)\n",
      "| root: 'C:\\\\Users\\\\anwan\\\\Documents\\\\workspace\\\\rfd_models'\n",
      "| [Pushed] path: 'C:\\\\Users\\\\anwan\\\\Documents\\\\workspace\\\\rfd_models\\\\rfd_vae1_e-c16_d-c16_d16-strd-trans-lrp00005-bs64-ch256_210524-214205'\n",
      "| run: [<class 'omnifig.config.ConfigDict'>]\n",
      "| CREATING . (type=sae-run) (mod={'cls-run': 3, 'inline': 5, 'timed-run': 1})\n"
     ]
    },
    {
     "name": "stderr",
     "output_type": "stream",
     "text": [
      "ERROR:omnifig.organization: Could not find mod \"cls-run\" for component \"sae-run\"\n",
      "ERROR:omnifig.organization: Could not find mod \"cls-run\" for component \"sae-run\"\n",
      "ERROR:omnifig.organization: Could not find mod \"cls-run\" for component \"sae-run\"\n"
     ]
    },
    {
     "name": "stdout",
     "output_type": "stream",
     "text": [
      "|  > silent: None (by default)\n",
      "|  > invisible: False (by default)\n",
      "|  > use_config_root: True (by default)\n",
      "|  > .path: 'C:\\\\Users\\\\anwan\\\\Documents\\\\workspace\\\\rfd_models\\\\rfd_vae1_e-c16_d-c16_d16-strd-trans-lrp00005-bs64-ch256_210524-214205'\n",
      "|  > [Pushed] path: 'C:\\\\Users\\\\anwan\\\\Documents\\\\workspace\\\\rfd_models\\\\rfd_vae1_e-c16_d-c16_d16-strd-trans-lrp00005-bs64-ch256_210524-214205'\n",
      "|  > ckpt-num: None (by default)\n",
      "|  > best: False (by default)\n",
      "|  > last: True (by default)\n",
      "|  > [Pushed] dataset._load-ckpt: 'C:\\\\Users\\\\anwan\\\\Documents\\\\workspace\\\\rfd_models\\\\rfd_vae1_e-c16_d-c16_d16-strd-trans-lrp00005-bs64-ch256_210524-214205\\\\ckpt200000'\n",
      "|  > [Pushed] model._load-ckpt: 'C:\\\\Users\\\\anwan\\\\Documents\\\\workspace\\\\rfd_models\\\\rfd_vae1_e-c16_d-c16_d16-strd-trans-lrp00005-bs64-ch256_210524-214205\\\\ckpt200000'\n",
      "|  > [Pushed] records._load-ckpt: 'C:\\\\Users\\\\anwan\\\\Documents\\\\workspace\\\\rfd_models\\\\rfd_vae1_e-c16_d-c16_d16-strd-trans-lrp00005-bs64-ch256_210524-214205\\\\ckpt200000'\n",
      "|  > [Pushed] clock._load-ckpt: 'C:\\\\Users\\\\anwan\\\\Documents\\\\workspace\\\\rfd_models\\\\rfd_vae1_e-c16_d-c16_d16-strd-trans-lrp00005-bs64-ch256_210524-214205\\\\ckpt200000'\n",
      "|  > CREATING clock (type=clock)\n",
      "|  >  > CREATING .stats (type=stats-manager)\n",
      "|  >  >  > stat-collection-fmts: {} (by default)\n",
      "|  >  >  > reset-modes [list with 2 item/s]\n",
      "|  >  >  >  > (0): 'val'\n",
      "|  >  >  >  > (1): 'test'\n",
      "|  >  >  > mode: 'train' (by default)\n",
      "|  >  >  > meter-info: [<class 'omnifig.config.ConfigDict'>]\n",
      "|  >  > stats-fmt: None (by default)\n",
      "|  >  > smooth-tau --> tau: 1\n",
      "|  >  > limit: None (by default)\n",
      "|  >  > skip_load: False (by default)\n",
      "|  >  > _load-ckpt: 'C:\\\\Users\\\\anwan\\\\Documents\\\\workspace\\\\rfd_models\\\\rfd_vae1_e-c16_d-c16_d16-strd-trans-lrp00005-bs64-ch256_210524-214205\\\\ckpt200000'\n",
      "|  >  > timed-fmt: 'time-{}' (by default)\n",
      "|  > CREATING . (type=records)\n",
      "|  >  > include_zero: False (by default)\n",
      "|  >  > freq: 500\n",
      "|  >  > mode: 'train' (by default)\n",
      "|  >  > .seed: 0\n",
      "|  >  > _history: None (by default)\n",
      "|  >  > REUSING .stats (type=stats-manager): id=0x1add4c85168\n",
      "|  >  > CREATING .logger (type=logger)\n",
      "|  >  >  > log_dir --> .path: 'C:\\\\Users\\\\anwan\\\\Documents\\\\workspace\\\\rfd_models\\\\rfd_vae1_e-c16_d-c16_d16-strd-trans-lrp00005-bs64-ch256_210524-214205'\n",
      "|  >  >  > tensorboard: True\n",
      "|  >  >  > txt: False (by default)\n",
      "|  >  >  > logfile: None (by default)\n",
      "|  >  >  > kwargs: {} (by default)\n",
      "|  >  > use_log_fmts: True (by default)\n",
      "|  >  > stats_format: 'json' (by default)\n",
      "|  >  > info_format: 'yaml' (by default)\n",
      "|  >  > log-smooth: True (by default)\n",
      "|  >  > log-model-str: True (by default)\n",
      "|  > inline: False (by default)\n",
      "|  > pbar: None (by default)\n",
      "| path: 'rfd_vae2_e-c16_d-c16_d16-strd-trans-lrp00005-bs64-ch256_210524-214633'\n",
      "| saveroot: None (by default)\n",
      "| root: 'C:\\\\Users\\\\anwan\\\\Documents\\\\workspace\\\\rfd_models'\n",
      "| [Pushed] path: 'C:\\\\Users\\\\anwan\\\\Documents\\\\workspace\\\\rfd_models\\\\rfd_vae2_e-c16_d-c16_d16-strd-trans-lrp00005-bs64-ch256_210524-214633'\n",
      "| run: [<class 'omnifig.config.ConfigDict'>]\n",
      "| CREATING . (type=sae-run) (mod={'cls-run': 3, 'inline': 5, 'timed-run': 1})\n",
      "|  > silent: None (by default)\n",
      "|  > invisible: False (by default)\n",
      "|  > use_config_root: True (by default)\n",
      "|  > .path: 'C:\\\\Users\\\\anwan\\\\Documents\\\\workspace\\\\rfd_models\\\\rfd_vae2_e-c16_d-c16_d16-strd-trans-lrp00005-bs64-ch256_210524-214633'\n",
      "|  > [Pushed] path: 'C:\\\\Users\\\\anwan\\\\Documents\\\\workspace\\\\rfd_models\\\\rfd_vae2_e-c16_d-c16_d16-strd-trans-lrp00005-bs64-ch256_210524-214633'\n",
      "|  > ckpt-num: None (by default)\n",
      "|  > best: False (by default)\n",
      "|  > last: True (by default)\n",
      "|  > [Pushed] dataset._load-ckpt: 'C:\\\\Users\\\\anwan\\\\Documents\\\\workspace\\\\rfd_models\\\\rfd_vae2_e-c16_d-c16_d16-strd-trans-lrp00005-bs64-ch256_210524-214633\\\\ckpt200000'\n",
      "|  > [Pushed] model._load-ckpt: 'C:\\\\Users\\\\anwan\\\\Documents\\\\workspace\\\\rfd_models\\\\rfd_vae2_e-c16_d-c16_d16-strd-trans-lrp00005-bs64-ch256_210524-214633\\\\ckpt200000'\n",
      "|  > [Pushed] records._load-ckpt: 'C:\\\\Users\\\\anwan\\\\Documents\\\\workspace\\\\rfd_models\\\\rfd_vae2_e-c16_d-c16_d16-strd-trans-lrp00005-bs64-ch256_210524-214633\\\\ckpt200000'\n",
      "|  > [Pushed] clock._load-ckpt: 'C:\\\\Users\\\\anwan\\\\Documents\\\\workspace\\\\rfd_models\\\\rfd_vae2_e-c16_d-c16_d16-strd-trans-lrp00005-bs64-ch256_210524-214633\\\\ckpt200000'\n",
      "|  > CREATING clock (type=clock)\n",
      "|  >  > CREATING .stats (type=stats-manager)\n",
      "|  >  >  > stat-collection-fmts: {} (by default)\n",
      "|  >  >  > reset-modes [list with 2 item/s]\n",
      "|  >  >  >  > (0): 'val'\n",
      "|  >  >  >  > (1): 'test'\n",
      "|  >  >  > mode: 'train' (by default)\n",
      "|  >  >  > meter-info: [<class 'omnifig.config.ConfigDict'>]\n",
      "|  >  > stats-fmt: None (by default)\n",
      "|  >  > smooth-tau --> tau: 1\n",
      "|  >  > limit: None (by default)\n",
      "|  >  > skip_load: False (by default)\n",
      "|  >  > _load-ckpt: 'C:\\\\Users\\\\anwan\\\\Documents\\\\workspace\\\\rfd_models\\\\rfd_vae2_e-c16_d-c16_d16-strd-trans-lrp00005-bs64-ch256_210524-214633\\\\ckpt200000'\n",
      "|  >  > timed-fmt: 'time-{}' (by default)\n",
      "|  > CREATING . (type=records)\n",
      "|  >  > include_zero: False (by default)\n",
      "|  >  > freq: 500\n",
      "|  >  > mode: 'train' (by default)\n",
      "|  >  > .seed: 0\n",
      "|  >  > _history: None (by default)\n",
      "|  >  > REUSING .stats (type=stats-manager): id=0x1add4d0d048\n",
      "|  >  > CREATING .logger (type=logger)\n",
      "|  >  >  > log_dir --> .path: 'C:\\\\Users\\\\anwan\\\\Documents\\\\workspace\\\\rfd_models\\\\rfd_vae2_e-c16_d-c16_d16-strd-trans-lrp00005-bs64-ch256_210524-214633'\n",
      "|  >  >  > tensorboard: True\n",
      "|  >  >  > txt: False (by default)\n",
      "|  >  >  > logfile: None (by default)\n",
      "|  >  >  > kwargs: {} (by default)\n",
      "|  >  > use_log_fmts: True (by default)\n",
      "|  >  > stats_format: 'json' (by default)\n",
      "|  >  > info_format: 'yaml' (by default)\n",
      "|  >  > log-smooth: True (by default)\n",
      "|  >  > log-model-str: True (by default)\n",
      "|  > inline: False (by default)\n",
      "|  > pbar: None (by default)\n",
      "| path: 'rfd_vae1_e-l16_d-l16_d16-strd-trans-lrp00005-bs64-ch256_210524-214809'\n",
      "| saveroot: None (by default)\n",
      "| root: 'C:\\\\Users\\\\anwan\\\\Documents\\\\workspace\\\\rfd_models'\n",
      "| [Pushed] path: 'C:\\\\Users\\\\anwan\\\\Documents\\\\workspace\\\\rfd_models\\\\rfd_vae1_e-l16_d-l16_d16-strd-trans-lrp00005-bs64-ch256_210524-214809'\n",
      "| run: [<class 'omnifig.config.ConfigDict'>]\n",
      "| CREATING . (type=sae-run) (mod={'cls-run': 3, 'inline': 5, 'timed-run': 1})\n",
      "|  > silent: None (by default)\n",
      "|  > invisible: False (by default)\n",
      "|  > use_config_root: True (by default)\n",
      "|  > .path: 'C:\\\\Users\\\\anwan\\\\Documents\\\\workspace\\\\rfd_models\\\\rfd_vae1_e-l16_d-l16_d16-strd-trans-lrp00005-bs64-ch256_210524-214809'\n",
      "|  > [Pushed] path: 'C:\\\\Users\\\\anwan\\\\Documents\\\\workspace\\\\rfd_models\\\\rfd_vae1_e-l16_d-l16_d16-strd-trans-lrp00005-bs64-ch256_210524-214809'\n",
      "|  > ckpt-num: None (by default)\n",
      "|  > best: False (by default)\n",
      "|  > last: True (by default)\n",
      "|  > [Pushed] dataset._load-ckpt: 'C:\\\\Users\\\\anwan\\\\Documents\\\\workspace\\\\rfd_models\\\\rfd_vae1_e-l16_d-l16_d16-strd-trans-lrp00005-bs64-ch256_210524-214809\\\\ckpt200000'\n",
      "|  > [Pushed] model._load-ckpt: 'C:\\\\Users\\\\anwan\\\\Documents\\\\workspace\\\\rfd_models\\\\rfd_vae1_e-l16_d-l16_d16-strd-trans-lrp00005-bs64-ch256_210524-214809\\\\ckpt200000'\n",
      "|  > [Pushed] records._load-ckpt: 'C:\\\\Users\\\\anwan\\\\Documents\\\\workspace\\\\rfd_models\\\\rfd_vae1_e-l16_d-l16_d16-strd-trans-lrp00005-bs64-ch256_210524-214809\\\\ckpt200000'\n",
      "|  > [Pushed] clock._load-ckpt: 'C:\\\\Users\\\\anwan\\\\Documents\\\\workspace\\\\rfd_models\\\\rfd_vae1_e-l16_d-l16_d16-strd-trans-lrp00005-bs64-ch256_210524-214809\\\\ckpt200000'\n",
      "|  > CREATING clock (type=clock)\n",
      "|  >  > CREATING .stats (type=stats-manager)\n",
      "|  >  >  > stat-collection-fmts: {} (by default)\n",
      "|  >  >  > reset-modes [list with 2 item/s]\n",
      "|  >  >  >  > (0): 'val'\n",
      "|  >  >  >  > (1): 'test'\n",
      "|  >  >  > mode: 'train' (by default)\n",
      "|  >  >  > meter-info: [<class 'omnifig.config.ConfigDict'>]\n",
      "|  >  > stats-fmt: None (by default)\n",
      "|  >  > smooth-tau --> tau: 1\n",
      "|  >  > limit: None (by default)\n",
      "|  >  > skip_load: False (by default)\n",
      "|  >  > _load-ckpt: 'C:\\\\Users\\\\anwan\\\\Documents\\\\workspace\\\\rfd_models\\\\rfd_vae1_e-l16_d-l16_d16-strd-trans-lrp00005-bs64-ch256_210524-214809\\\\ckpt200000'\n",
      "|  >  > timed-fmt: 'time-{}' (by default)\n",
      "|  > CREATING . (type=records)\n",
      "|  >  > include_zero: False (by default)\n",
      "|  >  > freq: 500\n",
      "|  >  > mode: 'train' (by default)\n",
      "|  >  > .seed: 0\n",
      "|  >  > _history: None (by default)\n",
      "|  >  > REUSING .stats (type=stats-manager): id=0x1add4d5e048\n",
      "|  >  > CREATING .logger (type=logger)\n",
      "|  >  >  > log_dir --> .path: 'C:\\\\Users\\\\anwan\\\\Documents\\\\workspace\\\\rfd_models\\\\rfd_vae1_e-l16_d-l16_d16-strd-trans-lrp00005-bs64-ch256_210524-214809'\n",
      "|  >  >  > tensorboard: True\n",
      "|  >  >  > txt: False (by default)\n",
      "|  >  >  > logfile: None (by default)\n",
      "|  >  >  > kwargs: {} (by default)\n",
      "|  >  > use_log_fmts: True (by default)\n",
      "|  >  > stats_format: 'json' (by default)\n",
      "|  >  > info_format: 'yaml' (by default)\n",
      "|  >  > log-smooth: True (by default)\n",
      "|  >  > log-model-str: True (by default)\n",
      "|  > inline: False (by default)\n",
      "|  > pbar: None (by default)\n",
      "| path: 'rfd_wae10_e-c16_d-c16_d16-strd-trans-lrp00005-bs64-ch256_210524-215009'\n",
      "| saveroot: None (by default)\n",
      "| root: 'C:\\\\Users\\\\anwan\\\\Documents\\\\workspace\\\\rfd_models'\n",
      "| [Pushed] path: 'C:\\\\Users\\\\anwan\\\\Documents\\\\workspace\\\\rfd_models\\\\rfd_wae10_e-c16_d-c16_d16-strd-trans-lrp00005-bs64-ch256_210524-215009'\n",
      "| run: [<class 'omnifig.config.ConfigDict'>]\n",
      "| CREATING . (type=sae-run) (mod={'cls-run': 3, 'inline': 5, 'timed-run': 1})\n",
      "|  > silent: None (by default)\n",
      "|  > invisible: False (by default)\n",
      "|  > use_config_root: True (by default)\n",
      "|  > .path: 'C:\\\\Users\\\\anwan\\\\Documents\\\\workspace\\\\rfd_models\\\\rfd_wae10_e-c16_d-c16_d16-strd-trans-lrp00005-bs64-ch256_210524-215009'\n",
      "|  > [Pushed] path: 'C:\\\\Users\\\\anwan\\\\Documents\\\\workspace\\\\rfd_models\\\\rfd_wae10_e-c16_d-c16_d16-strd-trans-lrp00005-bs64-ch256_210524-215009'\n",
      "|  > ckpt-num: None (by default)\n",
      "|  > best: False (by default)\n",
      "|  > last: True (by default)\n",
      "|  > [Pushed] dataset._load-ckpt: 'C:\\\\Users\\\\anwan\\\\Documents\\\\workspace\\\\rfd_models\\\\rfd_wae10_e-c16_d-c16_d16-strd-trans-lrp00005-bs64-ch256_210524-215009\\\\ckpt200000'\n",
      "|  > [Pushed] model._load-ckpt: 'C:\\\\Users\\\\anwan\\\\Documents\\\\workspace\\\\rfd_models\\\\rfd_wae10_e-c16_d-c16_d16-strd-trans-lrp00005-bs64-ch256_210524-215009\\\\ckpt200000'\n",
      "|  > [Pushed] records._load-ckpt: 'C:\\\\Users\\\\anwan\\\\Documents\\\\workspace\\\\rfd_models\\\\rfd_wae10_e-c16_d-c16_d16-strd-trans-lrp00005-bs64-ch256_210524-215009\\\\ckpt200000'\n",
      "|  > [Pushed] clock._load-ckpt: 'C:\\\\Users\\\\anwan\\\\Documents\\\\workspace\\\\rfd_models\\\\rfd_wae10_e-c16_d-c16_d16-strd-trans-lrp00005-bs64-ch256_210524-215009\\\\ckpt200000'\n",
      "|  > CREATING clock (type=clock)\n",
      "|  >  > CREATING .stats (type=stats-manager)\n",
      "|  >  >  > stat-collection-fmts: {} (by default)\n",
      "|  >  >  > reset-modes [list with 2 item/s]\n",
      "|  >  >  >  > (0): 'val'\n",
      "|  >  >  >  > (1): 'test'\n",
      "|  >  >  > mode: 'train' (by default)\n",
      "|  >  >  > meter-info: [<class 'omnifig.config.ConfigDict'>]\n",
      "|  >  > stats-fmt: None (by default)\n",
      "|  >  > smooth-tau --> tau: 1\n",
      "|  >  > limit: None (by default)\n",
      "|  >  > skip_load: False (by default)\n",
      "|  >  > _load-ckpt: 'C:\\\\Users\\\\anwan\\\\Documents\\\\workspace\\\\rfd_models\\\\rfd_wae10_e-c16_d-c16_d16-strd-trans-lrp00005-bs64-ch256_210524-215009\\\\ckpt200000'\n",
      "|  >  > timed-fmt: 'time-{}' (by default)\n",
      "|  > CREATING . (type=records)\n",
      "|  >  > include_zero: False (by default)\n",
      "|  >  > freq: 500\n",
      "|  >  > mode: 'train' (by default)\n",
      "|  >  > .seed: 0\n",
      "|  >  > _history: None (by default)\n",
      "|  >  > REUSING .stats (type=stats-manager): id=0x1add4dd0dc8\n",
      "|  >  > CREATING .logger (type=logger)\n",
      "|  >  >  > log_dir --> .path: 'C:\\\\Users\\\\anwan\\\\Documents\\\\workspace\\\\rfd_models\\\\rfd_wae10_e-c16_d-c16_d16-strd-trans-lrp00005-bs64-ch256_210524-215009'\n",
      "|  >  >  > tensorboard: True\n",
      "|  >  >  > txt: False (by default)\n",
      "|  >  >  > logfile: None (by default)\n",
      "|  >  >  > kwargs: {} (by default)\n",
      "|  >  > use_log_fmts: True (by default)\n",
      "|  >  > stats_format: 'json' (by default)\n",
      "|  >  > info_format: 'yaml' (by default)\n",
      "|  >  > log-smooth: True (by default)\n",
      "|  >  > log-model-str: True (by default)\n",
      "|  > inline: False (by default)\n",
      "|  > pbar: None (by default)\n",
      "| path: 'rfd_ae_e-c16_d-s16_d16-strd-trans-lrp00005-bs64-ch256-nosplit_210525-122527'\n"
     ]
    },
    {
     "name": "stderr",
     "output_type": "stream",
     "text": [
      "ERROR:omnifig.organization: Could not find mod \"cls-run\" for component \"sae-run\"\n"
     ]
    },
    {
     "name": "stdout",
     "output_type": "stream",
     "text": [
      "| saveroot: None (by default)\n",
      "| root: 'C:\\\\Users\\\\anwan\\\\Documents\\\\workspace\\\\rfd_models'\n",
      "| [Pushed] path: 'C:\\\\Users\\\\anwan\\\\Documents\\\\workspace\\\\rfd_models\\\\rfd_ae_e-c16_d-s16_d16-strd-trans-lrp00005-bs64-ch256-nosplit_210525-122527'\n",
      "| run: [<class 'omnifig.config.ConfigDict'>]\n",
      "| CREATING . (type=sae-run) (mod={'cls-run': 3, 'inline': 5, 'timed-run': 1})\n",
      "|  > silent: None (by default)\n",
      "|  > invisible: False (by default)\n",
      "|  > use_config_root: True (by default)\n",
      "|  > .path: 'C:\\\\Users\\\\anwan\\\\Documents\\\\workspace\\\\rfd_models\\\\rfd_ae_e-c16_d-s16_d16-strd-trans-lrp00005-bs64-ch256-nosplit_210525-122527'\n",
      "|  > [Pushed] path: 'C:\\\\Users\\\\anwan\\\\Documents\\\\workspace\\\\rfd_models\\\\rfd_ae_e-c16_d-s16_d16-strd-trans-lrp00005-bs64-ch256-nosplit_210525-122527'\n",
      "|  > ckpt-num: None (by default)\n",
      "|  > best: False (by default)\n",
      "|  > last: True (by default)\n",
      "|  > [Pushed] dataset._load-ckpt: 'C:\\\\Users\\\\anwan\\\\Documents\\\\workspace\\\\rfd_models\\\\rfd_ae_e-c16_d-s16_d16-strd-trans-lrp00005-bs64-ch256-nosplit_210525-122527\\\\ckpt200000'\n",
      "|  > [Pushed] model._load-ckpt: 'C:\\\\Users\\\\anwan\\\\Documents\\\\workspace\\\\rfd_models\\\\rfd_ae_e-c16_d-s16_d16-strd-trans-lrp00005-bs64-ch256-nosplit_210525-122527\\\\ckpt200000'\n",
      "|  > [Pushed] records._load-ckpt: 'C:\\\\Users\\\\anwan\\\\Documents\\\\workspace\\\\rfd_models\\\\rfd_ae_e-c16_d-s16_d16-strd-trans-lrp00005-bs64-ch256-nosplit_210525-122527\\\\ckpt200000'\n",
      "|  > [Pushed] clock._load-ckpt: 'C:\\\\Users\\\\anwan\\\\Documents\\\\workspace\\\\rfd_models\\\\rfd_ae_e-c16_d-s16_d16-strd-trans-lrp00005-bs64-ch256-nosplit_210525-122527\\\\ckpt200000'\n",
      "|  > CREATING clock (type=clock)\n",
      "|  >  > CREATING .stats (type=stats-manager)\n",
      "|  >  >  > stat-collection-fmts: {} (by default)\n",
      "|  >  >  > reset-modes [list with 2 item/s]\n",
      "|  >  >  >  > (0): 'val'\n",
      "|  >  >  >  > (1): 'test'\n",
      "|  >  >  > mode: 'train' (by default)\n",
      "|  >  >  > meter-info: [<class 'omnifig.config.ConfigDict'>]\n",
      "|  >  > stats-fmt: None (by default)\n",
      "|  >  > smooth-tau --> tau: 1\n",
      "|  >  > limit: None (by default)\n",
      "|  >  > skip_load: False (by default)\n",
      "|  >  > _load-ckpt: 'C:\\\\Users\\\\anwan\\\\Documents\\\\workspace\\\\rfd_models\\\\rfd_ae_e-c16_d-s16_d16-strd-trans-lrp00005-bs64-ch256-nosplit_210525-122527\\\\ckpt200000'\n",
      "|  >  > timed-fmt: 'time-{}' (by default)\n",
      "|  > CREATING . (type=records)\n",
      "|  >  > include_zero: False (by default)\n",
      "|  >  > freq: 500\n",
      "|  >  > mode: 'train' (by default)\n",
      "|  >  > .seed: 0\n",
      "|  >  > _history: None (by default)\n",
      "|  >  > REUSING .stats (type=stats-manager): id=0x1addaec28b8\n",
      "|  >  > CREATING .logger (type=logger)\n",
      "|  >  >  > log_dir --> .path: 'C:\\\\Users\\\\anwan\\\\Documents\\\\workspace\\\\rfd_models\\\\rfd_ae_e-c16_d-s16_d16-strd-trans-lrp00005-bs64-ch256-nosplit_210525-122527'\n",
      "|  >  >  > tensorboard: True\n",
      "|  >  >  > txt: False (by default)\n",
      "|  >  >  > logfile: None (by default)\n",
      "|  >  >  > kwargs: {} (by default)\n",
      "|  >  > use_log_fmts: True (by default)\n",
      "|  >  > stats_format: 'json' (by default)\n",
      "|  >  > info_format: 'yaml' (by default)\n",
      "|  >  > log-smooth: True (by default)\n",
      "|  >  > log-model-str: True (by default)\n",
      "|  > inline: False (by default)\n",
      "|  > pbar: None (by default)\n"
     ]
    }
   ],
   "source": [
    "runs = [fig.quick_run('load-run', path=row, root=str(root), **{'override.device':'cpu'}) for row in run_names]"
   ]
  },
  {
   "cell_type": "code",
   "execution_count": 21,
   "id": "c93ac5bc",
   "metadata": {},
   "outputs": [],
   "source": [
    "titles = ['SAE-16', 'AE', 'VAE', r'$\\beta$VAE', 'LVAE-16', 'WAE', 'AdaAE-16']\n",
    "archs = ['Structural', 'Baseline', 'Baseline', 'Baseline', 'Ladder', 'Baseline', 'Adaptive']\n",
    "cs = ['C0', 'C1', 'C1', 'C1', 'C3','C1',  'C2']\n",
    "cut=  'eval'"
   ]
  },
  {
   "cell_type": "code",
   "execution_count": 22,
   "id": "e8031701",
   "metadata": {},
   "outputs": [],
   "source": [
    "for n, a, c, r in zip(titles, archs, cs, runs):\n",
    "    r.title = n\n",
    "    r.arch = a\n",
    "    r.color = c\n",
    "    out = r.get_results(cut)\n",
    "    r.rec_fid = out['rec_fid']\n",
    "    r.hyb_fid = out['hybrid_fid']\n",
    "    r.prior_fid = out.get('prior_fid', None)"
   ]
  },
  {
   "cell_type": "code",
   "execution_count": null,
   "id": "1f888088",
   "metadata": {},
   "outputs": [],
   "source": [
    "fig, ax = plt.subplots(figsize=(5,5))\n",
    "ordered = sorted(runs, key=lambda r: -r.rec_fid)\n",
    "ac = set()\n",
    "for r in runs:\n",
    "    ac.append()"
   ]
  },
  {
   "cell_type": "code",
   "execution_count": null,
   "id": "b4dd9088",
   "metadata": {},
   "outputs": [],
   "source": []
  },
  {
   "cell_type": "code",
   "execution_count": null,
   "id": "f7a05407",
   "metadata": {},
   "outputs": [],
   "source": [
    "# old\n",
    "\n",
    "fig, ax = plt.subplots(figsize=(5,5))\n",
    "# texts = []\n",
    "tps = set()\n",
    "x = np.arange(len(title_order))\n",
    "\n",
    "order = [x[1] for x in sorted((r.stats.rec_fid, r.ident) for r in runs)]\n",
    "for i,t in enumerate(order):\n",
    "    r = run_idents[t]\n",
    "    s = r.stats.rec_fid\n",
    "    c = info.colors[r.group]\n",
    "    plt.bar(i, s, color=c, edgecolor='k', )#linewidth=2)\n",
    "    tps.add(r.group)\n",
    "plt.xticks(x, [titles[t] for t in order], rotation='vertical')\n",
    "#     plt.scatter(r.loss, r.fid, color=colors[r.type])\n",
    "#     texts.append(plt.text(r.loss, r.fid, r.name))\n",
    "#     tps.add(r.type)\n",
    "#     plt.scatter(r.fid, r.loss, color=colors[r.type])\n",
    "#     texts.append(plt.text(r.fid-(fidrg/10 if r.type == 'attn' else 0), r.loss, r.name))\n",
    "# legend_elements = [Patch(facecolor=info.colors[name], label=info.tnames[name]) for name in set(typs)]\n",
    "legend_elements = [Patch(facecolor=info.colors[name], label=info.group_names[name]) for name in tps]\n",
    "legend = plt.legend(handles=legend_elements, title='Architecture')\n",
    "# plt.ylabel('Reconstruction Loss')\n",
    "plt.ylabel('Reconstruction FID Score')\n",
    "plt.title(f'{info.title} Reconstruction Quality')\n",
    "# plt.yscale('log')\n",
    "# s = [20,30,40,50,60,70, 80,90,100]\n",
    "if dscode == 'celeb':\n",
    "    plt.ylim(80,150)\n",
    "elif dscode in {'3ds', 'toy'}:\n",
    "    plt.ylim(0,50)\n",
    "elif dscode == 'real':\n",
    "    plt.ylim(0,70)\n",
    "# else:\n",
    "#     plt.ylim(0,100)\n",
    "# plt.ylim(4550,4580)\n",
    "# plt.yticks(s,map(str,s))\n",
    "plt.grid(linestyle='--',axis='y')\n",
    "\n",
    "# legend1 = plt.legend(legend_elements1, ['Hybrid', 'Prior'], loc=4, title='Sampling Method')\n",
    "# ax.add_artist(legend1, )\n",
    "# ax.add_artist(legend)\n",
    "plt.tight_layout()\n",
    "util.save_figure(f'{dscode}_rec-fid', **save_figure_kwargs)\n",
    "pass"
   ]
  },
  {
   "cell_type": "code",
   "execution_count": null,
   "id": "6d970a63",
   "metadata": {},
   "outputs": [],
   "source": []
  },
  {
   "cell_type": "code",
   "execution_count": 19,
   "id": "971fc151",
   "metadata": {},
   "outputs": [],
   "source": [
    "for r in runs:"
   ]
  },
  {
   "cell_type": "code",
   "execution_count": 15,
   "id": "cd135583",
   "metadata": {},
   "outputs": [
    {
     "data": {
      "text/plain": [
       "dict_keys(['device', 'rec_fid_stats', 'rec_fid', 'hybrid_fid_stats', 'hybrid_fid', 'batch'])"
      ]
     },
     "execution_count": 15,
     "metadata": {},
     "output_type": "execute_result"
    }
   ],
   "source": [
    "out = r.get_results('eval')\n",
    "out.keys()"
   ]
  },
  {
   "cell_type": "code",
   "execution_count": 16,
   "id": "fa8375fe",
   "metadata": {},
   "outputs": [
    {
     "data": {
      "text/plain": [
       "6.6508499285524465"
      ]
     },
     "execution_count": 16,
     "metadata": {},
     "output_type": "execute_result"
    }
   ],
   "source": [
    "out['rec_fid']"
   ]
  },
  {
   "cell_type": "code",
   "execution_count": null,
   "id": "f5f11858",
   "metadata": {},
   "outputs": [],
   "source": []
  },
  {
   "cell_type": "code",
   "execution_count": null,
   "id": "c959eeab",
   "metadata": {},
   "outputs": [],
   "source": []
  },
  {
   "cell_type": "code",
   "execution_count": null,
   "id": "feea9694",
   "metadata": {},
   "outputs": [],
   "source": []
  },
  {
   "cell_type": "code",
   "execution_count": 6,
   "id": "fb4aa837",
   "metadata": {},
   "outputs": [
    {
     "data": {
      "text/plain": [
       "'rfd_ae_e-c16_d-c16_d16-strd-trans-lrp00005-bs64-ch256_210524-213908'"
      ]
     },
     "execution_count": 6,
     "metadata": {},
     "output_type": "execute_result"
    }
   ],
   "source": [
    "run_name = random.choice(run_names)\n",
    "\n",
    "run_name = run_names[2]\n",
    "run_name = run_names[3]\n",
    "\n",
    "run_name"
   ]
  },
  {
   "cell_type": "code",
   "execution_count": 5,
   "id": "c851f555",
   "metadata": {},
   "outputs": [
    {
     "name": "stderr",
     "output_type": "stream",
     "text": [
      "ERROR:omnifig.organization: Could not find mod \"cls-run\" for component \"sae-run\"\n"
     ]
    },
    {
     "data": {
      "text/plain": [
       "{'arch_type': 'c16',\n",
       " 'dataset_type': 'rfd',\n",
       " 'dec_type': 'c16',\n",
       " 'enc_type': 'c16',\n",
       " 'extra': 'd16-strd-trans-lrp00005-bs64-ch256',\n",
       " 'model_type': 'ae',\n",
       " 'size': 128}"
      ]
     },
     "execution_count": 5,
     "metadata": {},
     "output_type": "execute_result"
    }
   ],
   "source": [
    "load_config = fig.get_config(path=run_name, root=str(root), **{'override.device':device})\n",
    "load_config.set_silent(True)\n",
    "run = fig.run('load-run', load_config)\n",
    "A = run.get_config()\n",
    "A.push('model-override.model._model_mod.hybrid', 1)\n",
    "A.set_silent(True)\n",
    "info = A.pull('info')\n",
    "info"
   ]
  },
  {
   "cell_type": "code",
   "execution_count": 6,
   "id": "db53d3f1",
   "metadata": {},
   "outputs": [
    {
     "name": "stdout",
     "output_type": "stream",
     "text": [
      "Hybrid_Autoencoder(\n",
      "  (encoder): MultiLayer(\n",
      "    (layers): ModuleList(\n",
      "      (0): ConvLayer(\n",
      "        residual=False\n",
      "        (conv): Conv2d(3, 256, kernel_size=(5, 5), stride=(2, 2), padding=(2, 2))\n",
      "        (norm): GroupNorm(8, 256, eps=1e-05, affine=True)\n",
      "        (nonlin): ELU(alpha=1.0, inplace=True)\n",
      "      )\n",
      "      (1): ConvLayer(\n",
      "        residual=False\n",
      "        (conv): Conv2d(256, 256, kernel_size=(3, 3), stride=(1, 1), padding=(1, 1))\n",
      "        (norm): GroupNorm(8, 256, eps=1e-05, affine=True)\n",
      "        (nonlin): ELU(alpha=1.0, inplace=True)\n",
      "      )\n",
      "      (2): ConvLayer(\n",
      "        residual=False\n",
      "        (conv): Conv2d(256, 256, kernel_size=(3, 3), stride=(1, 1), padding=(1, 1))\n",
      "        (norm): GroupNorm(8, 256, eps=1e-05, affine=True)\n",
      "        (nonlin): ELU(alpha=1.0, inplace=True)\n",
      "      )\n",
      "      (3): ConvLayer(\n",
      "        residual=False\n",
      "        (conv): Conv2d(256, 256, kernel_size=(3, 3), stride=(2, 2), padding=(1, 1))\n",
      "        (norm): GroupNorm(8, 256, eps=1e-05, affine=True)\n",
      "        (nonlin): ELU(alpha=1.0, inplace=True)\n",
      "      )\n",
      "      (4): ConvLayer(\n",
      "        residual=False\n",
      "        (conv): Conv2d(256, 256, kernel_size=(3, 3), stride=(1, 1), padding=(1, 1))\n",
      "        (norm): GroupNorm(8, 256, eps=1e-05, affine=True)\n",
      "        (nonlin): ELU(alpha=1.0, inplace=True)\n",
      "      )\n",
      "      (5): ConvLayer(\n",
      "        residual=False\n",
      "        (conv): Conv2d(256, 256, kernel_size=(3, 3), stride=(1, 1), padding=(1, 1))\n",
      "        (norm): GroupNorm(8, 256, eps=1e-05, affine=True)\n",
      "        (nonlin): ELU(alpha=1.0, inplace=True)\n",
      "      )\n",
      "      (6): ConvLayer(\n",
      "        residual=False\n",
      "        (conv): Conv2d(256, 256, kernel_size=(3, 3), stride=(2, 2), padding=(1, 1))\n",
      "        (norm): GroupNorm(8, 256, eps=1e-05, affine=True)\n",
      "        (nonlin): ELU(alpha=1.0, inplace=True)\n",
      "      )\n",
      "      (7): ConvLayer(\n",
      "        residual=False\n",
      "        (conv): Conv2d(256, 256, kernel_size=(3, 3), stride=(1, 1), padding=(1, 1))\n",
      "        (norm): GroupNorm(8, 256, eps=1e-05, affine=True)\n",
      "        (nonlin): ELU(alpha=1.0, inplace=True)\n",
      "      )\n",
      "      (8): ConvLayer(\n",
      "        residual=False\n",
      "        (conv): Conv2d(256, 256, kernel_size=(3, 3), stride=(1, 1), padding=(1, 1))\n",
      "        (norm): GroupNorm(8, 256, eps=1e-05, affine=True)\n",
      "        (nonlin): ELU(alpha=1.0, inplace=True)\n",
      "      )\n",
      "      (9): ConvLayer(\n",
      "        residual=False\n",
      "        (conv): Conv2d(256, 256, kernel_size=(3, 3), stride=(2, 2), padding=(1, 1))\n",
      "        (norm): GroupNorm(8, 256, eps=1e-05, affine=True)\n",
      "        (nonlin): ELU(alpha=1.0, inplace=True)\n",
      "      )\n",
      "      (10): ConvLayer(\n",
      "        residual=False\n",
      "        (conv): Conv2d(256, 256, kernel_size=(3, 3), stride=(1, 1), padding=(1, 1))\n",
      "        (norm): GroupNorm(8, 256, eps=1e-05, affine=True)\n",
      "        (nonlin): ELU(alpha=1.0, inplace=True)\n",
      "      )\n",
      "      (11): ConvLayer(\n",
      "        residual=False\n",
      "        (conv): Conv2d(256, 256, kernel_size=(3, 3), stride=(1, 1), padding=(1, 1))\n",
      "        (norm): GroupNorm(8, 256, eps=1e-05, affine=True)\n",
      "        (nonlin): ELU(alpha=1.0, inplace=True)\n",
      "      )\n",
      "      (12): ConvLayer(\n",
      "        residual=False\n",
      "        (conv): Conv2d(256, 256, kernel_size=(3, 3), stride=(2, 2), padding=(1, 1))\n",
      "        (norm): GroupNorm(8, 256, eps=1e-05, affine=True)\n",
      "        (nonlin): ELU(alpha=1.0, inplace=True)\n",
      "      )\n",
      "      (13): ConvLayer(\n",
      "        residual=False\n",
      "        (conv): Conv2d(256, 256, kernel_size=(3, 3), stride=(1, 1), padding=(1, 1))\n",
      "        (norm): GroupNorm(8, 256, eps=1e-05, affine=True)\n",
      "        (nonlin): ELU(alpha=1.0, inplace=True)\n",
      "      )\n",
      "      (14): ConvLayer(\n",
      "        residual=False\n",
      "        (conv): Conv2d(256, 256, kernel_size=(3, 3), stride=(1, 1), padding=(1, 1))\n",
      "        (norm): GroupNorm(8, 256, eps=1e-05, affine=True)\n",
      "        (nonlin): ELU(alpha=1.0, inplace=True)\n",
      "      )\n",
      "      (15): ConvLayer(\n",
      "        residual=False\n",
      "        (conv): Conv2d(256, 256, kernel_size=(3, 3), stride=(2, 2), padding=(1, 1))\n",
      "        (norm): GroupNorm(8, 256, eps=1e-05, affine=True)\n",
      "        (nonlin): ELU(alpha=1.0, inplace=True)\n",
      "      )\n",
      "      (16): MLP(\n",
      "        (0): Flatten(start_dim=1, end_dim=-1)\n",
      "        (1): Linear(in_features=1024, out_features=512, bias=True)\n",
      "        (2): ELU(alpha=1.0, inplace=True)\n",
      "        (3): Linear(in_features=512, out_features=256, bias=True)\n",
      "        (4): ELU(alpha=1.0, inplace=True)\n",
      "        (5): Linear(in_features=256, out_features=128, bias=True)\n",
      "        (6): ELU(alpha=1.0, inplace=True)\n",
      "        (7): Linear(in_features=128, out_features=16, bias=True)\n",
      "      )\n",
      "    )\n",
      "  )\n",
      "  (decoder): MultiLayer(\n",
      "    (layers): ModuleList(\n",
      "      (0): MLP(\n",
      "        (0): Linear(in_features=16, out_features=128, bias=True)\n",
      "        (1): ELU(alpha=1.0, inplace=True)\n",
      "        (2): Linear(in_features=128, out_features=256, bias=True)\n",
      "        (3): ELU(alpha=1.0, inplace=True)\n",
      "        (4): Linear(in_features=256, out_features=512, bias=True)\n",
      "        (5): ELU(alpha=1.0, inplace=True)\n",
      "        (6): Linear(in_features=512, out_features=1024, bias=True)\n",
      "        (7): Reshaper(out=(256, 2, 2))\n",
      "      )\n",
      "      (1): ConvLayer(\n",
      "        residual=False\n",
      "        (conv): ConvTranspose2d(256, 256, kernel_size=(4, 4), stride=(2, 2), padding=(1, 1))\n",
      "        (norm): GroupNorm(8, 256, eps=1e-05, affine=True)\n",
      "        (nonlin): ELU(alpha=1.0, inplace=True)\n",
      "      )\n",
      "      (2): ConvLayer(\n",
      "        residual=False\n",
      "        (conv): Conv2d(256, 256, kernel_size=(3, 3), stride=(1, 1), padding=(1, 1))\n",
      "        (norm): GroupNorm(8, 256, eps=1e-05, affine=True)\n",
      "        (nonlin): ELU(alpha=1.0, inplace=True)\n",
      "      )\n",
      "      (3): ConvLayer(\n",
      "        residual=False\n",
      "        (conv): Conv2d(256, 256, kernel_size=(3, 3), stride=(1, 1), padding=(1, 1))\n",
      "        (norm): GroupNorm(8, 256, eps=1e-05, affine=True)\n",
      "        (nonlin): ELU(alpha=1.0, inplace=True)\n",
      "      )\n",
      "      (4): ConvLayer(\n",
      "        residual=False\n",
      "        (conv): ConvTranspose2d(256, 256, kernel_size=(4, 4), stride=(2, 2), padding=(1, 1))\n",
      "        (norm): GroupNorm(8, 256, eps=1e-05, affine=True)\n",
      "        (nonlin): ELU(alpha=1.0, inplace=True)\n",
      "      )\n",
      "      (5): ConvLayer(\n",
      "        residual=False\n",
      "        (conv): Conv2d(256, 256, kernel_size=(3, 3), stride=(1, 1), padding=(1, 1))\n",
      "        (norm): GroupNorm(8, 256, eps=1e-05, affine=True)\n",
      "        (nonlin): ELU(alpha=1.0, inplace=True)\n",
      "      )\n",
      "      (6): ConvLayer(\n",
      "        residual=False\n",
      "        (conv): Conv2d(256, 256, kernel_size=(3, 3), stride=(1, 1), padding=(1, 1))\n",
      "        (norm): GroupNorm(8, 256, eps=1e-05, affine=True)\n",
      "        (nonlin): ELU(alpha=1.0, inplace=True)\n",
      "      )\n",
      "      (7): ConvLayer(\n",
      "        residual=False\n",
      "        (conv): ConvTranspose2d(256, 256, kernel_size=(4, 4), stride=(2, 2), padding=(1, 1))\n",
      "        (norm): GroupNorm(8, 256, eps=1e-05, affine=True)\n",
      "        (nonlin): ELU(alpha=1.0, inplace=True)\n",
      "      )\n",
      "      (8): ConvLayer(\n",
      "        residual=False\n",
      "        (conv): Conv2d(256, 256, kernel_size=(3, 3), stride=(1, 1), padding=(1, 1))\n",
      "        (norm): GroupNorm(8, 256, eps=1e-05, affine=True)\n",
      "        (nonlin): ELU(alpha=1.0, inplace=True)\n",
      "      )\n",
      "      (9): ConvLayer(\n",
      "        residual=False\n",
      "        (conv): Conv2d(256, 256, kernel_size=(3, 3), stride=(1, 1), padding=(1, 1))\n",
      "        (norm): GroupNorm(8, 256, eps=1e-05, affine=True)\n",
      "        (nonlin): ELU(alpha=1.0, inplace=True)\n",
      "      )\n",
      "      (10): ConvLayer(\n",
      "        residual=False\n",
      "        (conv): ConvTranspose2d(256, 256, kernel_size=(4, 4), stride=(2, 2), padding=(1, 1))\n",
      "        (norm): GroupNorm(8, 256, eps=1e-05, affine=True)\n",
      "        (nonlin): ELU(alpha=1.0, inplace=True)\n",
      "      )\n",
      "      (11): ConvLayer(\n",
      "        residual=False\n",
      "        (conv): Conv2d(256, 256, kernel_size=(3, 3), stride=(1, 1), padding=(1, 1))\n",
      "        (norm): GroupNorm(8, 256, eps=1e-05, affine=True)\n",
      "        (nonlin): ELU(alpha=1.0, inplace=True)\n",
      "      )\n",
      "      (12): ConvLayer(\n",
      "        residual=False\n",
      "        (conv): Conv2d(256, 256, kernel_size=(3, 3), stride=(1, 1), padding=(1, 1))\n",
      "        (norm): GroupNorm(8, 256, eps=1e-05, affine=True)\n",
      "        (nonlin): ELU(alpha=1.0, inplace=True)\n",
      "      )\n",
      "      (13): ConvLayer(\n",
      "        residual=False\n",
      "        (conv): ConvTranspose2d(256, 256, kernel_size=(4, 4), stride=(2, 2), padding=(1, 1))\n",
      "        (norm): GroupNorm(8, 256, eps=1e-05, affine=True)\n",
      "        (nonlin): ELU(alpha=1.0, inplace=True)\n",
      "      )\n",
      "      (14): ConvLayer(\n",
      "        residual=False\n",
      "        (conv): Conv2d(256, 256, kernel_size=(3, 3), stride=(1, 1), padding=(1, 1))\n",
      "        (norm): GroupNorm(8, 256, eps=1e-05, affine=True)\n",
      "        (nonlin): ELU(alpha=1.0, inplace=True)\n",
      "      )\n",
      "      (15): ConvLayer(\n",
      "        residual=False\n",
      "        (conv): Conv2d(256, 256, kernel_size=(3, 3), stride=(1, 1), padding=(1, 1))\n",
      "        (norm): GroupNorm(8, 256, eps=1e-05, affine=True)\n",
      "        (nonlin): ELU(alpha=1.0, inplace=True)\n",
      "      )\n",
      "      (16): ConvLayer(\n",
      "        residual=False\n",
      "        (conv): ConvTranspose2d(256, 3, kernel_size=(4, 4), stride=(2, 2), padding=(1, 1))\n",
      "        (nonlin): Sigmoid()\n",
      "      )\n",
      "    )\n",
      "  )\n",
      "  (criterion): BCELoss()\n",
      ")\n",
      "Adam (\n",
      "Parameter Group 0\n",
      "    amsgrad: False\n",
      "    betas: (0.9, 0.999)\n",
      "    eps: 1e-08\n",
      "    lr: 5e-05\n",
      "    weight_decay: 0\n",
      ")\n",
      "Number of model parameters: 21426963\n"
     ]
    },
    {
     "name": "stdout",
     "output_type": "stream",
     "text": [
      "Loaded parameters from C:\\Users\\anwan\\Documents\\workspace\\rfd_models\\rfd_ae_e-c16_d-c16_d16-strd-trans-lrp00005-bs64-ch256_210524-213908\\ckpt200000\n"
     ]
    }
   ],
   "source": [
    "model = run.get_model()\n",
    "model.switch_to('val')\n",
    "model.to(device);"
   ]
  },
  {
   "cell_type": "code",
   "execution_count": 7,
   "id": "983f617f",
   "metadata": {},
   "outputs": [],
   "source": [
    "# data = run.get_results('eval')\n",
    "# data.keys()"
   ]
  },
  {
   "cell_type": "code",
   "execution_count": 8,
   "id": "fbe1209a",
   "metadata": {},
   "outputs": [],
   "source": [
    "# data['hybrid_fid']"
   ]
  },
  {
   "cell_type": "code",
   "execution_count": null,
   "id": "243a4d2e",
   "metadata": {},
   "outputs": [],
   "source": []
  },
  {
   "cell_type": "code",
   "execution_count": 9,
   "id": "0d9bf11c",
   "metadata": {},
   "outputs": [
    {
     "name": "stdout",
     "output_type": "stream",
     "text": [
      "====== Opening RFD Dataset ======\n"
     ]
    },
    {
     "data": {
      "text/plain": [
       "720000"
      ]
     },
     "execution_count": 9,
     "metadata": {},
     "output_type": "execute_result"
    }
   ],
   "source": [
    "if dataset is None:\n",
    "    dataset = run.get_dataset()\n",
    "len(dataset)"
   ]
  },
  {
   "cell_type": "code",
   "execution_count": 10,
   "id": "bf1ef071",
   "metadata": {},
   "outputs": [
    {
     "data": {
      "text/plain": [
       "{'heldout_test', 'real_test', 'test', 'train'}"
      ]
     },
     "execution_count": 10,
     "metadata": {},
     "output_type": "execute_result"
    }
   ],
   "source": [
    "dataset.get_available_modes()"
   ]
  },
  {
   "cell_type": "code",
   "execution_count": null,
   "id": "6610e597",
   "metadata": {},
   "outputs": [],
   "source": []
  },
  {
   "cell_type": "code",
   "execution_count": 11,
   "id": "fed9dc87",
   "metadata": {},
   "outputs": [
    {
     "data": {
      "text/plain": [
       "torch.Size([128, 3, 128, 128])"
      ]
     },
     "execution_count": 11,
     "metadata": {},
     "output_type": "execute_result"
    }
   ],
   "source": [
    "batch = dataset.get_batch(batch_size=128, shuffle=True)\n",
    "batch.shape"
   ]
  },
  {
   "cell_type": "code",
   "execution_count": 12,
   "id": "0d1e1e53",
   "metadata": {},
   "outputs": [
    {
     "data": {
      "text/plain": [
       "torch.Size([128, 16])"
      ]
     },
     "execution_count": 12,
     "metadata": {},
     "output_type": "execute_result"
    }
   ],
   "source": [
    "with torch.no_grad():\n",
    "    Q = model.encode(batch)\n",
    "    if isinstance(Q, distrib.Normal):\n",
    "        Q = Q.loc\n",
    "    if model._latent is None:\n",
    "        model._latent = Q\n",
    "Q.shape"
   ]
  },
  {
   "cell_type": "code",
   "execution_count": 13,
   "id": "8819d95a",
   "metadata": {},
   "outputs": [],
   "source": [
    "A.update({\n",
    "    'novel': True,\n",
    "    'skip-expensive': True,\n",
    "    'dataset.batch_size': 16,\n",
    "    'evaluation': None,\n",
    "    'inline': True,\n",
    "    'pbar._type': 'progress-bar',\n",
    "    'pbar.display-on': 'jupyter',\n",
    "    'fid.dim': 2048,\n",
    "    'fid.n_samples': 50000,\n",
    "    'fid.batch_size': 32,\n",
    "})"
   ]
  },
  {
   "cell_type": "code",
   "execution_count": null,
   "id": "d08f82a8",
   "metadata": {},
   "outputs": [
    {
     "name": "stdout",
     "output_type": "stream",
     "text": [
      "Will save results to C:\\Users\\anwan\\Documents\\workspace\\rfd_models\\rfd_ae_e-c16_d-c16_d16-strd-trans-lrp00005-bs64-ch256_210524-213908\n",
      "Loading inception model dim=2048\n"
     ]
    },
    {
     "data": {
      "application/vnd.jupyter.widget-view+json": {
       "model_id": "bcdae8f35f7b442fa322b15e04efee9b",
       "version_major": 2,
       "version_minor": 0
      },
      "text/plain": [
       "  0%|          | 0/50000 [00:00<?, ?it/s]"
      ]
     },
     "metadata": {},
     "output_type": "display_data"
    }
   ],
   "source": [
    "out = run.evaluate(overwrite=True)"
   ]
  },
  {
   "cell_type": "code",
   "execution_count": null,
   "id": "e59d8a36",
   "metadata": {},
   "outputs": [],
   "source": [
    "out.keys()"
   ]
  },
  {
   "cell_type": "code",
   "execution_count": 25,
   "id": "021b0b23",
   "metadata": {},
   "outputs": [
    {
     "data": {
      "text/plain": [
       "{'rec_fid': 16.907577234205405,\n",
       " 'prior_fid': 35.69107753449731,\n",
       " 'hybrid_fid': 28.269544532424334}"
      ]
     },
     "execution_count": 25,
     "metadata": {},
     "output_type": "execute_result"
    }
   ],
   "source": [
    "{k:v for k,v in out.items() if k.endswith('_fid')}"
   ]
  },
  {
   "cell_type": "code",
   "execution_count": 25,
   "id": "031b7a9e",
   "metadata": {},
   "outputs": [
    {
     "data": {
      "text/plain": [
       "{'rec_fid': 16.907577234205405,\n",
       " 'prior_fid': 35.69107753449731,\n",
       " 'hybrid_fid': 28.269544532424334}"
      ]
     },
     "execution_count": 25,
     "metadata": {},
     "output_type": "execute_result"
    }
   ],
   "source": [
    "{k:v for k,v in out.items() if k.endswith('_fid')}"
   ]
  },
  {
   "cell_type": "code",
   "execution_count": 15,
   "id": "3fd3f1bd",
   "metadata": {},
   "outputs": [
    {
     "data": {
      "text/plain": [
       "{'rec_fid': 9.521835270454687, 'hybrid_fid': 19.730062040454442}"
      ]
     },
     "execution_count": 15,
     "metadata": {},
     "output_type": "execute_result"
    }
   ],
   "source": [
    "{k:v for k,v in out.items() if k.endswith('_fid')}"
   ]
  },
  {
   "cell_type": "code",
   "execution_count": null,
   "id": "1d28f87d",
   "metadata": {},
   "outputs": [],
   "source": []
  },
  {
   "cell_type": "code",
   "execution_count": null,
   "id": "2a61cd3b",
   "metadata": {},
   "outputs": [],
   "source": []
  },
  {
   "cell_type": "code",
   "execution_count": null,
   "id": "541af096",
   "metadata": {},
   "outputs": [],
   "source": []
  },
  {
   "cell_type": "code",
   "execution_count": null,
   "id": "c4de4234",
   "metadata": {},
   "outputs": [],
   "source": []
  },
  {
   "cell_type": "code",
   "execution_count": null,
   "id": "2d4e9587",
   "metadata": {},
   "outputs": [],
   "source": []
  },
  {
   "cell_type": "code",
   "execution_count": null,
   "id": "5cc6e7f5",
   "metadata": {},
   "outputs": [],
   "source": []
  }
 ],
 "metadata": {
  "kernelspec": {
   "display_name": "Python 3",
   "language": "python",
   "name": "python3"
  },
  "language_info": {
   "codemirror_mode": {
    "name": "ipython",
    "version": 3
   },
   "file_extension": ".py",
   "mimetype": "text/x-python",
   "name": "python",
   "nbconvert_exporter": "python",
   "pygments_lexer": "ipython3",
   "version": "3.8.8"
  }
 },
 "nbformat": 4,
 "nbformat_minor": 5
}
