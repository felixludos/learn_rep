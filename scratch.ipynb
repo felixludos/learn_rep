{
 "cells": [
  {
   "cell_type": "code",
   "execution_count": 1,
   "metadata": {},
   "outputs": [
    {
     "name": "stdout",
     "output_type": "stream",
     "text": [
      "WARNING: no requirements.txt found\n"
     ]
    }
   ],
   "source": [
    "import sys, os, time, shutil\n",
    "from IPython.core.display import display, HTML\n",
    "# display(HTML(\"<style>.container { width:98% !important; }</style>\"))\n",
    "os.environ['FOUNDATION_RUN_MODE'] = 'jupyter'\n",
    "# %load_ext autoreload\n",
    "# %autoreload 2\n",
    "# %pdb\n",
    "from tqdm import tqdm_notebook as tqdm\n",
    "import torch\n",
    "import torch.nn as nn\n",
    "import torch.nn.functional as F\n",
    "import torch.distributions as distrib\n",
    "import torch.multiprocessing as mp\n",
    "import torchvision.models\n",
    "from torch.utils.data import Dataset, DataLoader, TensorDataset\n",
    "\n",
    "import matplotlib.pyplot as plt\n",
    "import seaborn as sns\n",
    "import pandas as pd\n",
    "from sklearn.preprocessing import normalize\n",
    "\n",
    "import gym\n",
    "import inspect\n",
    "import numpy as np\n",
    "import pickle\n",
    "\n",
    "#%matplotlib tk\n",
    "import matplotlib.pyplot as plt\n",
    "#plt.switch_backend('Qt5Agg') #('Qt5Agg')\n",
    "import foundation as fd\n",
    "from foundation import models\n",
    "from foundation import util\n",
    "from foundation import train as trn\n",
    "#from foundation.util import replicate, Cloner\n",
    "\n",
    "import matplotlib.patches as mpatches\n",
    "import matplotlib.pyplot as plt\n",
    "import matplotlib.cm\n",
    "from matplotlib import animation\n",
    "import matplotlib as mpl\n",
    "# mpl.rc('image', cmap='gray')\n",
    "\n",
    "# import gpumap\n",
    "# import umap, shap\n",
    "# import umap.plot\n",
    "\n",
    "from sklearn.decomposition import PCA\n",
    "import sklearn.datasets\n",
    "\n",
    "# import gpumap\n",
    "\n",
    "%matplotlib notebook\n",
    "\n",
    "# import project as proj\n",
    "# import pointnets as ptn\n",
    "\n",
    "np.set_printoptions(linewidth=120)"
   ]
  },
  {
   "cell_type": "code",
   "execution_count": 2,
   "metadata": {},
   "outputs": [],
   "source": [
    "from c3linearize import linearize, class_graph"
   ]
  },
  {
   "cell_type": "code",
   "execution_count": null,
   "metadata": {},
   "outputs": [],
   "source": []
  },
  {
   "cell_type": "code",
   "execution_count": 10,
   "metadata": {},
   "outputs": [],
   "source": [
    "from collections import defaultdict"
   ]
  },
  {
   "cell_type": "code",
   "execution_count": null,
   "metadata": {},
   "outputs": [],
   "source": []
  },
  {
   "cell_type": "code",
   "execution_count": 3,
   "metadata": {},
   "outputs": [],
   "source": [
    "class T(object):\n",
    "    pass"
   ]
  },
  {
   "cell_type": "code",
   "execution_count": 6,
   "metadata": {},
   "outputs": [
    {
     "data": {
      "text/plain": [
       "True"
      ]
     },
     "execution_count": 6,
     "metadata": {},
     "output_type": "execute_result"
    }
   ],
   "source": [
    "type(T) == type"
   ]
  },
  {
   "cell_type": "code",
   "execution_count": null,
   "metadata": {},
   "outputs": [],
   "source": []
  },
  {
   "cell_type": "code",
   "execution_count": 11,
   "metadata": {},
   "outputs": [],
   "source": [
    "root = 'c:/Users/anwan/Documents/workspace/local_data/3dshapes'"
   ]
  },
  {
   "cell_type": "code",
   "execution_count": 12,
   "metadata": {},
   "outputs": [
    {
     "data": {
      "text/plain": [
       "['3dshapes_stats_fid.pkl',\n",
       " '3dshapes_stats_fid_test.pkl',\n",
       " '3dshapes_stats_fid_train.pkl',\n",
       " '3dshapes_test.h5',\n",
       " '3dshapes_train.h5']"
      ]
     },
     "execution_count": 12,
     "metadata": {},
     "output_type": "execute_result"
    }
   ],
   "source": [
    "os.listdir(root)"
   ]
  },
  {
   "cell_type": "code",
   "execution_count": 14,
   "metadata": {},
   "outputs": [],
   "source": [
    "p = pickle.load(open(os.path.join(root, '3dshapes_stats_fid.pkl'), 'rb'))"
   ]
  },
  {
   "cell_type": "code",
   "execution_count": 18,
   "metadata": {},
   "outputs": [
    {
     "data": {
      "text/plain": [
       "dict_keys(['indices', 'm', 'sigma'])"
      ]
     },
     "execution_count": 18,
     "metadata": {},
     "output_type": "execute_result"
    }
   ],
   "source": [
    "p.keys()"
   ]
  },
  {
   "cell_type": "code",
   "execution_count": null,
   "metadata": {},
   "outputs": [],
   "source": []
  },
  {
   "cell_type": "code",
   "execution_count": 3,
   "metadata": {},
   "outputs": [
    {
     "name": "stderr",
     "output_type": "stream",
     "text": [
      "Downloading: \"https://github.com/mseitzer/pytorch-fid/releases/download/fid_weights/pt_inception-2015-12-05-6726825d.pth\" to C:\\Users\\anwan/.cache\\torch\\checkpoints\\pt_inception-2015-12-05-6726825d.pth\n",
      "100%|█████████████████████████████████████████████████| 91.2M/91.2M [00:20<00:00, 4.64MB/s]\n"
     ]
    },
    {
     "data": {
      "text/plain": [
       "InceptionV3(\n",
       "  (blocks): ModuleList(\n",
       "    (0): Sequential(\n",
       "      (0): BasicConv2d(\n",
       "        (conv): Conv2d(3, 32, kernel_size=(3, 3), stride=(2, 2), bias=False)\n",
       "        (bn): BatchNorm2d(32, eps=0.001, momentum=0.1, affine=True, track_running_stats=True)\n",
       "      )\n",
       "      (1): BasicConv2d(\n",
       "        (conv): Conv2d(32, 32, kernel_size=(3, 3), stride=(1, 1), bias=False)\n",
       "        (bn): BatchNorm2d(32, eps=0.001, momentum=0.1, affine=True, track_running_stats=True)\n",
       "      )\n",
       "      (2): BasicConv2d(\n",
       "        (conv): Conv2d(32, 64, kernel_size=(3, 3), stride=(1, 1), padding=(1, 1), bias=False)\n",
       "        (bn): BatchNorm2d(64, eps=0.001, momentum=0.1, affine=True, track_running_stats=True)\n",
       "      )\n",
       "      (3): MaxPool2d(kernel_size=3, stride=2, padding=0, dilation=1, ceil_mode=False)\n",
       "    )\n",
       "    (1): Sequential(\n",
       "      (0): BasicConv2d(\n",
       "        (conv): Conv2d(64, 80, kernel_size=(1, 1), stride=(1, 1), bias=False)\n",
       "        (bn): BatchNorm2d(80, eps=0.001, momentum=0.1, affine=True, track_running_stats=True)\n",
       "      )\n",
       "      (1): BasicConv2d(\n",
       "        (conv): Conv2d(80, 192, kernel_size=(3, 3), stride=(1, 1), bias=False)\n",
       "        (bn): BatchNorm2d(192, eps=0.001, momentum=0.1, affine=True, track_running_stats=True)\n",
       "      )\n",
       "      (2): MaxPool2d(kernel_size=3, stride=2, padding=0, dilation=1, ceil_mode=False)\n",
       "    )\n",
       "    (2): Sequential(\n",
       "      (0): FIDInceptionA(\n",
       "        (branch1x1): BasicConv2d(\n",
       "          (conv): Conv2d(192, 64, kernel_size=(1, 1), stride=(1, 1), bias=False)\n",
       "          (bn): BatchNorm2d(64, eps=0.001, momentum=0.1, affine=True, track_running_stats=True)\n",
       "        )\n",
       "        (branch5x5_1): BasicConv2d(\n",
       "          (conv): Conv2d(192, 48, kernel_size=(1, 1), stride=(1, 1), bias=False)\n",
       "          (bn): BatchNorm2d(48, eps=0.001, momentum=0.1, affine=True, track_running_stats=True)\n",
       "        )\n",
       "        (branch5x5_2): BasicConv2d(\n",
       "          (conv): Conv2d(48, 64, kernel_size=(5, 5), stride=(1, 1), padding=(2, 2), bias=False)\n",
       "          (bn): BatchNorm2d(64, eps=0.001, momentum=0.1, affine=True, track_running_stats=True)\n",
       "        )\n",
       "        (branch3x3dbl_1): BasicConv2d(\n",
       "          (conv): Conv2d(192, 64, kernel_size=(1, 1), stride=(1, 1), bias=False)\n",
       "          (bn): BatchNorm2d(64, eps=0.001, momentum=0.1, affine=True, track_running_stats=True)\n",
       "        )\n",
       "        (branch3x3dbl_2): BasicConv2d(\n",
       "          (conv): Conv2d(64, 96, kernel_size=(3, 3), stride=(1, 1), padding=(1, 1), bias=False)\n",
       "          (bn): BatchNorm2d(96, eps=0.001, momentum=0.1, affine=True, track_running_stats=True)\n",
       "        )\n",
       "        (branch3x3dbl_3): BasicConv2d(\n",
       "          (conv): Conv2d(96, 96, kernel_size=(3, 3), stride=(1, 1), padding=(1, 1), bias=False)\n",
       "          (bn): BatchNorm2d(96, eps=0.001, momentum=0.1, affine=True, track_running_stats=True)\n",
       "        )\n",
       "        (branch_pool): BasicConv2d(\n",
       "          (conv): Conv2d(192, 32, kernel_size=(1, 1), stride=(1, 1), bias=False)\n",
       "          (bn): BatchNorm2d(32, eps=0.001, momentum=0.1, affine=True, track_running_stats=True)\n",
       "        )\n",
       "      )\n",
       "      (1): FIDInceptionA(\n",
       "        (branch1x1): BasicConv2d(\n",
       "          (conv): Conv2d(256, 64, kernel_size=(1, 1), stride=(1, 1), bias=False)\n",
       "          (bn): BatchNorm2d(64, eps=0.001, momentum=0.1, affine=True, track_running_stats=True)\n",
       "        )\n",
       "        (branch5x5_1): BasicConv2d(\n",
       "          (conv): Conv2d(256, 48, kernel_size=(1, 1), stride=(1, 1), bias=False)\n",
       "          (bn): BatchNorm2d(48, eps=0.001, momentum=0.1, affine=True, track_running_stats=True)\n",
       "        )\n",
       "        (branch5x5_2): BasicConv2d(\n",
       "          (conv): Conv2d(48, 64, kernel_size=(5, 5), stride=(1, 1), padding=(2, 2), bias=False)\n",
       "          (bn): BatchNorm2d(64, eps=0.001, momentum=0.1, affine=True, track_running_stats=True)\n",
       "        )\n",
       "        (branch3x3dbl_1): BasicConv2d(\n",
       "          (conv): Conv2d(256, 64, kernel_size=(1, 1), stride=(1, 1), bias=False)\n",
       "          (bn): BatchNorm2d(64, eps=0.001, momentum=0.1, affine=True, track_running_stats=True)\n",
       "        )\n",
       "        (branch3x3dbl_2): BasicConv2d(\n",
       "          (conv): Conv2d(64, 96, kernel_size=(3, 3), stride=(1, 1), padding=(1, 1), bias=False)\n",
       "          (bn): BatchNorm2d(96, eps=0.001, momentum=0.1, affine=True, track_running_stats=True)\n",
       "        )\n",
       "        (branch3x3dbl_3): BasicConv2d(\n",
       "          (conv): Conv2d(96, 96, kernel_size=(3, 3), stride=(1, 1), padding=(1, 1), bias=False)\n",
       "          (bn): BatchNorm2d(96, eps=0.001, momentum=0.1, affine=True, track_running_stats=True)\n",
       "        )\n",
       "        (branch_pool): BasicConv2d(\n",
       "          (conv): Conv2d(256, 64, kernel_size=(1, 1), stride=(1, 1), bias=False)\n",
       "          (bn): BatchNorm2d(64, eps=0.001, momentum=0.1, affine=True, track_running_stats=True)\n",
       "        )\n",
       "      )\n",
       "      (2): FIDInceptionA(\n",
       "        (branch1x1): BasicConv2d(\n",
       "          (conv): Conv2d(288, 64, kernel_size=(1, 1), stride=(1, 1), bias=False)\n",
       "          (bn): BatchNorm2d(64, eps=0.001, momentum=0.1, affine=True, track_running_stats=True)\n",
       "        )\n",
       "        (branch5x5_1): BasicConv2d(\n",
       "          (conv): Conv2d(288, 48, kernel_size=(1, 1), stride=(1, 1), bias=False)\n",
       "          (bn): BatchNorm2d(48, eps=0.001, momentum=0.1, affine=True, track_running_stats=True)\n",
       "        )\n",
       "        (branch5x5_2): BasicConv2d(\n",
       "          (conv): Conv2d(48, 64, kernel_size=(5, 5), stride=(1, 1), padding=(2, 2), bias=False)\n",
       "          (bn): BatchNorm2d(64, eps=0.001, momentum=0.1, affine=True, track_running_stats=True)\n",
       "        )\n",
       "        (branch3x3dbl_1): BasicConv2d(\n",
       "          (conv): Conv2d(288, 64, kernel_size=(1, 1), stride=(1, 1), bias=False)\n",
       "          (bn): BatchNorm2d(64, eps=0.001, momentum=0.1, affine=True, track_running_stats=True)\n",
       "        )\n",
       "        (branch3x3dbl_2): BasicConv2d(\n",
       "          (conv): Conv2d(64, 96, kernel_size=(3, 3), stride=(1, 1), padding=(1, 1), bias=False)\n",
       "          (bn): BatchNorm2d(96, eps=0.001, momentum=0.1, affine=True, track_running_stats=True)\n",
       "        )\n",
       "        (branch3x3dbl_3): BasicConv2d(\n",
       "          (conv): Conv2d(96, 96, kernel_size=(3, 3), stride=(1, 1), padding=(1, 1), bias=False)\n",
       "          (bn): BatchNorm2d(96, eps=0.001, momentum=0.1, affine=True, track_running_stats=True)\n",
       "        )\n",
       "        (branch_pool): BasicConv2d(\n",
       "          (conv): Conv2d(288, 64, kernel_size=(1, 1), stride=(1, 1), bias=False)\n",
       "          (bn): BatchNorm2d(64, eps=0.001, momentum=0.1, affine=True, track_running_stats=True)\n",
       "        )\n",
       "      )\n",
       "      (3): InceptionB(\n",
       "        (branch3x3): BasicConv2d(\n",
       "          (conv): Conv2d(288, 384, kernel_size=(3, 3), stride=(2, 2), bias=False)\n",
       "          (bn): BatchNorm2d(384, eps=0.001, momentum=0.1, affine=True, track_running_stats=True)\n",
       "        )\n",
       "        (branch3x3dbl_1): BasicConv2d(\n",
       "          (conv): Conv2d(288, 64, kernel_size=(1, 1), stride=(1, 1), bias=False)\n",
       "          (bn): BatchNorm2d(64, eps=0.001, momentum=0.1, affine=True, track_running_stats=True)\n",
       "        )\n",
       "        (branch3x3dbl_2): BasicConv2d(\n",
       "          (conv): Conv2d(64, 96, kernel_size=(3, 3), stride=(1, 1), padding=(1, 1), bias=False)\n",
       "          (bn): BatchNorm2d(96, eps=0.001, momentum=0.1, affine=True, track_running_stats=True)\n",
       "        )\n",
       "        (branch3x3dbl_3): BasicConv2d(\n",
       "          (conv): Conv2d(96, 96, kernel_size=(3, 3), stride=(2, 2), bias=False)\n",
       "          (bn): BatchNorm2d(96, eps=0.001, momentum=0.1, affine=True, track_running_stats=True)\n",
       "        )\n",
       "      )\n",
       "      (4): FIDInceptionC(\n",
       "        (branch1x1): BasicConv2d(\n",
       "          (conv): Conv2d(768, 192, kernel_size=(1, 1), stride=(1, 1), bias=False)\n",
       "          (bn): BatchNorm2d(192, eps=0.001, momentum=0.1, affine=True, track_running_stats=True)\n",
       "        )\n",
       "        (branch7x7_1): BasicConv2d(\n",
       "          (conv): Conv2d(768, 128, kernel_size=(1, 1), stride=(1, 1), bias=False)\n",
       "          (bn): BatchNorm2d(128, eps=0.001, momentum=0.1, affine=True, track_running_stats=True)\n",
       "        )\n",
       "        (branch7x7_2): BasicConv2d(\n",
       "          (conv): Conv2d(128, 128, kernel_size=(1, 7), stride=(1, 1), padding=(0, 3), bias=False)\n",
       "          (bn): BatchNorm2d(128, eps=0.001, momentum=0.1, affine=True, track_running_stats=True)\n",
       "        )\n",
       "        (branch7x7_3): BasicConv2d(\n",
       "          (conv): Conv2d(128, 192, kernel_size=(7, 1), stride=(1, 1), padding=(3, 0), bias=False)\n",
       "          (bn): BatchNorm2d(192, eps=0.001, momentum=0.1, affine=True, track_running_stats=True)\n",
       "        )\n",
       "        (branch7x7dbl_1): BasicConv2d(\n",
       "          (conv): Conv2d(768, 128, kernel_size=(1, 1), stride=(1, 1), bias=False)\n",
       "          (bn): BatchNorm2d(128, eps=0.001, momentum=0.1, affine=True, track_running_stats=True)\n",
       "        )\n",
       "        (branch7x7dbl_2): BasicConv2d(\n",
       "          (conv): Conv2d(128, 128, kernel_size=(7, 1), stride=(1, 1), padding=(3, 0), bias=False)\n",
       "          (bn): BatchNorm2d(128, eps=0.001, momentum=0.1, affine=True, track_running_stats=True)\n",
       "        )\n",
       "        (branch7x7dbl_3): BasicConv2d(\n",
       "          (conv): Conv2d(128, 128, kernel_size=(1, 7), stride=(1, 1), padding=(0, 3), bias=False)\n",
       "          (bn): BatchNorm2d(128, eps=0.001, momentum=0.1, affine=True, track_running_stats=True)\n",
       "        )\n",
       "        (branch7x7dbl_4): BasicConv2d(\n",
       "          (conv): Conv2d(128, 128, kernel_size=(7, 1), stride=(1, 1), padding=(3, 0), bias=False)\n",
       "          (bn): BatchNorm2d(128, eps=0.001, momentum=0.1, affine=True, track_running_stats=True)\n",
       "        )\n",
       "        (branch7x7dbl_5): BasicConv2d(\n",
       "          (conv): Conv2d(128, 192, kernel_size=(1, 7), stride=(1, 1), padding=(0, 3), bias=False)\n",
       "          (bn): BatchNorm2d(192, eps=0.001, momentum=0.1, affine=True, track_running_stats=True)\n",
       "        )\n",
       "        (branch_pool): BasicConv2d(\n",
       "          (conv): Conv2d(768, 192, kernel_size=(1, 1), stride=(1, 1), bias=False)\n",
       "          (bn): BatchNorm2d(192, eps=0.001, momentum=0.1, affine=True, track_running_stats=True)\n",
       "        )\n",
       "      )\n",
       "      (5): FIDInceptionC(\n",
       "        (branch1x1): BasicConv2d(\n",
       "          (conv): Conv2d(768, 192, kernel_size=(1, 1), stride=(1, 1), bias=False)\n",
       "          (bn): BatchNorm2d(192, eps=0.001, momentum=0.1, affine=True, track_running_stats=True)\n",
       "        )\n",
       "        (branch7x7_1): BasicConv2d(\n",
       "          (conv): Conv2d(768, 160, kernel_size=(1, 1), stride=(1, 1), bias=False)\n",
       "          (bn): BatchNorm2d(160, eps=0.001, momentum=0.1, affine=True, track_running_stats=True)\n",
       "        )\n",
       "        (branch7x7_2): BasicConv2d(\n",
       "          (conv): Conv2d(160, 160, kernel_size=(1, 7), stride=(1, 1), padding=(0, 3), bias=False)\n",
       "          (bn): BatchNorm2d(160, eps=0.001, momentum=0.1, affine=True, track_running_stats=True)\n",
       "        )\n",
       "        (branch7x7_3): BasicConv2d(\n",
       "          (conv): Conv2d(160, 192, kernel_size=(7, 1), stride=(1, 1), padding=(3, 0), bias=False)\n",
       "          (bn): BatchNorm2d(192, eps=0.001, momentum=0.1, affine=True, track_running_stats=True)\n",
       "        )\n",
       "        (branch7x7dbl_1): BasicConv2d(\n",
       "          (conv): Conv2d(768, 160, kernel_size=(1, 1), stride=(1, 1), bias=False)\n",
       "          (bn): BatchNorm2d(160, eps=0.001, momentum=0.1, affine=True, track_running_stats=True)\n",
       "        )\n",
       "        (branch7x7dbl_2): BasicConv2d(\n",
       "          (conv): Conv2d(160, 160, kernel_size=(7, 1), stride=(1, 1), padding=(3, 0), bias=False)\n",
       "          (bn): BatchNorm2d(160, eps=0.001, momentum=0.1, affine=True, track_running_stats=True)\n",
       "        )\n",
       "        (branch7x7dbl_3): BasicConv2d(\n",
       "          (conv): Conv2d(160, 160, kernel_size=(1, 7), stride=(1, 1), padding=(0, 3), bias=False)\n",
       "          (bn): BatchNorm2d(160, eps=0.001, momentum=0.1, affine=True, track_running_stats=True)\n",
       "        )\n",
       "        (branch7x7dbl_4): BasicConv2d(\n",
       "          (conv): Conv2d(160, 160, kernel_size=(7, 1), stride=(1, 1), padding=(3, 0), bias=False)\n",
       "          (bn): BatchNorm2d(160, eps=0.001, momentum=0.1, affine=True, track_running_stats=True)\n",
       "        )\n",
       "        (branch7x7dbl_5): BasicConv2d(\n",
       "          (conv): Conv2d(160, 192, kernel_size=(1, 7), stride=(1, 1), padding=(0, 3), bias=False)\n",
       "          (bn): BatchNorm2d(192, eps=0.001, momentum=0.1, affine=True, track_running_stats=True)\n",
       "        )\n",
       "        (branch_pool): BasicConv2d(\n",
       "          (conv): Conv2d(768, 192, kernel_size=(1, 1), stride=(1, 1), bias=False)\n",
       "          (bn): BatchNorm2d(192, eps=0.001, momentum=0.1, affine=True, track_running_stats=True)\n",
       "        )\n",
       "      )\n",
       "      (6): FIDInceptionC(\n",
       "        (branch1x1): BasicConv2d(\n",
       "          (conv): Conv2d(768, 192, kernel_size=(1, 1), stride=(1, 1), bias=False)\n",
       "          (bn): BatchNorm2d(192, eps=0.001, momentum=0.1, affine=True, track_running_stats=True)\n",
       "        )\n",
       "        (branch7x7_1): BasicConv2d(\n",
       "          (conv): Conv2d(768, 160, kernel_size=(1, 1), stride=(1, 1), bias=False)\n",
       "          (bn): BatchNorm2d(160, eps=0.001, momentum=0.1, affine=True, track_running_stats=True)\n",
       "        )\n",
       "        (branch7x7_2): BasicConv2d(\n",
       "          (conv): Conv2d(160, 160, kernel_size=(1, 7), stride=(1, 1), padding=(0, 3), bias=False)\n",
       "          (bn): BatchNorm2d(160, eps=0.001, momentum=0.1, affine=True, track_running_stats=True)\n",
       "        )\n",
       "        (branch7x7_3): BasicConv2d(\n",
       "          (conv): Conv2d(160, 192, kernel_size=(7, 1), stride=(1, 1), padding=(3, 0), bias=False)\n",
       "          (bn): BatchNorm2d(192, eps=0.001, momentum=0.1, affine=True, track_running_stats=True)\n",
       "        )\n",
       "        (branch7x7dbl_1): BasicConv2d(\n",
       "          (conv): Conv2d(768, 160, kernel_size=(1, 1), stride=(1, 1), bias=False)\n",
       "          (bn): BatchNorm2d(160, eps=0.001, momentum=0.1, affine=True, track_running_stats=True)\n",
       "        )\n",
       "        (branch7x7dbl_2): BasicConv2d(\n",
       "          (conv): Conv2d(160, 160, kernel_size=(7, 1), stride=(1, 1), padding=(3, 0), bias=False)\n",
       "          (bn): BatchNorm2d(160, eps=0.001, momentum=0.1, affine=True, track_running_stats=True)\n",
       "        )\n",
       "        (branch7x7dbl_3): BasicConv2d(\n",
       "          (conv): Conv2d(160, 160, kernel_size=(1, 7), stride=(1, 1), padding=(0, 3), bias=False)\n",
       "          (bn): BatchNorm2d(160, eps=0.001, momentum=0.1, affine=True, track_running_stats=True)\n",
       "        )\n",
       "        (branch7x7dbl_4): BasicConv2d(\n",
       "          (conv): Conv2d(160, 160, kernel_size=(7, 1), stride=(1, 1), padding=(3, 0), bias=False)\n",
       "          (bn): BatchNorm2d(160, eps=0.001, momentum=0.1, affine=True, track_running_stats=True)\n",
       "        )\n",
       "        (branch7x7dbl_5): BasicConv2d(\n",
       "          (conv): Conv2d(160, 192, kernel_size=(1, 7), stride=(1, 1), padding=(0, 3), bias=False)\n",
       "          (bn): BatchNorm2d(192, eps=0.001, momentum=0.1, affine=True, track_running_stats=True)\n",
       "        )\n",
       "        (branch_pool): BasicConv2d(\n",
       "          (conv): Conv2d(768, 192, kernel_size=(1, 1), stride=(1, 1), bias=False)\n",
       "          (bn): BatchNorm2d(192, eps=0.001, momentum=0.1, affine=True, track_running_stats=True)\n",
       "        )\n",
       "      )\n",
       "      (7): FIDInceptionC(\n",
       "        (branch1x1): BasicConv2d(\n",
       "          (conv): Conv2d(768, 192, kernel_size=(1, 1), stride=(1, 1), bias=False)\n",
       "          (bn): BatchNorm2d(192, eps=0.001, momentum=0.1, affine=True, track_running_stats=True)\n",
       "        )\n",
       "        (branch7x7_1): BasicConv2d(\n",
       "          (conv): Conv2d(768, 192, kernel_size=(1, 1), stride=(1, 1), bias=False)\n",
       "          (bn): BatchNorm2d(192, eps=0.001, momentum=0.1, affine=True, track_running_stats=True)\n",
       "        )\n",
       "        (branch7x7_2): BasicConv2d(\n",
       "          (conv): Conv2d(192, 192, kernel_size=(1, 7), stride=(1, 1), padding=(0, 3), bias=False)\n",
       "          (bn): BatchNorm2d(192, eps=0.001, momentum=0.1, affine=True, track_running_stats=True)\n",
       "        )\n",
       "        (branch7x7_3): BasicConv2d(\n",
       "          (conv): Conv2d(192, 192, kernel_size=(7, 1), stride=(1, 1), padding=(3, 0), bias=False)\n",
       "          (bn): BatchNorm2d(192, eps=0.001, momentum=0.1, affine=True, track_running_stats=True)\n",
       "        )\n",
       "        (branch7x7dbl_1): BasicConv2d(\n",
       "          (conv): Conv2d(768, 192, kernel_size=(1, 1), stride=(1, 1), bias=False)\n",
       "          (bn): BatchNorm2d(192, eps=0.001, momentum=0.1, affine=True, track_running_stats=True)\n",
       "        )\n",
       "        (branch7x7dbl_2): BasicConv2d(\n",
       "          (conv): Conv2d(192, 192, kernel_size=(7, 1), stride=(1, 1), padding=(3, 0), bias=False)\n",
       "          (bn): BatchNorm2d(192, eps=0.001, momentum=0.1, affine=True, track_running_stats=True)\n",
       "        )\n",
       "        (branch7x7dbl_3): BasicConv2d(\n",
       "          (conv): Conv2d(192, 192, kernel_size=(1, 7), stride=(1, 1), padding=(0, 3), bias=False)\n",
       "          (bn): BatchNorm2d(192, eps=0.001, momentum=0.1, affine=True, track_running_stats=True)\n",
       "        )\n",
       "        (branch7x7dbl_4): BasicConv2d(\n",
       "          (conv): Conv2d(192, 192, kernel_size=(7, 1), stride=(1, 1), padding=(3, 0), bias=False)\n",
       "          (bn): BatchNorm2d(192, eps=0.001, momentum=0.1, affine=True, track_running_stats=True)\n",
       "        )\n",
       "        (branch7x7dbl_5): BasicConv2d(\n",
       "          (conv): Conv2d(192, 192, kernel_size=(1, 7), stride=(1, 1), padding=(0, 3), bias=False)\n",
       "          (bn): BatchNorm2d(192, eps=0.001, momentum=0.1, affine=True, track_running_stats=True)\n",
       "        )\n",
       "        (branch_pool): BasicConv2d(\n",
       "          (conv): Conv2d(768, 192, kernel_size=(1, 1), stride=(1, 1), bias=False)\n",
       "          (bn): BatchNorm2d(192, eps=0.001, momentum=0.1, affine=True, track_running_stats=True)\n",
       "        )\n",
       "      )\n",
       "    )\n",
       "    (3): Sequential(\n",
       "      (0): InceptionD(\n",
       "        (branch3x3_1): BasicConv2d(\n",
       "          (conv): Conv2d(768, 192, kernel_size=(1, 1), stride=(1, 1), bias=False)\n",
       "          (bn): BatchNorm2d(192, eps=0.001, momentum=0.1, affine=True, track_running_stats=True)\n",
       "        )\n",
       "        (branch3x3_2): BasicConv2d(\n",
       "          (conv): Conv2d(192, 320, kernel_size=(3, 3), stride=(2, 2), bias=False)\n",
       "          (bn): BatchNorm2d(320, eps=0.001, momentum=0.1, affine=True, track_running_stats=True)\n",
       "        )\n",
       "        (branch7x7x3_1): BasicConv2d(\n",
       "          (conv): Conv2d(768, 192, kernel_size=(1, 1), stride=(1, 1), bias=False)\n",
       "          (bn): BatchNorm2d(192, eps=0.001, momentum=0.1, affine=True, track_running_stats=True)\n",
       "        )\n",
       "        (branch7x7x3_2): BasicConv2d(\n",
       "          (conv): Conv2d(192, 192, kernel_size=(1, 7), stride=(1, 1), padding=(0, 3), bias=False)\n",
       "          (bn): BatchNorm2d(192, eps=0.001, momentum=0.1, affine=True, track_running_stats=True)\n",
       "        )\n",
       "        (branch7x7x3_3): BasicConv2d(\n",
       "          (conv): Conv2d(192, 192, kernel_size=(7, 1), stride=(1, 1), padding=(3, 0), bias=False)\n",
       "          (bn): BatchNorm2d(192, eps=0.001, momentum=0.1, affine=True, track_running_stats=True)\n",
       "        )\n",
       "        (branch7x7x3_4): BasicConv2d(\n",
       "          (conv): Conv2d(192, 192, kernel_size=(3, 3), stride=(2, 2), bias=False)\n",
       "          (bn): BatchNorm2d(192, eps=0.001, momentum=0.1, affine=True, track_running_stats=True)\n",
       "        )\n",
       "      )\n",
       "      (1): FIDInceptionE_1(\n",
       "        (branch1x1): BasicConv2d(\n",
       "          (conv): Conv2d(1280, 320, kernel_size=(1, 1), stride=(1, 1), bias=False)\n",
       "          (bn): BatchNorm2d(320, eps=0.001, momentum=0.1, affine=True, track_running_stats=True)\n",
       "        )\n",
       "        (branch3x3_1): BasicConv2d(\n",
       "          (conv): Conv2d(1280, 384, kernel_size=(1, 1), stride=(1, 1), bias=False)\n",
       "          (bn): BatchNorm2d(384, eps=0.001, momentum=0.1, affine=True, track_running_stats=True)\n",
       "        )\n",
       "        (branch3x3_2a): BasicConv2d(\n",
       "          (conv): Conv2d(384, 384, kernel_size=(1, 3), stride=(1, 1), padding=(0, 1), bias=False)\n",
       "          (bn): BatchNorm2d(384, eps=0.001, momentum=0.1, affine=True, track_running_stats=True)\n",
       "        )\n",
       "        (branch3x3_2b): BasicConv2d(\n",
       "          (conv): Conv2d(384, 384, kernel_size=(3, 1), stride=(1, 1), padding=(1, 0), bias=False)\n",
       "          (bn): BatchNorm2d(384, eps=0.001, momentum=0.1, affine=True, track_running_stats=True)\n",
       "        )\n",
       "        (branch3x3dbl_1): BasicConv2d(\n",
       "          (conv): Conv2d(1280, 448, kernel_size=(1, 1), stride=(1, 1), bias=False)\n",
       "          (bn): BatchNorm2d(448, eps=0.001, momentum=0.1, affine=True, track_running_stats=True)\n",
       "        )\n",
       "        (branch3x3dbl_2): BasicConv2d(\n",
       "          (conv): Conv2d(448, 384, kernel_size=(3, 3), stride=(1, 1), padding=(1, 1), bias=False)\n",
       "          (bn): BatchNorm2d(384, eps=0.001, momentum=0.1, affine=True, track_running_stats=True)\n",
       "        )\n",
       "        (branch3x3dbl_3a): BasicConv2d(\n",
       "          (conv): Conv2d(384, 384, kernel_size=(1, 3), stride=(1, 1), padding=(0, 1), bias=False)\n",
       "          (bn): BatchNorm2d(384, eps=0.001, momentum=0.1, affine=True, track_running_stats=True)\n",
       "        )\n",
       "        (branch3x3dbl_3b): BasicConv2d(\n",
       "          (conv): Conv2d(384, 384, kernel_size=(3, 1), stride=(1, 1), padding=(1, 0), bias=False)\n",
       "          (bn): BatchNorm2d(384, eps=0.001, momentum=0.1, affine=True, track_running_stats=True)\n",
       "        )\n",
       "        (branch_pool): BasicConv2d(\n",
       "          (conv): Conv2d(1280, 192, kernel_size=(1, 1), stride=(1, 1), bias=False)\n",
       "          (bn): BatchNorm2d(192, eps=0.001, momentum=0.1, affine=True, track_running_stats=True)\n",
       "        )\n",
       "      )\n",
       "      (2): FIDInceptionE_2(\n",
       "        (branch1x1): BasicConv2d(\n",
       "          (conv): Conv2d(2048, 320, kernel_size=(1, 1), stride=(1, 1), bias=False)\n",
       "          (bn): BatchNorm2d(320, eps=0.001, momentum=0.1, affine=True, track_running_stats=True)\n",
       "        )\n",
       "        (branch3x3_1): BasicConv2d(\n",
       "          (conv): Conv2d(2048, 384, kernel_size=(1, 1), stride=(1, 1), bias=False)\n",
       "          (bn): BatchNorm2d(384, eps=0.001, momentum=0.1, affine=True, track_running_stats=True)\n",
       "        )\n",
       "        (branch3x3_2a): BasicConv2d(\n",
       "          (conv): Conv2d(384, 384, kernel_size=(1, 3), stride=(1, 1), padding=(0, 1), bias=False)\n",
       "          (bn): BatchNorm2d(384, eps=0.001, momentum=0.1, affine=True, track_running_stats=True)\n",
       "        )\n",
       "        (branch3x3_2b): BasicConv2d(\n",
       "          (conv): Conv2d(384, 384, kernel_size=(3, 1), stride=(1, 1), padding=(1, 0), bias=False)\n",
       "          (bn): BatchNorm2d(384, eps=0.001, momentum=0.1, affine=True, track_running_stats=True)\n",
       "        )\n",
       "        (branch3x3dbl_1): BasicConv2d(\n",
       "          (conv): Conv2d(2048, 448, kernel_size=(1, 1), stride=(1, 1), bias=False)\n",
       "          (bn): BatchNorm2d(448, eps=0.001, momentum=0.1, affine=True, track_running_stats=True)\n",
       "        )\n",
       "        (branch3x3dbl_2): BasicConv2d(\n",
       "          (conv): Conv2d(448, 384, kernel_size=(3, 3), stride=(1, 1), padding=(1, 1), bias=False)\n",
       "          (bn): BatchNorm2d(384, eps=0.001, momentum=0.1, affine=True, track_running_stats=True)\n",
       "        )\n",
       "        (branch3x3dbl_3a): BasicConv2d(\n",
       "          (conv): Conv2d(384, 384, kernel_size=(1, 3), stride=(1, 1), padding=(0, 1), bias=False)\n",
       "          (bn): BatchNorm2d(384, eps=0.001, momentum=0.1, affine=True, track_running_stats=True)\n",
       "        )\n",
       "        (branch3x3dbl_3b): BasicConv2d(\n",
       "          (conv): Conv2d(384, 384, kernel_size=(3, 1), stride=(1, 1), padding=(1, 0), bias=False)\n",
       "          (bn): BatchNorm2d(384, eps=0.001, momentum=0.1, affine=True, track_running_stats=True)\n",
       "        )\n",
       "        (branch_pool): BasicConv2d(\n",
       "          (conv): Conv2d(2048, 192, kernel_size=(1, 1), stride=(1, 1), bias=False)\n",
       "          (bn): BatchNorm2d(192, eps=0.001, momentum=0.1, affine=True, track_running_stats=True)\n",
       "        )\n",
       "      )\n",
       "      (3): AdaptiveAvgPool2d(output_size=(1, 1))\n",
       "    )\n",
       "  )\n",
       ")"
      ]
     },
     "execution_count": 3,
     "metadata": {},
     "output_type": "execute_result"
    }
   ],
   "source": [
    "model = fd.eval.fid.load_inception_model(dim=2048, device='cuda:1')\n",
    "model"
   ]
  },
  {
   "cell_type": "code",
   "execution_count": null,
   "metadata": {},
   "outputs": [],
   "source": []
  },
  {
   "cell_type": "code",
   "execution_count": null,
   "metadata": {},
   "outputs": [],
   "source": []
  },
  {
   "cell_type": "code",
   "execution_count": 8,
   "metadata": {},
   "outputs": [],
   "source": [
    "B, D, S = 10, 12, 16\n",
    "C, H, W = 3, 8, 8\n",
    "G, K, M = 1, 6, 32"
   ]
  },
  {
   "cell_type": "code",
   "execution_count": 9,
   "metadata": {},
   "outputs": [],
   "source": [
    "w = torch.empty(D,D)\n",
    "torch.nn.init.kaiming_normal_(w)\n",
    "pass"
   ]
  },
  {
   "cell_type": "code",
   "execution_count": 10,
   "metadata": {},
   "outputs": [
    {
     "data": {
      "application/javascript": [
       "/* Put everything inside the global mpl namespace */\n",
       "window.mpl = {};\n",
       "\n",
       "\n",
       "mpl.get_websocket_type = function() {\n",
       "    if (typeof(WebSocket) !== 'undefined') {\n",
       "        return WebSocket;\n",
       "    } else if (typeof(MozWebSocket) !== 'undefined') {\n",
       "        return MozWebSocket;\n",
       "    } else {\n",
       "        alert('Your browser does not have WebSocket support. ' +\n",
       "              'Please try Chrome, Safari or Firefox ≥ 6. ' +\n",
       "              'Firefox 4 and 5 are also supported but you ' +\n",
       "              'have to enable WebSockets in about:config.');\n",
       "    };\n",
       "}\n",
       "\n",
       "mpl.figure = function(figure_id, websocket, ondownload, parent_element) {\n",
       "    this.id = figure_id;\n",
       "\n",
       "    this.ws = websocket;\n",
       "\n",
       "    this.supports_binary = (this.ws.binaryType != undefined);\n",
       "\n",
       "    if (!this.supports_binary) {\n",
       "        var warnings = document.getElementById(\"mpl-warnings\");\n",
       "        if (warnings) {\n",
       "            warnings.style.display = 'block';\n",
       "            warnings.textContent = (\n",
       "                \"This browser does not support binary websocket messages. \" +\n",
       "                    \"Performance may be slow.\");\n",
       "        }\n",
       "    }\n",
       "\n",
       "    this.imageObj = new Image();\n",
       "\n",
       "    this.context = undefined;\n",
       "    this.message = undefined;\n",
       "    this.canvas = undefined;\n",
       "    this.rubberband_canvas = undefined;\n",
       "    this.rubberband_context = undefined;\n",
       "    this.format_dropdown = undefined;\n",
       "\n",
       "    this.image_mode = 'full';\n",
       "\n",
       "    this.root = $('<div/>');\n",
       "    this._root_extra_style(this.root)\n",
       "    this.root.attr('style', 'display: inline-block');\n",
       "\n",
       "    $(parent_element).append(this.root);\n",
       "\n",
       "    this._init_header(this);\n",
       "    this._init_canvas(this);\n",
       "    this._init_toolbar(this);\n",
       "\n",
       "    var fig = this;\n",
       "\n",
       "    this.waiting = false;\n",
       "\n",
       "    this.ws.onopen =  function () {\n",
       "            fig.send_message(\"supports_binary\", {value: fig.supports_binary});\n",
       "            fig.send_message(\"send_image_mode\", {});\n",
       "            if (mpl.ratio != 1) {\n",
       "                fig.send_message(\"set_dpi_ratio\", {'dpi_ratio': mpl.ratio});\n",
       "            }\n",
       "            fig.send_message(\"refresh\", {});\n",
       "        }\n",
       "\n",
       "    this.imageObj.onload = function() {\n",
       "            if (fig.image_mode == 'full') {\n",
       "                // Full images could contain transparency (where diff images\n",
       "                // almost always do), so we need to clear the canvas so that\n",
       "                // there is no ghosting.\n",
       "                fig.context.clearRect(0, 0, fig.canvas.width, fig.canvas.height);\n",
       "            }\n",
       "            fig.context.drawImage(fig.imageObj, 0, 0);\n",
       "        };\n",
       "\n",
       "    this.imageObj.onunload = function() {\n",
       "        fig.ws.close();\n",
       "    }\n",
       "\n",
       "    this.ws.onmessage = this._make_on_message_function(this);\n",
       "\n",
       "    this.ondownload = ondownload;\n",
       "}\n",
       "\n",
       "mpl.figure.prototype._init_header = function() {\n",
       "    var titlebar = $(\n",
       "        '<div class=\"ui-dialog-titlebar ui-widget-header ui-corner-all ' +\n",
       "        'ui-helper-clearfix\"/>');\n",
       "    var titletext = $(\n",
       "        '<div class=\"ui-dialog-title\" style=\"width: 100%; ' +\n",
       "        'text-align: center; padding: 3px;\"/>');\n",
       "    titlebar.append(titletext)\n",
       "    this.root.append(titlebar);\n",
       "    this.header = titletext[0];\n",
       "}\n",
       "\n",
       "\n",
       "\n",
       "mpl.figure.prototype._canvas_extra_style = function(canvas_div) {\n",
       "\n",
       "}\n",
       "\n",
       "\n",
       "mpl.figure.prototype._root_extra_style = function(canvas_div) {\n",
       "\n",
       "}\n",
       "\n",
       "mpl.figure.prototype._init_canvas = function() {\n",
       "    var fig = this;\n",
       "\n",
       "    var canvas_div = $('<div/>');\n",
       "\n",
       "    canvas_div.attr('style', 'position: relative; clear: both; outline: 0');\n",
       "\n",
       "    function canvas_keyboard_event(event) {\n",
       "        return fig.key_event(event, event['data']);\n",
       "    }\n",
       "\n",
       "    canvas_div.keydown('key_press', canvas_keyboard_event);\n",
       "    canvas_div.keyup('key_release', canvas_keyboard_event);\n",
       "    this.canvas_div = canvas_div\n",
       "    this._canvas_extra_style(canvas_div)\n",
       "    this.root.append(canvas_div);\n",
       "\n",
       "    var canvas = $('<canvas/>');\n",
       "    canvas.addClass('mpl-canvas');\n",
       "    canvas.attr('style', \"left: 0; top: 0; z-index: 0; outline: 0\")\n",
       "\n",
       "    this.canvas = canvas[0];\n",
       "    this.context = canvas[0].getContext(\"2d\");\n",
       "\n",
       "    var backingStore = this.context.backingStorePixelRatio ||\n",
       "\tthis.context.webkitBackingStorePixelRatio ||\n",
       "\tthis.context.mozBackingStorePixelRatio ||\n",
       "\tthis.context.msBackingStorePixelRatio ||\n",
       "\tthis.context.oBackingStorePixelRatio ||\n",
       "\tthis.context.backingStorePixelRatio || 1;\n",
       "\n",
       "    mpl.ratio = (window.devicePixelRatio || 1) / backingStore;\n",
       "\n",
       "    var rubberband = $('<canvas/>');\n",
       "    rubberband.attr('style', \"position: absolute; left: 0; top: 0; z-index: 1;\")\n",
       "\n",
       "    var pass_mouse_events = true;\n",
       "\n",
       "    canvas_div.resizable({\n",
       "        start: function(event, ui) {\n",
       "            pass_mouse_events = false;\n",
       "        },\n",
       "        resize: function(event, ui) {\n",
       "            fig.request_resize(ui.size.width, ui.size.height);\n",
       "        },\n",
       "        stop: function(event, ui) {\n",
       "            pass_mouse_events = true;\n",
       "            fig.request_resize(ui.size.width, ui.size.height);\n",
       "        },\n",
       "    });\n",
       "\n",
       "    function mouse_event_fn(event) {\n",
       "        if (pass_mouse_events)\n",
       "            return fig.mouse_event(event, event['data']);\n",
       "    }\n",
       "\n",
       "    rubberband.mousedown('button_press', mouse_event_fn);\n",
       "    rubberband.mouseup('button_release', mouse_event_fn);\n",
       "    // Throttle sequential mouse events to 1 every 20ms.\n",
       "    rubberband.mousemove('motion_notify', mouse_event_fn);\n",
       "\n",
       "    rubberband.mouseenter('figure_enter', mouse_event_fn);\n",
       "    rubberband.mouseleave('figure_leave', mouse_event_fn);\n",
       "\n",
       "    canvas_div.on(\"wheel\", function (event) {\n",
       "        event = event.originalEvent;\n",
       "        event['data'] = 'scroll'\n",
       "        if (event.deltaY < 0) {\n",
       "            event.step = 1;\n",
       "        } else {\n",
       "            event.step = -1;\n",
       "        }\n",
       "        mouse_event_fn(event);\n",
       "    });\n",
       "\n",
       "    canvas_div.append(canvas);\n",
       "    canvas_div.append(rubberband);\n",
       "\n",
       "    this.rubberband = rubberband;\n",
       "    this.rubberband_canvas = rubberband[0];\n",
       "    this.rubberband_context = rubberband[0].getContext(\"2d\");\n",
       "    this.rubberband_context.strokeStyle = \"#000000\";\n",
       "\n",
       "    this._resize_canvas = function(width, height) {\n",
       "        // Keep the size of the canvas, canvas container, and rubber band\n",
       "        // canvas in synch.\n",
       "        canvas_div.css('width', width)\n",
       "        canvas_div.css('height', height)\n",
       "\n",
       "        canvas.attr('width', width * mpl.ratio);\n",
       "        canvas.attr('height', height * mpl.ratio);\n",
       "        canvas.attr('style', 'width: ' + width + 'px; height: ' + height + 'px;');\n",
       "\n",
       "        rubberband.attr('width', width);\n",
       "        rubberband.attr('height', height);\n",
       "    }\n",
       "\n",
       "    // Set the figure to an initial 600x600px, this will subsequently be updated\n",
       "    // upon first draw.\n",
       "    this._resize_canvas(600, 600);\n",
       "\n",
       "    // Disable right mouse context menu.\n",
       "    $(this.rubberband_canvas).bind(\"contextmenu\",function(e){\n",
       "        return false;\n",
       "    });\n",
       "\n",
       "    function set_focus () {\n",
       "        canvas.focus();\n",
       "        canvas_div.focus();\n",
       "    }\n",
       "\n",
       "    window.setTimeout(set_focus, 100);\n",
       "}\n",
       "\n",
       "mpl.figure.prototype._init_toolbar = function() {\n",
       "    var fig = this;\n",
       "\n",
       "    var nav_element = $('<div/>');\n",
       "    nav_element.attr('style', 'width: 100%');\n",
       "    this.root.append(nav_element);\n",
       "\n",
       "    // Define a callback function for later on.\n",
       "    function toolbar_event(event) {\n",
       "        return fig.toolbar_button_onclick(event['data']);\n",
       "    }\n",
       "    function toolbar_mouse_event(event) {\n",
       "        return fig.toolbar_button_onmouseover(event['data']);\n",
       "    }\n",
       "\n",
       "    for(var toolbar_ind in mpl.toolbar_items) {\n",
       "        var name = mpl.toolbar_items[toolbar_ind][0];\n",
       "        var tooltip = mpl.toolbar_items[toolbar_ind][1];\n",
       "        var image = mpl.toolbar_items[toolbar_ind][2];\n",
       "        var method_name = mpl.toolbar_items[toolbar_ind][3];\n",
       "\n",
       "        if (!name) {\n",
       "            // put a spacer in here.\n",
       "            continue;\n",
       "        }\n",
       "        var button = $('<button/>');\n",
       "        button.addClass('ui-button ui-widget ui-state-default ui-corner-all ' +\n",
       "                        'ui-button-icon-only');\n",
       "        button.attr('role', 'button');\n",
       "        button.attr('aria-disabled', 'false');\n",
       "        button.click(method_name, toolbar_event);\n",
       "        button.mouseover(tooltip, toolbar_mouse_event);\n",
       "\n",
       "        var icon_img = $('<span/>');\n",
       "        icon_img.addClass('ui-button-icon-primary ui-icon');\n",
       "        icon_img.addClass(image);\n",
       "        icon_img.addClass('ui-corner-all');\n",
       "\n",
       "        var tooltip_span = $('<span/>');\n",
       "        tooltip_span.addClass('ui-button-text');\n",
       "        tooltip_span.html(tooltip);\n",
       "\n",
       "        button.append(icon_img);\n",
       "        button.append(tooltip_span);\n",
       "\n",
       "        nav_element.append(button);\n",
       "    }\n",
       "\n",
       "    var fmt_picker_span = $('<span/>');\n",
       "\n",
       "    var fmt_picker = $('<select/>');\n",
       "    fmt_picker.addClass('mpl-toolbar-option ui-widget ui-widget-content');\n",
       "    fmt_picker_span.append(fmt_picker);\n",
       "    nav_element.append(fmt_picker_span);\n",
       "    this.format_dropdown = fmt_picker[0];\n",
       "\n",
       "    for (var ind in mpl.extensions) {\n",
       "        var fmt = mpl.extensions[ind];\n",
       "        var option = $(\n",
       "            '<option/>', {selected: fmt === mpl.default_extension}).html(fmt);\n",
       "        fmt_picker.append(option);\n",
       "    }\n",
       "\n",
       "    // Add hover states to the ui-buttons\n",
       "    $( \".ui-button\" ).hover(\n",
       "        function() { $(this).addClass(\"ui-state-hover\");},\n",
       "        function() { $(this).removeClass(\"ui-state-hover\");}\n",
       "    );\n",
       "\n",
       "    var status_bar = $('<span class=\"mpl-message\"/>');\n",
       "    nav_element.append(status_bar);\n",
       "    this.message = status_bar[0];\n",
       "}\n",
       "\n",
       "mpl.figure.prototype.request_resize = function(x_pixels, y_pixels) {\n",
       "    // Request matplotlib to resize the figure. Matplotlib will then trigger a resize in the client,\n",
       "    // which will in turn request a refresh of the image.\n",
       "    this.send_message('resize', {'width': x_pixels, 'height': y_pixels});\n",
       "}\n",
       "\n",
       "mpl.figure.prototype.send_message = function(type, properties) {\n",
       "    properties['type'] = type;\n",
       "    properties['figure_id'] = this.id;\n",
       "    this.ws.send(JSON.stringify(properties));\n",
       "}\n",
       "\n",
       "mpl.figure.prototype.send_draw_message = function() {\n",
       "    if (!this.waiting) {\n",
       "        this.waiting = true;\n",
       "        this.ws.send(JSON.stringify({type: \"draw\", figure_id: this.id}));\n",
       "    }\n",
       "}\n",
       "\n",
       "\n",
       "mpl.figure.prototype.handle_save = function(fig, msg) {\n",
       "    var format_dropdown = fig.format_dropdown;\n",
       "    var format = format_dropdown.options[format_dropdown.selectedIndex].value;\n",
       "    fig.ondownload(fig, format);\n",
       "}\n",
       "\n",
       "\n",
       "mpl.figure.prototype.handle_resize = function(fig, msg) {\n",
       "    var size = msg['size'];\n",
       "    if (size[0] != fig.canvas.width || size[1] != fig.canvas.height) {\n",
       "        fig._resize_canvas(size[0], size[1]);\n",
       "        fig.send_message(\"refresh\", {});\n",
       "    };\n",
       "}\n",
       "\n",
       "mpl.figure.prototype.handle_rubberband = function(fig, msg) {\n",
       "    var x0 = msg['x0'] / mpl.ratio;\n",
       "    var y0 = (fig.canvas.height - msg['y0']) / mpl.ratio;\n",
       "    var x1 = msg['x1'] / mpl.ratio;\n",
       "    var y1 = (fig.canvas.height - msg['y1']) / mpl.ratio;\n",
       "    x0 = Math.floor(x0) + 0.5;\n",
       "    y0 = Math.floor(y0) + 0.5;\n",
       "    x1 = Math.floor(x1) + 0.5;\n",
       "    y1 = Math.floor(y1) + 0.5;\n",
       "    var min_x = Math.min(x0, x1);\n",
       "    var min_y = Math.min(y0, y1);\n",
       "    var width = Math.abs(x1 - x0);\n",
       "    var height = Math.abs(y1 - y0);\n",
       "\n",
       "    fig.rubberband_context.clearRect(\n",
       "        0, 0, fig.canvas.width / mpl.ratio, fig.canvas.height / mpl.ratio);\n",
       "\n",
       "    fig.rubberband_context.strokeRect(min_x, min_y, width, height);\n",
       "}\n",
       "\n",
       "mpl.figure.prototype.handle_figure_label = function(fig, msg) {\n",
       "    // Updates the figure title.\n",
       "    fig.header.textContent = msg['label'];\n",
       "}\n",
       "\n",
       "mpl.figure.prototype.handle_cursor = function(fig, msg) {\n",
       "    var cursor = msg['cursor'];\n",
       "    switch(cursor)\n",
       "    {\n",
       "    case 0:\n",
       "        cursor = 'pointer';\n",
       "        break;\n",
       "    case 1:\n",
       "        cursor = 'default';\n",
       "        break;\n",
       "    case 2:\n",
       "        cursor = 'crosshair';\n",
       "        break;\n",
       "    case 3:\n",
       "        cursor = 'move';\n",
       "        break;\n",
       "    }\n",
       "    fig.rubberband_canvas.style.cursor = cursor;\n",
       "}\n",
       "\n",
       "mpl.figure.prototype.handle_message = function(fig, msg) {\n",
       "    fig.message.textContent = msg['message'];\n",
       "}\n",
       "\n",
       "mpl.figure.prototype.handle_draw = function(fig, msg) {\n",
       "    // Request the server to send over a new figure.\n",
       "    fig.send_draw_message();\n",
       "}\n",
       "\n",
       "mpl.figure.prototype.handle_image_mode = function(fig, msg) {\n",
       "    fig.image_mode = msg['mode'];\n",
       "}\n",
       "\n",
       "mpl.figure.prototype.updated_canvas_event = function() {\n",
       "    // Called whenever the canvas gets updated.\n",
       "    this.send_message(\"ack\", {});\n",
       "}\n",
       "\n",
       "// A function to construct a web socket function for onmessage handling.\n",
       "// Called in the figure constructor.\n",
       "mpl.figure.prototype._make_on_message_function = function(fig) {\n",
       "    return function socket_on_message(evt) {\n",
       "        if (evt.data instanceof Blob) {\n",
       "            /* FIXME: We get \"Resource interpreted as Image but\n",
       "             * transferred with MIME type text/plain:\" errors on\n",
       "             * Chrome.  But how to set the MIME type?  It doesn't seem\n",
       "             * to be part of the websocket stream */\n",
       "            evt.data.type = \"image/png\";\n",
       "\n",
       "            /* Free the memory for the previous frames */\n",
       "            if (fig.imageObj.src) {\n",
       "                (window.URL || window.webkitURL).revokeObjectURL(\n",
       "                    fig.imageObj.src);\n",
       "            }\n",
       "\n",
       "            fig.imageObj.src = (window.URL || window.webkitURL).createObjectURL(\n",
       "                evt.data);\n",
       "            fig.updated_canvas_event();\n",
       "            fig.waiting = false;\n",
       "            return;\n",
       "        }\n",
       "        else if (typeof evt.data === 'string' && evt.data.slice(0, 21) == \"data:image/png;base64\") {\n",
       "            fig.imageObj.src = evt.data;\n",
       "            fig.updated_canvas_event();\n",
       "            fig.waiting = false;\n",
       "            return;\n",
       "        }\n",
       "\n",
       "        var msg = JSON.parse(evt.data);\n",
       "        var msg_type = msg['type'];\n",
       "\n",
       "        // Call the  \"handle_{type}\" callback, which takes\n",
       "        // the figure and JSON message as its only arguments.\n",
       "        try {\n",
       "            var callback = fig[\"handle_\" + msg_type];\n",
       "        } catch (e) {\n",
       "            console.log(\"No handler for the '\" + msg_type + \"' message type: \", msg);\n",
       "            return;\n",
       "        }\n",
       "\n",
       "        if (callback) {\n",
       "            try {\n",
       "                // console.log(\"Handling '\" + msg_type + \"' message: \", msg);\n",
       "                callback(fig, msg);\n",
       "            } catch (e) {\n",
       "                console.log(\"Exception inside the 'handler_\" + msg_type + \"' callback:\", e, e.stack, msg);\n",
       "            }\n",
       "        }\n",
       "    };\n",
       "}\n",
       "\n",
       "// from http://stackoverflow.com/questions/1114465/getting-mouse-location-in-canvas\n",
       "mpl.findpos = function(e) {\n",
       "    //this section is from http://www.quirksmode.org/js/events_properties.html\n",
       "    var targ;\n",
       "    if (!e)\n",
       "        e = window.event;\n",
       "    if (e.target)\n",
       "        targ = e.target;\n",
       "    else if (e.srcElement)\n",
       "        targ = e.srcElement;\n",
       "    if (targ.nodeType == 3) // defeat Safari bug\n",
       "        targ = targ.parentNode;\n",
       "\n",
       "    // jQuery normalizes the pageX and pageY\n",
       "    // pageX,Y are the mouse positions relative to the document\n",
       "    // offset() returns the position of the element relative to the document\n",
       "    var x = e.pageX - $(targ).offset().left;\n",
       "    var y = e.pageY - $(targ).offset().top;\n",
       "\n",
       "    return {\"x\": x, \"y\": y};\n",
       "};\n",
       "\n",
       "/*\n",
       " * return a copy of an object with only non-object keys\n",
       " * we need this to avoid circular references\n",
       " * http://stackoverflow.com/a/24161582/3208463\n",
       " */\n",
       "function simpleKeys (original) {\n",
       "  return Object.keys(original).reduce(function (obj, key) {\n",
       "    if (typeof original[key] !== 'object')\n",
       "        obj[key] = original[key]\n",
       "    return obj;\n",
       "  }, {});\n",
       "}\n",
       "\n",
       "mpl.figure.prototype.mouse_event = function(event, name) {\n",
       "    var canvas_pos = mpl.findpos(event)\n",
       "\n",
       "    if (name === 'button_press')\n",
       "    {\n",
       "        this.canvas.focus();\n",
       "        this.canvas_div.focus();\n",
       "    }\n",
       "\n",
       "    var x = canvas_pos.x * mpl.ratio;\n",
       "    var y = canvas_pos.y * mpl.ratio;\n",
       "\n",
       "    this.send_message(name, {x: x, y: y, button: event.button,\n",
       "                             step: event.step,\n",
       "                             guiEvent: simpleKeys(event)});\n",
       "\n",
       "    /* This prevents the web browser from automatically changing to\n",
       "     * the text insertion cursor when the button is pressed.  We want\n",
       "     * to control all of the cursor setting manually through the\n",
       "     * 'cursor' event from matplotlib */\n",
       "    event.preventDefault();\n",
       "    return false;\n",
       "}\n",
       "\n",
       "mpl.figure.prototype._key_event_extra = function(event, name) {\n",
       "    // Handle any extra behaviour associated with a key event\n",
       "}\n",
       "\n",
       "mpl.figure.prototype.key_event = function(event, name) {\n",
       "\n",
       "    // Prevent repeat events\n",
       "    if (name == 'key_press')\n",
       "    {\n",
       "        if (event.which === this._key)\n",
       "            return;\n",
       "        else\n",
       "            this._key = event.which;\n",
       "    }\n",
       "    if (name == 'key_release')\n",
       "        this._key = null;\n",
       "\n",
       "    var value = '';\n",
       "    if (event.ctrlKey && event.which != 17)\n",
       "        value += \"ctrl+\";\n",
       "    if (event.altKey && event.which != 18)\n",
       "        value += \"alt+\";\n",
       "    if (event.shiftKey && event.which != 16)\n",
       "        value += \"shift+\";\n",
       "\n",
       "    value += 'k';\n",
       "    value += event.which.toString();\n",
       "\n",
       "    this._key_event_extra(event, name);\n",
       "\n",
       "    this.send_message(name, {key: value,\n",
       "                             guiEvent: simpleKeys(event)});\n",
       "    return false;\n",
       "}\n",
       "\n",
       "mpl.figure.prototype.toolbar_button_onclick = function(name) {\n",
       "    if (name == 'download') {\n",
       "        this.handle_save(this, null);\n",
       "    } else {\n",
       "        this.send_message(\"toolbar_button\", {name: name});\n",
       "    }\n",
       "};\n",
       "\n",
       "mpl.figure.prototype.toolbar_button_onmouseover = function(tooltip) {\n",
       "    this.message.textContent = tooltip;\n",
       "};\n",
       "mpl.toolbar_items = [[\"Home\", \"Reset original view\", \"fa fa-home icon-home\", \"home\"], [\"Back\", \"Back to previous view\", \"fa fa-arrow-left icon-arrow-left\", \"back\"], [\"Forward\", \"Forward to next view\", \"fa fa-arrow-right icon-arrow-right\", \"forward\"], [\"\", \"\", \"\", \"\"], [\"Pan\", \"Pan axes with left mouse, zoom with right\", \"fa fa-arrows icon-move\", \"pan\"], [\"Zoom\", \"Zoom to rectangle\", \"fa fa-square-o icon-check-empty\", \"zoom\"], [\"\", \"\", \"\", \"\"], [\"Download\", \"Download plot\", \"fa fa-floppy-o icon-save\", \"download\"]];\n",
       "\n",
       "mpl.extensions = [\"eps\", \"jpeg\", \"pdf\", \"png\", \"ps\", \"raw\", \"svg\", \"tif\"];\n",
       "\n",
       "mpl.default_extension = \"png\";var comm_websocket_adapter = function(comm) {\n",
       "    // Create a \"websocket\"-like object which calls the given IPython comm\n",
       "    // object with the appropriate methods. Currently this is a non binary\n",
       "    // socket, so there is still some room for performance tuning.\n",
       "    var ws = {};\n",
       "\n",
       "    ws.close = function() {\n",
       "        comm.close()\n",
       "    };\n",
       "    ws.send = function(m) {\n",
       "        //console.log('sending', m);\n",
       "        comm.send(m);\n",
       "    };\n",
       "    // Register the callback with on_msg.\n",
       "    comm.on_msg(function(msg) {\n",
       "        //console.log('receiving', msg['content']['data'], msg);\n",
       "        // Pass the mpl event to the overridden (by mpl) onmessage function.\n",
       "        ws.onmessage(msg['content']['data'])\n",
       "    });\n",
       "    return ws;\n",
       "}\n",
       "\n",
       "mpl.mpl_figure_comm = function(comm, msg) {\n",
       "    // This is the function which gets called when the mpl process\n",
       "    // starts-up an IPython Comm through the \"matplotlib\" channel.\n",
       "\n",
       "    var id = msg.content.data.id;\n",
       "    // Get hold of the div created by the display call when the Comm\n",
       "    // socket was opened in Python.\n",
       "    var element = $(\"#\" + id);\n",
       "    var ws_proxy = comm_websocket_adapter(comm)\n",
       "\n",
       "    function ondownload(figure, format) {\n",
       "        window.open(figure.imageObj.src);\n",
       "    }\n",
       "\n",
       "    var fig = new mpl.figure(id, ws_proxy,\n",
       "                           ondownload,\n",
       "                           element.get(0));\n",
       "\n",
       "    // Call onopen now - mpl needs it, as it is assuming we've passed it a real\n",
       "    // web socket which is closed, not our websocket->open comm proxy.\n",
       "    ws_proxy.onopen();\n",
       "\n",
       "    fig.parent_element = element.get(0);\n",
       "    fig.cell_info = mpl.find_output_cell(\"<div id='\" + id + \"'></div>\");\n",
       "    if (!fig.cell_info) {\n",
       "        console.error(\"Failed to find cell for figure\", id, fig);\n",
       "        return;\n",
       "    }\n",
       "\n",
       "    var output_index = fig.cell_info[2]\n",
       "    var cell = fig.cell_info[0];\n",
       "\n",
       "};\n",
       "\n",
       "mpl.figure.prototype.handle_close = function(fig, msg) {\n",
       "    var width = fig.canvas.width/mpl.ratio\n",
       "    fig.root.unbind('remove')\n",
       "\n",
       "    // Update the output cell to use the data from the current canvas.\n",
       "    fig.push_to_output();\n",
       "    var dataURL = fig.canvas.toDataURL();\n",
       "    // Re-enable the keyboard manager in IPython - without this line, in FF,\n",
       "    // the notebook keyboard shortcuts fail.\n",
       "    IPython.keyboard_manager.enable()\n",
       "    $(fig.parent_element).html('<img src=\"' + dataURL + '\" width=\"' + width + '\">');\n",
       "    fig.close_ws(fig, msg);\n",
       "}\n",
       "\n",
       "mpl.figure.prototype.close_ws = function(fig, msg){\n",
       "    fig.send_message('closing', msg);\n",
       "    // fig.ws.close()\n",
       "}\n",
       "\n",
       "mpl.figure.prototype.push_to_output = function(remove_interactive) {\n",
       "    // Turn the data on the canvas into data in the output cell.\n",
       "    var width = this.canvas.width/mpl.ratio\n",
       "    var dataURL = this.canvas.toDataURL();\n",
       "    this.cell_info[1]['text/html'] = '<img src=\"' + dataURL + '\" width=\"' + width + '\">';\n",
       "}\n",
       "\n",
       "mpl.figure.prototype.updated_canvas_event = function() {\n",
       "    // Tell IPython that the notebook contents must change.\n",
       "    IPython.notebook.set_dirty(true);\n",
       "    this.send_message(\"ack\", {});\n",
       "    var fig = this;\n",
       "    // Wait a second, then push the new image to the DOM so\n",
       "    // that it is saved nicely (might be nice to debounce this).\n",
       "    setTimeout(function () { fig.push_to_output() }, 1000);\n",
       "}\n",
       "\n",
       "mpl.figure.prototype._init_toolbar = function() {\n",
       "    var fig = this;\n",
       "\n",
       "    var nav_element = $('<div/>');\n",
       "    nav_element.attr('style', 'width: 100%');\n",
       "    this.root.append(nav_element);\n",
       "\n",
       "    // Define a callback function for later on.\n",
       "    function toolbar_event(event) {\n",
       "        return fig.toolbar_button_onclick(event['data']);\n",
       "    }\n",
       "    function toolbar_mouse_event(event) {\n",
       "        return fig.toolbar_button_onmouseover(event['data']);\n",
       "    }\n",
       "\n",
       "    for(var toolbar_ind in mpl.toolbar_items){\n",
       "        var name = mpl.toolbar_items[toolbar_ind][0];\n",
       "        var tooltip = mpl.toolbar_items[toolbar_ind][1];\n",
       "        var image = mpl.toolbar_items[toolbar_ind][2];\n",
       "        var method_name = mpl.toolbar_items[toolbar_ind][3];\n",
       "\n",
       "        if (!name) { continue; };\n",
       "\n",
       "        var button = $('<button class=\"btn btn-default\" href=\"#\" title=\"' + name + '\"><i class=\"fa ' + image + ' fa-lg\"></i></button>');\n",
       "        button.click(method_name, toolbar_event);\n",
       "        button.mouseover(tooltip, toolbar_mouse_event);\n",
       "        nav_element.append(button);\n",
       "    }\n",
       "\n",
       "    // Add the status bar.\n",
       "    var status_bar = $('<span class=\"mpl-message\" style=\"text-align:right; float: right;\"/>');\n",
       "    nav_element.append(status_bar);\n",
       "    this.message = status_bar[0];\n",
       "\n",
       "    // Add the close button to the window.\n",
       "    var buttongrp = $('<div class=\"btn-group inline pull-right\"></div>');\n",
       "    var button = $('<button class=\"btn btn-mini btn-primary\" href=\"#\" title=\"Stop Interaction\"><i class=\"fa fa-power-off icon-remove icon-large\"></i></button>');\n",
       "    button.click(function (evt) { fig.handle_close(fig, {}); } );\n",
       "    button.mouseover('Stop Interaction', toolbar_mouse_event);\n",
       "    buttongrp.append(button);\n",
       "    var titlebar = this.root.find($('.ui-dialog-titlebar'));\n",
       "    titlebar.prepend(buttongrp);\n",
       "}\n",
       "\n",
       "mpl.figure.prototype._root_extra_style = function(el){\n",
       "    var fig = this\n",
       "    el.on(\"remove\", function(){\n",
       "\tfig.close_ws(fig, {});\n",
       "    });\n",
       "}\n",
       "\n",
       "mpl.figure.prototype._canvas_extra_style = function(el){\n",
       "    // this is important to make the div 'focusable\n",
       "    el.attr('tabindex', 0)\n",
       "    // reach out to IPython and tell the keyboard manager to turn it's self\n",
       "    // off when our div gets focus\n",
       "\n",
       "    // location in version 3\n",
       "    if (IPython.notebook.keyboard_manager) {\n",
       "        IPython.notebook.keyboard_manager.register_events(el);\n",
       "    }\n",
       "    else {\n",
       "        // location in version 2\n",
       "        IPython.keyboard_manager.register_events(el);\n",
       "    }\n",
       "\n",
       "}\n",
       "\n",
       "mpl.figure.prototype._key_event_extra = function(event, name) {\n",
       "    var manager = IPython.notebook.keyboard_manager;\n",
       "    if (!manager)\n",
       "        manager = IPython.keyboard_manager;\n",
       "\n",
       "    // Check for shift+enter\n",
       "    if (event.shiftKey && event.which == 13) {\n",
       "        this.canvas_div.blur();\n",
       "        event.shiftKey = false;\n",
       "        // Send a \"J\" for go to next cell\n",
       "        event.which = 74;\n",
       "        event.keyCode = 74;\n",
       "        manager.command_mode();\n",
       "        manager.handle_keydown(event);\n",
       "    }\n",
       "}\n",
       "\n",
       "mpl.figure.prototype.handle_save = function(fig, msg) {\n",
       "    fig.ondownload(fig, null);\n",
       "}\n",
       "\n",
       "\n",
       "mpl.find_output_cell = function(html_output) {\n",
       "    // Return the cell and output element which can be found *uniquely* in the notebook.\n",
       "    // Note - this is a bit hacky, but it is done because the \"notebook_saving.Notebook\"\n",
       "    // IPython event is triggered only after the cells have been serialised, which for\n",
       "    // our purposes (turning an active figure into a static one), is too late.\n",
       "    var cells = IPython.notebook.get_cells();\n",
       "    var ncells = cells.length;\n",
       "    for (var i=0; i<ncells; i++) {\n",
       "        var cell = cells[i];\n",
       "        if (cell.cell_type === 'code'){\n",
       "            for (var j=0; j<cell.output_area.outputs.length; j++) {\n",
       "                var data = cell.output_area.outputs[j];\n",
       "                if (data.data) {\n",
       "                    // IPython >= 3 moved mimebundle to data attribute of output\n",
       "                    data = data.data;\n",
       "                }\n",
       "                if (data['text/html'] == html_output) {\n",
       "                    return [cell, data, j];\n",
       "                }\n",
       "            }\n",
       "        }\n",
       "    }\n",
       "}\n",
       "\n",
       "// Register the function which deals with the matplotlib target/channel.\n",
       "// The kernel may be null if the page has been refreshed.\n",
       "if (IPython.notebook.kernel != null) {\n",
       "    IPython.notebook.kernel.comm_manager.register_target('matplotlib', mpl.mpl_figure_comm);\n",
       "}\n"
      ],
      "text/plain": [
       "<IPython.core.display.Javascript object>"
      ]
     },
     "metadata": {},
     "output_type": "display_data"
    },
    {
     "data": {
      "text/html": [
       "<img src=\"data:image/png;base64,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\" width=\"640\">"
      ],
      "text/plain": [
       "<IPython.core.display.HTML object>"
      ]
     },
     "metadata": {},
     "output_type": "display_data"
    },
    {
     "data": {
      "text/plain": [
       "(array([ 6., 11., 14., 35., 24., 27., 13.,  8.,  3.,  3.]),\n",
       " array([-1.0047283 , -0.7783692 , -0.55201006, -0.3256509 , -0.09929176,  0.12706739,  0.35342652,  0.57978565,\n",
       "         0.80614483,  1.032504  ,  1.2588631 ], dtype=float32),\n",
       " <a list of 10 Patch objects>)"
      ]
     },
     "execution_count": 10,
     "metadata": {},
     "output_type": "execute_result"
    }
   ],
   "source": [
    "plt.figure()\n",
    "plt.hist(w.view(-1).numpy())"
   ]
  },
  {
   "cell_type": "code",
   "execution_count": 166,
   "metadata": {},
   "outputs": [],
   "source": [
    "class InvDense(fd.Invertible, fd.Model):\n",
    "    def __init__(self, dim, bias=True, w=None, b=None):\n",
    "        super().__init__(dim, dim)\n",
    "        \n",
    "        if w is None:\n",
    "            i = 0\n",
    "            while w is None:\n",
    "                w = torch.empty(dim, dim)\n",
    "                nn.init.kaiming_normal_(w)\n",
    "                if i < 20 and torch.det(w) < 0.1:\n",
    "                    w = None\n",
    "                    i += 1\n",
    "        \n",
    "        lu, p = torch.lu(w)\n",
    "        print(p)\n",
    "        \n",
    "        self.pivots = p\n",
    "        self.lu = nn.Parameter(lu, requires_grad=True)\n",
    "    \n",
    "        if bias:\n",
    "            if b is None:\n",
    "                b = torch.randn(1, dim) / np.sqrt(dim)\n",
    "            self.b = nn.Parameter(b.view(1, dim), requires_grad=True)\n",
    "        else:\n",
    "            self.b = None\n",
    "    \n",
    "    def extra_repr(self):\n",
    "        return 'dim={}, bias={}'.format(self.lu.shape[0], self.b is not None)\n",
    "    \n",
    "    def forward(self, x):\n",
    "        p, l, u = torch.lu_unpack(self.lu, self.pivots)\n",
    "        y = x @ u.t() @ l.t() @ p.t()\n",
    "#         y = x @ torch.triu(u).t() @ torch.tril(l).t() @ p.t()\n",
    "        if self.b is not None:\n",
    "            y = y + self.b\n",
    "        return y\n",
    "    \n",
    "    def inverse(self, y): # ! can't backprop through inverse !\n",
    "        if self.b is not None:\n",
    "            y = y - b\n",
    "        return torch.lu_solve(y.t(), self.lu.data, self.pivots).t()"
   ]
  },
  {
   "cell_type": "code",
   "execution_count": 167,
   "metadata": {},
   "outputs": [],
   "source": [
    "x = torch.randn(B,D)\n",
    "w = torch.empty(D,D)\n",
    "nn.init.kaiming_normal_(w)\n",
    "b = torch.randn(1, D)\n",
    "pass"
   ]
  },
  {
   "cell_type": "code",
   "execution_count": 168,
   "metadata": {},
   "outputs": [
    {
     "name": "stdout",
     "output_type": "stream",
     "text": [
      "tensor([8, 5, 6, 5, 6, 8, 7, 8], dtype=torch.int32)\n"
     ]
    },
    {
     "data": {
      "text/plain": [
       "InvDense(dim=8, bias=True)"
      ]
     },
     "execution_count": 168,
     "metadata": {},
     "output_type": "execute_result"
    }
   ],
   "source": [
    "layer = InvDense(D, w=w, b=b, bias=True)\n",
    "layer"
   ]
  },
  {
   "cell_type": "code",
   "execution_count": 169,
   "metadata": {},
   "outputs": [
    {
     "data": {
      "text/plain": [
       "(torch.Size([128, 8]), torch.Size([128, 8]))"
      ]
     },
     "execution_count": 169,
     "metadata": {},
     "output_type": "execute_result"
    }
   ],
   "source": [
    "out = layer(x)\n",
    "y = x @ w.t() + b\n",
    "out.shape, y.shape"
   ]
  },
  {
   "cell_type": "code",
   "execution_count": 170,
   "metadata": {},
   "outputs": [
    {
     "data": {
      "text/plain": [
       "tensor([[[ 2.4935, -1.9586,  0.7936,  ...,  1.0336,  1.5152, -1.7406],\n",
       "         [ 2.4935, -1.9586,  0.7936,  ...,  1.0336,  1.5152, -1.7406]],\n",
       "\n",
       "        [[ 3.1825, -0.7223,  1.2313,  ...,  1.6592,  0.6141, -2.6652],\n",
       "         [ 3.1825, -0.7223,  1.2313,  ...,  1.6592,  0.6141, -2.6652]],\n",
       "\n",
       "        [[-1.9942,  0.2054,  1.4162,  ...,  0.6723, -0.7112, -1.6134],\n",
       "         [-1.9942,  0.2054,  1.4162,  ...,  0.6723, -0.7112, -1.6134]],\n",
       "\n",
       "        ...,\n",
       "\n",
       "        [[ 0.9491, -1.0507,  2.2159,  ...,  1.0525, -1.4546,  1.4061],\n",
       "         [ 0.9491, -1.0507,  2.2159,  ...,  1.0525, -1.4546,  1.4061]],\n",
       "\n",
       "        [[ 0.1673, -0.9416,  1.9137,  ...,  0.9972, -1.2497, -2.3593],\n",
       "         [ 0.1673, -0.9416,  1.9137,  ...,  0.9972, -1.2497, -2.3593]],\n",
       "\n",
       "        [[-0.4341, -0.5419,  0.6284,  ...,  2.4143,  1.5630, -2.3134],\n",
       "         [-0.4341, -0.5419,  0.6284,  ...,  2.4143,  1.5630, -2.3134]]],\n",
       "       grad_fn=<StackBackward>)"
      ]
     },
     "execution_count": 170,
     "metadata": {},
     "output_type": "execute_result"
    }
   ],
   "source": [
    "torch.stack([out, y], dim=1)"
   ]
  },
  {
   "cell_type": "code",
   "execution_count": 171,
   "metadata": {},
   "outputs": [
    {
     "data": {
      "text/plain": [
       "tensor([[[ 0.1270, -0.0876, -0.8695,  ...,  1.0812,  1.5532, -1.7208],\n",
       "         [ 0.1270, -0.0876, -0.8695,  ...,  1.0810,  1.5533, -1.7206]],\n",
       "\n",
       "        [[ 0.3963,  0.2314, -0.1605,  ...,  0.5637,  0.7447, -2.3959],\n",
       "         [ 0.3959,  0.2319, -0.1610,  ...,  0.5608,  0.7468, -2.3937]],\n",
       "\n",
       "        [[ 1.7972, -0.6878, -0.2402,  ...,  0.5269, -1.4953, -0.5031],\n",
       "         [ 1.7969, -0.6874, -0.2406,  ...,  0.5246, -1.4936, -0.5014]],\n",
       "\n",
       "        ...,\n",
       "\n",
       "        [[-0.1380, -0.4550, -0.9690,  ..., -0.9367, -0.6428, -1.1570],\n",
       "         [-0.1377, -0.4553, -0.9687,  ..., -0.9349, -0.6441, -1.1583]],\n",
       "\n",
       "        [[ 1.0228,  0.8181,  0.1839,  ...,  0.8974, -0.6702,  0.1612],\n",
       "         [ 1.0226,  0.8184,  0.1837,  ...,  0.8962, -0.6694,  0.1621]],\n",
       "\n",
       "        [[ 1.7700, -0.2736,  1.3171,  ...,  1.0983,  1.0434, -1.8569],\n",
       "         [ 1.7700, -0.2736,  1.3171,  ...,  1.0982,  1.0434, -1.8569]]])"
      ]
     },
     "execution_count": 171,
     "metadata": {},
     "output_type": "execute_result"
    }
   ],
   "source": [
    "px = layer.inverse(y)\n",
    "torch.stack([px, x], dim=1)"
   ]
  },
  {
   "cell_type": "code",
   "execution_count": 247,
   "metadata": {},
   "outputs": [
    {
     "data": {
      "text/plain": [
       "tensor(1.7514)"
      ]
     },
     "execution_count": 247,
     "metadata": {},
     "output_type": "execute_result"
    }
   ],
   "source": [
    "w = torch.empty(D,D)\n",
    "nn.init.kaiming_uniform_(w, a=np.sqrt(5))\n",
    "# nn.init.xavier_normal_(w)\n",
    "nn.init.kaiming_uniform_(w)\n",
    "# nn.init.kaiming_normal_(w)\n",
    "torch.det(w)"
   ]
  },
  {
   "cell_type": "code",
   "execution_count": 241,
   "metadata": {},
   "outputs": [
    {
     "data": {
      "text/plain": [
       "tensor(5.2403e-05, grad_fn=<DetBackward>)"
      ]
     },
     "execution_count": 241,
     "metadata": {},
     "output_type": "execute_result"
    }
   ],
   "source": [
    "l = nn.Linear(D,M)\n",
    "l.weight.det()"
   ]
  },
  {
   "cell_type": "code",
   "execution_count": 22,
   "metadata": {
    "scrolled": true
   },
   "outputs": [
    {
     "data": {
      "text/plain": [
       "8"
      ]
     },
     "execution_count": 22,
     "metadata": {},
     "output_type": "execute_result"
    }
   ],
   "source": [
    "net[0].in_features"
   ]
  },
  {
   "cell_type": "code",
   "execution_count": 114,
   "metadata": {},
   "outputs": [],
   "source": [
    "din = 8\n",
    "dout = din\n",
    "depth, breadth = 100, din\n",
    "nonlin = None"
   ]
  },
  {
   "cell_type": "code",
   "execution_count": 115,
   "metadata": {},
   "outputs": [
    {
     "name": "stdout",
     "output_type": "stream",
     "text": [
      "tensor([nan, nan, nan, nan, nan, nan, nan, nan])\n",
      "tensor([nan, nan, nan, nan, nan, nan, nan, nan])\n"
     ]
    },
    {
     "data": {
      "text/plain": [
       "tensor([[nan, nan, nan,  ..., nan, nan, nan],\n",
       "        [nan, nan, nan,  ..., nan, nan, nan],\n",
       "        [nan, nan, nan,  ..., nan, nan, nan],\n",
       "        ...,\n",
       "        [nan, nan, nan,  ..., nan, nan, nan],\n",
       "        [nan, nan, nan,  ..., nan, nan, nan],\n",
       "        [nan, nan, nan,  ..., nan, nan, nan]])"
      ]
     },
     "execution_count": 115,
     "metadata": {},
     "output_type": "execute_result"
    }
   ],
   "source": [
    "def initializer(layer, nonlin):\n",
    "#     nn.init.kaiming_normal_(layer.weight)\n",
    "    din, dout = layer.in_features, layer.out_features\n",
    "    \n",
    "    \n",
    "    spread = 1#/din\n",
    "#     spread = np.sqrt(2/din) \n",
    "#     spread = \n",
    "    \n",
    "    layer.weight.data.normal_(0,spread)\n",
    "    return layer\n",
    "\n",
    "net = models.make_MLP(D,M, hidden_dims=depth*[breadth], nonlin=nonlin, initializer=initializer, bias=False)\n",
    "\n",
    "x = torch.randn(1000,8)\n",
    "x.mean(0), x.std(0)\n",
    "\n",
    "with torch.no_grad():\n",
    "    y = net(x)\n",
    "    print(y.mean(0))\n",
    "    print(y.std(0))\n",
    "#     print(y.mean(-1), y.std(-1))\n",
    "y"
   ]
  },
  {
   "cell_type": "code",
   "execution_count": 117,
   "metadata": {},
   "outputs": [
    {
     "data": {
      "text/plain": [
       "[0, 1, 2, 3, 4, 6, 7, 5]"
      ]
     },
     "execution_count": 117,
     "metadata": {},
     "output_type": "execute_result"
    }
   ],
   "source": [
    "graph = {0:[1,2], 1:[3,4], 2:[4,6], 3:[7], 4:[5], 5:[], 6:[], 7:[]}\n",
    "util.toposort(0,lambda x: graph[x], depth_first=False)"
   ]
  },
  {
   "cell_type": "code",
   "execution_count": 174,
   "metadata": {},
   "outputs": [],
   "source": [
    "B = 128\n",
    "N = B * 1024\n",
    "D, M = 8, 8\n",
    "lim = -4, 4"
   ]
  },
  {
   "cell_type": "code",
   "execution_count": 199,
   "metadata": {},
   "outputs": [
    {
     "data": {
      "text/plain": [
       "-1.5525214621447958e-05"
      ]
     },
     "execution_count": 199,
     "metadata": {},
     "output_type": "execute_result"
    },
    {
     "data": {
      "image/png": "[encoded data removed]",
      "text/plain": [
       "<Figure size 432x288 with 1 Axes>"
      ]
     },
     "metadata": {
      "needs_background": "light"
     },
     "output_type": "display_data"
    }
   ],
   "source": [
    "depth, breadth = 3, 64\n",
    "depth = 0\n",
    "true = models.make_MLP(D, M, hidden_dims=depth*[breadth], \n",
    "                      nonlin='swish', \n",
    "                      bias=None, output_bias=True)\n",
    "util.plot_vec_fn(true)\n",
    "true[0].weight.det().item()"
   ]
  },
  {
   "cell_type": "code",
   "execution_count": 178,
   "metadata": {},
   "outputs": [
    {
     "data": {
      "text/plain": [
       "tensor(-0.0005, grad_fn=<DetBackward>)"
      ]
     },
     "execution_count": 178,
     "metadata": {},
     "output_type": "execute_result"
    }
   ],
   "source": []
  },
  {
   "cell_type": "code",
   "execution_count": 124,
   "metadata": {},
   "outputs": [
    {
     "data": {
      "text/plain": [
       "(131072, 1024)"
      ]
     },
     "execution_count": 124,
     "metadata": {},
     "output_type": "execute_result"
    }
   ],
   "source": [
    "mn, mx = lim\n",
    "with torch.no_grad():\n",
    "    X = torch.rand(N, D) * (mx-mn) + mn\n",
    "    Y = true(X)\n",
    "dataset = TensorDataset(X, Y)\n",
    "loader = DataLoader(dataset, batch_size=B)\n",
    "len(dataset), len(loader)"
   ]
  },
  {
   "cell_type": "code",
   "execution_count": 125,
   "metadata": {},
   "outputs": [
    {
     "name": "stdout",
     "output_type": "stream",
     "text": [
      "tensor([2, 6, 5, 4, 8, 7, 8, 8], dtype=torch.int32)\n"
     ]
    },
    {
     "data": {
      "text/plain": [
       "InvDense(dim=8, bias=True)"
      ]
     },
     "execution_count": 125,
     "metadata": {},
     "output_type": "execute_result"
    }
   ],
   "source": [
    "model = InvDense(D)\n",
    "model"
   ]
  },
  {
   "cell_type": "code",
   "execution_count": 126,
   "metadata": {},
   "outputs": [],
   "source": [
    "criterion = nn.MSELoss()\n",
    "optim = torch.optim.SGD(model.parameters(), lr=1e-2)\n",
    "stat = util.AverageMeter(tau=min(100/len(loader), 0.5))"
   ]
  },
  {
   "cell_type": "code",
   "execution_count": 127,
   "metadata": {},
   "outputs": [],
   "source": [
    "n_epochs = 10"
   ]
  },
  {
   "cell_type": "code",
   "execution_count": 128,
   "metadata": {},
   "outputs": [
    {
     "name": "stdout",
     "output_type": "stream",
     "text": [
      "starting epoch: 1/10\n"
     ]
    },
    {
     "data": {
      "application/vnd.jupyter.widget-view+json": {
       "model_id": "4b4c6a79cab0402399ce1292ee22dcf1",
       "version_major": 2,
       "version_minor": 0
      },
      "text/plain": [
       "HBox(children=(IntProgress(value=0, max=1024), HTML(value='')))"
      ]
     },
     "metadata": {},
     "output_type": "display_data"
    },
    {
     "name": "stdout",
     "output_type": "stream",
     "text": [
      "\n",
      "starting epoch: 2/10\n"
     ]
    },
    {
     "data": {
      "application/vnd.jupyter.widget-view+json": {
       "model_id": "169b8161ba0d49bca82e012e1e36bc1c",
       "version_major": 2,
       "version_minor": 0
      },
      "text/plain": [
       "HBox(children=(IntProgress(value=0, max=1024), HTML(value='')))"
      ]
     },
     "metadata": {},
     "output_type": "display_data"
    },
    {
     "name": "stdout",
     "output_type": "stream",
     "text": [
      "\n",
      "starting epoch: 3/10\n"
     ]
    },
    {
     "data": {
      "application/vnd.jupyter.widget-view+json": {
       "model_id": "6e8bf6744f3d46afb36969a9adb4f4d5",
       "version_major": 2,
       "version_minor": 0
      },
      "text/plain": [
       "HBox(children=(IntProgress(value=0, max=1024), HTML(value='')))"
      ]
     },
     "metadata": {},
     "output_type": "display_data"
    },
    {
     "name": "stdout",
     "output_type": "stream",
     "text": [
      "\n",
      "starting epoch: 4/10\n"
     ]
    },
    {
     "data": {
      "application/vnd.jupyter.widget-view+json": {
       "model_id": "cc90911bc6b54a04913dc5859b450118",
       "version_major": 2,
       "version_minor": 0
      },
      "text/plain": [
       "HBox(children=(IntProgress(value=0, max=1024), HTML(value='')))"
      ]
     },
     "metadata": {},
     "output_type": "display_data"
    },
    {
     "name": "stdout",
     "output_type": "stream",
     "text": [
      "\n",
      "starting epoch: 5/10\n"
     ]
    },
    {
     "data": {
      "application/vnd.jupyter.widget-view+json": {
       "model_id": "16a6a4a21ac9470c9746fbddcca36d4a",
       "version_major": 2,
       "version_minor": 0
      },
      "text/plain": [
       "HBox(children=(IntProgress(value=0, max=1024), HTML(value='')))"
      ]
     },
     "metadata": {},
     "output_type": "display_data"
    },
    {
     "name": "stdout",
     "output_type": "stream",
     "text": [
      "\n",
      "starting epoch: 6/10\n"
     ]
    },
    {
     "data": {
      "application/vnd.jupyter.widget-view+json": {
       "model_id": "8892cbd4ca8c4ac1b6106bf32f26e7bf",
       "version_major": 2,
       "version_minor": 0
      },
      "text/plain": [
       "HBox(children=(IntProgress(value=0, max=1024), HTML(value='')))"
      ]
     },
     "metadata": {},
     "output_type": "display_data"
    },
    {
     "name": "stdout",
     "output_type": "stream",
     "text": [
      "\n",
      "starting epoch: 7/10\n"
     ]
    },
    {
     "data": {
      "application/vnd.jupyter.widget-view+json": {
       "model_id": "8a3117d767e44ff197cf93ef02e6fdaa",
       "version_major": 2,
       "version_minor": 0
      },
      "text/plain": [
       "HBox(children=(IntProgress(value=0, max=1024), HTML(value='')))"
      ]
     },
     "metadata": {},
     "output_type": "display_data"
    },
    {
     "name": "stdout",
     "output_type": "stream",
     "text": [
      "\n",
      "starting epoch: 8/10\n"
     ]
    },
    {
     "data": {
      "application/vnd.jupyter.widget-view+json": {
       "model_id": "f0d0b7c24d624e8e965fac7790b82c18",
       "version_major": 2,
       "version_minor": 0
      },
      "text/plain": [
       "HBox(children=(IntProgress(value=0, max=1024), HTML(value='')))"
      ]
     },
     "metadata": {},
     "output_type": "display_data"
    },
    {
     "name": "stdout",
     "output_type": "stream",
     "text": [
      "\n",
      "starting epoch: 9/10\n"
     ]
    },
    {
     "data": {
      "application/vnd.jupyter.widget-view+json": {
       "model_id": "5b64c003eab74e8e905436e825520df0",
       "version_major": 2,
       "version_minor": 0
      },
      "text/plain": [
       "HBox(children=(IntProgress(value=0, max=1024), HTML(value='')))"
      ]
     },
     "metadata": {},
     "output_type": "display_data"
    },
    {
     "name": "stdout",
     "output_type": "stream",
     "text": [
      "\n",
      "starting epoch: 10/10\n"
     ]
    },
    {
     "data": {
      "application/vnd.jupyter.widget-view+json": {
       "model_id": "926288dd8bd14b18b6938992c374a625",
       "version_major": 2,
       "version_minor": 0
      },
      "text/plain": [
       "HBox(children=(IntProgress(value=0, max=1024), HTML(value='')))"
      ]
     },
     "metadata": {},
     "output_type": "display_data"
    },
    {
     "name": "stdout",
     "output_type": "stream",
     "text": [
      "\n"
     ]
    }
   ],
   "source": [
    "for epoch in range(n_epochs):\n",
    "    print('starting epoch: {}/{}'.format(epoch+1, n_epochs))\n",
    "    itr = tqdm(loader)\n",
    "    for x, y in itr:\n",
    "        pred = model(x)\n",
    "        loss = criterion(pred, y)\n",
    "        stat.update(loss)\n",
    "        itr.set_description('Loss {:.3f} ({:.3f})'.format(stat.val.item(), stat.smooth.item()))\n",
    "        optim.zero_grad()\n",
    "        loss.backward()\n",
    "        optim.step()"
   ]
  },
  {
   "cell_type": "code",
   "execution_count": 131,
   "metadata": {},
   "outputs": [
    {
     "data": {
      "image/png": "[encoded data removed]",
      "text/plain": [
       "<Figure size 432x288 with 1 Axes>"
      ]
     },
     "metadata": {
      "needs_background": "light"
     },
     "output_type": "display_data"
    }
   ],
   "source": [
    "util.plot_vec_fn(model)\n",
    "pass"
   ]
  },
  {
   "cell_type": "code",
   "execution_count": 132,
   "metadata": {},
   "outputs": [
    {
     "data": {
      "image/png": "[encoded data removed]",
      "text/plain": [
       "<Figure size 432x288 with 1 Axes>"
      ]
     },
     "metadata": {
      "needs_background": "light"
     },
     "output_type": "display_data"
    }
   ],
   "source": [
    "util.plot_vec_fn(true)\n",
    "pass"
   ]
  },
  {
   "cell_type": "code",
   "execution_count": 134,
   "metadata": {},
   "outputs": [
    {
     "data": {
      "text/plain": [
       "tensor([[ -96.5579,  339.7298,  184.7091,  ...,   59.3668,  224.6575,\n",
       "          -33.9103],\n",
       "        [ -51.4093,  191.3888,  104.9457,  ...,   31.8842,  120.6896,\n",
       "          -20.1440],\n",
       "        [ -62.7195,  214.5622,  124.0801,  ...,   37.1604,  142.9697,\n",
       "          -23.2467],\n",
       "        ...,\n",
       "        [ -15.8171,   56.4393,   35.3900,  ...,   11.7992,   39.0795,\n",
       "           -3.3670],\n",
       "        [ -59.2829,  212.4025,  115.0657,  ...,   40.9361,  137.1322,\n",
       "          -21.6984],\n",
       "        [-102.0807,  352.7494,  194.1731,  ...,   64.2226,  227.6557,\n",
       "          -36.0350]])"
      ]
     },
     "execution_count": 134,
     "metadata": {},
     "output_type": "execute_result"
    }
   ],
   "source": [
    "model.inverse(y)"
   ]
  },
  {
   "cell_type": "code",
   "execution_count": 141,
   "metadata": {},
   "outputs": [
    {
     "data": {
      "text/plain": [
       "(tensor([[0., 0., 0., 0., 0., 0., 0., 1.],\n",
       "         [1., 0., 0., 0., 0., 0., 0., 0.],\n",
       "         [0., 0., 0., 0., 0., 0., 1., 0.],\n",
       "         [0., 0., 0., 1., 0., 0., 0., 0.],\n",
       "         [0., 0., 1., 0., 0., 0., 0., 0.],\n",
       "         [0., 1., 0., 0., 0., 0., 0., 0.],\n",
       "         [0., 0., 0., 0., 0., 1., 0., 0.],\n",
       "         [0., 0., 0., 0., 1., 0., 0., 0.]]),\n",
       " tensor([[ 1.0000,  0.0000,  0.0000,  0.0000,  0.0000,  0.0000,  0.0000,  0.0000],\n",
       "         [-2.0431,  1.0000,  0.0000,  0.0000,  0.0000,  0.0000,  0.0000,  0.0000],\n",
       "         [-0.4040, -0.9473,  1.0000,  0.0000,  0.0000,  0.0000,  0.0000,  0.0000],\n",
       "         [-1.3365, -0.0041,  1.9065,  1.0000,  0.0000,  0.0000,  0.0000,  0.0000],\n",
       "         [-0.2640,  0.0777, -1.3491, -0.5366,  1.0000,  0.0000,  0.0000,  0.0000],\n",
       "         [ 1.8013,  0.8476,  0.7589, -0.2574, -1.7653,  1.0000,  0.0000,  0.0000],\n",
       "         [-1.5527,  1.1153,  0.9246,  1.8914,  0.1215,  1.1557,  1.0000,  0.0000],\n",
       "         [ 1.5122, -0.4840, -1.2016, -1.0878, -0.5593, -1.1007, -1.4566,  1.0000]],\n",
       "        grad_fn=<CopySlices>),\n",
       " tensor([[ 0.1405,  0.0100, -0.0125, -0.0118, -0.0392, -0.0195,  0.0834,  0.0137],\n",
       "         [ 0.0000,  0.2414, -0.1691,  0.0243, -0.2837, -0.2223, -0.0904, -0.2938],\n",
       "         [ 0.0000,  0.0000, -0.1379,  0.2160, -0.1837,  0.0648,  0.2421, -0.1270],\n",
       "         [ 0.0000,  0.0000,  0.0000, -0.3166,  0.1812, -0.0908, -0.1089,  0.4529],\n",
       "         [ 0.0000,  0.0000,  0.0000,  0.0000, -0.3890,  0.1109,  0.1581,  0.2478],\n",
       "         [ 0.0000,  0.0000,  0.0000,  0.0000,  0.0000,  0.3329,  0.0602,  1.1129],\n",
       "         [ 0.0000,  0.0000,  0.0000,  0.0000,  0.0000,  0.0000, -0.1817, -1.4765],\n",
       "         [ 0.0000,  0.0000,  0.0000,  0.0000,  0.0000,  0.0000,  0.0000, -0.4109]],\n",
       "        grad_fn=<TriuBackward>))"
      ]
     },
     "execution_count": 141,
     "metadata": {},
     "output_type": "execute_result"
    }
   ],
   "source": [
    "torch.lu_unpack(model.lu, model.pivots)"
   ]
  },
  {
   "cell_type": "code",
   "execution_count": null,
   "metadata": {},
   "outputs": [],
   "source": []
  },
  {
   "cell_type": "code",
   "execution_count": null,
   "metadata": {},
   "outputs": [],
   "source": []
  },
  {
   "cell_type": "code",
   "execution_count": null,
   "metadata": {},
   "outputs": [],
   "source": []
  },
  {
   "cell_type": "code",
   "execution_count": 378,
   "metadata": {},
   "outputs": [
    {
     "data": {
      "text/plain": [
       "torch.Size([1000, 5])"
      ]
     },
     "execution_count": 378,
     "metadata": {},
     "output_type": "execute_result"
    }
   ],
   "source": [
    "px = layer.inverse(y)\n",
    "px.shape"
   ]
  },
  {
   "cell_type": "code",
   "execution_count": 379,
   "metadata": {},
   "outputs": [
    {
     "data": {
      "text/plain": [
       "tensor([[[ 1.0210,  0.7782, -2.3987, -0.4583, -0.2494],\n",
       "         [ 1.0210,  0.7782, -2.3987, -0.4583, -0.2494]],\n",
       "\n",
       "        [[ 1.0029,  0.0392,  1.2159, -0.0564, -0.0807],\n",
       "         [ 1.0029,  0.0392,  1.2159, -0.0564, -0.0807]],\n",
       "\n",
       "        [[-0.6100, -0.6243,  1.7635, -0.1961,  1.2692],\n",
       "         [-0.6100, -0.6243,  1.7635, -0.1961,  1.2692]],\n",
       "\n",
       "        ...,\n",
       "\n",
       "        [[-1.0616, -0.1997,  0.8071,  1.1342, -0.3598],\n",
       "         [-1.0616, -0.1997,  0.8071,  1.1342, -0.3598]],\n",
       "\n",
       "        [[ 0.8492, -0.1958,  0.7901,  0.9527, -0.9211],\n",
       "         [ 0.8492, -0.1958,  0.7901,  0.9527, -0.9211]],\n",
       "\n",
       "        [[-0.0589,  1.5583, -1.2586,  0.3696, -1.1454],\n",
       "         [-0.0589,  1.5583, -1.2586,  0.3696, -1.1454]]])"
      ]
     },
     "execution_count": 379,
     "metadata": {},
     "output_type": "execute_result"
    }
   ],
   "source": [
    "torch.stack([x,px], dim=1)"
   ]
  },
  {
   "cell_type": "code",
   "execution_count": null,
   "metadata": {},
   "outputs": [],
   "source": []
  },
  {
   "cell_type": "code",
   "execution_count": null,
   "metadata": {},
   "outputs": [],
   "source": []
  },
  {
   "cell_type": "code",
   "execution_count": 149,
   "metadata": {},
   "outputs": [],
   "source": [
    "x = torch.rand(N, D)\n",
    "y = torch.randn(N, D)"
   ]
  },
  {
   "cell_type": "code",
   "execution_count": 150,
   "metadata": {},
   "outputs": [],
   "source": [
    "pred = x @ torch.triu(w)"
   ]
  },
  {
   "cell_type": "code",
   "execution_count": 151,
   "metadata": {},
   "outputs": [],
   "source": [
    "torch.dist(pred,y).backward()"
   ]
  },
  {
   "cell_type": "code",
   "execution_count": 152,
   "metadata": {},
   "outputs": [
    {
     "data": {
      "text/plain": [
       "tensor([[1.3436, 3.0150, 5.5977, 7.6880, 6.2756],\n",
       "        [0.0000, 2.3532, 5.5801, 8.1934, 6.2463],\n",
       "        [0.0000, 0.0000, 5.3390, 8.3467, 5.7493],\n",
       "        [0.0000, 0.0000, 0.0000, 8.3360, 5.9573],\n",
       "        [0.0000, 0.0000, 0.0000, 0.0000, 5.3473]])"
      ]
     },
     "execution_count": 152,
     "metadata": {},
     "output_type": "execute_result"
    }
   ],
   "source": [
    "w.grad"
   ]
  },
  {
   "cell_type": "code",
   "execution_count": 163,
   "metadata": {},
   "outputs": [
    {
     "data": {
      "text/plain": [
       "tensor([[ 1.0000, 10.7360,  2.2431,  0.2026,  8.3005],\n",
       "        [ 0.0000,  1.0000,  1.7731,  0.9971,  6.3929],\n",
       "        [ 0.0000,  0.0000,  1.0000,  0.8919,  2.1275],\n",
       "        [ 0.0000,  0.0000,  0.0000,  1.0000,  3.0145],\n",
       "        [ 0.0000,  0.0000,  0.0000,  0.0000,  1.0000]], grad_fn=<DivBackward0>)"
      ]
     },
     "execution_count": 163,
     "metadata": {},
     "output_type": "execute_result"
    }
   ],
   "source": [
    "torch.triu(w)/torch.diag(w)"
   ]
  },
  {
   "cell_type": "code",
   "execution_count": 164,
   "metadata": {},
   "outputs": [
    {
     "data": {
      "text/plain": [
       "tensor([[  2.1411, -22.9868,  35.9551,  -9.5823,  81.5712],\n",
       "        [  0.0000,  12.6408, -22.4134,   7.3866, -55.3936],\n",
       "        [  0.0000,   0.0000,   2.5040,  -2.2334,   1.4053],\n",
       "        [  0.0000,   0.0000,   0.0000,   1.0366,  -3.1248],\n",
       "        [  0.0000,   0.0000,   0.0000,   0.0000,   9.4663]],\n",
       "       grad_fn=<InverseBackward>)"
      ]
     },
     "execution_count": 164,
     "metadata": {},
     "output_type": "execute_result"
    }
   ],
   "source": [
    "iw = torch.triu(w).inverse()\n",
    "iw"
   ]
  },
  {
   "cell_type": "code",
   "execution_count": null,
   "metadata": {},
   "outputs": [],
   "source": []
  },
  {
   "cell_type": "code",
   "execution_count": null,
   "metadata": {},
   "outputs": [],
   "source": []
  },
  {
   "cell_type": "code",
   "execution_count": null,
   "metadata": {},
   "outputs": [],
   "source": []
  },
  {
   "cell_type": "code",
   "execution_count": null,
   "metadata": {},
   "outputs": [],
   "source": []
  },
  {
   "cell_type": "code",
   "execution_count": 4,
   "metadata": {},
   "outputs": [],
   "source": [
    "B, D, S = 10, 12, 16\n",
    "C, H, W = 3, 8, 8\n",
    "G, K, M = 1, 6, 32"
   ]
  },
  {
   "cell_type": "code",
   "execution_count": 32,
   "metadata": {},
   "outputs": [],
   "source": [
    "x = torch.randn(B,C,H,W)\n",
    "q = torch.randn(B,D)\n",
    "s = torch.randn(D,S)"
   ]
  },
  {
   "cell_type": "code",
   "execution_count": 33,
   "metadata": {},
   "outputs": [
    {
     "data": {
      "text/plain": [
       "Sequential(\n",
       "  (0): Linear(in_features=12, out_features=128, bias=True)\n",
       "  (1): Mish()\n",
       "  (2): Linear(in_features=128, out_features=128, bias=True)\n",
       "  (3): Mish()\n",
       "  (4): Linear(in_features=128, out_features=192, bias=True)\n",
       "  (5): Sigmoid()\n",
       "  (6): Reshaper(out=(3, 8, 8))\n",
       ")"
      ]
     },
     "execution_count": 33,
     "metadata": {},
     "output_type": "execute_result"
    }
   ],
   "source": [
    "enc = models.make_MLP((C,H,W), D, hidden_dims=[128, 128], nonlin='mish', output_nonlin='sigmoid')\n",
    "dec = models.make_MLP(D, (C,H,W), hidden_dims=[128, 128], nonlin='mish', output_nonlin='sigmoid')\n",
    "dec"
   ]
  },
  {
   "cell_type": "code",
   "execution_count": 47,
   "metadata": {},
   "outputs": [],
   "source": [
    "class T(nn.Module):\n",
    "    def __init__(self):\n",
    "        super().__init__()\n",
    "#         self.net = models.make_MLP(M, D, hidden_dims=[128,128], nonlin='elu')\n",
    "    \n",
    "        self.patches = ptn.Patch_Points((C,H,W))    \n",
    "        P, N = self.patches.dout\n",
    "        self.net = ptn.make_pointnet(P, K*G, hidden=[128, 128], nonlin='elu')\n",
    "        \n",
    "        self.c = nn.Parameter(torch.randn(G, D, K))\n",
    "        \n",
    "    def forward(self, x):\n",
    "        \n",
    "        p = self.patches(x)\n",
    "        N = p.size(-1)\n",
    "        \n",
    "        w = self.net(p) # B, K*G, N \n",
    "        w = w.view(B, G, K*N)\n",
    "#         w = w.view(B, G, K, N)\n",
    "        w = F.softmax(w, dim=-1).view(B*G, K, N)\n",
    "        \n",
    "        c = self.c.expand(B, G, D, K).view(B*G, D, K)\n",
    "        \n",
    "        y = c @ w # B*G, D, N\n",
    "        \n",
    "        y = y.sum(-1).view(B,G,D).permute(0,2,1)\n",
    "        \n",
    "        return y\n",
    "        \n",
    "t = T()"
   ]
  },
  {
   "cell_type": "code",
   "execution_count": 48,
   "metadata": {},
   "outputs": [
    {
     "name": "stdout",
     "output_type": "stream",
     "text": [
      "c torch.Size([1, 12, 6])\n",
      "net.0.weight torch.Size([128, 48, 1])\n",
      "net.0.bias torch.Size([128])\n",
      "net.2.weight torch.Size([128, 128, 1])\n",
      "net.2.bias torch.Size([128])\n",
      "net.4.weight torch.Size([6, 128, 1])\n",
      "net.4.bias torch.Size([6])\n"
     ]
    }
   ],
   "source": [
    "for n, p in t.named_parameters():\n",
    "    print(n, p.shape)"
   ]
  },
  {
   "cell_type": "code",
   "execution_count": 49,
   "metadata": {},
   "outputs": [
    {
     "data": {
      "text/plain": [
       "T(\n",
       "  (patches): Patch_Points(\n",
       "    (transform): Unfold(kernel_size=(4, 4), dilation=(1, 1), padding=(0, 0), stride=(2, 2))\n",
       "  )\n",
       "  (net): Sequential(\n",
       "    (0): Conv1d(48, 128, kernel_size=(1,), stride=(1,))\n",
       "    (1): ELU(alpha=1.0, inplace=True)\n",
       "    (2): Conv1d(128, 128, kernel_size=(1,), stride=(1,))\n",
       "    (3): ELU(alpha=1.0, inplace=True)\n",
       "    (4): Conv1d(128, 6, kernel_size=(1,), stride=(1,))\n",
       "  )\n",
       ")"
      ]
     },
     "execution_count": 49,
     "metadata": {},
     "output_type": "execute_result"
    }
   ],
   "source": [
    "t"
   ]
  },
  {
   "cell_type": "code",
   "execution_count": 50,
   "metadata": {},
   "outputs": [
    {
     "data": {
      "text/plain": [
       "torch.Size([10, 12])"
      ]
     },
     "execution_count": 50,
     "metadata": {},
     "output_type": "execute_result"
    }
   ],
   "source": [
    "y = t(x).squeeze()\n",
    "y.shape"
   ]
  },
  {
   "cell_type": "code",
   "execution_count": 51,
   "metadata": {},
   "outputs": [
    {
     "data": {
      "text/plain": [
       "Parameter containing:\n",
       "tensor([-0.0432, -0.0217,  0.0021, -0.0840, -0.0470,  0.0610],\n",
       "       requires_grad=True)"
      ]
     },
     "execution_count": 51,
     "metadata": {},
     "output_type": "execute_result"
    }
   ],
   "source": [
    "p"
   ]
  },
  {
   "cell_type": "code",
   "execution_count": 52,
   "metadata": {},
   "outputs": [],
   "source": [
    "p.grad"
   ]
  },
  {
   "cell_type": "code",
   "execution_count": 54,
   "metadata": {},
   "outputs": [],
   "source": [
    "z = torch.randn(y.shape)"
   ]
  },
  {
   "cell_type": "code",
   "execution_count": 55,
   "metadata": {},
   "outputs": [],
   "source": [
    "(z-y).pow(2).sum().backward()"
   ]
  },
  {
   "cell_type": "code",
   "execution_count": 56,
   "metadata": {},
   "outputs": [
    {
     "data": {
      "text/plain": [
       "tensor([[[ 1.6491,  1.5984,  1.7352,  1.5232,  1.5468,  1.9260],\n",
       "         [ 1.7533,  1.6647,  1.9393,  1.6512,  1.6439,  2.0840],\n",
       "         [-0.0960, -0.0829,  0.1137, -0.1066, -0.0506, -0.1677],\n",
       "         [ 1.6920,  1.6222,  1.9205,  1.6189,  1.5975,  1.9934],\n",
       "         [ 0.1421,  0.2543,  0.1639,  0.2110,  0.2878,  0.2749],\n",
       "         [ 2.6036,  2.4764,  2.6867,  2.4222,  2.4346,  3.0270],\n",
       "         [ 2.1579,  2.0660,  2.4328,  1.9864,  2.0187,  2.4926],\n",
       "         [-2.5217, -2.3779, -2.7081, -2.2758, -2.3670, -2.8754],\n",
       "         [ 0.8755,  0.8613,  0.9990,  0.7999,  0.8313,  1.0613],\n",
       "         [ 1.4899,  1.3640,  1.3705,  1.2174,  1.3177,  1.6313],\n",
       "         [ 3.8443,  3.6395,  4.0016,  3.4678,  3.5882,  4.4057],\n",
       "         [ 0.3531,  0.3732,  0.3236,  0.3478,  0.3394,  0.4369]]])"
      ]
     },
     "execution_count": 56,
     "metadata": {},
     "output_type": "execute_result"
    }
   ],
   "source": [
    "t.c.grad"
   ]
  },
  {
   "cell_type": "code",
   "execution_count": null,
   "metadata": {},
   "outputs": [],
   "source": []
  },
  {
   "cell_type": "code",
   "execution_count": 20,
   "metadata": {},
   "outputs": [
    {
     "data": {
      "text/plain": [
       "torch.Size([12, 24])"
      ]
     },
     "execution_count": 20,
     "metadata": {},
     "output_type": "execute_result"
    }
   ],
   "source": [
    "t.c.shape"
   ]
  },
  {
   "cell_type": "code",
   "execution_count": 15,
   "metadata": {},
   "outputs": [
    {
     "data": {
      "text/plain": [
       "(48, 9)"
      ]
     },
     "execution_count": 15,
     "metadata": {},
     "output_type": "execute_result"
    }
   ],
   "source": [
    "p.dout"
   ]
  },
  {
   "cell_type": "code",
   "execution_count": null,
   "metadata": {},
   "outputs": [],
   "source": []
  },
  {
   "cell_type": "code",
   "execution_count": null,
   "metadata": {},
   "outputs": [],
   "source": []
  },
  {
   "cell_type": "code",
   "execution_count": 46,
   "metadata": {},
   "outputs": [],
   "source": []
  },
  {
   "cell_type": "code",
   "execution_count": 47,
   "metadata": {},
   "outputs": [],
   "source": [
    "\n",
    "def viz_latent(Q, figax=None, figsize=(9, 3), lim_y=None):\n",
    "\tXs = np.arange(Q.shape[-1]) + 1\n",
    "\tinds = np.stack([Xs] * Q.shape[0])\n",
    "\n",
    "\tvals = Q.cpu().numpy()\n",
    "\tdf = pd.DataFrame({'x': inds.reshape(-1), 'y': vals.reshape(-1)})\n",
    "\n",
    "\tif figax is None:\n",
    "\t\tfigax = plt.subplots(figsize=figsize)\n",
    "\tfig, ax = figax\n",
    "\n",
    "\t# plt.figure(fig.num)\n",
    "\tplt.sca(ax)\n",
    "\n",
    "\thue = None\n",
    "\tsplit = False\n",
    "\tcolor = 'C0'\n",
    "\tinner = 'box'\n",
    "\tpalette = None\n",
    "\n",
    "\tsns.violinplot(x='x', y='y', hue=hue,\n",
    "\t               data=df, split=split, color=color, palette=palette,\n",
    "\t               scale=\"count\", inner=inner, gridsize=100, )\n",
    "\tif lim_y is not None:\n",
    "\t\tplt.ylim(-lim_y, lim_y)\n",
    "\tplt.title('Distributions of Latent Dimensions')\n",
    "\tplt.xlabel('Dimension')\n",
    "\tplt.ylabel('Values')\n",
    "\tplt.tight_layout()\n",
    "\treturn fig, ax"
   ]
  },
  {
   "cell_type": "code",
   "execution_count": 48,
   "metadata": {},
   "outputs": [],
   "source": [
    "# fig, ax = viz_latent(q)"
   ]
  },
  {
   "cell_type": "code",
   "execution_count": null,
   "metadata": {},
   "outputs": [],
   "source": []
  },
  {
   "cell_type": "code",
   "execution_count": 49,
   "metadata": {},
   "outputs": [],
   "source": [
    "def get_traversal_vecs(Q, steps=32, bounds=None, mnmx=None):\n",
    "\n",
    "\tN, D = Q.shape\n",
    "\tS = steps\n",
    "\t#\n",
    "\t# dH, dW = util.calc_tiling(D)\n",
    "\t#\n",
    "\t# # bounds = (-2,2)\n",
    "\t#\n",
    "\t# save_inds = [0, 1, 2, 3]\n",
    "\t#\n",
    "\t# saved_walks = []\n",
    "\n",
    "\tI = torch.eye(D).view(1, 1, D, D)\n",
    "\n",
    "\tdeltas = torch.linspace(0, 1, steps=S)\n",
    "\tdeltas = torch.stack([deltas] * D)  # DxS\n",
    "\n",
    "\tif mnmx is None:\n",
    "\t\tif bounds is None:\n",
    "\t\t\tmnmx = (Q.min(0)[0].view(D, 1), Q.max(0)[0].view(D, 1))\n",
    "\t\telse:\n",
    "\t\t\tmnmx = torch.ones(D)*bounds[0], torch.ones(D)*bounds[1]\n",
    "\n",
    "\tmn, mx = mnmx\n",
    "\tmn, mx = mn.view(D, 1), mx.view(D, 1)\n",
    "\n",
    "\tdeltas *= mx - mn\n",
    "\tdeltas += mn\n",
    "\tdeltas = deltas.t().unsqueeze(0).expand(N, S, D).unsqueeze(-1)\n",
    "\n",
    "\tQ = Q.unsqueeze(1).unsqueeze(-1).expand(N, S, D, D)\n",
    "\n",
    "\tvecs = Q * (1 - I) + deltas * I\n",
    "\tvecs = vecs.permute(0, 3, 1, 2) # NxDxSxD (batch, which dim, steps, vec)\n",
    "\n",
    "\treturn vecs\n",
    "\n",
    "def get_traversals(vecs, model, pbar=None): # last dim must be latent dim (model input)\n",
    "\n",
    "\t*shape, D = vecs.shape\n",
    "\n",
    "\tdataset = TensorDataset(vecs.view(-1,D))\n",
    "\n",
    "\tloader = trn.get_loaders(dataset, batch_size=64, shuffle=False)\n",
    "\n",
    "\tif pbar is not None:\n",
    "\t\tloader = pbar(loader)\n",
    "\n",
    "\timgs = []\n",
    "\n",
    "\tfor Q, in loader:\n",
    "\t\twith torch.no_grad():\n",
    "\t\t\timgs.append(model(Q))\n",
    "\n",
    "\timgs = torch.cat(imgs)\n",
    "\n",
    "\t_, *img_shape = imgs.shape\n",
    "\n",
    "\treturn imgs.view(*shape,*img_shape)\n",
    "\n",
    "def get_traversal_anim(frames, vals=None, text_fmt='{:2.2f}', text_size=12, scale=1, fps=20):\n",
    "\n",
    "\tframes = frames.permute(0,2,3,1).cpu().numpy()\n",
    "\tif vals is not None:\n",
    "\t\tvals = vals.cpu().numpy()\n",
    "\n",
    "\tH, W, C = frames[0].shape\n",
    "\tasp = W/H\n",
    "\tfig = plt.figure(figsize=(asp, 1), dpi=int(H*scale),)\n",
    "\n",
    "\tax = plt.axes([0, 0, 1, 1], frameon=False)\n",
    "\tax.get_xaxis().set_visible(False)\n",
    "\tax.get_yaxis().set_visible(False)\n",
    "\tplt.autoscale(tight=True)\n",
    "\n",
    "\tim = plt.imshow(frames[0])\n",
    "\t# plt.axis('off')\n",
    "\t# plt.tight_layout()\n",
    "\tif vals is not None:\n",
    "\t\ttxt = plt.text(5,text_size*H//64, text_fmt.format(vals[0]), size=text_size)\n",
    "\tpass\n",
    "\n",
    "\tplt.close()\n",
    "\n",
    "\tdef init():\n",
    "\t\tim.set_data(frames[0])\n",
    "\t\tif vals is not None:\n",
    "\t\t\ttxt.set_text(text_fmt.format(vals[0]))\n",
    "\n",
    "\tdef animate(i):\n",
    "\t\tim.set_data(frames[i])\n",
    "\t\tif vals is not None:\n",
    "\t\t\ttxt.set_text(text_fmt.format(vals[i]))\n",
    "\t\treturn im\n",
    "\n",
    "\tanim = animation.FuncAnimation(fig, animate, init_func=init, frames=len(frames), interval=1000//fps)\n",
    "\treturn anim\n",
    "\n",
    "def compute_diffs(walks, dsteps=10):\n",
    "\t'''\n",
    "\tcomputes the Linf distance in pixel space between an image and the image where\n",
    "\ta single latent dimension is perturbed by approximately half of the range\n",
    "\tof that latent dim\n",
    "\t'''\n",
    "\n",
    "\tB, D, S, C, H, W = walks.shape\n",
    "\n",
    "\tdiffs = (walks[:, :, dsteps:] - walks[:, :, :-dsteps]).abs().max(-3)[0]\n",
    "\tdiffs = diffs.view(B, D, (S - dsteps) * H * W).mean(-1)\n",
    "\treturn diffs\n",
    "\n",
    "\n",
    "def viz_interventions(dists, figax=None, figsize=(9, 3), color='C2'):\n",
    "\n",
    "\tvals = dists.cpu().numpy()\n",
    "\tXs = np.arange(vals.shape[-1]) + 1\n",
    "\tinds = np.stack([Xs] * vals.shape[0])\n",
    "\tdf = pd.DataFrame({'x': inds.reshape(-1), 'y': vals.reshape(-1)})\n",
    "\t# df['moment']='log(sigma)'\n",
    "\n",
    "\thue = None\n",
    "\tsplit = False\n",
    "\t# color = 'C2'\n",
    "\tinner = 'box'\n",
    "\tpalette = None\n",
    "\n",
    "\tif figax is None:\n",
    "\t\tfigax = plt.subplots(figsize=figsize)\n",
    "\tfig, ax = figax\n",
    "\tplt.sca(ax)\n",
    "\tsns.violinplot(x='x', y='y', hue=hue,\n",
    "\t               data=df, split=split, color=color, palette=palette,\n",
    "\t               scale=\"count\", inner=inner, gridsize=100, cut=0)\n",
    "\tplt.title('Intervention Effect on Image')\n",
    "\tplt.xlabel('Dimension')\n",
    "\tplt.ylabel('Effect')\n",
    "\tplt.tight_layout()\n",
    "\n",
    "\n",
    "\treturn fig, ax"
   ]
  },
  {
   "cell_type": "code",
   "execution_count": 50,
   "metadata": {},
   "outputs": [],
   "source": [
    "\n",
    "# if walks is not None:\n",
    "#     return walks if lim is None else walks[:lim]\n",
    "# assert model is not None\n",
    "# vecs = get_traversal_vecs(Q[:lim], steps=steps,\n",
    "#                           mnmx=(Q.min(0)[0].unsqueeze(-1), Q.max(0)[0].unsqueeze(-1))).contiguous()\n",
    "# deltas = torch.diagonal(vecs, dim1=-3, dim2=-1)\n",
    "# walks = get_traversals(vecs, model)\n",
    "# return walks\n",
    "\n",
    "# for dim, (frames, nums) in enumerate(zip(full, deltas[bidx].T)):\n",
    "#     util.Animation(get_traversal_anim(frames, vals=nums, scale=1, fps=10)).export(\n",
    "#         os.path.join(walk_dir, 'dim{}-frame.png'.format(dim)), fmt='frames')"
   ]
  },
  {
   "cell_type": "code",
   "execution_count": 51,
   "metadata": {},
   "outputs": [],
   "source": [
    "steps = 32"
   ]
  },
  {
   "cell_type": "code",
   "execution_count": 58,
   "metadata": {},
   "outputs": [
    {
     "data": {
      "text/plain": [
       "(torch.Size([10, 12, 32, 12]), torch.Size([10, 32, 12]))"
      ]
     },
     "execution_count": 58,
     "metadata": {},
     "output_type": "execute_result"
    }
   ],
   "source": [
    "vecs = get_traversal_vecs(q, steps=steps,\n",
    "                          mnmx=(q.min(0)[0].unsqueeze(-1), q.max(0)[0].unsqueeze(-1))).contiguous()\n",
    "deltas = torch.diagonal(vecs, dim1=-3, dim2=-1)\n",
    "vecs.shape, deltas.shape"
   ]
  },
  {
   "cell_type": "code",
   "execution_count": 59,
   "metadata": {},
   "outputs": [
    {
     "data": {
      "text/plain": [
       "torch.Size([10, 12, 32, 3, 8, 8])"
      ]
     },
     "execution_count": 59,
     "metadata": {},
     "output_type": "execute_result"
    }
   ],
   "source": [
    "walks = get_traversals(vecs, dec)\n",
    "walks.shape"
   ]
  },
  {
   "cell_type": "code",
   "execution_count": 60,
   "metadata": {},
   "outputs": [
    {
     "data": {
      "text/plain": [
       "torch.Size([10, 12])"
      ]
     },
     "execution_count": 60,
     "metadata": {},
     "output_type": "execute_result"
    }
   ],
   "source": [
    "diffs = compute_diffs(walks)\n",
    "diffs.shape"
   ]
  },
  {
   "cell_type": "code",
   "execution_count": 63,
   "metadata": {},
   "outputs": [],
   "source": [
    "# viz_interventions(diffs)\n",
    "pass"
   ]
  },
  {
   "cell_type": "code",
   "execution_count": 76,
   "metadata": {},
   "outputs": [],
   "source": [
    "def tile_dims(full):\n",
    "    tH, tW = util.calc_tiling(len(full))\n",
    "    N, S, C, H, W = full.shape\n",
    "    full = full.view(tH, tW, S, C, H, W)\n",
    "    full = full.permute(2, 3, 0, 4, 1, 5).contiguous().view(S, C, tH * H, tW * W)\n",
    "    return full"
   ]
  },
  {
   "cell_type": "code",
   "execution_count": null,
   "metadata": {},
   "outputs": [],
   "source": []
  },
  {
   "cell_type": "code",
   "execution_count": 78,
   "metadata": {},
   "outputs": [
    {
     "data": {
      "application/javascript": [
       "/* Put everything inside the global mpl namespace */\n",
       "window.mpl = {};\n",
       "\n",
       "\n",
       "mpl.get_websocket_type = function() {\n",
       "    if (typeof(WebSocket) !== 'undefined') {\n",
       "        return WebSocket;\n",
       "    } else if (typeof(MozWebSocket) !== 'undefined') {\n",
       "        return MozWebSocket;\n",
       "    } else {\n",
       "        alert('Your browser does not have WebSocket support. ' +\n",
       "              'Please try Chrome, Safari or Firefox ≥ 6. ' +\n",
       "              'Firefox 4 and 5 are also supported but you ' +\n",
       "              'have to enable WebSockets in about:config.');\n",
       "    };\n",
       "}\n",
       "\n",
       "mpl.figure = function(figure_id, websocket, ondownload, parent_element) {\n",
       "    this.id = figure_id;\n",
       "\n",
       "    this.ws = websocket;\n",
       "\n",
       "    this.supports_binary = (this.ws.binaryType != undefined);\n",
       "\n",
       "    if (!this.supports_binary) {\n",
       "        var warnings = document.getElementById(\"mpl-warnings\");\n",
       "        if (warnings) {\n",
       "            warnings.style.display = 'block';\n",
       "            warnings.textContent = (\n",
       "                \"This browser does not support binary websocket messages. \" +\n",
       "                    \"Performance may be slow.\");\n",
       "        }\n",
       "    }\n",
       "\n",
       "    this.imageObj = new Image();\n",
       "\n",
       "    this.context = undefined;\n",
       "    this.message = undefined;\n",
       "    this.canvas = undefined;\n",
       "    this.rubberband_canvas = undefined;\n",
       "    this.rubberband_context = undefined;\n",
       "    this.format_dropdown = undefined;\n",
       "\n",
       "    this.image_mode = 'full';\n",
       "\n",
       "    this.root = $('<div/>');\n",
       "    this._root_extra_style(this.root)\n",
       "    this.root.attr('style', 'display: inline-block');\n",
       "\n",
       "    $(parent_element).append(this.root);\n",
       "\n",
       "    this._init_header(this);\n",
       "    this._init_canvas(this);\n",
       "    this._init_toolbar(this);\n",
       "\n",
       "    var fig = this;\n",
       "\n",
       "    this.waiting = false;\n",
       "\n",
       "    this.ws.onopen =  function () {\n",
       "            fig.send_message(\"supports_binary\", {value: fig.supports_binary});\n",
       "            fig.send_message(\"send_image_mode\", {});\n",
       "            if (mpl.ratio != 1) {\n",
       "                fig.send_message(\"set_dpi_ratio\", {'dpi_ratio': mpl.ratio});\n",
       "            }\n",
       "            fig.send_message(\"refresh\", {});\n",
       "        }\n",
       "\n",
       "    this.imageObj.onload = function() {\n",
       "            if (fig.image_mode == 'full') {\n",
       "                // Full images could contain transparency (where diff images\n",
       "                // almost always do), so we need to clear the canvas so that\n",
       "                // there is no ghosting.\n",
       "                fig.context.clearRect(0, 0, fig.canvas.width, fig.canvas.height);\n",
       "            }\n",
       "            fig.context.drawImage(fig.imageObj, 0, 0);\n",
       "        };\n",
       "\n",
       "    this.imageObj.onunload = function() {\n",
       "        fig.ws.close();\n",
       "    }\n",
       "\n",
       "    this.ws.onmessage = this._make_on_message_function(this);\n",
       "\n",
       "    this.ondownload = ondownload;\n",
       "}\n",
       "\n",
       "mpl.figure.prototype._init_header = function() {\n",
       "    var titlebar = $(\n",
       "        '<div class=\"ui-dialog-titlebar ui-widget-header ui-corner-all ' +\n",
       "        'ui-helper-clearfix\"/>');\n",
       "    var titletext = $(\n",
       "        '<div class=\"ui-dialog-title\" style=\"width: 100%; ' +\n",
       "        'text-align: center; padding: 3px;\"/>');\n",
       "    titlebar.append(titletext)\n",
       "    this.root.append(titlebar);\n",
       "    this.header = titletext[0];\n",
       "}\n",
       "\n",
       "\n",
       "\n",
       "mpl.figure.prototype._canvas_extra_style = function(canvas_div) {\n",
       "\n",
       "}\n",
       "\n",
       "\n",
       "mpl.figure.prototype._root_extra_style = function(canvas_div) {\n",
       "\n",
       "}\n",
       "\n",
       "mpl.figure.prototype._init_canvas = function() {\n",
       "    var fig = this;\n",
       "\n",
       "    var canvas_div = $('<div/>');\n",
       "\n",
       "    canvas_div.attr('style', 'position: relative; clear: both; outline: 0');\n",
       "\n",
       "    function canvas_keyboard_event(event) {\n",
       "        return fig.key_event(event, event['data']);\n",
       "    }\n",
       "\n",
       "    canvas_div.keydown('key_press', canvas_keyboard_event);\n",
       "    canvas_div.keyup('key_release', canvas_keyboard_event);\n",
       "    this.canvas_div = canvas_div\n",
       "    this._canvas_extra_style(canvas_div)\n",
       "    this.root.append(canvas_div);\n",
       "\n",
       "    var canvas = $('<canvas/>');\n",
       "    canvas.addClass('mpl-canvas');\n",
       "    canvas.attr('style', \"left: 0; top: 0; z-index: 0; outline: 0\")\n",
       "\n",
       "    this.canvas = canvas[0];\n",
       "    this.context = canvas[0].getContext(\"2d\");\n",
       "\n",
       "    var backingStore = this.context.backingStorePixelRatio ||\n",
       "\tthis.context.webkitBackingStorePixelRatio ||\n",
       "\tthis.context.mozBackingStorePixelRatio ||\n",
       "\tthis.context.msBackingStorePixelRatio ||\n",
       "\tthis.context.oBackingStorePixelRatio ||\n",
       "\tthis.context.backingStorePixelRatio || 1;\n",
       "\n",
       "    mpl.ratio = (window.devicePixelRatio || 1) / backingStore;\n",
       "\n",
       "    var rubberband = $('<canvas/>');\n",
       "    rubberband.attr('style', \"position: absolute; left: 0; top: 0; z-index: 1;\")\n",
       "\n",
       "    var pass_mouse_events = true;\n",
       "\n",
       "    canvas_div.resizable({\n",
       "        start: function(event, ui) {\n",
       "            pass_mouse_events = false;\n",
       "        },\n",
       "        resize: function(event, ui) {\n",
       "            fig.request_resize(ui.size.width, ui.size.height);\n",
       "        },\n",
       "        stop: function(event, ui) {\n",
       "            pass_mouse_events = true;\n",
       "            fig.request_resize(ui.size.width, ui.size.height);\n",
       "        },\n",
       "    });\n",
       "\n",
       "    function mouse_event_fn(event) {\n",
       "        if (pass_mouse_events)\n",
       "            return fig.mouse_event(event, event['data']);\n",
       "    }\n",
       "\n",
       "    rubberband.mousedown('button_press', mouse_event_fn);\n",
       "    rubberband.mouseup('button_release', mouse_event_fn);\n",
       "    // Throttle sequential mouse events to 1 every 20ms.\n",
       "    rubberband.mousemove('motion_notify', mouse_event_fn);\n",
       "\n",
       "    rubberband.mouseenter('figure_enter', mouse_event_fn);\n",
       "    rubberband.mouseleave('figure_leave', mouse_event_fn);\n",
       "\n",
       "    canvas_div.on(\"wheel\", function (event) {\n",
       "        event = event.originalEvent;\n",
       "        event['data'] = 'scroll'\n",
       "        if (event.deltaY < 0) {\n",
       "            event.step = 1;\n",
       "        } else {\n",
       "            event.step = -1;\n",
       "        }\n",
       "        mouse_event_fn(event);\n",
       "    });\n",
       "\n",
       "    canvas_div.append(canvas);\n",
       "    canvas_div.append(rubberband);\n",
       "\n",
       "    this.rubberband = rubberband;\n",
       "    this.rubberband_canvas = rubberband[0];\n",
       "    this.rubberband_context = rubberband[0].getContext(\"2d\");\n",
       "    this.rubberband_context.strokeStyle = \"#000000\";\n",
       "\n",
       "    this._resize_canvas = function(width, height) {\n",
       "        // Keep the size of the canvas, canvas container, and rubber band\n",
       "        // canvas in synch.\n",
       "        canvas_div.css('width', width)\n",
       "        canvas_div.css('height', height)\n",
       "\n",
       "        canvas.attr('width', width * mpl.ratio);\n",
       "        canvas.attr('height', height * mpl.ratio);\n",
       "        canvas.attr('style', 'width: ' + width + 'px; height: ' + height + 'px;');\n",
       "\n",
       "        rubberband.attr('width', width);\n",
       "        rubberband.attr('height', height);\n",
       "    }\n",
       "\n",
       "    // Set the figure to an initial 600x600px, this will subsequently be updated\n",
       "    // upon first draw.\n",
       "    this._resize_canvas(600, 600);\n",
       "\n",
       "    // Disable right mouse context menu.\n",
       "    $(this.rubberband_canvas).bind(\"contextmenu\",function(e){\n",
       "        return false;\n",
       "    });\n",
       "\n",
       "    function set_focus () {\n",
       "        canvas.focus();\n",
       "        canvas_div.focus();\n",
       "    }\n",
       "\n",
       "    window.setTimeout(set_focus, 100);\n",
       "}\n",
       "\n",
       "mpl.figure.prototype._init_toolbar = function() {\n",
       "    var fig = this;\n",
       "\n",
       "    var nav_element = $('<div/>');\n",
       "    nav_element.attr('style', 'width: 100%');\n",
       "    this.root.append(nav_element);\n",
       "\n",
       "    // Define a callback function for later on.\n",
       "    function toolbar_event(event) {\n",
       "        return fig.toolbar_button_onclick(event['data']);\n",
       "    }\n",
       "    function toolbar_mouse_event(event) {\n",
       "        return fig.toolbar_button_onmouseover(event['data']);\n",
       "    }\n",
       "\n",
       "    for(var toolbar_ind in mpl.toolbar_items) {\n",
       "        var name = mpl.toolbar_items[toolbar_ind][0];\n",
       "        var tooltip = mpl.toolbar_items[toolbar_ind][1];\n",
       "        var image = mpl.toolbar_items[toolbar_ind][2];\n",
       "        var method_name = mpl.toolbar_items[toolbar_ind][3];\n",
       "\n",
       "        if (!name) {\n",
       "            // put a spacer in here.\n",
       "            continue;\n",
       "        }\n",
       "        var button = $('<button/>');\n",
       "        button.addClass('ui-button ui-widget ui-state-default ui-corner-all ' +\n",
       "                        'ui-button-icon-only');\n",
       "        button.attr('role', 'button');\n",
       "        button.attr('aria-disabled', 'false');\n",
       "        button.click(method_name, toolbar_event);\n",
       "        button.mouseover(tooltip, toolbar_mouse_event);\n",
       "\n",
       "        var icon_img = $('<span/>');\n",
       "        icon_img.addClass('ui-button-icon-primary ui-icon');\n",
       "        icon_img.addClass(image);\n",
       "        icon_img.addClass('ui-corner-all');\n",
       "\n",
       "        var tooltip_span = $('<span/>');\n",
       "        tooltip_span.addClass('ui-button-text');\n",
       "        tooltip_span.html(tooltip);\n",
       "\n",
       "        button.append(icon_img);\n",
       "        button.append(tooltip_span);\n",
       "\n",
       "        nav_element.append(button);\n",
       "    }\n",
       "\n",
       "    var fmt_picker_span = $('<span/>');\n",
       "\n",
       "    var fmt_picker = $('<select/>');\n",
       "    fmt_picker.addClass('mpl-toolbar-option ui-widget ui-widget-content');\n",
       "    fmt_picker_span.append(fmt_picker);\n",
       "    nav_element.append(fmt_picker_span);\n",
       "    this.format_dropdown = fmt_picker[0];\n",
       "\n",
       "    for (var ind in mpl.extensions) {\n",
       "        var fmt = mpl.extensions[ind];\n",
       "        var option = $(\n",
       "            '<option/>', {selected: fmt === mpl.default_extension}).html(fmt);\n",
       "        fmt_picker.append(option);\n",
       "    }\n",
       "\n",
       "    // Add hover states to the ui-buttons\n",
       "    $( \".ui-button\" ).hover(\n",
       "        function() { $(this).addClass(\"ui-state-hover\");},\n",
       "        function() { $(this).removeClass(\"ui-state-hover\");}\n",
       "    );\n",
       "\n",
       "    var status_bar = $('<span class=\"mpl-message\"/>');\n",
       "    nav_element.append(status_bar);\n",
       "    this.message = status_bar[0];\n",
       "}\n",
       "\n",
       "mpl.figure.prototype.request_resize = function(x_pixels, y_pixels) {\n",
       "    // Request matplotlib to resize the figure. Matplotlib will then trigger a resize in the client,\n",
       "    // which will in turn request a refresh of the image.\n",
       "    this.send_message('resize', {'width': x_pixels, 'height': y_pixels});\n",
       "}\n",
       "\n",
       "mpl.figure.prototype.send_message = function(type, properties) {\n",
       "    properties['type'] = type;\n",
       "    properties['figure_id'] = this.id;\n",
       "    this.ws.send(JSON.stringify(properties));\n",
       "}\n",
       "\n",
       "mpl.figure.prototype.send_draw_message = function() {\n",
       "    if (!this.waiting) {\n",
       "        this.waiting = true;\n",
       "        this.ws.send(JSON.stringify({type: \"draw\", figure_id: this.id}));\n",
       "    }\n",
       "}\n",
       "\n",
       "\n",
       "mpl.figure.prototype.handle_save = function(fig, msg) {\n",
       "    var format_dropdown = fig.format_dropdown;\n",
       "    var format = format_dropdown.options[format_dropdown.selectedIndex].value;\n",
       "    fig.ondownload(fig, format);\n",
       "}\n",
       "\n",
       "\n",
       "mpl.figure.prototype.handle_resize = function(fig, msg) {\n",
       "    var size = msg['size'];\n",
       "    if (size[0] != fig.canvas.width || size[1] != fig.canvas.height) {\n",
       "        fig._resize_canvas(size[0], size[1]);\n",
       "        fig.send_message(\"refresh\", {});\n",
       "    };\n",
       "}\n",
       "\n",
       "mpl.figure.prototype.handle_rubberband = function(fig, msg) {\n",
       "    var x0 = msg['x0'] / mpl.ratio;\n",
       "    var y0 = (fig.canvas.height - msg['y0']) / mpl.ratio;\n",
       "    var x1 = msg['x1'] / mpl.ratio;\n",
       "    var y1 = (fig.canvas.height - msg['y1']) / mpl.ratio;\n",
       "    x0 = Math.floor(x0) + 0.5;\n",
       "    y0 = Math.floor(y0) + 0.5;\n",
       "    x1 = Math.floor(x1) + 0.5;\n",
       "    y1 = Math.floor(y1) + 0.5;\n",
       "    var min_x = Math.min(x0, x1);\n",
       "    var min_y = Math.min(y0, y1);\n",
       "    var width = Math.abs(x1 - x0);\n",
       "    var height = Math.abs(y1 - y0);\n",
       "\n",
       "    fig.rubberband_context.clearRect(\n",
       "        0, 0, fig.canvas.width / mpl.ratio, fig.canvas.height / mpl.ratio);\n",
       "\n",
       "    fig.rubberband_context.strokeRect(min_x, min_y, width, height);\n",
       "}\n",
       "\n",
       "mpl.figure.prototype.handle_figure_label = function(fig, msg) {\n",
       "    // Updates the figure title.\n",
       "    fig.header.textContent = msg['label'];\n",
       "}\n",
       "\n",
       "mpl.figure.prototype.handle_cursor = function(fig, msg) {\n",
       "    var cursor = msg['cursor'];\n",
       "    switch(cursor)\n",
       "    {\n",
       "    case 0:\n",
       "        cursor = 'pointer';\n",
       "        break;\n",
       "    case 1:\n",
       "        cursor = 'default';\n",
       "        break;\n",
       "    case 2:\n",
       "        cursor = 'crosshair';\n",
       "        break;\n",
       "    case 3:\n",
       "        cursor = 'move';\n",
       "        break;\n",
       "    }\n",
       "    fig.rubberband_canvas.style.cursor = cursor;\n",
       "}\n",
       "\n",
       "mpl.figure.prototype.handle_message = function(fig, msg) {\n",
       "    fig.message.textContent = msg['message'];\n",
       "}\n",
       "\n",
       "mpl.figure.prototype.handle_draw = function(fig, msg) {\n",
       "    // Request the server to send over a new figure.\n",
       "    fig.send_draw_message();\n",
       "}\n",
       "\n",
       "mpl.figure.prototype.handle_image_mode = function(fig, msg) {\n",
       "    fig.image_mode = msg['mode'];\n",
       "}\n",
       "\n",
       "mpl.figure.prototype.updated_canvas_event = function() {\n",
       "    // Called whenever the canvas gets updated.\n",
       "    this.send_message(\"ack\", {});\n",
       "}\n",
       "\n",
       "// A function to construct a web socket function for onmessage handling.\n",
       "// Called in the figure constructor.\n",
       "mpl.figure.prototype._make_on_message_function = function(fig) {\n",
       "    return function socket_on_message(evt) {\n",
       "        if (evt.data instanceof Blob) {\n",
       "            /* FIXME: We get \"Resource interpreted as Image but\n",
       "             * transferred with MIME type text/plain:\" errors on\n",
       "             * Chrome.  But how to set the MIME type?  It doesn't seem\n",
       "             * to be part of the websocket stream */\n",
       "            evt.data.type = \"image/png\";\n",
       "\n",
       "            /* Free the memory for the previous frames */\n",
       "            if (fig.imageObj.src) {\n",
       "                (window.URL || window.webkitURL).revokeObjectURL(\n",
       "                    fig.imageObj.src);\n",
       "            }\n",
       "\n",
       "            fig.imageObj.src = (window.URL || window.webkitURL).createObjectURL(\n",
       "                evt.data);\n",
       "            fig.updated_canvas_event();\n",
       "            fig.waiting = false;\n",
       "            return;\n",
       "        }\n",
       "        else if (typeof evt.data === 'string' && evt.data.slice(0, 21) == \"data:image/png;base64\") {\n",
       "            fig.imageObj.src = evt.data;\n",
       "            fig.updated_canvas_event();\n",
       "            fig.waiting = false;\n",
       "            return;\n",
       "        }\n",
       "\n",
       "        var msg = JSON.parse(evt.data);\n",
       "        var msg_type = msg['type'];\n",
       "\n",
       "        // Call the  \"handle_{type}\" callback, which takes\n",
       "        // the figure and JSON message as its only arguments.\n",
       "        try {\n",
       "            var callback = fig[\"handle_\" + msg_type];\n",
       "        } catch (e) {\n",
       "            console.log(\"No handler for the '\" + msg_type + \"' message type: \", msg);\n",
       "            return;\n",
       "        }\n",
       "\n",
       "        if (callback) {\n",
       "            try {\n",
       "                // console.log(\"Handling '\" + msg_type + \"' message: \", msg);\n",
       "                callback(fig, msg);\n",
       "            } catch (e) {\n",
       "                console.log(\"Exception inside the 'handler_\" + msg_type + \"' callback:\", e, e.stack, msg);\n",
       "            }\n",
       "        }\n",
       "    };\n",
       "}\n",
       "\n",
       "// from http://stackoverflow.com/questions/1114465/getting-mouse-location-in-canvas\n",
       "mpl.findpos = function(e) {\n",
       "    //this section is from http://www.quirksmode.org/js/events_properties.html\n",
       "    var targ;\n",
       "    if (!e)\n",
       "        e = window.event;\n",
       "    if (e.target)\n",
       "        targ = e.target;\n",
       "    else if (e.srcElement)\n",
       "        targ = e.srcElement;\n",
       "    if (targ.nodeType == 3) // defeat Safari bug\n",
       "        targ = targ.parentNode;\n",
       "\n",
       "    // jQuery normalizes the pageX and pageY\n",
       "    // pageX,Y are the mouse positions relative to the document\n",
       "    // offset() returns the position of the element relative to the document\n",
       "    var x = e.pageX - $(targ).offset().left;\n",
       "    var y = e.pageY - $(targ).offset().top;\n",
       "\n",
       "    return {\"x\": x, \"y\": y};\n",
       "};\n",
       "\n",
       "/*\n",
       " * return a copy of an object with only non-object keys\n",
       " * we need this to avoid circular references\n",
       " * http://stackoverflow.com/a/24161582/3208463\n",
       " */\n",
       "function simpleKeys (original) {\n",
       "  return Object.keys(original).reduce(function (obj, key) {\n",
       "    if (typeof original[key] !== 'object')\n",
       "        obj[key] = original[key]\n",
       "    return obj;\n",
       "  }, {});\n",
       "}\n",
       "\n",
       "mpl.figure.prototype.mouse_event = function(event, name) {\n",
       "    var canvas_pos = mpl.findpos(event)\n",
       "\n",
       "    if (name === 'button_press')\n",
       "    {\n",
       "        this.canvas.focus();\n",
       "        this.canvas_div.focus();\n",
       "    }\n",
       "\n",
       "    var x = canvas_pos.x * mpl.ratio;\n",
       "    var y = canvas_pos.y * mpl.ratio;\n",
       "\n",
       "    this.send_message(name, {x: x, y: y, button: event.button,\n",
       "                             step: event.step,\n",
       "                             guiEvent: simpleKeys(event)});\n",
       "\n",
       "    /* This prevents the web browser from automatically changing to\n",
       "     * the text insertion cursor when the button is pressed.  We want\n",
       "     * to control all of the cursor setting manually through the\n",
       "     * 'cursor' event from matplotlib */\n",
       "    event.preventDefault();\n",
       "    return false;\n",
       "}\n",
       "\n",
       "mpl.figure.prototype._key_event_extra = function(event, name) {\n",
       "    // Handle any extra behaviour associated with a key event\n",
       "}\n",
       "\n",
       "mpl.figure.prototype.key_event = function(event, name) {\n",
       "\n",
       "    // Prevent repeat events\n",
       "    if (name == 'key_press')\n",
       "    {\n",
       "        if (event.which === this._key)\n",
       "            return;\n",
       "        else\n",
       "            this._key = event.which;\n",
       "    }\n",
       "    if (name == 'key_release')\n",
       "        this._key = null;\n",
       "\n",
       "    var value = '';\n",
       "    if (event.ctrlKey && event.which != 17)\n",
       "        value += \"ctrl+\";\n",
       "    if (event.altKey && event.which != 18)\n",
       "        value += \"alt+\";\n",
       "    if (event.shiftKey && event.which != 16)\n",
       "        value += \"shift+\";\n",
       "\n",
       "    value += 'k';\n",
       "    value += event.which.toString();\n",
       "\n",
       "    this._key_event_extra(event, name);\n",
       "\n",
       "    this.send_message(name, {key: value,\n",
       "                             guiEvent: simpleKeys(event)});\n",
       "    return false;\n",
       "}\n",
       "\n",
       "mpl.figure.prototype.toolbar_button_onclick = function(name) {\n",
       "    if (name == 'download') {\n",
       "        this.handle_save(this, null);\n",
       "    } else {\n",
       "        this.send_message(\"toolbar_button\", {name: name});\n",
       "    }\n",
       "};\n",
       "\n",
       "mpl.figure.prototype.toolbar_button_onmouseover = function(tooltip) {\n",
       "    this.message.textContent = tooltip;\n",
       "};\n",
       "mpl.toolbar_items = [[\"Home\", \"Reset original view\", \"fa fa-home icon-home\", \"home\"], [\"Back\", \"Back to previous view\", \"fa fa-arrow-left icon-arrow-left\", \"back\"], [\"Forward\", \"Forward to next view\", \"fa fa-arrow-right icon-arrow-right\", \"forward\"], [\"\", \"\", \"\", \"\"], [\"Pan\", \"Pan axes with left mouse, zoom with right\", \"fa fa-arrows icon-move\", \"pan\"], [\"Zoom\", \"Zoom to rectangle\", \"fa fa-square-o icon-check-empty\", \"zoom\"], [\"\", \"\", \"\", \"\"], [\"Download\", \"Download plot\", \"fa fa-floppy-o icon-save\", \"download\"]];\n",
       "\n",
       "mpl.extensions = [\"eps\", \"jpeg\", \"pdf\", \"png\", \"ps\", \"raw\", \"svg\", \"tif\"];\n",
       "\n",
       "mpl.default_extension = \"png\";var comm_websocket_adapter = function(comm) {\n",
       "    // Create a \"websocket\"-like object which calls the given IPython comm\n",
       "    // object with the appropriate methods. Currently this is a non binary\n",
       "    // socket, so there is still some room for performance tuning.\n",
       "    var ws = {};\n",
       "\n",
       "    ws.close = function() {\n",
       "        comm.close()\n",
       "    };\n",
       "    ws.send = function(m) {\n",
       "        //console.log('sending', m);\n",
       "        comm.send(m);\n",
       "    };\n",
       "    // Register the callback with on_msg.\n",
       "    comm.on_msg(function(msg) {\n",
       "        //console.log('receiving', msg['content']['data'], msg);\n",
       "        // Pass the mpl event to the overridden (by mpl) onmessage function.\n",
       "        ws.onmessage(msg['content']['data'])\n",
       "    });\n",
       "    return ws;\n",
       "}\n",
       "\n",
       "mpl.mpl_figure_comm = function(comm, msg) {\n",
       "    // This is the function which gets called when the mpl process\n",
       "    // starts-up an IPython Comm through the \"matplotlib\" channel.\n",
       "\n",
       "    var id = msg.content.data.id;\n",
       "    // Get hold of the div created by the display call when the Comm\n",
       "    // socket was opened in Python.\n",
       "    var element = $(\"#\" + id);\n",
       "    var ws_proxy = comm_websocket_adapter(comm)\n",
       "\n",
       "    function ondownload(figure, format) {\n",
       "        window.open(figure.imageObj.src);\n",
       "    }\n",
       "\n",
       "    var fig = new mpl.figure(id, ws_proxy,\n",
       "                           ondownload,\n",
       "                           element.get(0));\n",
       "\n",
       "    // Call onopen now - mpl needs it, as it is assuming we've passed it a real\n",
       "    // web socket which is closed, not our websocket->open comm proxy.\n",
       "    ws_proxy.onopen();\n",
       "\n",
       "    fig.parent_element = element.get(0);\n",
       "    fig.cell_info = mpl.find_output_cell(\"<div id='\" + id + \"'></div>\");\n",
       "    if (!fig.cell_info) {\n",
       "        console.error(\"Failed to find cell for figure\", id, fig);\n",
       "        return;\n",
       "    }\n",
       "\n",
       "    var output_index = fig.cell_info[2]\n",
       "    var cell = fig.cell_info[0];\n",
       "\n",
       "};\n",
       "\n",
       "mpl.figure.prototype.handle_close = function(fig, msg) {\n",
       "    var width = fig.canvas.width/mpl.ratio\n",
       "    fig.root.unbind('remove')\n",
       "\n",
       "    // Update the output cell to use the data from the current canvas.\n",
       "    fig.push_to_output();\n",
       "    var dataURL = fig.canvas.toDataURL();\n",
       "    // Re-enable the keyboard manager in IPython - without this line, in FF,\n",
       "    // the notebook keyboard shortcuts fail.\n",
       "    IPython.keyboard_manager.enable()\n",
       "    $(fig.parent_element).html('<img src=\"' + dataURL + '\" width=\"' + width + '\">');\n",
       "    fig.close_ws(fig, msg);\n",
       "}\n",
       "\n",
       "mpl.figure.prototype.close_ws = function(fig, msg){\n",
       "    fig.send_message('closing', msg);\n",
       "    // fig.ws.close()\n",
       "}\n",
       "\n",
       "mpl.figure.prototype.push_to_output = function(remove_interactive) {\n",
       "    // Turn the data on the canvas into data in the output cell.\n",
       "    var width = this.canvas.width/mpl.ratio\n",
       "    var dataURL = this.canvas.toDataURL();\n",
       "    this.cell_info[1]['text/html'] = '<img src=\"' + dataURL + '\" width=\"' + width + '\">';\n",
       "}\n",
       "\n",
       "mpl.figure.prototype.updated_canvas_event = function() {\n",
       "    // Tell IPython that the notebook contents must change.\n",
       "    IPython.notebook.set_dirty(true);\n",
       "    this.send_message(\"ack\", {});\n",
       "    var fig = this;\n",
       "    // Wait a second, then push the new image to the DOM so\n",
       "    // that it is saved nicely (might be nice to debounce this).\n",
       "    setTimeout(function () { fig.push_to_output() }, 1000);\n",
       "}\n",
       "\n",
       "mpl.figure.prototype._init_toolbar = function() {\n",
       "    var fig = this;\n",
       "\n",
       "    var nav_element = $('<div/>');\n",
       "    nav_element.attr('style', 'width: 100%');\n",
       "    this.root.append(nav_element);\n",
       "\n",
       "    // Define a callback function for later on.\n",
       "    function toolbar_event(event) {\n",
       "        return fig.toolbar_button_onclick(event['data']);\n",
       "    }\n",
       "    function toolbar_mouse_event(event) {\n",
       "        return fig.toolbar_button_onmouseover(event['data']);\n",
       "    }\n",
       "\n",
       "    for(var toolbar_ind in mpl.toolbar_items){\n",
       "        var name = mpl.toolbar_items[toolbar_ind][0];\n",
       "        var tooltip = mpl.toolbar_items[toolbar_ind][1];\n",
       "        var image = mpl.toolbar_items[toolbar_ind][2];\n",
       "        var method_name = mpl.toolbar_items[toolbar_ind][3];\n",
       "\n",
       "        if (!name) { continue; };\n",
       "\n",
       "        var button = $('<button class=\"btn btn-default\" href=\"#\" title=\"' + name + '\"><i class=\"fa ' + image + ' fa-lg\"></i></button>');\n",
       "        button.click(method_name, toolbar_event);\n",
       "        button.mouseover(tooltip, toolbar_mouse_event);\n",
       "        nav_element.append(button);\n",
       "    }\n",
       "\n",
       "    // Add the status bar.\n",
       "    var status_bar = $('<span class=\"mpl-message\" style=\"text-align:right; float: right;\"/>');\n",
       "    nav_element.append(status_bar);\n",
       "    this.message = status_bar[0];\n",
       "\n",
       "    // Add the close button to the window.\n",
       "    var buttongrp = $('<div class=\"btn-group inline pull-right\"></div>');\n",
       "    var button = $('<button class=\"btn btn-mini btn-primary\" href=\"#\" title=\"Stop Interaction\"><i class=\"fa fa-power-off icon-remove icon-large\"></i></button>');\n",
       "    button.click(function (evt) { fig.handle_close(fig, {}); } );\n",
       "    button.mouseover('Stop Interaction', toolbar_mouse_event);\n",
       "    buttongrp.append(button);\n",
       "    var titlebar = this.root.find($('.ui-dialog-titlebar'));\n",
       "    titlebar.prepend(buttongrp);\n",
       "}\n",
       "\n",
       "mpl.figure.prototype._root_extra_style = function(el){\n",
       "    var fig = this\n",
       "    el.on(\"remove\", function(){\n",
       "\tfig.close_ws(fig, {});\n",
       "    });\n",
       "}\n",
       "\n",
       "mpl.figure.prototype._canvas_extra_style = function(el){\n",
       "    // this is important to make the div 'focusable\n",
       "    el.attr('tabindex', 0)\n",
       "    // reach out to IPython and tell the keyboard manager to turn it's self\n",
       "    // off when our div gets focus\n",
       "\n",
       "    // location in version 3\n",
       "    if (IPython.notebook.keyboard_manager) {\n",
       "        IPython.notebook.keyboard_manager.register_events(el);\n",
       "    }\n",
       "    else {\n",
       "        // location in version 2\n",
       "        IPython.keyboard_manager.register_events(el);\n",
       "    }\n",
       "\n",
       "}\n",
       "\n",
       "mpl.figure.prototype._key_event_extra = function(event, name) {\n",
       "    var manager = IPython.notebook.keyboard_manager;\n",
       "    if (!manager)\n",
       "        manager = IPython.keyboard_manager;\n",
       "\n",
       "    // Check for shift+enter\n",
       "    if (event.shiftKey && event.which == 13) {\n",
       "        this.canvas_div.blur();\n",
       "        event.shiftKey = false;\n",
       "        // Send a \"J\" for go to next cell\n",
       "        event.which = 74;\n",
       "        event.keyCode = 74;\n",
       "        manager.command_mode();\n",
       "        manager.handle_keydown(event);\n",
       "    }\n",
       "}\n",
       "\n",
       "mpl.figure.prototype.handle_save = function(fig, msg) {\n",
       "    fig.ondownload(fig, null);\n",
       "}\n",
       "\n",
       "\n",
       "mpl.find_output_cell = function(html_output) {\n",
       "    // Return the cell and output element which can be found *uniquely* in the notebook.\n",
       "    // Note - this is a bit hacky, but it is done because the \"notebook_saving.Notebook\"\n",
       "    // IPython event is triggered only after the cells have been serialised, which for\n",
       "    // our purposes (turning an active figure into a static one), is too late.\n",
       "    var cells = IPython.notebook.get_cells();\n",
       "    var ncells = cells.length;\n",
       "    for (var i=0; i<ncells; i++) {\n",
       "        var cell = cells[i];\n",
       "        if (cell.cell_type === 'code'){\n",
       "            for (var j=0; j<cell.output_area.outputs.length; j++) {\n",
       "                var data = cell.output_area.outputs[j];\n",
       "                if (data.data) {\n",
       "                    // IPython >= 3 moved mimebundle to data attribute of output\n",
       "                    data = data.data;\n",
       "                }\n",
       "                if (data['text/html'] == html_output) {\n",
       "                    return [cell, data, j];\n",
       "                }\n",
       "            }\n",
       "        }\n",
       "    }\n",
       "}\n",
       "\n",
       "// Register the function which deals with the matplotlib target/channel.\n",
       "// The kernel may be null if the page has been refreshed.\n",
       "if (IPython.notebook.kernel != null) {\n",
       "    IPython.notebook.kernel.comm_manager.register_target('matplotlib', mpl.mpl_figure_comm);\n",
       "}\n"
      ],
      "text/plain": [
       "<IPython.core.display.Javascript object>"
      ]
     },
     "metadata": {},
     "output_type": "display_data"
    },
    {
     "data": {
      "text/html": [
       "<img src=\"data:image/png;base64,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\" width=\"512\">"
      ],
      "text/plain": [
       "<IPython.core.display.HTML object>"
      ]
     },
     "metadata": {},
     "output_type": "display_data"
    }
   ],
   "source": [
    "for bidx, full in enumerate(walks):\n",
    "#     for dim, (frames, nums) in enumerate(zip(full, deltas[bidx].T)):\n",
    "#         a = util.Animation(get_traversal_anim(frames, vals=nums, scale=16, fps=10))\n",
    "#         break\n",
    "#     break\n",
    "    a = util.Animation(get_traversal_anim(tile_dims(full), vals=None, scale=16, fps=10))\n",
    "    break"
   ]
  },
  {
   "cell_type": "code",
   "execution_count": 79,
   "metadata": {},
   "outputs": [
    {
     "data": {
      "text/html": [
       "<video width=\"512\" height=\"384\" controls autoplay loop>\n",
       "  <source type=\"video/mp4\" src=\"data:video/mp4;base64,AAAAHGZ0eXBNNFYgAAACAGlzb21pc28yYXZjMQAAAAhmcmVlAAB7k21kYXQAAAKvBgX//6vcRem9\n",
       "5tlIt5Ys2CDZI+7veDI2NCAtIGNvcmUgMTU4IHIyOTg0IDM3NTlmY2IgLSBILjI2NC9NUEVHLTQg\n",
       "QVZDIGNvZGVjIC0gQ29weWxlZnQgMjAwMy0yMDE5IC0gaHR0cDovL3d3dy52aWRlb2xhbi5vcmcv\n",
       "eDI2NC5odG1sIC0gb3B0aW9uczogY2FiYWM9MSByZWY9MyBkZWJsb2NrPTE6MDowIGFuYWx5c2U9\n",
       "MHgzOjB4MTEzIG1lPWhleCBzdWJtZT03IHBzeT0xIHBzeV9yZD0xLjAwOjAuMDAgbWl4ZWRfcmVm\n",
       "PTEgbWVfcmFuZ2U9MTYgY2hyb21hX21lPTEgdHJlbGxpcz0xIDh4OGRjdD0xIGNxbT0wIGRlYWR6\n",
       "b25lPTIxLDExIGZhc3RfcHNraXA9MSBjaHJvbWFfcXBfb2Zmc2V0PS0yIHRocmVhZHM9MTIgbG9v\n",
       "a2FoZWFkX3RocmVhZHM9MiBzbGljZWRfdGhyZWFkcz0wIG5yPTAgZGVjaW1hdGU9MSBpbnRlcmxh\n",
       "Y2VkPTAgYmx1cmF5X2NvbXBhdD0wIGNvbnN0cmFpbmVkX2ludHJhPTAgYmZyYW1lcz0zIGJfcHly\n",
       "YW1pZD0yIGJfYWRhcHQ9MSBiX2JpYXM9MCBkaXJlY3Q9MSB3ZWlnaHRiPTEgb3Blbl9nb3A9MCB3\n",
       "ZWlnaHRwPTIga2V5aW50PTI1MCBrZXlpbnRfbWluPTEwIHNjZW5lY3V0PTQwIGludHJhX3JlZnJl\n",
       "c2g9MCByY19sb29rYWhlYWQ9NDAgcmM9Y3JmIG1idHJlZT0xIGNyZj0yMy4wIHFjb21wPTAuNjAg\n",
       "cXBtaW49MCBxcG1heD02OSBxcHN0ZXA9NCBpcF9yYXRpbz0xLjQwIGFxPTE6MS4wMACAAAAVn2WI\n",
       "hAAv//7rLvzKjVuypdBwrIO0v/MSCZeZoXmV9wXjiRXobKbHEixgIQoPnrtnT9cIZHh4Pg80FI9Y\n",
       "W2oRKlJUwijupWoSZlEP4e7BS/jxdOxUdk9SGQf65idsqqHAno+U+w9WyeZ3Vs6Ch21NoeGpkA8Y\n",
       "k3mvfrYhG1XJ/+0RWYohp4/qTS5QYgPZ5egRRVwt89MRAQw2VlPkkl4sluKTbnlFJrqGEK+88iPC\n",
       "JZj2yVk0VjVlHLImmltno9E2/Ar/S0zvC3FfJo/Cfj4hAzHN61M+2swMHN2+4aVUA/KLZbTxWEaR\n",
       "PIF+OUdqsDeC4aM9rCIoYHxTheg7p8RO2D4Btyhyx5wxLlnr6E1+4k/PcMtLGLgC/3qoP5hNGpiA\n",
       "npfPannId8tc+7Ktp7S3NWi9JrIFTN4OgW8YlbKo8hcIhdgIA42f6u2Qv7Vb5UiEaOaz5qpMOZ1D\n",
       "8XA8JfGgWd0bHx0vRAGOVJBvOKDErfHl/ODn1UDOpL0hAVGU+7dOErp+YFFbQDhX+HZLtJorTOUi\n",
       "OKJx5pz+EAYqPPo8CR7buf2p1ywpcezr+1M6jg7lm0M/Cn2WH+kLrxzdZC+dhcNofcxmiRUlLj1h\n",
       "wb0RWZkXsxhtdsHRmasCLBEPZ6Y7uRF7zd/bYJVkrDMddV6vxDVVMRxp3I0d55rSvonV73afZX8M\n",
       "6JY+uLsMdK+B6Dyez45k6qHfrakqX/459973JKaW118gODKIAYYXl51Or6dBeCXIPZKGlAXDH7qc\n",
       "fTqBMiCx4nHBBS/7AIKc2yxZhccABNqy4zISw52uy0WylhixhPIcTmqIxB4QA0yps54vIYD23Ovc\n",
       "xpXzC7O8lAM45tCYud2b2iKu52CdsidX34kNDo4dEOG4cXhqVE7cTA1fK8yb+VZFbaoBcFQJUOwu\n",
       "di/tx2HoENYnWJPYa2U1aTqr2Y0lK5B9ccKN8UkT3Icme1zuMEQjjCNLZAf5qAoSv6qKevcZD4QQ\n",
       "1iK04qX4k5OAKH0bHjTX+WC/jbrNKekfQx5PjvqaA4sf6xFeN1+mXF33KUPbX9cmM6t15kXLBJxF\n",
       "hQk120mhyP4I3ovfX9paYfQv5w97nFtVQobogc9hy0rI+K8IyEGIVIqATCHp0ZkXAmAGNGZlawBA\n",
       "6KWbchePuB2DLc/xQ7vQ0XG9HT9n/5QgtbvIiF43cg0XACxvJX+AFk9I94C1a2vjdJE9+cxyRKqI\n",
       "baLdhk3SS9GHGzIlW2Fo33t8xoIEBfpKxgoZGBq5hjwNXi84cM3peOdmo77Agz65M2JiQaDGt2Wt\n",
       "/cGL6uPc9lICEjRt+QhXt9pJyjtA0vk0hmLJ8bSfqzq7tzIddfIOex4Ig1uaWyOFtvfu3ZabDcx/\n",
       "hYaME+XHcrMHqcdM5K4giTurxbbtu7G+tOe4ljYtvw3mERwhFeHKlHA81BxaaZOa2XhFk+C5mfpV\n",
       "JP+SDxb3FkrnXBiRVy0Uyy8DSDYMO8ChQFpiSPrO8IkZxdB4qWJ1JdiGfM88A4NcX1ObxgzFKUHK\n",
       "sWeV7DwInRzOrnANQsh2B2VYwYGFk3vGMyiouKicA085cDGdJ96j3QSF9GBW0ZCSXTeEmWWt6EkA\n",
       "UOu/GD1pjQADpyf+g7G8O5GT0FTf82KqGSq7hIqAUWXnilLDaOFkceh5mGYy2LOMFwfbrsuO5uhR\n",
       "2pptDlSF+0Yfkdb8lMyv6d62q9DKu43ZUwmZoAqGUogMTYHHWplAOo8F4JPvKxOnb8IMMFH8w1Yd\n",
       "h4PDDych3LGm41rLWj6GArGNhaQnlgUFZrHSCLmEiZ8mEEKvtMLE++Ck6JUsgTgrF65DK3j4hHtV\n",
       "79uuw3PCKj6ghhoWwscdZmrjOJwmfAjh/f5ahiGakOMyBODdN/qBe4fOnpfcz+obUzrG4seR4ZcY\n",
       "xcJpWPVaFzOL18Z21Ay6vXl8RgXochrDG/3OGOJDdmNI9G2ssvZY4Gojc8weHaOnAkhcXTjZkeMN\n",
       "EVt6l/hvUWU0oRrZATqOwd6ip3WvNbz8TXqCScn6d+qNZ8glPvHpRxulul+Oyahn1JyXFhjyVqg+\n",
       "YyrnnZFPxRgxvT1p3W2sS+pny/5uJ9JNoxu/0N3qRPGrErAMcxA2t07m7E2Ru3l0lwFwSJys+8h3\n",
       "N+4EiQZZhm4J5mZ7JSbFaKdTXJAC6WuAjdDbMdhNiz9qUi4cUrCrQnA8VuJkiIhm+uazrOPyf182\n",
       "z/lEslKG6RC4m7G3e5gQxd3ZlUax3KoOF+zBEfUL5LYhmn4r+WQPSPgvUVp0POwTh/yI5FeXAUDS\n",
       "SmexUmXpcK6hSJBOhip7jliOcPM1/VYY0XquV7A6OT91uq+77C8ImnTs4OQYIdiF6qmhpxyeCfPI\n",
       "tsi5FiIB05tOztWm/Im5bs6myAEVIxLXXnGVNvNezSOKvm2lvwvCaWC9nK9ctCBL1nCgPxeq9vdS\n",
       "/glmQf+0wEE+y+HC6wTy3snmLlVxKVW4MTiQZo98vGlwFEZqpfy7/Eg6dPVTcKYSh7thTzwrZnXb\n",
       "KyTEu/fNe/M3X8Kin0Y/iIyOQcauhEpnotAkzmrziNK6f9eTd7BLunEVvttOVqIcxHX+KWOVGdXa\n",
       "Do4lHqeEGdn2tJohf2krXtKZ22krS2yGSaW9oFOVxdpamFSNNfM2u1COm5p9s6R5DS8xXPRj43wm\n",
       "v+mO43KbsXPntS0W9bmMOXm1HLQtuq9sGsfexTRk3vz6+wG13PcuvJx8eEEZyy2bqu/Q3/Cv+3y8\n",
       "dqbnU2kDwAPZ93Pe+/57HFpZ5byKOpSAxN7OJygqMqOPfj15+NVZXmceApdbo7wiP4gROoHIfofX\n",
       "8zT/RH2hZZI4znK5FV6a6RicqxJWss4trRs4lvmuEKHPCu9IsqNfvFer311KhHpG04u4oOf3xJ5w\n",
       "VhaqrsIX88+2XQHmErssJmokPlZhrWr7Qcy4QHinY0Zfno4E5XKx1HxyY18j0ThbvGX8+3gIKHCU\n",
       "Mazdw5D9Cw4Bbs1J+I9TZfJf3rZlHlBtsM7dfUPPKdkDrqKyeAVt35oiUwUs6ZbtmDLOhjRf4Llq\n",
       "9K8H6M7nuvtewEQQRUWLsErLvP76y0x9n2ukcHs1vKKVtJ/KgN3oSmN3VLYkVsuwDOTlKkfSUZEJ\n",
       "o2TZO1MuFCLtqkqYYul/zrIRu5xVYT4TrM9UCIOLO3lyZC7olYP4A5qGivVk87XAReJXf4ba0B26\n",
       "q41q9FNA8Fmpxj+fr4lBsU7tio4DgHGPTvh1Ei4jJnmIK7flAtHO0xdWoJqcxV18Z005pbdmTkAN\n",
       "uZAfVR4jByoza+phLfgi0sNiMKR2MwB61ozZr6e+aGfPCreaDL5EGzWt5ufJFvL/HUaiO0oUZh/C\n",
       "3WFKg5AErbbGOoGgBr+zI5zMEgeUSjBAItx1TtsfjCDVP+ChXKffxHQHfmIiBlu2iHoorwNIt8oD\n",
       "X8jGmmXVa6ZaIWMFAmjyBXrMlL7gdRHExYoEKFAypcN+gLD5YR9rUWoDNNmx3SPqXovDHPCjU6m+\n",
       "eTMMIdxPPZoJXaoUcjowBfZylzpLoyRj6Q7Efq1u37anhG93INDot1+tJKwytGRYBxju/liNeLqv\n",
       "q+AXJ9kI+06TED5TMIW1UQfVfqVH7QteoBYKA+OmT/fjNLrlyqLD6LyBxjkHaTItKxUGnHV6h/24\n",
       "Nvn7r0uvY8dLJz1StqWIrK5PsYi3cqqESe36Gj4KCyJA0jx5EwI8NNRnX618ZvOREK5YJOcaBCmT\n",
       "anZDgRk10b2vqwgNmxN0WcnNTXJ3iC00wodFd/L/RGaRXLdZp6nldQBvv+zr9Fc6E2AoUJGu9I+r\n",
       "03GU1eMzThU1mgbIfR5CG8sYJV8Pn72JL+FsYZuQQxcGAaw9cwsztUkJCc1WR127dpRDlVCnA+nN\n",
       "12e7BI01EOeX8G0w3Qsl+kepuRe+h4E2QvBVf6jUwAUjCXrzcHKooY8N+jJQOll1fyq3t8lO59L4\n",
       "JaT3I8o5RbZ1/CMFSs3pUfk+BwLU2uoawwYPw4F64WHnVqwjeWade5RbAfZTxxyOE9ekQoPb7ksL\n",
       "4Dg4vNRgfDEWft1IHBO5W5hMGcAdz5gTpV5Knv87wA/1mzrBCr8cCcy9ealHHqiI/TZQoLP1g6xa\n",
       "tCOQyDr9YS1gwfWkbAsLMyMcC1f7t0p7x4jO7JlaKl3q2kVxnwsVxxQfqkrTyDCx8GIA1954YuOO\n",
       "Vb+bRfPP+ny5CwLWptyRv0tWtyeoO7F2CKjPxg0qU8o4QW0bp3jClPEMX59PbXbVrJJ5mw2339Hy\n",
       "t6bfIfJ+vsH9pZR4ztZEFQ5pIxf5kuM3WzejHFpq1W+E3E7uroJ5GbHXHTO2ZrXpuBWh0LfWmk8Y\n",
       "08rlHkm8iRuldJ+lZIrWKCLs4XDbcN58vFvjotHXpuH38tISNPaBPlyREdnmB5M5zASNzhRVv8BV\n",
       "8FgCBm7f0pLnv3NOFYCCPdOpEcunnqF6hWWfpGla8+X8NoQtNSoB5QvKm2jiP6BFTeRBTGL8POwp\n",
       "nGKQogKN89EYK7wt0YFDa7kz6DfMvHfb5TyeAtqB2AOvpRs0e3DClbL4ZU0w+4LNHwK1zGJ2uHqM\n",
       "37PA7/ZhtanuWMbqsZOiPuCHqhM39oHzv/9r5nwOJcjnSPb7GBL2J8GES7p3wFA4vyfWVcUa07mr\n",
       "jTZ9oeFZGVWsXFxZ0RwJcNYEcEUDA/6tO2FjR9sT0z++cQV6ug8LSEvAUVijTGLCVJ2d92R9COPi\n",
       "x3cAvCv979zFeaaIR4xwwVvwf0Rs+pRBCdoyeL+hZO89QIw5HAbu7X6jAQQc8Tyrp+JqjsIThpfg\n",
       "WKghK0n33VtQJc3csb23TLNA2S+koKMOaK0p+wg3PJttVckjNY0DRWoJvN90Cf+ymktiTumvXtav\n",
       "M/EFHvciD9gnxKI0gCtYFQD3jyiiwfsyDdmju0n+2zojYbC5o57RXIrQmRQgQp+Cu2NB2D4wYPxa\n",
       "bd9g+qrumJ/ncBxp9hFfFT4hUxah0BAyZZGwghKEHsUeBMhr8v85qIpRzt3hTFmQctzbl7+QvI2a\n",
       "baz7MkgxquA/qu7tZA4XTb0WFNINFd+OaTZ/sfumvjdyQrLCJ2cWUiDZEPTZede2oJ+9Z9oTjB7r\n",
       "HjyW6bvcNafXnKElDExWzCL0S5DFoQ8A5R7y1QsAi9durS6U2aShfRYTIsCggIPgvxkhUH/oKr7f\n",
       "N8gGVfsGDKOwAgq+2zjLFTskr4Mg/BqZzqt4P8JkmIfvu4NC3oyXg9G78Rk6S6bPhviv0AiWCdPI\n",
       "gbs7dmZHcDBpGRY8T5E8gi0XEg3bAQpERDdSdodLWIPrF9R4Q0ZLGoMMt8cZDACmDxd+2736cryV\n",
       "3zLgc93Dhtmh7dnGEXW/frndRMpSKcVHjDtcoNtE1kAOdFU92mAG8avWME1FnSyPKhIS4XaAGTLa\n",
       "IBVB9VzjwcsDe+Qb9Qs6a7w2YYl1ea+B4H5kNGqC3mSClQr11tM55N7KpWl40RLuU5BAi1VmMIbP\n",
       "ubLaEVytEWnMkFMEKcofoEvC1k1pYrP4XHi1yNX0zR/VqlWIJJqw6ZZWz7ExCow8ECTaK0JuVs9U\n",
       "0rXkIy0H0mG8I/wY661NSQHLupXdIx0fwFUPYwvQHOF0iCmIrZ2fbwX1SyH2e/+pvAjoRymMCwgw\n",
       "V5akV9FirhRSuRI/GxXlZTulEERbsl/LrKTQh6/J+oKXPmnHOUWpp/B77wDv3wsUJBwFJNJwzrb3\n",
       "MM7dm72ZxA6VjLgUwy2hq2qv/y6eyUFzXroiR9kV2az6BtrNNtdVyQM6CZSmwz9aevVzaVtOPMIq\n",
       "tNEZ4du9nsHNtSCPP8ztQJ03goxVPPX2lZtBeo2BrNY9eKOgnsSC4aSWqlW/Al76mBKexzC4GdNY\n",
       "Xyh8Xj4LIQXpyoGnqzXzope0ATn5udrlApwAL5bkv/XJonVZh3Cepg5NDy/s4NeHqLfaVTpeO08v\n",
       "wUF35uc1NrmR8UVZaKXL1gfNQzyhr1UvC98Acc32rYkEPYK+7WnBNfAwkHylofP+oHNvstYriMsn\n",
       "zFKuO9FWRBrtW8VmtZPzCS+qkSIbqwftHBwdXdvlnfCxBuDwQrV/7vRsD3oPS9a5jzOwIUXT5tk1\n",
       "bWPT5ZSJnkdsqV6/cRTDCbPmrLKRLE4KnXNtzPsaYI+9FcF114aeRj2/UvVk+3BwAqMKre6B3Zop\n",
       "vNZFXQQHL+TLZIekERbNhXbraSP70YAr17a/Fd2xtyFSDmrNKByvjKmLzlKC1tsDYtmfGha4+B0S\n",
       "dqPm0GEkLKxOjy92HqYO2EYsmKyk7RkIsVDSxLoNegeGHXfMBD5NY/DwjF65abTyM4ITKUCK2Zv4\n",
       "BY7enGdI7NvJFBNe0NvfgMYVEI73M8lL0qlbx/Z2u/2dmdAHlrXaHczXVyitpz+Bjo/y/K2jQTBd\n",
       "8kIdlDDGJNBx3WArhAHhezyaE2VCrat/1QgtR29/dSZI38aD5H+T7PyLjHJNmTysAndeQWw/4U1+\n",
       "c5arHxZT7CHORSvUXXh3TTbS9LybdBD+uWRxP1ik9JDYVozSXtjuAU0TSbOgxCiGemef7Eh65RgB\n",
       "1TWXL7eitynfBxZu6KAvtRzo8jRtDMawMX8xED7ajD5kTNCWjCsvui5UeNkAQUx8TcREnObq38lM\n",
       "/Bjnwz7RiUv4X6HcH6Nx73k0T2oYWywwMVtZFy/+TrP9VhI5zuWdsKoWhS0YuVdSu9wSbPd4/4tT\n",
       "u/abtWOmd7UsEdc0d8vq9SoFZVC4uzr4CsACIRFoUyuiPHr5Tk64r40y3RkSyClXqCy1UrmNgwiL\n",
       "T80+ebSRa0mJ82Ue8j5ncBo8fTdTreCoq9O+HzcycloEk1y7hJt/kofKIKkx+OR3Fqb3dHVHEvvX\n",
       "hkpTRP3RXggj5dj71JHaq6a5bezdqz7/c0KPIM3dMQum9MRNKp99sWTmEkZWYUtgFIzpOxrWauBr\n",
       "I9SJXxa7tbPBsHQQlYWF4wh65ti6cjIRWDitcVX6d0cOMQU/iLYHSFefXgaFhL3LRVX3CVTiS3kF\n",
       "Y9kl5B6ucaRlz3oIzaKILrfcNihUzoo/Loy75lugVvT56cjV6rFKC47yDRr9vaQgn0nnldteJyH7\n",
       "bBn2uY20ID3W2vGgH8mV99BPTj89VEdw1gP9v4ijgKfBVuZtl4zrPza9CePcVUXpnBW3xsq5Cii6\n",
       "ebK1MTEIwwXuHzwst+htTVejNqfr2bnO92uQnLcAJL0f5rJBz8A8f+XyadaKEdP9dy+ZqHRHML0m\n",
       "S+DOEmqxyQ6wHISf2gEXpYLK9bd3O0QOFrW0QSUZNrjgMG+0xoxkSN3xITKZR8TcMdTV6RbeQ66U\n",
       "6gSCOwpQ7xmWwZdkxJqSaLTWYs/AxjeapBLdVM3ociEmsHP/jGXrfEHEwvb9NfC2/BIy0lT1mGU9\n",
       "1l9dfwAACxNBmiRsQQ+ZT0/2V8vSukjkG3wwmAftERgiDV1TQuTevT+hdX4WaE3+ejwH9HDqE3dT\n",
       "x/c/rWSmrkZ/MJH/2JXR/QZ909O6CQofijovizxv2lwt13m2afp++ccKw17eyNly5ocsIPBYrIc8\n",
       "W8TAFlvlNYTWgVGgA4BbgY95I0UQIzLbAhaz9sEqK3H5Fxs4qOBoHIWNXbMlYksrnuryR9GCVKCv\n",
       "qAaZerGcMbvTkaV+Pbvl8pGK1gzmBz1FBZ3Zb0lrnTX31xGmmwlq6ce1w9Lh6VIgsrO5ChK/K2pz\n",
       "JroCJgrVNLh+r53ul0zWcxAiQBdb13KybsNwQpuJyNfg1VcKd0eBI090Ow129U6loZHjTbacJwo6\n",
       "UdgtQB4k1spJogBOWLFF3EtI4/MA3T6RaLk8ICcTISvjXAouXOJpJ5PW5+EeGELL6m9jHiyPhBWf\n",
       "cf/BycED/7+r7NuKR/e6foP2uU0L2fi6HnXgkg9//UTjG/3agbOxblETHN/5zK84GNdW1CUO38/d\n",
       "/COwh3avw/LpmP4ILFAH1eHdeOkYXamyPhkapDpxvh7hToLknDO+MYhOOPWMHYNbtrrAvZAeknkw\n",
       "EP1b+mQ5RJgo1WQdaztS5GNN8Hyk1H2YKcrVDFB+NA+/RKRrF+hMZMzeDz/gvxCH1cP443krmUqw\n",
       "Le24lBUWFQ0E558ZQeq3/uiGgOnzVmpNOqX3+OFaMlCgHXmN9dSkpWU/fMkv994ubzt6/cpcHBW+\n",
       "GbHx4I2hsCMJskmS7t3s/lG7Uli3z+nsDgeerdGlnVinkVMENweucOYsn0Ox7C2i/s5IIxQ5m7Qx\n",
       "nFjSY2fpKbAwOFRU4emJmH5joEt6xmEFnV+uC0nMBNPW0AqlN7zaTC/d62W6pD0VUJOhARYl2a/u\n",
       "Fqlhb5mXTVAmzTU97wvMLlOTK2X7IneH92lMeZF8i69j/OcOc4d8Irwzb7gtbTqU2aaAhLycaWGP\n",
       "bMvnaBJD3eDzsHNQpVFuaGyBy96XLnRuWckbQsIjEys9kgmx74HHMWbUa2TBSDHTqrgQRO14v1qC\n",
       "sx3eWSu7v7/VK9ef5UIA5R8ULGIfbyu8aJd4BgECNVfylG1rIaLi46ZIIyhnuPywlX/+XDX7L5XV\n",
       "hxrQ1DBFtkt0siNlSCRWY0IUzh0mIoy/VqxwseIhhD65bS/29b1K2QqSS++2pJxnv/LIRaVTTrGR\n",
       "yo+8hKltijxBHYqq7oa/ZFbrLGpDjZGLoUcUrvKQP9y4YOzhb/MX9e+uny+mRLt9xEWpkrCGchYT\n",
       "j5eXt6+wVH1aYnD5125+KqLWvWasfrwOpjka/pbr12W0OU3ncXOz0f3A4j0JWlfa+V70HDDpXpJd\n",
       "jXCeFoRda+yRtI+ooMx5CXNHfSeuSIeEqpd8ari+6IPABO/QyU5t9Oj7k7nOMLzoivTvZHHh8rQc\n",
       "HRhdkJdKIQDLh3Mds5BeYW5WyaOJBG6Q0fcQq1yKny8lzQzGJb0+vw8DCnuvuco25Zs5+qL6Si4q\n",
       "ps0shcEFghcCEHst3qkrylqjm0j2ciaKIjybONknPfuBmF7bDVGXmw/rEi0mglMAfhNZgy9ds4qM\n",
       "l/M4ixvE5te4drpwyYUSgE4a/TN/n89Q9d27O26Ua1d7NKIT8QTdI0c3NvuGSSe9o/eQBROhXcVl\n",
       "zN/vNQII+jCpb3gU9SHwEZSZ8RzCmIEMZEeqipFD2sUDFJbEVmjrRtmIXJefDwi9JSMYn+GTQPCr\n",
       "A9dOqkyqB43apOaJ/AEAhvGfq7YYhHcADMYdVQCEQjjG5rakK7J7mtiBtN6fDIVgCoSZWkO2cTzs\n",
       "Ed/+bYr61bHOweRa5FRLtecjVXdKgNu9bXI1/Nzd39kJR+DgSpaymSnBFldf1rxQhSDhSRS390xl\n",
       "8dXKxgyxs6SZz5dfWxhfUvxuQObjTyJQTveN7ejQ1QnO/Tj5rYejQMXpSMDKE8yiGCe2AGXW4j4C\n",
       "DtxGDH+FL8R5x9MTZBssKGanqyYR8zyEjE4HT/5c5KmRgyoquCQDhlsIUoFjLWqp0V+jH4u+gPNu\n",
       "wERBHvhO1QB+Yn8DoW1GPoc7UpxUBX4+M9fNNmTp4SMCKHaQgbOKMFN4p2mBhZvpqBkOk2hUO/Ph\n",
       "Y4EOcbduzfX+/nsY/tKXYNY+lBPnHqTVWm0gcMsrH/Utko2eTSaSAa6Rej4vqrOzPf2sq3nMLbXf\n",
       "em5k0JvzXYYB1X+VeZnapoYwli3KemOhxqELfpB4GBKL72zCmQpRex9X9IjpXP6e0hB8K8t7kRKC\n",
       "5vDm+r+L13JSvOym6TU76rBbCpWbUU2TfTB2N9N+FAFy+cJMtDhL2Om0I0l5oxXQLOEEDluIbgtZ\n",
       "SGodZmbdsITMAlwxaLF7+iDCNA5f9bkcKqAmjcSa605HV+KKs4lh86+SBUQXBFEJaIAy+5Pk1n8W\n",
       "oi50Pz2X2eOI9mFbr+dSj/5C0KJB9WDvioo4QIA+tHz12p7QBiWrThqa8WTktk8+KfWyjW2C2lsY\n",
       "akKUKwzys/Wh7pBRo5+3JvQ6C9QToDekR9JITYd/P9JcBI9UBEJZ62gyrI39Yv8uTth1NNwYX4Kv\n",
       "OogEMgj2DT/d5+2RASA2cRSfZZM/5P7FCLTf40oQlDDMafnu/iQ64Hr3yeAl542zvhAJ+l8I0x/J\n",
       "l+maDc892wSWqGnoFgEJuukItRE1+7gT7IkYCdqG0RzGS7dO9tJGhqRUSNApjBGG1P2Xnqgl6l/5\n",
       "5kVJOfWXLFtXTU6z9cjrp0OOZ1yaYm+pYS+xFN7vG6XvLnCtRgAhsj1EUXHVi6pl0pMffd5QP5at\n",
       "0kdUxcLPozplIFXbzhakWfA19ZtSjW8x2B6y7XZuDlDTAU6vRC74Td4WMZU8Aj0oUe1z0qqSqtsk\n",
       "0dsjYv7AmiksghG8yr3tIIUrerdW91C7UuBxvfRiPtTEjParWRVjx+Sz+OAEMM4WT3pckKziYnOS\n",
       "uW3sjWNQ/Q+rVTS7ipdMBqoF0Y4ysjHTxZwi2st3H1VC7IMwaXa/+yygZu3jEQqwCZsvNta9tAgU\n",
       "XNzawOvQHDvmyMBCN/Pz5MIAV36TLkvrgM9HR7kIb+AyoMeSzpHL44frZu0sJj2KUg7/r6MJC76Y\n",
       "JkK850/y8doauvfp3Qe/KcXXVa4Nowlc0NshlsNrOsSkA1t5gPv2CBKGpzo8LUzPwsFJmknzh2yp\n",
       "x/ExwgbyJKXL7M9nnatBFSzZWlKnJWRq+2TS8t3EoepWLRfld2zZlSUO1OhE74e3YIRG2BS/s7iq\n",
       "HClehUmwAgMj7CD+/sfrgOrTAXx4efa7KejJuCxeV7CmNX7gzjQIe2Zx3aeXlKRSSIPgX/N8qHRL\n",
       "oYp71sVByxTYfBglhdzCMhA+Oa2SsUxKxRjcHvD7RM2la1xpLiOH/4oScy7/zX6wdM/8rCCRpwOR\n",
       "EQyF+44GUX1PYQsoZ1XS00gJkUmrxGxhSJ0hyLKE5hKUkGRjN7AbwWPEDbnJ4ncr5MM74VC8MCO7\n",
       "My/wy47MhP3xRZthvJwQrP2eeZoDfzprm6FZFdyhW7ke+5nKhdckgltsCj9tvrVXununpnd9xko6\n",
       "kU8trlVJ0FLTrKc6q0XyDkbXvPz2M4og4xVM5kf/eo+6Zb7xApGz0en8BAsT9xOBV/paT08pvRJA\n",
       "pCksfnky4D2Vyr5lkKAvjQB3+z5qLcwUzE7pswDgDRXTgTt3iR7c3HQkdoJV1+W66sCr0Rtj17GE\n",
       "BLtzBSIr4eNmmabyLOLfl3rZ6JLraek9pM5t3+NZMHjuPwYrr65+hG7zo51r8h4DyUAAAAItQZ5C\n",
       "eIX/9RCe2B2eN99LzjvhwuDBGbf4mQ1F8MTazb71xX6LXmG0I24hcxaSSnWAXbaT0DSEHEIJ0S1D\n",
       "2e7Gd2IWT0g+5F/wLSqW0aUoI0pLZiCcAf8/iOH3CZjA7DM1hXudZhdO6uz7LpX1usKHA3zmKSdP\n",
       "yOmWTR4UrWXDCC98J0NAq5OSm9AG2J+vqHUIP52eSPMealPDBUZw/wY0W5LqC7NGx9GyvsbiYVXd\n",
       "GfcHvRiTT60tlLPGe8DfcutQk/ngHeZZ8bdFyneWOPozh2McLPncXsOhwNliu6dU7IvvCmtE4zE4\n",
       "jSq2h/Rzit0phW+MFouhjy/MhXDeE6BihfAX1+jXpl7g3lRPvQoQ02ewaxcJJeMaT1/uhqFaKJNQ\n",
       "RnQjqxMYyjey1y3fvIlDTYrf263FjIeyYieR2GL72fjOcDWyS5GiGbOmtpKnjLm5+KPZVfUvMkTu\n",
       "esAUjgw0kOmK5iL5kDJT0KgbDu/JGcbqHdRG05qQoS9AGQWyutqj3pSoZ++QDajxfJfhn2Fcl1Fi\n",
       "kzt1X/ajQGy0HoolSKMTUfwVlvTA1WkLfAI2FTniOejPs/cR4gfv+77+Kc9MU9g/w6IkcxWIqWwg\n",
       "zRR6P9QZLnZHHA+tyBQ727+Tv7vSagoDoMssDYBHQ4TyHWEQCfqBfTCi51SU6vRaFtxY2215f2c7\n",
       "dkp7gaZv00GNjw7uvqFqkqnejXrDkRQ7aYQVTBuuQFfmOSbKij20RzEAAAFAAZ5hdEJ/mM2F0Pry\n",
       "ymhq8kjjfiLCM5aS1fM+NpvVh76q1zlchl2P368qEPcZeg9BAnlBuLcjsX9kNVqLy8Z1GMzOn/Dh\n",
       "KvAMU1vnkSXxbNIBkSBQaoXglILAODaQGWIITRI1aXM5AcS5hRyMAdUTBMYHSgbDzIZFF1PgpUht\n",
       "s/GKa64l6jk3aQWbXRocmey1L48yX8ytw07wtMFR8cJ8LXOp5E2EnZ93IEFHYtlblM7yJw5pgh7T\n",
       "h57Qb7dzIL+1XZpXfNI3U3PgUJwRlaqs7FbbwSiKVBEjlUeiOk7iHtQFBtz8b7rZXenX8sGKSkoi\n",
       "qixxY2A+7ry/TuR5to4ReXAve/6iooSsrf0gSbujcnfrKac/mLQ8CH6Qqa/+RCOWkOFx9NJfDPTW\n",
       "w/7S/etCXa7MZt8Awa+PZXXEeVKpc7AAAAFCAZ5jakN/S97kUzYYAdGhDoTirJCeMg+f3o9r/Nr+\n",
       "7y99ZXG97xZwYD6sDYyr742RKDul2KevowNNg9469BXnQrKNHscZuPiYiOtgxrhOCgjor+KMgrvb\n",
       "7w7ETqto/Qut04kNuEX7GYG8V17Bn4RTll74KcIy0TxzTTLn0/mIp4rdnWcwU5ieZKfcqCvRSKT/\n",
       "cI2lGgCOuKXNfhoNR4dyiB2GCtk/8MKHjP+Oo79jARrUQid3QNQGGJA14HTVKjjKJ5CvQR+hxja1\n",
       "o9mhKumgFq9EREH28zsrPQ++3xqu+cBmZgNgfRal1iFqyYTNyDmmVqFN1iR3PEfOtoYswrWomczo\n",
       "9UOojIm2rv7v+KpMQZNt1/88SXOX6waVZYnKIhC38TZ6w+washv2YfwFfHB/cFq1QIlJ1O3BPfAo\n",
       "e1+p6oSU4QAACVlBmmhJqEFomUwIf/+T8beCWnVV6NPfxnrUPrdE95E8l3sXpaoGKneVD7RcBb69\n",
       "L9RNa+mUvhvcyCzj4ec7i152LzQiGH9WZfI4rwCehPSQFMg8hP/FmrJw8yyj7x3eIfB3lNLGkhQ9\n",
       "qNA9iH4MvQmt5oEXy+KIF9x/M/ITckiqxsXLYDwOLhT1KrfoWhbQpWgC+rz6L2MwvkWXknql7vLD\n",
       "GTipaCJbqFtE4mI9ZvDG0EFp07DrmXohrIJExrmr2fxW3hhNy7eTEsXg1RNiOLKFZMxYYFJuRMW6\n",
       "vg7PHedMLAvFmUTRJXccngvTun4z6tx48qwhX9iPHZcrVP3jqUzyys/vJl0dVPs3+KrReQ7nJeGn\n",
       "E8NpvaKdBuC9LX9Dwm7JnSeW0u9PYl5RvZ0UXf3bnL8JrBFCt8FDAl9d9qns+sZgm3qO61V/SYa4\n",
       "4OG0DJkxKW58tKA5zIbGXahHYfhFmqyKDZkH16KdMMdFtc6GTMqsBC3Q4ap64JodpjQbN2qUV15k\n",
       "mpUAbEAkECFoT55m2na+EUntSRE63VystkbpwNU4YnYTRE7baGPqRqW+ZMfd07XWCs5J+oDWDRgk\n",
       "PY7F1qK4aZlSB3HRGz5YKarvRI9SqE/l7xnZ7mrMeFxD7OlmaDStde6HnoSEtJWcl3v2/qB86m67\n",
       "xWiQVgTHD1425N+9jmdXWMe6fRlsBViZYH0OgEnIxjap0zxlHvnwJ2bwcXVgn+oAI5N+1xa1Dz99\n",
       "OQkZsa352X9rlhtZqtmB52GLJIbrPSO0nkadVbRPxmQ88HXL1iBAa4dKgdvNLwNBdHaLwYAa4Jc1\n",
       "1ptOh3iRsSvUHt5JCyWuihx8BGCWKRLqDBuBWrlSTB6YyPSKelCbEZezaHBXEmL3gIsBm4yKUWgx\n",
       "wItAVd5BKpSocHAs5AntbueYbjTpMPgpIYUI+vGpjktrrRs6MfCM4eclK+Vr1t0tO9g+w+AcKZO1\n",
       "0LOaou+fRHBRmWvev0iNhNblfjJ1LhEZtLRZ2R1e7EcLHMzQnvIw0/1Gke3sIDyH9tt0EiFSssO0\n",
       "DjwhnOS5Yw2/rEXv+X1fKBl8VYPoXE9/BIbK6iqno4jgFkVrEgB5XyeKjBMIH4dieS4zfgy6//uc\n",
       "BD0wtUf0RrOUnMJxnc/y3zkxIOfd7K2Qk2V4/U5nBLrFB+Y4g2CY+tNwQGgNu6WnUAi3XW3L0fhQ\n",
       "qb/4gC9x9i1CZlkuGQbXYsFuhry2VlSZzdquk0Lh+JRS5yKh/Q45c/Fgwb/8L6kxVfSrky7QJqW0\n",
       "em48JZ3q0MCM55lat1JFA7OSAVXO9DWK2uxFIiCdN3U64c2R/88ASv39pnEU5IcwZOIgek6z0+Xi\n",
       "0yoorxyELG6v+Ihr0uh/lu0vP6Go8IJY4Onz6Tk5KLKq8SkoWpB+3QFJXGtqFsZmUBHTal9V1EId\n",
       "XgCUe0M3zm+xo3cHn++h/zO22dvndY6GKanHNW9RSXpyth0nzgeo7KJnQGFmgr/EDj7dseF/kKp7\n",
       "LUS/N7BzXA3dd3L3V2ak7xuGF908tB7buDoVJ6K7fqU8LZzH7E3CGHCxuTiDw6MCSARv6fUj9gUc\n",
       "08O/NF6HbANIYlwZqOW7TmRWSdvzz3Y6K4P21t4R5HvukyWoPfSBldIMnmuWYQrx6YKgHD47XSA9\n",
       "iPdry7QGDmI9N8ommT8LHAuPMBVcIaWxad90c7JUtkQkFB0eOBmrQf9h+6lzyIYNK0PefEFHSc/5\n",
       "Hug07jwlifkqyhbm0kbjD/92prJUnV82f28kGjTpeKOFDN8RK7a0i54nj20FrSk5nuXtI0gOsV+2\n",
       "xFYtLjfBPm0T/v7tJyDS2bOiRMOvau0elNl0OyCBrryt76mtJ8Zu4virfgaFMTQiwktbWqXLtGmX\n",
       "W7VieyC9+Zch2zNrunXrRFOjn39yyLyafDP9QuzKBBc1zhFQJjz44bNQhDQ1D9GEBUZHRgBpAgKk\n",
       "Cgct/mD3z2sC+TkoiuBdq1LtvyPvsI9Kuy2sBklknnync/TVsi6MNc7pCDxAuO4GD8yLJQCo+MYw\n",
       "cyRbGBZH0dW6i3VxslNvMrXC2qmLSN+76+sdKdEcKfYxPfyAcmuuW6WS1Osw7r5pTpR7HQutrF5W\n",
       "YIPvxN46zOLZcvIhKP8+/fqS6zQEUPVREQV67jVzu3ZOWSrbgbtAa2Qd3a8O+OGvN0btQO8GV2eO\n",
       "TR3frj4A1yf2b8tmNWDzHb2Essu8oLPAZsf9fMP/dVKIcr0zU64vy++WLZajXy5iFDuVdw2Bb2jn\n",
       "tzpeFdmwLIuxLn5Bn8gEAnBv5a4HWl0JR8GMUAFpJyZm7OIRFNLj7mSQKcQT/9Sr00GRfgbbYHcp\n",
       "UCXghA0mn+Tv7HVZSe6WYGvb5nv+F0IQbztjFXHhFRdPkx8sPrM6vCQz/EXB76Ht1kebg67EQQnC\n",
       "KKWfvhng1GZjtHesTHoqBhm29MlweX+z4Dv7ChdoLAFliIqNXgwSZ5nch5wAtGYhXx5B6QCHnAgb\n",
       "6fZnegMUtp8VhTr7chXdoZvvfSn6biFp20Sg+sGV3OkWoHSU6d7YNI7pzyOL8UuhJGITnVvV6xgv\n",
       "Tdd8r9XZkbiZK2Km3LWK/E+BulJHCKOCOCANimpMaLyJpT284mS99sTIbC2+DJItREUfjILn40zE\n",
       "+LWvSQ4NvgfH0RZsEA0unkAeG5xk/zm5+HS50ulPykdsU93fRfgg7ce2Oxec87kRJ3MHjqsEEulG\n",
       "O6kfh9GBC4iE0dAIClVtvGqOZyHhZAdWJXLoY46VTxKjoyPUAM47sHpyKQexBSXtIffARr5k5uTd\n",
       "GGBEuqylMEm2d44P1Ena95k2OrWOaU5NqZD0xo3B9/nu0aw4/3smrK4NzKK5M1H1dFIXwIH2HvGR\n",
       "KDHKQClggSqZ97fdQ3vlwTVM+z9Lmtz87rxw0fP2kGGnSdii2j7JTb2m2j14RVqU3/WW5LqXsAaB\n",
       "W9ajQvQCLqewHoSKG33+eSenmTVv7W1wNPZ9l1BivrD6ppJy7nocsgSKlqDV89Rx7LTXXEWYpn09\n",
       "zikZ/hohixX69z6WwsX/mUGZRInM9DXU5kvqJzUqfogogkRk+ZiAdL26nDTfSiUnaCu/cNp9Q2P3\n",
       "AW9ycLwQeSr1l2r8BCqMSgurawPY9DdLeoAP8KxnUlZSp14mZU/H1J/pbaLyMO+R99+Pe1trr0CH\n",
       "qiUuTbGMOuc/eQAAAjVBnoZFESwn//79XxARqHir0VnRXg40xvJ9brhToSPMNxM5NaWmta5TaKRV\n",
       "1Y9SugYymj33lH0HSYbsOFLEXAPyu4JR/J0pVeA5CRckl8rRligGzfct0xt6HKt5GFJ9hsWspZYA\n",
       "p6kOGyKEXtEpA2BmlgvsBiVGtJabzp4U5XW6YqyFQMq6BnlvSikr6ob4XLMVSsc6zCkFNrYJS+Xn\n",
       "+Le9YtF0cKT7lBSCWE/V2uudO9o+y0+ZC4oSrHcGhI39hYH5iX6twzTecL50U6L5e2j59wHCJlfZ\n",
       "YabxkzV29+lNxDBSDEVoTUnctEMUUW35i40/Q+oCYdDsHVOq/RrkZhCtgtyN4ByVGF4oKVgS/rUK\n",
       "OqHHnsEW2h40yVatWsTZi81Wn9d1GzgXOV4SuYwKszEi5jS21yt4JfBP7/kWSO3sFZY18QpUumIc\n",
       "chrUSnrXEibauoyh1KwAXwdzZF/3reeWAJ85OyE0nJP5jRMT8PCfzlG+5VyK6SFJ6F8XB7TY87rL\n",
       "/rwzIPk0N7axQyzCFVFk/TBMSVNWKkIhNWBLt/YiHGTgVUA2mYWpgFmANuomRe/IRc7byRZ+JcZG\n",
       "W0XbQYiiGxg1E4PppZMorpLkl3YxbEDkqEOTJSvKB7i/PfiNpshN49uIh5Urv14B+bujUaeiiEJc\n",
       "aYB30zqH7xaOkFy3sXZmBTpEPZnL1+W26CSzRcaVrJhCVmebEtoZ9/eE2FY/1e4rcMpiBDpDdD9i\n",
       "qnnrMI4PTkbxAAABUwGepXRCP/788VaQ3qscVZswlk4rc4deh9YwiJiJfT/7Eo7r4/bkswW/mJDv\n",
       "HEQxiM6ZTxybN2GH8V/vw+Dpzy8KD5oLDg4QmQv81q7kYD0TRf0gbKMwdDeF7vipZrj8bmHuBlIZ\n",
       "JkGi0qVbHRO3ls44Ox9S7qzlGSARDw8b22M0YmDC0URSXwSNs9jDJto/xOvWp6vkQXb9NDd0GYAI\n",
       "kKePYVXZbUiq8n4bLuOd6Zcsd2iP3De2MtfpcX7YBsiCgUzSGfz3rYFV1tKPn6orxip73PJjAM7q\n",
       "HhlrH/IfDNNJzkAm77r1SM3fXKbSXWkNTZA6e6o7aA73TAjWxX46qGfZFj6IUfGML9cD+Mci/8fW\n",
       "dSZmLlnVoqugadNc/LvE2XGHn8NFhSevyjYhxiSM3HQ7KA4epsTA5GxjPy6KDAmtN/gAA0W0SxAF\n",
       "y9ONxMIaps8RmwAAAUUBnqdqQ38TScIqVqqQdG++pHeJ883uyU7gosiNRti48rRBPLAYKsAihnNf\n",
       "gGIzfpfz6n/bXQQLUaf2Ez/tMaWRj/4+IOpVEDJ3j6zhROvVAoG2KOAGNNwZMlvck/Q5tKQIrZu9\n",
       "3QxKVm7oRXramBufLDOlKwYJ2aMG3xB/y/6OQGpFaEs29qG0xWCiwnNjaqmQY1ABabomLhUTP8ah\n",
       "LRATylK37SQRDoVUy7wx7g8nndCLwApAq3ZddnuKGoKCtaopHnxkLqIn1lAhOOafFFG8uq1lsJdl\n",
       "q46mi22NRrRuhInCuPlidGzjCA7BFSZwX0KaKOSKwnANzo6vQZK+pBzYbY/U/+ePdR18akp3lhs0\n",
       "QWjXg0fLhThavEBjW4llEwEBY423M/jABLtgzSHSPjaZwn6u8lzfOTDnMbrTKHfL9VPhpddkAAAI\n",
       "v0GarEmoQWyZTAhv/4mA19eNO4JNYbj7XgZOwiy1bfBRbPys86GnEHnmEkXNpEX/IZ+p21WzTpn7\n",
       "4EUQVfDx2A/BtVdk2vZ7Y1Ibmu1q1Vy/rn9Ny596VD2Dca1SQAFttT4QEUVQRKOe1CwxkOC63EBH\n",
       "yfKBpkh77SwU1xOSkwxZpSMsj5g+H+IlJzhEaP5luSp8AvTA5pSdKWhFCxMmIpntQoYZaKdcpP1O\n",
       "lZ3TRO7jPAH/sETrsEBp7Uk/NI4LHiyH4gzM4HYE41WqQ+yzUNupJAQIRLsVyzTAmS1Zfg0l50da\n",
       "kvosg4YZnccl0ZIn3QtW/CqgOwANIsRyg29A6WqRyZNqFEWxjL2Tp0uq5jNkAH8mr/LLjVt0d9ZB\n",
       "W9pS4jE/ml5MAWy+dU+2B2pbrmXFy1jieNEwFIJMziZ0HFF9uPkXJtbpKREo49dVPgFkF+MCHk7Z\n",
       "mp+seCvxRCPSq7BrykQ7mQ9FXrxci9IXsdmQJl6quIPQgIVnUWFHwmT3JqADU0i5SEVs4qv3q+cP\n",
       "Tl+cf8mvKshSqi+xoqOjRVb03cG2OZFY20DBrenJS2nid6WjotI4xyaj8K8+AF7yWFrJDkbB+uL6\n",
       "aI+cJbXPVSu0hfIuJIqY1azzuZ7Y5Y/eZjr0nc5tWydVNERHN0+RAj6ObWZaaAHiPH2+K6ZzNoK8\n",
       "lgflXjfGFnQuXL+vGfGr08xWcNvQTBS12yLEiOFsNi2vEDjGm2J3Z0ywDcW3k9K0YAXBQx+Ckws4\n",
       "vMdSC9vPfMo4aPuvyEQw0roclwTIoHx0mTeaBc3KGsTnVYNrjG3ddOZTIbltjSXGzOEJTF3LnRlM\n",
       "Oyrc6rcByQEKVZYvsE64dpaH1wFmYOooPvh9jDPbWqMxjmkxHbeEN4hoofAYyAFYrHd9iYN0dCZx\n",
       "/oG5wmRpp0x3gU2Nj4wTssc5L59UjL99iWX1aN25iHaM/CNCaf2cMAZdBzOGv+ewoYCk0whAfKDY\n",
       "K/ph+lEHyPj0ovC62eYYtbLKwGkyjc7dSs8k6Nf2a+utz8QRjXEyt1SOcBa0yyyq7Y/kxvt2kJrZ\n",
       "lkC+aHxle0IR1+NZDXwnGl6PapViDpuPhGrpBekusUvxq3JHOd0P/9/+Jtjn1+RvbYPPWtX5NSWe\n",
       "kjtiu7k/+9dpEl6CJV1edbbR0p4s8SSY0f+ROsWFXQpRQFnz+FxNnTDYe3GciEJDFoaTxNrzgtmb\n",
       "GBkZ+K/YLaZ3vJ2r/Akm942I8loYceMrId/NPoNpAEdQkCoal6Wa0y6uA80dQraXHI6deuRevIBE\n",
       "6q0xYmMHQn/aTwgBobon5kkoUSw10fZbEZj0ZBgeGOELKvM1Tt/lnLg9Qh/09B3+OVKAZJiAkKtA\n",
       "ctO65klChLGeUJMKTDcT1iH7Jh1vETSFFYDhZfQ0nK9An0jWDP4UJhkvGFMtkQWjoFCurSLeOdxy\n",
       "ug/Rk5+R+xjBvAMowxiUka2eH8h/3/hUQccQD/V4jyJa5CguJYLXxKFdkgCjPnY3Jhn45ZjBSP2L\n",
       "ZA0PeQFg2mK9Qt+0lioQcDBImDqNWEbsz4NATg36yTXIkhXpouQh7eGI0EhpQHRdBgbz/asmclEM\n",
       "bHmygK9xmIlExROBTgXYsJhYMu1MoiE/e4GwYvrpSVn7eaR/BPHaVfQ7EDTHNxpYwuP9MtNEWv/s\n",
       "9qwCSsSGszIel7PWCGvxQXJEFyUf+ZjtdIsgbPB2OgcWaMowkDNmCC8i8tp2hIG4FcV2aWmajJJa\n",
       "fl/xRi+RRuj6uKp9Bc+pT+p3iwfZte6infW2M2yMmEng82JMdn55zitORMqY0i5J3UYVk0obXpJC\n",
       "hTXNcYMdNoQ+LPHa3GdvQwfve+Uh1Oy1u+hpO0pgqPWid2yhfdhOMjJxO522LlLUIa9aLJarvC18\n",
       "xTx5Y0ZFMSiNsKEirxgNBDqsXlhLAJwZw3UBeyiE+B6APeNjFqsbgdu/1aDKSqkG+AtvMa6+uVZ0\n",
       "wCMcKZf636/DxVIk8y81ymcaaQcgiLjhCTADfJcItyX3F6Cj6Qa1MZhj+8q1awZt4u+IkrbR50n1\n",
       "8mQVAw3pXNKM9K2IVJPRhEssx/BpxpbaWoCndyu+ALh+/gV3mpieOQqFknI2hZ0QjOxF4suIid5Z\n",
       "ptkQhn5yG1oWrv5t5Tr4O4wPBnycRNOMgdvAnPUHRyjGq1l5v85TnVpGu093VpuzwSbqrk/s7lA3\n",
       "45KZ/XIkKOWxsKxf5aCzl3fr6iBlucwxlMDBtYa3No+UwdB3nA7pwO66FGGoig/7PUPUBM0/IoZW\n",
       "pkifm2krE2E5H0/L6Q/X/BU14ulva61j+CuLRSk67wSccXvTw+/g5c0SyUXVxT8Luvs3qI6TyJQk\n",
       "R9gW8hOXCrESaRW/Cq//TfX36cXQuTCrJ50PLiVfsoVQz2EKIzK2CuGPHDFZaGvLU5oG72of/pa1\n",
       "yqZRkIbxQmjBcT/AYi2AIVs+NBtNRu4URT5rgjKCcBvQ9gS3NNJCrnOFZ8dB3wwGMrySni5l/KNG\n",
       "52JHXNRCq6FmRDEfQa1lxFAbVKa66QZEtTzhGi1XzjWPG1cTuQExT/aQxTe99SAnf0GYVorXie2a\n",
       "nmOeFtwYwjLi8Ji0/OJGs2zquwLzEupCMbU/rl/tBZCVcBg/BmG1RTOhapRCwasFP+W2JGLiPPLW\n",
       "+Zsm6maq/wi0pyV85MovTqrurG25D5gOSw0NfUSZPigir5nKUDQwraN3fhkxjkYSLpbH4N5xjgrs\n",
       "Pwhjgbyf/RrYUt2WRIwPbwPHtqzkcg95X19BQRSjvkM8pK00cI4BJXU3bOhOkeTJnwnQ/Y/Dolqm\n",
       "4OGE5dY6KdhiY5wafR3caMa6MHxBHv93GPH7hZRR1ox5KZNbs7BUToeKlPbPo/3+0/EbVjUPDx1D\n",
       "7R0NbXpooUewlyUzBC82bS0Al65eJtECEJbxYypInwpqxG8C8mzKpk0M78KSP2Ixe9m6rkIVf9wy\n",
       "tmxlStGI56EtK9y+RGEOG7AAAAJjQZ7KRRUsO//vJ/iCHCBu/ZArSXhyIXI7EMHuqOXmYfFvK/cs\n",
       "5hI3xXDerDoS/2MOUzidFVuf1IrUq7vgKngY4Yun8R8ajszWPhN50+SL8h2JllewBcgOrCEjA4vB\n",
       "LksxSUMqvwLYbH+5tYIT8L6Zpbd8/9SNcddJVfA/K+gxV25nJcaxoh7q5BKEYJRLqUCPfiA5C0a4\n",
       "k/piGN1LsBdqx/AAzlKO+bL67gsfIwamJ1CELRLl+XfhBEIPmRy2HCeLfd7YtdxW0PVV6P7gSYB+\n",
       "Bp10JQ5rM3nXRM8ScyJnmGEH+oRk1gbEcufuHkL18dgwg5ZoWoqpilvk/OhXsfPU46iCkMh/NEFo\n",
       "JW/Cn/CSCdILABcT+1/+q6K3ajzOYHLfBWZT+Q9NYyuwM/lxU8DWDqdZrmgIF5zylFE9Oo2MNhuE\n",
       "15SnzXcKLPgEeedALNSbOfUrbiQPEQKgJg+YU5+4Mfx+uxL0RHJpAYPD1y8Q+XRa/riQmnKbnwJ6\n",
       "2nPsckTiO0aThV6rpcXkznPD/PF/NdKx69E2f40C9iGolikPAmGMpT72ADtpaFL/2gAs/phM7Nvk\n",
       "nDiKGqfvDj4Osp8ybYrpk4NC+xAOicKZwn4D76ilXNg5niVDdjmrauQPwFJAa4pXbS96f1wXxKjC\n",
       "Ws6mfvajagNOMXKbdcDaaoennC3FMHENgArklrwRdH9fvpe2uH7pVYWf1e14LEqwvEXtX5eQSiUl\n",
       "XdJWMGjej9OdHlqFnKMa/P+wI5xqeFBBlvMsgQRLiv5JNNJrOyZE5xOLGyAkac+4kni7KYNqPYoE\n",
       "9euZpvEAAAFcAZ7pdEN/YGbifi7Ytdwl6DREingbxIpgMmWeuZLyZn5WmIiTaGTAu5v+uNAxHxrd\n",
       "0V9iiALgdI6xbmcCRGpLGW48soZhxDG668yExhRzsqeWl4BvYTq1mc5bV3lMqFhBYubwwaQXAOVN\n",
       "kgx+D4lnlMTdRR3mBK0VAh4LhOE+sh0JeJyn1etCiLkYOZwnWh0dIqq59dPx2hTt9Qe+IQhMUMd5\n",
       "Vh/I21Gss/KrB0oBIDgKsJzfZXcx94xT5YGOv/1Zp7PMOFmR0w22Fij4X4aN6pTQ0Ftqzgt9GBbs\n",
       "6zbsHdiMXn85Xf4m8qksKebNo/4QZ12GCKdMbPapJGDTVCa0T0le0KQuYghSmHZGXUmED4ctLJaT\n",
       "0+2VesQpMLwjTa4ffBxlFClqzSkpQsMOM1Ul1otBzJWP6gNBvTPWeSZqhN2hbh+W9J2e02UXSUVL\n",
       "NdRmh/UMuylcga/G1GK0AAABMAGe62pCfyV5NbmQMvWWZB7IOl1qFeexvIIQRyGqRTT/sPUn/c0E\n",
       "9QQx8dJ1nUmOuOCLcyNcrk2fWNcvUsCqZGgHWHTIgOyqHiglKfAstj/E/OIuTV6YmJD3PAXScG/x\n",
       "rPqyXtAYDkss0wpdMup0fIU69iKvJmlh/0Wzmn1CmpbOQ+UwPJ57FT5svUbjkLlifO7FN5Gdm46P\n",
       "zvHGInWtCRMQSUT7usily7Pqgk/b/bZKD2B3jN1HKRzoAYYdjUgM/pzyIhZ+4xPWrjYMeOXibJwt\n",
       "x3vJD35SK7NobgFc92vypLnOQ3IksvdAVMK4dwC1IK9kWKzZrbmSIs9k91UmYwoQ2X58REImmvSa\n",
       "2Kn8FaxEdrjH/Q4HA04ymod8tCWhE+kWr2+6pceen2R+tB9pnU8AAAh5QZrwSahBbJlMCFf/g/HY\n",
       "bjYhgJvYnZylzyf4585+cAmY5Cb+Rk9C2fKEEedELK6ozehvrVeAfH3sye/qAlAQNQvIxBX0L/Kn\n",
       "uqVkeM1sv61cm1+v4H5wej9nNf1FHE7D+NIAF3yjTgExzlz+r4GAnnPe3Q9KD+K6HCI0F7V1q2rV\n",
       "DnqIUZorfz2tME+UnyxhgAuLThHZeBRLgRcFW/avpAWGr+U3bARlol3itLJaKMDwOXe7gidf3DkR\n",
       "QiN/BShPXL0kXAPhADdtkJ4ze1dwPY+i+bBVZHm4Vi6rS6WGYeSi+Ce1yMBkQXKLKDY4GY9XeqAw\n",
       "Ln51ydmqSsu7qiRLzaz6l2FUopgJZ1NTmsJv414zbLgU/CpVnL9BrQiLtdV9yn68n5/wj2CP54I0\n",
       "BB5OTGjdVuD7iNf2tj486r27j0+hI/FsHLrHdWwm5fjJFvvo5APbjPeJC2c2kp+xLfff0gA7dkS8\n",
       "oiqZpsR3NfWveh6LPTPFqGTywDYda8G4dXTnfgfLUEz8Hhy8rpZrairqVjkcAH+cO2RpryYs2frX\n",
       "zihANcgVgl89ADE13VlQ4XLUS/wmhjE0XBYObwb/tBWEabTtxCpzIyc5XJYBGd6oUs682vWQHKae\n",
       "pw4Ds+H7tpBYGVWs9RTss05/c2aciNvVEAkhkhHX90ybGSOBPmKb3jdHXVQbQU15uUL7N5HPV02K\n",
       "1eLMLL1oDLmoTjuyFbZ5jbsIX5oDsceuId4yoIMStWT1nk7/0RBKqvRU3cqC7R3tBwv8Ou9JV3OO\n",
       "R/kYj4G8VqkX+RlxtH1Q0yh3lIZ4S2+TYpLLPJlbq8kR/ePQVls2dIhtJtWqSNYsyG39Nv3Mma3J\n",
       "rUNtusbf/UC7UEqkAa2ntcpCkIijCaso7Cvi6ASqOlD7W4GTzXt9Zc70NmqoEbLk2+lzXtt6wD9d\n",
       "6I50gSLLhhEkViwByT3uMATgzPtDGVThDwF3uujWg4qQwdYbwk0RE+DWnZygalhrzKI/c4kUa5hE\n",
       "rDUqM6gGfJXdM+QOvR6BBGMNRHIpKUfZHk1z2lLTxOe/M2cyX8ZdFU6lDbRaFE0llSiPkU9ORLFI\n",
       "fplDypfOfozJXfZIfOzGhUYXxLxmde9gYRDaG/DtG5O6ySYKU3O623QG/UjheMfTkiIwpvrl2HPA\n",
       "FvloWPwg6Y9yhTyTGcKMo29f0QRBCVwJzNAUEGhCkeNlmbMrCcvHG4bxl6fyDafG9+FIxMZnO1yE\n",
       "kRn7G6TlTU5/Nni0onDSpAqFt/VJjfZ8Mbah4KMeqAKXVmgOAAFThPNx96MfTC4MinufZi2dy0r3\n",
       "sY89nBp0F6XULb86YQMVzz22lg/zV6rAgAl7EXeE4RHLaTPQFysZPznt8VnsDAtvzU/xP53VjHBR\n",
       "l/ONmhLwd8Ql/GS80YBi35hyKO3/qQBCGMd/jAdBAqhys8pjKgnzurfCmZ0/IsI4yJJ5FiDMDEYz\n",
       "ClsWmE0grInlMgjQPe2cRUFVqbJsQN+QB/+3cTSjmfnI64mPcVrlm/C75xAg6H1PENgi/NcBBEeY\n",
       "qM0UrjGnv0mFABu35jcJ83EOTYI4i28JCI0CqDOcx5+mTJw6T7nlBbFX6fxY+11DrWhIg3CzfftE\n",
       "t6Ia6b3LNlhyPQHZoW4v2cdN8nmZ06zCT+8qcFylT5NuC6TRoIxciF41gH3kRcVv4R57/E2QkRj5\n",
       "vLgpFF15MWw5f3pGJRGmEQpfHGuuiPmD4cZFk0KkaG6pvdQyqhH00LW8rzog9mmNkkMy/pS2lXMB\n",
       "gHAUXk0FTmMjsuK8Imm/5513cOVYk0SW+JxUrdHf4agbMnsSJhUGEu7NOy22MCPLAJ9BSitFqAkj\n",
       "7xpx5s+ZItGRpilmGAyGwwx/kkFZC4eEpm6uWVT3U05tk2m9bTc0P8tt+fsqP8DwXvE332OXgM5T\n",
       "PmhnhUiKF8A5aty8GYrs+oMXBMdHgm9t6A/wqczspO58JNNyXfNHnGJ2uWg//j+Qbh18ohEi7mJi\n",
       "7ieCPoz0Zu2v0qREhzoYwdcivm7HPhaz4gY2CKfdPwhoQ8KjOLINU9jmXaXPJfUdH0GxK28QEv2b\n",
       "RmIdbA78rmiWr16fBntwuuifa1j2yPTzelm3chusG9SJ8gNHRrnOSoljAvgq8fHK08xuhCY/sMfV\n",
       "hIWSQ+pgu62Dxpf6U4/75sfXHM7dVQ7KBQQVT/8PTyenQd3MUz13JFoeON9QSiFqzk7QU80PlQka\n",
       "PtyQO0BA5wOXuDj9q+5WGx/gnqcNxjP3WuDQopM6pbxUArpGOleIy4xx2lLKlh+GsmbcmmrbUl5v\n",
       "aPgT1PZ81tpc4xGX9r3Wue2EZ0zcHyAxexlaQJ7uli/FHZnmKK9pPvkMOfXmp01TQWoYidwY+ujy\n",
       "fVGdkOgTK/eMj10srGC4TYZBMXJ41KJM5tf/t7e5OktRxYuwZQfvpNHyD1pqfJT+QreO57LoSRxn\n",
       "lnyRqYtCaYkWr+aTMv5AG//0QkC29180De5LMhIFmHKUjnaL0cC5VGcESjLFwrtVTo6S59VvrlDp\n",
       "1WlxmtiKPg7flSjja1wA4R8toCe69OrvCvfkQvAqiWTEQbjBz7qh9zEXFljxeyWjEMBqAJVtCMIZ\n",
       "n72sb1vFUET9dwmuhaY9Ts4ektvfeoKwHTMkcJLF5mb1wVNnDpq/b64RejZ5yaz2Ur7i2k1mRE4l\n",
       "u5vzcte8uZYjKoUkBRokL4OYCcP4k8vokQu7Edjlg9/OFKyjZqL4QN/bUKUjfCKFSO1LCG46q+km\n",
       "dlT24AkyI5p8cbV5QOv7lyRHBtU8483Hj8uNm96Kim5Fa91gh92Pc5/e3aCUaTw4LXnHYDID0nOI\n",
       "mUEehfdoe4jOzFbpnIA72YLoem4vAHXuPHiYrb1/gr2PT6vwVHWUodBJGn0fAAACSUGfDkUVLDv/\n",
       "MqZbdQWnOZytE2fD6aVibB3V4dsnRNumxKmHOIyHkq+ZZEYTf5gjdTcn6BkKcBDrJsucT8pVsqh7\n",
       "YIuGzXrMvle1a2KNvfRcBRfBvkN2wS5gzO0oC0cYKwmBJU03eGJuouG+pWJa0Qx4X2qgHbAYoZsT\n",
       "1/nmHCRhIO/HvxIAmdXKxhAdE8W+/HugI9g1+SmveSPZc8O32z43LP9G4T4qNGuxg5BhPC+jsDW0\n",
       "mu9ANa4SJcreM9qvGUeR6j2tHxH9Lvn+9u21mt6xEfOnXTRYvwqSQIcwPFhp9MjZFtRIuWv3Kb+e\n",
       "eqVdMGxd6k1N0FE91LPZAES6D/pVDJaQGVpSA9BHJON8y3hNsFwVrsNX0FT7Gj55hPCVzsYVdT/P\n",
       "UL0tWlszj4YMcocEjuflbXUkcuUMofRp9/SpkP8/4tiIsvO1AGeeyRMStNDq53nvrYzWolGPXbht\n",
       "G33GdVD/PhsMXNfCHgkHteKkXJeVr8eh7Iv7HIuvod+6lFrRGhjuvOZbCVWgp2i6gvtkgqutHZjR\n",
       "YMS5LLguY+XskUw3XhKidCIqijPZwf6OPHPd1SVYrmt/0T1mnSn1dObwwCNL9vYiN7gpxdGQjfEU\n",
       "im8abygndChg+sRARKFf8oCoqZI9G5ydB8etzT0Ib10Dqmmpzu0BMF5yk7eyRw9MeamHJ25OX7zy\n",
       "IY0GqBwobLCVdUK0U0CLnDDFgTOmkWaFkYPj5efuXhKI/UJKBn4pTRo3GuWOQo6g+GhDDHmtTByd\n",
       "P2yWhKOWvwAAAUABny10Q38jUwuQHxaV/l5w+UArJ6z8b1QtLK73Rj5RnzZA5BVkZU6SZBUh/xYT\n",
       "hJJR/y0UfS7jC/xvgoV1qHw4JoTFgHftwXNYMURPpyI0u7lasOhPgBaK6NG/kt3+0fMdbaa7E8KD\n",
       "ZJJ9pcUN7d0AftBFP2RNAJGxm2YOevdEU/m0851F7rMMc+GBl8iSh/DJ7VYaJ7w/jZA00VPuhJc8\n",
       "wRr9yNGN4uCfikd7Bs1QP2LHh94jeo/FiOg//mIJ8Mou+jrm+5Bn3Xle7ZkdRpJCXhNkE9kAtlEr\n",
       "vImrAcYoBGknz1lh2rrdS5AET0gzEMforSM1UwJn0KbYZsSrfkvRitsSpwr646Wp3ufM5xChH6Hw\n",
       "qUL/mkRpDuESbjU4GhnO+VXPY0pAAOU91S+YAsF1N2VcqNUmu5ngYXdi5o8hwQAAAS8Bny9qQj9T\n",
       "JQPfk79ghYVdC5MLIPVbrWtjJKpGACmxcql2SvLnovlRhHh2s607RPP49e/6rncLjRlKkU2vSnWh\n",
       "2KIhAoZaq4qbLT6Mi9iWfxEpuQgWow+rp5B6FD1yITGwKG8Br3KmK8f1aU7U0xsuf6pvCPJnXj2r\n",
       "mdgWxebU9bodKEklwGuxzxfHnHi6wrJc//t/Qom6YLVnJ1kzK+Q6Moz+G9hlZQPjvU6UiM+9huv+\n",
       "CWPTTdRCKIOG//1k5X4lVt+qWxWoBcwcQHWaRSIqBxXBSuGz//hbMGHDo+kKSb2+URufTzb/tZp5\n",
       "pETWq6R2mZnMBA+Zk/Uno7fzv/CQ9PToD759W16PECLn0NZ3gE5S3RZMKkmBJuBoDum6LLTJTes1\n",
       "WNk+XmMIyYsiajkAAAfTQZs0SahBbJlMCGf/hdGm+s0L6jV94WtWskj66rCKuRmAGINQjKOYTOMo\n",
       "iEFtRhHuHgjdXO8oGN42/thEn64bo7FXVvyxQoPEQr6rVu0Xlj+kQ18Bxm8IKqfPzVU4ri5PrBLG\n",
       "ah0njKdKYy2PhYfe02IcYGsMTNiVyzzCFzqOnmI8sDCb/RsUHjHIRwW+1UwnOgKrUVsID2p9WA0t\n",
       "Ym2bogVBdni2Kw4tcZjZ8zXNfjCvVnzjBMBeYCncyPhNnEWuiPMkcdgQapXlHzYXxoDcKJT4kODP\n",
       "AilHD4Q77RFSaCQxN+rfC269suGGyjNUpr+Xl6eKsoRqMABjPMOX8VJj/94AK5lnK90f+Hb1yo9o\n",
       "b/jJ3w49ROZ9oh/bAEEAPSvBC/qlhTcywrsTMVFDTb9JLCjo02zeUISMITVbVRAIz6hXNdkhzwD/\n",
       "akZfGp3JCqC5V6dD7lpBU1GIx/i0D3kerDUjKzxVGmpHrlc/pV0dmjY4KRnVc9+wayngWKpBNIeW\n",
       "/p3NMz0z1wtqGcuF3op5Csk0/tjmjUmqqotSfl8kBzNykKJOn0EmZ71bkU42AAkTp6HMMnO3/U4d\n",
       "eULxxtSdLZqBCOIi9LDulG9s++8mEQaTWiTwMfGwEa1LJkJYvVs/KEsCRvSVQdg42McqWpDGJ27A\n",
       "j33vFYenfYVFgbzR8hKrkUMW+3QBpK//B9yMUSNyVHy1CI4mUu/CFXSvGDqw+Y4htMjUMFQfDnFn\n",
       "MfVpfHDI7s9bdXa49z+lLctlmpBcHdvR3IeGqk2ek9OCsKa0yxKqMrLc5vW8Mq1CjyXKZmYKMCC9\n",
       "CWDby7Z29Ga/2kDYEZme4BKS/GEy8Ib3ninRAEW/yIaU4HBG8Tr19wJVpSnidxG9wZUodv4v/Xdv\n",
       "95ACP4hP8tri9m40SL5oCslJQLEmFeeXBOADXldykJdnjGDGBCprE7abgwTQ6S77RaZFazkaspN+\n",
       "nX0wbnVyfzNXj7uPTf9+IHeTPbw6tp1MbGEbSTYSszDcDcPY/oxmdei0Pf3b02NlZlhDQwQ1nLNw\n",
       "v4+vjdYHVpc9T31ystRz2ji5CPzpGM1dOxchbFyWz+s9Gv+sbEN76zX20C0bBAyvyI4HQaP4dBHY\n",
       "AX0PNe7TC6dZ7b/fmh0jW9cVKCM3wfGmA/6xH1RRjIPq4sPkrBCWW5tT/2g1OyiGCKq5n5IDM2oJ\n",
       "nhGCLihAUHc89ODJyaxgreT8xSXdVw2cXMd/bj3UFt8hIaQdmeKnSCdfFDtr/QtGcP5pai9fr+BQ\n",
       "ctrCCHAgRy3c/3SY2NH0NkwEUyKIVEByyxz68RIUGMxETJr+xnoBz+zw80p6gw63tvMO+oyhC572\n",
       "iomZMq5vFi5ut81EyLijvpmuzJ2/dymF0hl9oVzJ1r3dnmNBHAvNgd0eLl5OnXBtN8CxjZ5Bh7n4\n",
       "WuLk1itK2x63M+JKj4MVOhPn6QYqqE2hv6REm0TI8Ibq/lwHPzl1S58oLY9PmFfYyM04eaHpqlqH\n",
       "WaZpOECGN4arjQTbUpPGuQxefvyJ8TfsgQrzuXVQkG6yBDcLC6m+gAuf1LetZHgzO2hvtZy8mWOb\n",
       "HB4FK6rTEQm8inazZ5+xzAe7O+DePYalxi3wRVLUB8MBOThhCiN2LKjCL8HOMF/GhZ/GMM2A5O59\n",
       "xH/4QpGsF2wVzx3vZCtqA/t/kS2wM6CpWDs7gRr4sxvEhMeRTJz8nN9ioV7KGx0ueFvlMY1B9vKI\n",
       "7tWU+emat5v8Fg+CHv59jUURsTBoOyHgnbcXgbr/ux27RR6+9hXRBHZInfbMs9As0QNHQCcbfUMr\n",
       "9UuRHjO86RjLb4QYZJa51q9+3IT3OG/aGIis0wYYHFEJwId2LSeCm6kiskEstA2DYezAb9j2qmhG\n",
       "lh/55ejT2VH12lz3xErl8vVoGWQ0J44YN19+gVGfFQY1LG5QvjRfI2dhWHADEmwMUBpSahAreNT+\n",
       "c12SqwkMpwgem/TFL1RCGRr4a4AJuWrdwslu3g/aIIT0JUL2RlZ0yPh7OJOWniVFhEe4vyyxVKVE\n",
       "Dqyd7bF3NCWOsIGWA9TccSGY/WgIfuZ3zR/i2C8NfNH4Zu1l3T24+VJgV9OZWQp8rKiI4zzkfXmk\n",
       "4dDgyxyIAVw4CMZO2IBs40lDZox2gjx42PBoatUSfU/ebkRX23iquwxue6bV94+TwTJHor0pXKtw\n",
       "t7QhEikW1v5LeVuyN5J0FjvLDZQo/b+Bg5D1xW1AsAs60mTFgO/hQuduNcoYkneWLdzLTdpGcUrb\n",
       "qiWWe/miXJAin91T4l9F47TtbnF9LQtNzhL8x08/JthmYdYlQP3fCoJHLn0ohQ1FY53OvMfCUy0A\n",
       "BwRzuxtF1yN9LNm9oCCVFCiBtS8Gj3erF1CyjQyGZ8/FcgkAcL4UB9AOALsRy2nSQk5wU7lvtSit\n",
       "DDG4m8axGpwjzOITPcvhAg90u6SniO4I6/C9dJqW9BeP8XQ9dCwNTsM4U8Xq7bunZYk2toov/3we\n",
       "ekLpjOLxIObwhARwm6I2OITTj+9PbERhOhOpA4MRiaLHjS4mSByX6+4zSLLEtGbpEb8CigRq3UKo\n",
       "7tvlcu+m2Dcyclf3K4El5y5TmbvZdON9t9x+Myn/FWKNbu2fIDhCY1QVwYiT9gQcXKGu7RAM1X2a\n",
       "kskEGPe2AYEYDLStcnkzbDF4Kt3uoRcAAAJSQZ9SRRUsJ//GuJCYjtOFenwWOHoVIsDQ8grDiCz6\n",
       "L4D975gLEpdTZwKE7O3bNL446iW7oz1QZPNzbV32tqB5Ka36OOKBvNrzaFEWtyWc5JJVJSubtwbs\n",
       "HV7dL6NNsGOgFBZgbsdQKYWiveiKFqMLrZ2PqG/Cm2dxyimHVkP1btVB6isEvKynzJfB3luQpFlU\n",
       "FzukXObUFrMWfbEWakATmeJATpgFKYpq7TeviUrX3cjiL+qTI1Q5gXHcl/2AHTcQF9b4qoPnKBt3\n",
       "Dx6exHAJnef0yxGGxRpO70u+6stmF744nzz/6yNsh2l4+sUVTTus5KBlouffY187UrRwmiGV9gf3\n",
       "/K7/2cxJJ9w48AjWoSZbgFR1aifC2qlxol/ApA3qs0zmvhvp6MCpTJgK8iMWo0k5pXHp7oOj7qWS\n",
       "U77cqXbzfbCNEPdBaK7rZ2//nXxSePMIJGlhIis6k/fJyOpj3sPnEolX2ecwhH7a7tMf2v0zeM8d\n",
       "YWh0ca33n1E22fwtibWTOcj7RAId7JfaxNg2UHC9PoifwkZPFuv7O5CGUc74VX+V8AyWzP4jwNoa\n",
       "UfEsc7z1r1hn+AA5dD0eQ254Gjr0liXmcM5fBEsqxeV9TGuWdciSX/4U97GHjKCNoZXZOk0IKWkn\n",
       "az7MHJmhXvpN9yP4AQcez+Ysh+rq2yDNM85KlLgpdRoB7zVuzENLhi34ccHghPn9esI6OqJcLwhl\n",
       "HgADty+EvoKsjK+jjQ8tNQIViRsm3oXpHunpAizfiVmGaBjGGZDZrIM+lKqpbM3RXoajAAABZgGf\n",
       "cXRCP/f/jgZSzfI73hWeS0UmYJk9w5Ss5BFpqv1aXT7AvkdXBvWKxR4F7JMcohXSm67xBkyKRIjI\n",
       "DtvxSwMJHbTdzPX0NMkFJOihDgklpdV0XSNSFEBvT5QRAzK02k66Q+8DeB/bLgSzwPHpW9JprM01\n",
       "L0x3BIK0KzKu/G8IX89ovoiAZe89P7UfqV49zGMhd8ShkaSPRBt7o5emo+26ucIpOvZxZdnh3WLD\n",
       "cMjlyvJ7UPNrXbdb/8JSFCwgFoKoKdq61GosC89PXVV4ILL/cySThTTJ6Aq/7s4D8SGthUX5N943\n",
       "9zhFEGaa1nqChdNMUKH3Uug76SAFovmGzFiG8e+zrlO6NCV3BFyAxgr5EBLZPgS172rQI1HsAp0U\n",
       "I0XbREbdjCMBPJXm6s5KO7IMGUB3WSquXtU+qrLOoIcCICs2pETGDHOf58wyEY3xNseaR86y7GOb\n",
       "fbXmfuoixByKj/di4okAAAFKAZ9zakJ/dyDgs/sLoqVhdi60cmxIO99YAnlRf3XNItjxZ7c6ifra\n",
       "xP50ys5S+zxNTIIlkMXOCRzqtPPzqOMSNMJTLm0Kf00qNZjcemNCDUxJKpLRdxKlDUsKyQFcoWGc\n",
       "5ZoxuUj1CbnZfhcsKtAWf8zE3rKTwbZXULgxkd81HvGDJba9v9Q0ddhycGUm9oddAPnKy8e6n9kM\n",
       "Tmn7bQNHdOixzWocm/mawLZb0zN+1KB0q2R0K7EkJgaqFAhFMx10khXyXSCqFmPFbH1mS/RvLB7z\n",
       "8hi4X4j8qvFTZV9VWvZgDmXV5ZlLztAErYd58Ngq+keyM2kH/TOCOh66XdWY+4Cm8syQkEKv5Txk\n",
       "k9275p4dYDMxbtjmBcxlKXR2CKD9nOPOr2hHX9GVJS3KZ3Tx9EruqfDmoAitEiK/x2F/rxbXIEXH\n",
       "7lp0V7eHAAAHZ0GbeEmoQWyZTAhf/4fDMksFi4ageU8B5en2zxq0Ty0PGpsJwPO+zPkUH+a3qheM\n",
       "ghqdap2P38n8RXDJXcqCFsttMHEaf3vRmZq6XyDRocaUVXAoX6JIPHqu7lWHJ2UodZsnTmy/ozIG\n",
       "q++/MRh3Sa/77uyAKbDVs4t7yBAkrRc+FKuITX85XmIVHxuHieUXh9TFvRCHDTkG5jUeQa/ATObH\n",
       "vES7GeB1JP5E2/qlExotIie5ppx70+XGjQDhZAnmJXNQeyof1wmz3rRaZeX+8WntCuSWO2FlQhxN\n",
       "n3izqkUGWmrNPDCkWp90ZY6owaxwAOd8Q+zSjhxKNaXYjVwBeCj73i+fTnni69LVuem/C4vT6tFt\n",
       "bUi2CeWh68FC/e1YgzQMQPCI+wk7JEFvjXuGhewYVpmns5BeRs0INzx2jYtkrUnAE+1njMkm03nq\n",
       "MWLfOGZWXHfxRanbksiADZ902iR80DgrR2Axpd0RJY+eSnDhnx0NSG/V7D4e+S9gMptVV+5esITU\n",
       "QguULEOGLsbkRtFxwezOJSTuT6bzqhCnfl3H/sn/+ilkRhSMa+Yd5zAfO8cXPRK0VhAMV0v0q23o\n",
       "jxA2vTnK7ZdmmpOvcQjP3meNQzeIpkVDwzLsCNJmHqBKv7cQXrx+C5mIDdFUSTVscSXpYhUm+1gO\n",
       "ppEommMWYprcSk94DHQssYkdMu44Vjdz1AbjBF0pUPs2/RR4D98YzrpqOuX8SS8yqz0ZO1SNVd5k\n",
       "QeM+cVE2cvTy6tYU2J7oRRUj+0XDPmHFq095S8tUiUEf3Sj6OkHeKx3ilI7WbAwyYDisY59xKvwD\n",
       "4x1wrkWL3RDMo3f0QUpc1Id80uV6UhBsn10ofuBVPgPgUgHzaKLb2Ikm9F/TbiKlNBtU6yK3YAWL\n",
       "L2xwL5HEUzBbn+P6Qh8xufZxZmN32AoteA3rXkgpPhGmBeroEXhsutviX7X7IOq6V7hBg8K63T0E\n",
       "IR7EPsvrU3g5epHD3X/DT336q0RRyh5n7hNaKRjpOgzX17sruz/7VDIuxGj4sABwzWush7pWcE8U\n",
       "S/j2qcNSh//CmNcCZ1V6wZhufCF3rEMR+zhyNvtJ+pcpURMePPehLAcx01gFOFa8urfiH/16QFmS\n",
       "Rl83KB9weOBEkZt7DgVbu1ieG5TvVdqkgt1PtGmJjGxIkKmwevjuEmGhlKmZARkGFWB6oDYvRO2v\n",
       "+RC1sujLOvjDadIRizj47b+oZjyyPY3cBgbbbH3OTLjXmyqx01B5Zk6oY2u7s6P5X878jUPdV1Rq\n",
       "NwrTDPyxFwKY5XvFjarkyOWiIb9Tdoocu9GY8bz2XUsX9opjGBRgf3Ky7aOYcseI8fAtCDzyjFUr\n",
       "mcR+iBUHc88yTWaJdt1vsa++r+fl59bwOvUxlEXZntqXWBnW+JLa8Ai1INpOoCjvPTEXR0XCh9b6\n",
       "TnqJ8AhVkT1BVPXq1LGibsYR5OXXTtH5rsWKbuQcqxu7P4mz/55MQPGDvGxZpd1tjtmMYyv7md+R\n",
       "spJk8FUvO9OwkRhg8r4mJpexSjPWraiRGI/zkStchO3sFcrlCi5RTt1WiTprNgqfYHChaV8Ljsw8\n",
       "L4Z4A0s6mOCJHGFMdWhOmFq6JCXh5MDw8G3UjU9pZLibSUQs5iKVcQxEqu/0p4vbe+41TovTzzRC\n",
       "D0PEJrJhh2Jm/ZHYm9wrhSwWbZYqEF1ehcuWOQJkphF4HFCSVhE+ZM6ITj8zSUAKKDF4rqU0RWr9\n",
       "1bm0KfT9vNw/dpAs7h/nD2PRc85LProEplCuvkkI+vuEVbqaByQz7fk0GPhR2d2u6lKg1PnZJMGX\n",
       "yzfILqikHRlv61KIjZ1i1RaIpXK7yUq9d39irvf2b0pw6D1OLTk0+j7UWNYv45KAoNK4Z1/iivfp\n",
       "QCE2zmAcuNy2+T5isTTtCyUtDeS+eDh4RXWcNlbl2XyBoIkxd+N0BMUfWxzu2Xmt3Tgauw927ZjH\n",
       "nFbQBjsHet7xktkMuoGuJ18nE9S526MYxhtMjM9lGU3NqHBOHHYsMrReiqH/qW22/3AXrJR/wRy5\n",
       "4DlnlloL4Z16b9uMWtQ750aijDJqu2WRJ1+yTpXO5HJOBPg8xTjv0H7879orN5G58V5oPZNAius7\n",
       "lmt77aVCtVpQ62M/zSEw+VkVFYwAA+VN7aKjqpm8SKm5MnxZYXLP+F/7h5DRZ0NdyS2ur1KnUaCy\n",
       "vOwwPJMp0p+ifFnmsqhzmDyB9qBYphqq1pOfOuyos/p8tGQbPSlAaFtLOllFbmIJqg96q+0Lc93M\n",
       "1udTNHLZU6pubnMCCl8C9N9MjGpMX7H5Pif7BG/YJU0qXv5sr7MUdMhg00kgkZZsJZlIdQ3nUOv9\n",
       "IssZwamZlh1obrsbiQs1subKbgGN6kC9c66OIuLiv1qZQPchPiqpeEWhUZWCyajMsEx2AJEtCA0H\n",
       "KeWJ/AAcs1nsbxb35AGTp1T93o5Uc+2XA2ObyDWZzf3SZtb5JqGSjmjK7u4/RM+SY8X0OkrucGnv\n",
       "vru27qTJBfslSePy3oOEDJ1n7rV4vDThAAACPkGflkUVLCv/w8DItofDJdpCMseR9S7iL4Fipn05\n",
       "pq6rJImBnLPnAdZdTyCiOHTh4/QqUFLVf9PQz1ADKzUFxxRxcqp1drHUgnCAyRaKLbV8ZXfAEXIr\n",
       "IvdtAlOn1tAGi5EYjOQb8FjE3S94eeEi2CC+WO2hL9UhvVCVAnBTvy6KqV1fR+gGtq1FsWPDdmRj\n",
       "wa8l2beeTc35/PENK9nt4Yp2ad3M3219reXqR6ac2PzI4oMnDvnxtKdi2Q4Yx87gaUL1U+0s3DHA\n",
       "RhcfPtLEtKy8naiICaHckYru5KlkngEanN0fk5hauGTwB2MZSjrmZSw/J6LT9ccVHB5wuI39GLP0\n",
       "fUybryVBO04EP0xptRvQ50DZa5rg604O3E/3FHS5Hl/V0PC3cHe4tLaX7WsTtZJxOr09dxu3cH5m\n",
       "wvLTGd739V7crdknbkIY/NIgcnRO2DbO4n2l7/QGfHXOGnwX6hqf0Dp3jj6XZf9gTucJ8QLnDKCl\n",
       "VQGKzP9XWYrFLPSBISvszzcqdmrJ46A/iQgys5vZ/bhRLvQKN+IdbeCkAULDpH+LKBNHODlEidDj\n",
       "cumpjPo0t6EBa3vSLRL32A3jYHYupJTZUXxutlJ4adsmZ7VCVkONde5GTXX1qUmGof6ieeDi4ole\n",
       "GHDlwdF3wpEMWLKeAiqelwXVzoHwiqmQRPVj2lapQAkuW9eEZRZKfyJEoInV+SD/9yxJbt5LkBHJ\n",
       "bhINpHi1YPycqSzu220Upv9KKIXgP6R61cB8W2t6HkAAAAErAZ+1dEJ/mM2GE93XMriz6pXzjmV8\n",
       "XPmox5pIc0HZR+qYvRvUvHb8CmN62R6kppM7E0JLBbKaAa8OM7H1jAJDXf3hUf4Egm/5wgUqkuEI\n",
       "ajNjoI9THMOsyLQCAKKyXWDPqXws3DARuN67a0PCvZGpfttERDgG5dWo+80TO8Ir/N6lw/RQG/tM\n",
       "tkeEyZ42LuCxZNEB0sAgNg9TDw+pfzz9ENTJsysujxG4XyOboWL6p7aX4OnusCkwtg4g8P5FrBhS\n",
       "KgAZSPpleNU2O1n5O7bHM0N4UtfNpBQ7fO/p8SJBSnlUjGcvwNRICDUDNKuHFUgAQ/E5NkCD7Wgf\n",
       "oLF3XfbBDqex/vtoMBp7HRngYz5nUNs6Q+o8oszQ6Jd62SaqCxTDWTaLtIIK8w+nrtEAAAEsAZ+3\n",
       "akJ/dyEARBT8BkWhXry7cWTUGiFazEC+SycH4HvQAPaf6Dc4okI2qkYxEZDotJMHR6bKHY2lP2u7\n",
       "yPoudrvA6Bg44EJYuSQ5ySSqP4SRih6rpsxI2lMvQPdv+qhJ7PxshYLUfn3RjT3FhUStCQ5yKQ89\n",
       "V0wvKv7tno2v0URx21rokupGVz9G+ZCV/9frJ1DhkO0+tVbA8iaI7xNBGZIg3xpzwOAbGPZZrjYf\n",
       "2TYQ7Qlj54Eh1zEoSSxiU8HY67z5Eaahip6V3zHVECA5PR5jE4jtsapK4Du0l8qyUSqbLmuCFyqd\n",
       "k/I6CLKbF28y4jqOHZr7cJOgKNX8UUbMJdinEWy5wSwgbva0QIo3BsujGpDDker7QJdN0m0NIjT5\n",
       "5Q+qRJOnEfl9QajhAAAF10GbvEmoQWyZTAh//8/b/cPl++PgOlSgLbLyPNOyyAHNN9Pav2fUkKR0\n",
       "ZP13QTvuNwxN9n1LhJbNpjms2g2bgfxpRiryhE6noYK17hW3PWKhjp/Kr9xaRX2eftw6PmA3/tAg\n",
       "5N729sO+KlA0dNQEPPAtjbsIVD3e2NBpGl9zSrAT4aQdhNgND82f6ZpfA0t70zndm5WzWisGfWjW\n",
       "EveZn5LVk9pnpYqGSph9aSBwnExJt0Z0pVDD0jUpmMdpwhswAKjBmgPaBySzNxdgvbEEElwN/Inp\n",
       "VIIofmYQPQWTH5gBCoLtNSH3PnsZSUvTWQLRaUJtEPV9yxUF7ruHuZMkoBNTym3V8TFLjviZbt9z\n",
       "OLpIe0qIvBYtgVXWHbuayLNqz6xH4/gR5fjIUQzHEqXkt1xhGAbup0VaWv8uVZB36D7n5QhPYQ1W\n",
       "+JSN+c0d3VupPNI8lWWqbONR5P4m/5ptBln6As2Ltb4pBZdLQMxvFfue5hstRlHKd8DtirbWoKWi\n",
       "ZGaTcAKHjUvuvju1NbbugNup1qHy/u5oHYyilJo+arZg0xT0Dij995dkIAMt9u6Q6tkM1Nsjtu/J\n",
       "/i83vs+ZqUcyk75lIg+QcwHf8EWee6exl+XKs7Cav3LiquJWY/moNrNd+smdIYonodn627727dE2\n",
       "M2tKDMPzkHHHfyWzFyAZ+qg738W8KPcpuRLCuuoiqBez6NQ6fxHkytVGyXlw02V0n4b0809XFXYs\n",
       "NbREdBYOIKr2bWWfeiwI8s97GjFREtl+9BpTIlTBRKty/+Ith4/ba5hr7bns8YAdvVSpbtMjbxXD\n",
       "PbEBvlfhjNaVJRmjFNM49RWWLRx9xnJCvLFDed3z05KGkBYa78q7uOvh7krKkIx8nXKBrt8tnoep\n",
       "uMPCxpZR5GICTaKQVowENXfVcAiaOsPHLuNkeV3K2q6LIj3QurGumP61O/abwLWDCWagqmy/6g2M\n",
       "R/Fgrt8T1vuVDpiihrhmSSJbhleKUhmtMdb1xIOzkRNOyjgYlx4EdI8BtLKJJhPGANG0X2OZgZl1\n",
       "5TAimRhD8RdPvaW3hRCLKJ5emqVZNbXbWA9nwVcBFvC+8lLMiJw6qGyKYbHzI1JJs1aJublo5Zh3\n",
       "k7Jwskt5+Rzu3YO1Zh/LOygObO7gUuohzz2idYD2JYUQHBe1nvqyxvAhGQbAKWx0meCmBdW9KQwe\n",
       "/+eutZUhdEDwB/mVZKYC9fah8XGPGPIVWGFmysHvan+qaE3kLZUWosBjCee97yQSnWSPHhnMCauS\n",
       "6ZMh2lEAho7Z832zYTKM0U8y96mAVl0T1EjSK1cxMZa0c0ifdWTqwT1mNaWmSbFPpMMJWmunC4B2\n",
       "87yhCB0xhNGkSafiRrHpJ0WM8fi8XPB3V8nGoXL2YqiMXcXeU8qWg4bLbrZF+s1fOqbvYm1fOPYd\n",
       "4pWPkADotsuTrzxytd/YCN0/6w4uOPxYOE1nZ6UURHFZ+UdZf/ZXwOW0E3pMqZsuJvYzlSMyf4At\n",
       "Mg7c0a1LWHn2pQoWa8ZdsLgqi4jE32G+/8hZ4H22FdcHb5kLqd9Mj9bFczWih7dL7uLkH7CKMcsS\n",
       "riFbhr2/zeQP3bLAsP0Xo7Ls6iP1E506g9rR/vuEcp2+zOAjThofMyvhOIHN0TIq+WyC1lgMVkMI\n",
       "O2kd3BiwS2RQIWhd10vsDAxUl6fHG7xAR0Af3Nl08nIYd/YD/ve22mUViWANooJyvD3PW/HIUOPA\n",
       "hrzJko0aAvd/bCQaA9FK75/e9ihgG1lNjJFNisCD4cxjTQk9Q9K1puZD51Qo5jigPLb6dDy0otDY\n",
       "ZRbl4GNsNVybtlI6Uzv+nOtMYMvkkvhd8M9vySE1zBsAsR/zBy02VrjEpIb34UVq55rT5mPLvRLa\n",
       "EOFa4Vk2AuswUWIYJwPuEZii1FAq6C4iBwUFeq5XdrP/pplGcA15mD/x0qhCo8IrvC+8v7ribOKq\n",
       "9i/zzo+FuLeRxyz9Bz2FEKROgPlE797kY55GCn8AAAJQQZ/aRRUsL//+/co4Y1rDzBEqnm9wvfBA\n",
       "aWjeG5c5vfTTOqVMh6nPYMhiedRfaw7RUDC0IzqgCdrNer/rzNcXbB+3MKdFmiELx6spNlDnrk9/\n",
       "ZqnzZVZEKPhtE0hWgw8Fdgxkav2O4gxRzSNjXDqMnOZXyrsbtt/Bp/Tfuyvo7vdRwCPyv/zs6WOQ\n",
       "jzvBKYIZ+BbBeenN3PPECKlDBVeDWLZV0e3buGBTUO2G+J7Xd3tzA0fOJWxDU1KFdDIj0Da5owkI\n",
       "7UsYDxKaHFwg3V8lb4wCFsQag0EPNcqZ33IZDKesXdh49s2TbqaYjeWbPUEZJDbX9cuLe5UTPvTb\n",
       "12Yh7OPmOIk67GlvXV7Vv9cWTf3ROeUZlSOcpWINIeHyj7rdCZtK5IUZWVHu8LvnMRpjC80T2Yv3\n",
       "J9xm6ho9ci/ZnaOdk1eJ5vVKvM/7vZ6skw9WEUfP+qqSX2bRwJjNA4jPWgZIMdi0LrzEMSWm5LFR\n",
       "D5Cw1i/ad7oks1VwhlCH1mdT5l5BunGn8PWIGyp9SZykRAZT1t2gz0BPhpvHx9uoU9Y0Pd4NuV1k\n",
       "kYwwkYARYwDj76F8ZWGO+0ZtPh1r+tjnbKg1CTcmpO6qZnE0DUHp9iFUlBSnpYmJw8On0pnjaOaQ\n",
       "3DTrfiLaLgzN2pK44vYvQ+jZnay6sZccub/DBcKM+kW03MPRd9VkmG+ERAtBw1K+RccRo722qzvq\n",
       "/Ls33l3P73kN6cPilaYQDJN1OIfmxErX6kX+xYCDnZRgXYG99p5OKvvwbPxXQR2+3XXQ9ZbmHQAA\n",
       "ATcBn/l0Qr+Mg52i2qiBuHbdQctpBRYfMbvsG1QQhcnrIvRAPJ9ExezweZHKZ6r6PJkWklL1huj6\n",
       "QgQl7/K2IK5DcwAqXCaQrqDCtbRRyQtZ4RocMWwyV8ROroN//8l4dzFaI52n/0f777Fm0Nsd2WjL\n",
       "TUodzifi5HwCl8kBu7B4oDZw+QEfp1MopyqWrN8qOKk2I/6fsAzYCM3Qc16V1R6bJEOEiQSY4jI5\n",
       "ze+lBn9AMn/IgUPncMss33uaPhHiQ/ZRA7Mkpq61q+crqVnziu7SgOj3Rkj7KMJnBmNhfEz2AMTc\n",
       "PJDCSYXhbUON8ZEgKTuSjOgIX98QtCAKKwk3e/T1BZJSP5ofYmpHlWh6Q6b+HFzUT/KM/6zmeQfh\n",
       "diXNhB67Gi/Pig4XW7nCR/J1CEzCB9OP4J1WgAAAAVQBn/tqQr/+/U1DBIVGvZaGJLD1hsvkLXWp\n",
       "7fqYTfRdFmDKytAYrsAha5sb7fe6EOBegq8CROnzz4fuOXtuggolEOkqrXeNxB+9qOZ9Usbiowwl\n",
       "qmU/o4dojj8VMOY3zxkfjIprNo4XT8PKwj9Yi//s9h234kuzyWX1CCXWZrlFyitXel28lmoe26J3\n",
       "qI/e+2za1jbyIBkvd2LQ3xeb45aAzVHpHvXzWeFM30frCgGsIPsV9/qWahBtq1dW/Ce8haogqU4S\n",
       "pWdbsZUwXS9qFYB+AS1NuJVabdaT0Nq+9YIwaOdAv9nUtYsfFfdw/yqLUpUaUhJ+Gv1KMVQ24NZK\n",
       "3B5XLRmCSTr2HobCVbKQyFPVEiBYPkdx3ztShdnNgxIkmSkxOAd6ZGYQLJ41z/lai7bN9LS4DOaw\n",
       "ej/Xb0CZLsXK3/hwCINZsPz3zT/k87wghmIU6VYZAAADz0Gb/0moQWyZTAhP/9dnRNGw7O4vS3Fb\n",
       "PUGYorqI/w9PZvENsV6AbHOIrMam9VkEGIEIKaY7wvsoZzSfbqxVKHm2au58fKAf0VD/uizX3AC8\n",
       "Ao3kSGNxzkklUh0NSt23NsTeKfIqOMg75aHwmNyZoMow+eYEHZ5EoR7K3sq7SQylYdg8kTDqkBgL\n",
       "OyJ+CXJRguo2ogIZYn219JHrgWEfPWB9liLw2RGAhr6tfGjjAXPfBNxM7sQhP5wVbyjypIyBDlDe\n",
       "iaA9ugOEMU3bW0ztdy7uvIiL00dMlarwzv6rpYABQgiHDgie9BpSCqunnzG++JbJBRdU38jgABDJ\n",
       "mwAZqp1+jm5LCyN8burBD2Jvm9sbmCghpdb+3KHM4EBStMtpampAQf/3UAUH2XquB1paQEBuSdo6\n",
       "fN0TIr19qfzDMCk6lqEw76pG4WkA8DeGO9mTkEsBFiljsaTi8OqvXDL8awLHFN/4D3SksLKxNqC/\n",
       "pj2KqPZlafOvjqdY+hFRd8C1YQIq6gpSYIKXHWVz9alkI+YagBRIxGs41fsVxymMYO+ULgJahsqE\n",
       "yQZk2402mWre7pzv6If9CC23KS2SIg3U9fTS3nswlSsoNpjSK7O/ZkdJziLPF4jICcYS3aMCb1GD\n",
       "KhD2FL63j6mvdzv8N7x2oTVT2FCLfUuPItLFo2YuvAJ4v4vpwgS5t6k2SGnU5VC2X/8uBJlPPm9N\n",
       "L6LsrGa+unIj4q/1BmhS+ufwIoO7K/TpX4OF3kChU+4CEO4FE6DhvFg3Z2qo2gviRr2UtK2pFCgT\n",
       "o9ebmBKZYVWSpg+zarntW0A09B05D7uxX+d7IqF3cWmbTw2H94wSsR/X8TroMOuq4Q85k5c5Yilj\n",
       "zo3n9dvyA1bAMQK4UyQ+ilahLA41kQMH/rYBbHGLDK8/cIBtG589fy7OOaoIolPgLwYVv7ZOphFe\n",
       "pHLHbXZA7Vvd2feKbx8fcj4iUbVUGM+7iT2+D4M8DiCUrsI1Ez6NGzZWO2bprcewV4eieU/1vrhP\n",
       "OwuHcoCu9U91rQHjRoEabmZGKkNKTbv01vA9Zry+Gla3iP7xdxZHsIIe14nbkh6faZ7KkaH+6CTH\n",
       "ZPe3GZe8L+pAPNSEUI5PjL/asfqpDd/ENtJd+cNtjHRb69sgMk4WDIr47bTseEnmQrSzDTQQ3bzU\n",
       "gPumR1ZhjV75Ok4y0ESKsAo5uWGARjmCkcG3GvkVoQaK6RKFxzEKryBdEbyclvWpTJoDYLFi4NxN\n",
       "ZxVOxghEa5j3vjIVBlqEyCnVlOn9gCj3g64oHi3eRgyyGXWwAOhTgQAAAUJBnh1FFSw3/0vdV6ft\n",
       "DF8SxLH0FZ7fcNNeCf2VZdciRLFWWb1eVR+JrmFrZvbi9xSRLac/OE0ZDemxc6c36M2HG4R4Qzrk\n",
       "xxXXq2ZHZjEzfSovU2Z5d0vdwzbywDvMlXrT6/cIxgox7La35EY41zc0oCPb53t2FWpzE1qNQzbj\n",
       "rzefowiSlmDvm9jfOoeO/2XZAp6/ywQSqlNCnD92QlNM+A56mIUEBiKJtPv11io6y4hvwwU1kDKE\n",
       "4NZEzFI1SL38LnJutFPKP2eBHOWNwJu/kiQi2iONh0NHHc5FKpNtRYLSYkQWFMlrRi0bXfjInhCL\n",
       "58S7i4Ih/Bak1flYwo4GuQuD2cTXuBNwA3GVzDeA0ID0AJhYHzidIduM60aShjrIlsK/+Le70Vht\n",
       "uUVH96/5aoiTSA6oj6Q9Zmrz3fumIilgAAABXgGePmpDf7ombuE/OAJ3998gGcyuI7G20Gv50UWK\n",
       "/V/1gZmFs0IWDNeVIXf2dr+are9Pa80d2zcTlwLmiMb8ElkCeVT2PGQjJQeo1XmgcWsctmTQDJny\n",
       "AMmXRXfmApfuhp3BKhK4cPIA8bFnV6ef2/Vt3mrzy+7DXY87ryl/i0oZlwcx1Ua1K4QrA/TfRuhP\n",
       "6iKru3JeBmMppRonfqVaG4aKPIeg9uk1G7/YrBWAxHhwMj98gS+vYJfAOHotMJMSV5O/EWp5WEIH\n",
       "S0gxq6cO0vnvfNuf98PQu2zp9NR+ct945pCYQn98rx97uL4cI4DD4M5xuC2MZUb+QNgFJYZ8XwMo\n",
       "sEkq87cjk+VQUNlVg1NTidJqfJmdNS0wKuOTnBwMhopqmYeb97Yk6g8nDjJaDmS0KPNi4nCGuywK\n",
       "Pj7RnFeu2ZIa1cy2aIyFCeI907Tl9MzJS58hnLesgkMDy8fAAAAEpm1vb3YAAABsbXZoZAAAAAAA\n",
       "AAAAAAAAAAAAA+gAAAyAAAEAAAEAAAAAAAAAAAAAAAABAAAAAAAAAAAAAAAAAAAAAQAAAAAAAAAA\n",
       "AAAAAAAAQAAAAAAAAAAAAAAAAAAAAAAAAAAAAAAAAAAAAAAAAAIAAAPQdHJhawAAAFx0a2hkAAAA\n",
       "AwAAAAAAAAAAAAAAAQAAAAAAAAyAAAAAAAAAAAAAAAAAAAAAAAABAAAAAAAAAAAAAAAAAAAAAQAA\n",
       "AAAAAAAAAAAAAAAAQAAAAAIAAAABgAAAAAAAJGVkdHMAAAAcZWxzdAAAAAAAAAABAAAMgAAACAAA\n",
       "AQAAAAADSG1kaWEAAAAgbWRoZAAAAAAAAAAAAAAAAAAAKAAAAIAAVcQAAAAAAC1oZGxyAAAAAAAA\n",
       "AAB2aWRlAAAAAAAAAAAAAAAAVmlkZW9IYW5kbGVyAAAAAvNtaW5mAAAAFHZtaGQAAAABAAAAAAAA\n",
       "AAAAAAAkZGluZgAAABxkcmVmAAAAAAAAAAEAAAAMdXJsIAAAAAEAAAKzc3RibAAAALNzdHNkAAAA\n",
       "AAAAAAEAAACjYXZjMQAAAAAAAAABAAAAAAAAAAAAAAAAAAAAAAIAAYAASAAAAEgAAAAAAAAAAQAA\n",
       "AAAAAAAAAAAAAAAAAAAAAAAAAAAAAAAAAAAAAAAAABj//wAAADFhdmNDAWQAFf/hABhnZAAVrNlA\n",
       "gDGhAAADAAEAAAMAFA8WLZYBAAZo6+PLIsAAAAAcdXVpZGtoQPJfJE/FujmlG88DI/MAAAAAAAAA\n",
       "GHN0dHMAAAAAAAAAAQAAACAAAAQAAAAAFHN0c3MAAAAAAAAAAQAAAAEAAAEIY3R0cwAAAAAAAAAf\n",
       "AAAAAQAACAAAAAABAAAUAAAAAAEAAAgAAAAAAQAAAAAAAAABAAAEAAAAAAEAABQAAAAAAQAACAAA\n",
       "AAABAAAAAAAAAAEAAAQAAAAAAQAAFAAAAAABAAAIAAAAAAEAAAAAAAAAAQAABAAAAAABAAAUAAAA\n",
       "AAEAAAgAAAAAAQAAAAAAAAABAAAEAAAAAAEAABQAAAAAAQAACAAAAAABAAAAAAAAAAEAAAQAAAAA\n",
       "AQAAFAAAAAABAAAIAAAAAAEAAAAAAAAAAQAABAAAAAABAAAUAAAAAAEAAAgAAAAAAQAAAAAAAAAB\n",
       "AAAEAAAAAAEAABAAAAAAAgAABAAAAAAcc3RzYwAAAAAAAAABAAAAAQAAACAAAAABAAAAlHN0c3oA\n",
       "AAAAAAAAAAAAACAAABhWAAALFwAAAjEAAAFEAAABRgAACV0AAAI5AAABVwAAAUkAAAjDAAACZwAA\n",
       "AWAAAAE0AAAIfQAAAk0AAAFEAAABMwAAB9cAAAJWAAABagAAAU4AAAdrAAACQgAAAS8AAAEwAAAF\n",
       "2wAAAlQAAAE7AAABWAAAA9MAAAFGAAABYgAAABRzdGNvAAAAAAAAAAEAAAAsAAAAYnVkdGEAAABa\n",
       "bWV0YQAAAAAAAAAhaGRscgAAAAAAAAAAbWRpcmFwcGwAAAAAAAAAAAAAAAAtaWxzdAAAACWpdG9v\n",
       "AAAAHWRhdGEAAAABAAAAAExhdmY1OC4yOS4xMDA=\n",
       "\">\n",
       "  Your browser does not support the video tag.\n",
       "</video>"
      ],
      "text/plain": [
       "<IPython.core.display.HTML object>"
      ]
     },
     "execution_count": 79,
     "metadata": {},
     "output_type": "execute_result"
    }
   ],
   "source": [
    "a.play()"
   ]
  },
  {
   "cell_type": "code",
   "execution_count": null,
   "metadata": {},
   "outputs": [],
   "source": []
  },
  {
   "cell_type": "code",
   "execution_count": null,
   "metadata": {},
   "outputs": [],
   "source": []
  },
  {
   "cell_type": "code",
   "execution_count": null,
   "metadata": {},
   "outputs": [],
   "source": []
  },
  {
   "cell_type": "code",
   "execution_count": null,
   "metadata": {},
   "outputs": [],
   "source": []
  },
  {
   "cell_type": "code",
   "execution_count": 2,
   "metadata": {},
   "outputs": [
    {
     "name": "stderr",
     "output_type": "stream",
     "text": [
      "calling yaml.load() without Loader=... is deprecated, as the default Loader is unsafe. Please read https://msg.pyyaml.org/load for full details.\n"
     ]
    }
   ],
   "source": [
    "A = trn.get_config('branchdec')\n",
    "A.din = 3,64,64\n",
    "A.latent_dim = 12\n",
    "A.dout = 3,64,64"
   ]
  },
  {
   "cell_type": "code",
   "execution_count": 3,
   "metadata": {},
   "outputs": [
    {
     "name": "stdout",
     "output_type": "stream",
     "text": [
      "Creating decoder (type=branch-dec)\n",
      "  latent_dim: 12 (in parent)\n",
      "  out_shape --> dout: (3, 64, 64) (in parent)\n",
      "  root_dim: 0\n",
      "  branch_dim: 3\n",
      "    channels (type=list): \n",
      "    [0]: 128\n",
      "    [1]: 128\n",
      "    [2]: 64\n",
      "    [3]: 64\n",
      "  factors: 2\n",
      "  branches (type=iter) with 4 elements\n",
      "  layers (type=iter) with 4 elements\n",
      "  Creating branches[0] (type=norm-ada-in)\n",
      "    style_dim --> din: 3\n",
      "    features --> dout: 128\n",
      "    pixelwise: False (by default)\n",
      "    Creating net (type=mlp) (mod=normal) (in parent)\n",
      "      latent_dim: 12 (in parent)\n",
      "      min_log_std: None (by default)\n",
      "      input_dim --> din: 3\n",
      "      output_dim --> dout: 24\n",
      "        hidden_dims (type=list): \n",
      "        [0]: 64\n",
      "        [1]: 128\n",
      "      nonlin: prelu (by default)\n",
      "      output_nonlin: None (by default)\n",
      "WARNING: this Config is NOT currently in a transaction, so all subcomponents will be created again everytime they are pulled\n",
      "WARNING: this Config is NOT currently in a transaction, so all subcomponents will be created again everytime they are pulled\n",
      "  Creating layers[0] (type=deconv-layer)\n",
      "    in_channels: 128\n",
      "    out_channels: 128\n",
      "    factor: 2\n",
      "    kernel_size: 3 (by default)\n",
      "    stride: 1 (by default)\n",
      "    padding: None (by default)\n",
      "    dilation: 1 (by default)\n",
      "    output_padding: 0 (by default)\n",
      "    din: (128, 4, 4)\n",
      "    dout: (3, 64, 64) (in parent)\n",
      "    up_type: deconv (by default)\n",
      "    norm: None (by default)\n",
      "    nonlin: elu (by default)\n",
      "    residual: False (by default)\n",
      "      conv_kwargs (type=dict): \n",
      "WARNING: ignoring given dout (3, 64, 64), using: (128, 7, 7)\n"
     ]
    },
    {
     "ename": "AttributeError",
     "evalue": "'Deconv_Layer' object has no attribute 'up_type'",
     "output_type": "error",
     "traceback": [
      "\u001b[0;31m----------------------------------------------\u001b[0m",
      "\u001b[0;31mAttributeError\u001b[0mTraceback (most recent call last)",
      "\u001b[0;32m<ipython-input-3-02995acff708>\u001b[0m in \u001b[0;36m<module>\u001b[0;34m\u001b[0m\n\u001b[0;32m----> 1\u001b[0;31m \u001b[0mA\u001b[0m\u001b[0;34m.\u001b[0m\u001b[0mpull\u001b[0m\u001b[0;34m(\u001b[0m\u001b[0;34m'model.decoder'\u001b[0m\u001b[0;34m)\u001b[0m\u001b[0;34m\u001b[0m\u001b[0;34m\u001b[0m\u001b[0m\n\u001b[0m",
      "\u001b[0;32m~/workspace/foundation/foundation/train/config.py\u001b[0m in \u001b[0;36mpull\u001b[0;34m(self, item, silent, ref, _byparent, _bychild, _defaulted, *defaults)\u001b[0m\n\u001b[1;32m    371\u001b[0m                 \u001b[0;32mif\u001b[0m \u001b[0mlen\u001b[0m\u001b[0;34m(\u001b[0m\u001b[0mline\u001b[0m\u001b[0;34m)\u001b[0m\u001b[0;34m:\u001b[0m \u001b[0;31m# child pull\u001b[0m\u001b[0;34m\u001b[0m\u001b[0;34m\u001b[0m\u001b[0m\n\u001b[1;32m    372\u001b[0m \t\t\tval = val.pull(line, *defaults, silent=silent, ref=ref, _byparent=_byparent, _bychild=True,\n\u001b[0;32m--> 373\u001b[0;31m \t\t\t               _defaulted=_defaulted)\n\u001b[0m\u001b[1;32m    374\u001b[0m                 \u001b[0;32melif\u001b[0m \u001b[0mbyparent\u001b[0m\u001b[0;34m:\u001b[0m \u001b[0;31m# parent pull\u001b[0m\u001b[0;34m\u001b[0m\u001b[0;34m\u001b[0m\u001b[0m\n\u001b[1;32m    375\u001b[0m                         \u001b[0mval\u001b[0m \u001b[0;34m=\u001b[0m \u001b[0mself\u001b[0m\u001b[0;34m.\u001b[0m\u001b[0m__dict__\u001b[0m\u001b[0;34m[\u001b[0m\u001b[0;34m'_parent_obj_for_defaults'\u001b[0m\u001b[0;34m]\u001b[0m\u001b[0;34m.\u001b[0m\u001b[0mpull\u001b[0m\u001b[0;34m(\u001b[0m\u001b[0mitem\u001b[0m\u001b[0;34m,\u001b[0m \u001b[0msilent\u001b[0m\u001b[0;34m=\u001b[0m\u001b[0msilent\u001b[0m\u001b[0;34m,\u001b[0m \u001b[0mref\u001b[0m\u001b[0;34m=\u001b[0m\u001b[0mref\u001b[0m\u001b[0;34m,\u001b[0m \u001b[0m_byparent\u001b[0m\u001b[0;34m=\u001b[0m\u001b[0;32mTrue\u001b[0m\u001b[0;34m)\u001b[0m\u001b[0;34m\u001b[0m\u001b[0;34m\u001b[0m\u001b[0m\n",
      "\u001b[0;32m~/workspace/foundation/foundation/train/config.py\u001b[0m in \u001b[0;36mpull\u001b[0;34m(self, item, silent, ref, _byparent, _bychild, _defaulted, *defaults)\u001b[0m\n\u001b[1;32m    376\u001b[0m                 \u001b[0;32melse\u001b[0m\u001b[0;34m:\u001b[0m \u001b[0;31m# pull from me\u001b[0m\u001b[0;34m\u001b[0m\u001b[0;34m\u001b[0m\u001b[0m\n\u001b[1;32m    377\u001b[0m \t\t\tval = self._process_val(item, val, *defaults, silent=silent, defaulted=defaulted or _defaulted,\n\u001b[0;32m--> 378\u001b[0;31m \t\t\t                        byparent=byparent or _byparent, bychild=_bychild, reuse=ref, )\n\u001b[0m\u001b[1;32m    379\u001b[0m \u001b[0;34m\u001b[0m\u001b[0m\n\u001b[1;32m    380\u001b[0m                         \u001b[0;32mif\u001b[0m \u001b[0mtype\u001b[0m\u001b[0;34m(\u001b[0m\u001b[0mval\u001b[0m\u001b[0;34m)\u001b[0m \u001b[0;32min\u001b[0m \u001b[0;34m{\u001b[0m\u001b[0mlist\u001b[0m\u001b[0;34m,\u001b[0m \u001b[0mset\u001b[0m\u001b[0;34m}\u001b[0m\u001b[0;34m:\u001b[0m \u001b[0;31m# TODO: a little heavy handed\u001b[0m\u001b[0;34m\u001b[0m\u001b[0;34m\u001b[0m\u001b[0m\n",
      "\u001b[0;32m~/workspace/foundation/foundation/train/config.py\u001b[0m in \u001b[0;36m_process_val\u001b[0;34m(self, item, val, silent, reuse, defaulted, byparent, bychild, *defaults)\u001b[0m\n\u001b[1;32m    447\u001b[0m                                         \u001b[0;32mif\u001b[0m \u001b[0mcmpn\u001b[0m \u001b[0;32mis\u001b[0m \u001b[0;32mNone\u001b[0m\u001b[0;34m:\u001b[0m\u001b[0;34m\u001b[0m\u001b[0;34m\u001b[0m\u001b[0m\n\u001b[1;32m    448\u001b[0m                                                 \u001b[0m_print_indent\u001b[0m \u001b[0;34m+=\u001b[0m \u001b[0;36m1\u001b[0m\u001b[0;34m\u001b[0m\u001b[0;34m\u001b[0m\u001b[0m\n\u001b[0;32m--> 449\u001b[0;31m                                                 \u001b[0mcmpn\u001b[0m \u001b[0;34m=\u001b[0m \u001b[0mcreate_component\u001b[0m\u001b[0;34m(\u001b[0m\u001b[0mval\u001b[0m\u001b[0;34m)\u001b[0m\u001b[0;34m\u001b[0m\u001b[0;34m\u001b[0m\u001b[0m\n\u001b[0m\u001b[1;32m    450\u001b[0m                                                 \u001b[0m_print_indent\u001b[0m \u001b[0;34m-=\u001b[0m \u001b[0;36m1\u001b[0m\u001b[0;34m\u001b[0m\u001b[0;34m\u001b[0m\u001b[0m\n\u001b[1;32m    451\u001b[0m \u001b[0;34m\u001b[0m\u001b[0m\n",
      "\u001b[0;32m~/workspace/foundation/foundation/train/registry.py\u001b[0m in \u001b[0;36mcreate_component\u001b[0;34m(info)\u001b[0m\n\u001b[1;32m    264\u001b[0m                         \u001b[0mcomponent\u001b[0m \u001b[0;34m=\u001b[0m \u001b[0mmod\u001b[0m\u001b[0;34m(\u001b[0m\u001b[0mcomponent\u001b[0m\u001b[0;34m,\u001b[0m \u001b[0minfo\u001b[0m\u001b[0;34m)\u001b[0m \u001b[0;32mif\u001b[0m \u001b[0mexpects_config\u001b[0m \u001b[0;32melse\u001b[0m \u001b[0mmod\u001b[0m\u001b[0;34m(\u001b[0m\u001b[0mcomponent\u001b[0m\u001b[0;34m)\u001b[0m\u001b[0;34m\u001b[0m\u001b[0;34m\u001b[0m\u001b[0m\n\u001b[1;32m    265\u001b[0m \u001b[0;34m\u001b[0m\u001b[0m\n\u001b[0;32m--> 266\u001b[0;31m         \u001b[0;32mreturn\u001b[0m \u001b[0mcomponent\u001b[0m\u001b[0;34m(\u001b[0m\u001b[0minfo\u001b[0m\u001b[0;34m)\u001b[0m\u001b[0;34m\u001b[0m\u001b[0;34m\u001b[0m\u001b[0m\n\u001b[0m\u001b[1;32m    267\u001b[0m \u001b[0;34m\u001b[0m\u001b[0m\n\u001b[1;32m    268\u001b[0m \u001b[0;34m\u001b[0m\u001b[0m\n",
      "\u001b[0;32m~/workspace/projects/learn_rep/decoders.py\u001b[0m in \u001b[0;36m__init__\u001b[0;34m(self, A)\u001b[0m\n\u001b[1;32m    107\u001b[0m                         \u001b[0mnxt\u001b[0m\u001b[0;34m.\u001b[0m\u001b[0mfactor\u001b[0m \u001b[0;34m=\u001b[0m \u001b[0mfct\u001b[0m\u001b[0;34m\u001b[0m\u001b[0;34m\u001b[0m\u001b[0m\n\u001b[1;32m    108\u001b[0m \u001b[0;34m\u001b[0m\u001b[0m\n\u001b[0;32m--> 109\u001b[0;31m                         \u001b[0mlayer\u001b[0m \u001b[0;34m=\u001b[0m \u001b[0mnext\u001b[0m\u001b[0;34m(\u001b[0m\u001b[0mcreate_layer\u001b[0m\u001b[0;34m)\u001b[0m\u001b[0;34m\u001b[0m\u001b[0;34m\u001b[0m\u001b[0m\n\u001b[0m\u001b[1;32m    110\u001b[0m                         \u001b[0mlayers\u001b[0m\u001b[0;34m.\u001b[0m\u001b[0mappend\u001b[0m\u001b[0;34m(\u001b[0m\u001b[0mlayer\u001b[0m\u001b[0;34m)\u001b[0m\u001b[0;34m\u001b[0m\u001b[0;34m\u001b[0m\u001b[0m\n\u001b[1;32m    111\u001b[0m \u001b[0;34m\u001b[0m\u001b[0m\n",
      "\u001b[0;32m~/workspace/foundation/foundation/train/config.py\u001b[0m in \u001b[0;36m__next__\u001b[0;34m(self)\u001b[0m\n\u001b[1;32m    655\u001b[0m                         \u001b[0;32mraise\u001b[0m \u001b[0mStopIteration\u001b[0m\u001b[0;34m\u001b[0m\u001b[0;34m\u001b[0m\u001b[0m\n\u001b[1;32m    656\u001b[0m \u001b[0;34m\u001b[0m\u001b[0m\n\u001b[0;32m--> 657\u001b[0;31m                 \u001b[0mobj\u001b[0m \u001b[0;34m=\u001b[0m \u001b[0mself\u001b[0m\u001b[0;34m.\u001b[0m\u001b[0m_origin\u001b[0m\u001b[0;34m.\u001b[0m\u001b[0m_process_val\u001b[0m\u001b[0;34m(\u001b[0m\u001b[0;34mf'{self._name}[{self._idx}]'\u001b[0m\u001b[0;34m,\u001b[0m \u001b[0mself\u001b[0m\u001b[0;34m.\u001b[0m\u001b[0mcurrent\u001b[0m\u001b[0;34m(\u001b[0m\u001b[0;34m)\u001b[0m\u001b[0;34m)\u001b[0m\u001b[0;34m\u001b[0m\u001b[0;34m\u001b[0m\u001b[0m\n\u001b[0m\u001b[1;32m    658\u001b[0m                 \u001b[0mself\u001b[0m\u001b[0;34m.\u001b[0m\u001b[0m_idx\u001b[0m \u001b[0;34m+=\u001b[0m \u001b[0;36m1\u001b[0m\u001b[0;34m\u001b[0m\u001b[0;34m\u001b[0m\u001b[0m\n\u001b[1;32m    659\u001b[0m                 \u001b[0;32mreturn\u001b[0m \u001b[0mobj\u001b[0m\u001b[0;34m\u001b[0m\u001b[0;34m\u001b[0m\u001b[0m\n",
      "\u001b[0;32m~/workspace/foundation/foundation/train/config.py\u001b[0m in \u001b[0;36m_process_val\u001b[0;34m(self, item, val, silent, reuse, defaulted, byparent, bychild, *defaults)\u001b[0m\n\u001b[1;32m    447\u001b[0m                                         \u001b[0;32mif\u001b[0m \u001b[0mcmpn\u001b[0m \u001b[0;32mis\u001b[0m \u001b[0;32mNone\u001b[0m\u001b[0;34m:\u001b[0m\u001b[0;34m\u001b[0m\u001b[0;34m\u001b[0m\u001b[0m\n\u001b[1;32m    448\u001b[0m                                                 \u001b[0m_print_indent\u001b[0m \u001b[0;34m+=\u001b[0m \u001b[0;36m1\u001b[0m\u001b[0;34m\u001b[0m\u001b[0;34m\u001b[0m\u001b[0m\n\u001b[0;32m--> 449\u001b[0;31m                                                 \u001b[0mcmpn\u001b[0m \u001b[0;34m=\u001b[0m \u001b[0mcreate_component\u001b[0m\u001b[0;34m(\u001b[0m\u001b[0mval\u001b[0m\u001b[0;34m)\u001b[0m\u001b[0;34m\u001b[0m\u001b[0;34m\u001b[0m\u001b[0m\n\u001b[0m\u001b[1;32m    450\u001b[0m                                                 \u001b[0m_print_indent\u001b[0m \u001b[0;34m-=\u001b[0m \u001b[0;36m1\u001b[0m\u001b[0;34m\u001b[0m\u001b[0;34m\u001b[0m\u001b[0m\n\u001b[1;32m    451\u001b[0m \u001b[0;34m\u001b[0m\u001b[0m\n",
      "\u001b[0;32m~/workspace/foundation/foundation/train/registry.py\u001b[0m in \u001b[0;36mcreate_component\u001b[0;34m(info)\u001b[0m\n\u001b[1;32m    264\u001b[0m                         \u001b[0mcomponent\u001b[0m \u001b[0;34m=\u001b[0m \u001b[0mmod\u001b[0m\u001b[0;34m(\u001b[0m\u001b[0mcomponent\u001b[0m\u001b[0;34m,\u001b[0m \u001b[0minfo\u001b[0m\u001b[0;34m)\u001b[0m \u001b[0;32mif\u001b[0m \u001b[0mexpects_config\u001b[0m \u001b[0;32melse\u001b[0m \u001b[0mmod\u001b[0m\u001b[0;34m(\u001b[0m\u001b[0mcomponent\u001b[0m\u001b[0;34m)\u001b[0m\u001b[0;34m\u001b[0m\u001b[0;34m\u001b[0m\u001b[0m\n\u001b[1;32m    265\u001b[0m \u001b[0;34m\u001b[0m\u001b[0m\n\u001b[0;32m--> 266\u001b[0;31m         \u001b[0;32mreturn\u001b[0m \u001b[0mcomponent\u001b[0m\u001b[0;34m(\u001b[0m\u001b[0minfo\u001b[0m\u001b[0;34m)\u001b[0m\u001b[0;34m\u001b[0m\u001b[0;34m\u001b[0m\u001b[0m\n\u001b[0m\u001b[1;32m    267\u001b[0m \u001b[0;34m\u001b[0m\u001b[0m\n\u001b[1;32m    268\u001b[0m \u001b[0;34m\u001b[0m\u001b[0m\n",
      "\u001b[0;32m~/workspace/foundation/foundation/train/registry.py\u001b[0m in \u001b[0;36m_create\u001b[0;34m(config)\u001b[0m\n\u001b[1;32m    180\u001b[0m                 \u001b[0;32mdef\u001b[0m \u001b[0m_create\u001b[0m\u001b[0;34m(\u001b[0m\u001b[0mconfig\u001b[0m\u001b[0;34m)\u001b[0m\u001b[0;34m:\u001b[0m\u001b[0;34m\u001b[0m\u001b[0;34m\u001b[0m\u001b[0m\n\u001b[1;32m    181\u001b[0m                         \u001b[0;32mnonlocal\u001b[0m \u001b[0mcmp\u001b[0m\u001b[0;34m,\u001b[0m \u001b[0maliases\u001b[0m\u001b[0;34m\u001b[0m\u001b[0;34m\u001b[0m\u001b[0m\n\u001b[0;32m--> 182\u001b[0;31m                         \u001b[0;32mreturn\u001b[0m \u001b[0mautofill_args\u001b[0m\u001b[0;34m(\u001b[0m\u001b[0mcmp\u001b[0m\u001b[0;34m,\u001b[0m \u001b[0mconfig\u001b[0m\u001b[0;34m,\u001b[0m \u001b[0maliases\u001b[0m\u001b[0;34m)\u001b[0m\u001b[0;34m\u001b[0m\u001b[0;34m\u001b[0m\u001b[0m\n\u001b[0m\u001b[1;32m    183\u001b[0m \u001b[0;34m\u001b[0m\u001b[0m\n\u001b[1;32m    184\u001b[0m                 \u001b[0mComponent\u001b[0m\u001b[0;34m(\u001b[0m\u001b[0mname\u001b[0m\u001b[0;34m)\u001b[0m\u001b[0;34m(\u001b[0m\u001b[0m_create\u001b[0m\u001b[0;34m)\u001b[0m\u001b[0;34m\u001b[0m\u001b[0;34m\u001b[0m\u001b[0m\n",
      "\u001b[0;32m~/workspace/foundation/foundation/train/registry.py\u001b[0m in \u001b[0;36mautofill_args\u001b[0;34m(fn, config, aliases)\u001b[0m\n\u001b[1;32m    218\u001b[0m                         \u001b[0mkwargs\u001b[0m\u001b[0;34m[\u001b[0m\u001b[0mn\u001b[0m\u001b[0;34m]\u001b[0m \u001b[0;34m=\u001b[0m \u001b[0marg\u001b[0m\u001b[0;34m\u001b[0m\u001b[0;34m\u001b[0m\u001b[0m\n\u001b[1;32m    219\u001b[0m \u001b[0;34m\u001b[0m\u001b[0m\n\u001b[0;32m--> 220\u001b[0;31m         \u001b[0;32mreturn\u001b[0m \u001b[0mfn\u001b[0m\u001b[0;34m(\u001b[0m\u001b[0;34m*\u001b[0m\u001b[0margs\u001b[0m\u001b[0;34m,\u001b[0m \u001b[0;34m**\u001b[0m\u001b[0mkwargs\u001b[0m\u001b[0;34m)\u001b[0m\u001b[0;34m\u001b[0m\u001b[0;34m\u001b[0m\u001b[0m\n\u001b[0m\u001b[1;32m    221\u001b[0m \u001b[0;34m\u001b[0m\u001b[0m\n\u001b[1;32m    222\u001b[0m \u001b[0;34m\u001b[0m\u001b[0m\n",
      "\u001b[0;32m~/workspace/foundation/foundation/models/layers.py\u001b[0m in \u001b[0;36m__init__\u001b[0;34m(self, in_channels, out_channels, factor, kernel_size, stride, padding, dilation, output_padding, din, dout, up_type, norm, nonlin, residual, **conv_kwargs)\u001b[0m\n\u001b[1;32m    383\u001b[0m                 \u001b[0msuper\u001b[0m\u001b[0;34m(\u001b[0m\u001b[0;34m)\u001b[0m\u001b[0;34m.\u001b[0m\u001b[0m__init__\u001b[0m\u001b[0;34m(\u001b[0m\u001b[0mdin\u001b[0m\u001b[0;34m,\u001b[0m \u001b[0mdout\u001b[0m\u001b[0;34m)\u001b[0m\u001b[0;34m\u001b[0m\u001b[0;34m\u001b[0m\u001b[0m\n\u001b[1;32m    384\u001b[0m \u001b[0;34m\u001b[0m\u001b[0m\n\u001b[0;32m--> 385\u001b[0;31m                 \u001b[0;32mif\u001b[0m \u001b[0mself\u001b[0m\u001b[0;34m.\u001b[0m\u001b[0mup_type\u001b[0m \u001b[0;34m==\u001b[0m \u001b[0;34m'deconv'\u001b[0m\u001b[0;34m:\u001b[0m\u001b[0;34m\u001b[0m\u001b[0;34m\u001b[0m\u001b[0m\n\u001b[0m\u001b[1;32m    386\u001b[0m \t\t\tself.deconv = nn.ConvTranspose2d(in_channels, out_channels, stride=stride,\n\u001b[1;32m    387\u001b[0m \t\t\t                                 output_padding=output_padding, **conv_kwargs)\n",
      "\u001b[0;32m~/anaconda3/lib/python3.7/site-packages/torch/nn/modules/module.py\u001b[0m in \u001b[0;36m__getattr__\u001b[0;34m(self, name)\u001b[0m\n\u001b[1;32m    574\u001b[0m                 \u001b[0;32mreturn\u001b[0m \u001b[0mmodules\u001b[0m\u001b[0;34m[\u001b[0m\u001b[0mname\u001b[0m\u001b[0;34m]\u001b[0m\u001b[0;34m\u001b[0m\u001b[0;34m\u001b[0m\u001b[0m\n\u001b[1;32m    575\u001b[0m         raise AttributeError(\"'{}' object has no attribute '{}'\".format(\n\u001b[0;32m--> 576\u001b[0;31m             type(self).__name__, name))\n\u001b[0m\u001b[1;32m    577\u001b[0m \u001b[0;34m\u001b[0m\u001b[0m\n\u001b[1;32m    578\u001b[0m     \u001b[0;32mdef\u001b[0m \u001b[0m__setattr__\u001b[0m\u001b[0;34m(\u001b[0m\u001b[0mself\u001b[0m\u001b[0;34m,\u001b[0m \u001b[0mname\u001b[0m\u001b[0;34m,\u001b[0m \u001b[0mvalue\u001b[0m\u001b[0;34m)\u001b[0m\u001b[0;34m:\u001b[0m\u001b[0;34m\u001b[0m\u001b[0;34m\u001b[0m\u001b[0m\n",
      "\u001b[0;31mAttributeError\u001b[0m: 'Deconv_Layer' object has no attribute 'up_type'"
     ]
    }
   ],
   "source": [
    "A.pull('model.decoder')"
   ]
  },
  {
   "cell_type": "code",
   "execution_count": null,
   "metadata": {},
   "outputs": [],
   "source": []
  },
  {
   "cell_type": "code",
   "execution_count": 8,
   "metadata": {},
   "outputs": [],
   "source": [
    "A = trn.get_config()\n",
    "A.model._type = 'dislib-dec'\n",
    "A.model.dout = (3,128,128)\n",
    "A.model.din = 10"
   ]
  },
  {
   "cell_type": "code",
   "execution_count": 9,
   "metadata": {},
   "outputs": [
    {
     "name": "stdout",
     "output_type": "stream",
     "text": [
      "Creating model (type=dislib-dec)\n",
      "  latent_dim --> din: 10\n",
      "  out_shape --> dout: (3, 128, 128)\n",
      "  nonlin: relu (by default)\n",
      "  net_type: conv (by default)\n",
      "WARNING: this Config is NOT currently in a transaction, so all subcomponents will be created again everytime they are pulled\n"
     ]
    }
   ],
   "source": [
    "model = A.pull('model')"
   ]
  },
  {
   "cell_type": "code",
   "execution_count": 10,
   "metadata": {},
   "outputs": [
    {
     "name": "stdout",
     "output_type": "stream",
     "text": [
      "Disentanglement_lib_Decoder(\n",
      "  (net): Sequential(\n",
      "    (0): Linear(in_features=10, out_features=256, bias=True)\n",
      "    (1): ReLU(inplace=True)\n",
      "    (2): Linear(in_features=256, out_features=1024, bias=True)\n",
      "    (3): Reshaper(out=(64, 4, 4))\n",
      "  )\n",
      "  (deconv): Sequential(\n",
      "    (0): DeconvLayer(\n",
      "      (deconv): ConvTranspose2d(64, 64, kernel_size=(4, 4), stride=(2, 2), padding=(1, 1))\n",
      "      (nonlin): ReLU(inplace=True)\n",
      "    )\n",
      "    (1): DeconvLayer(\n",
      "      (deconv): ConvTranspose2d(64, 32, kernel_size=(4, 4), stride=(2, 2), padding=(1, 1))\n",
      "      (nonlin): ReLU(inplace=True)\n",
      "    )\n",
      "    (2): DeconvLayer(\n",
      "      (deconv): ConvTranspose2d(32, 32, kernel_size=(4, 4), stride=(2, 2), padding=(1, 1))\n",
      "      (nonlin): ReLU(inplace=True)\n",
      "    )\n",
      "    (3): DeconvLayer(\n",
      "      (deconv): ConvTranspose2d(32, 32, kernel_size=(4, 4), stride=(2, 2), padding=(1, 1))\n",
      "      (nonlin): ReLU(inplace=True)\n",
      "    )\n",
      "    (4): DeconvLayer(\n",
      "      (deconv): ConvTranspose2d(32, 3, kernel_size=(4, 4), stride=(2, 2), padding=(1, 1))\n",
      "      (nonlin): Sigmoid()\n",
      "    )\n",
      "  )\n",
      ")\n"
     ]
    }
   ],
   "source": [
    "print(model)"
   ]
  },
  {
   "cell_type": "code",
   "execution_count": 19,
   "metadata": {},
   "outputs": [],
   "source": [
    "x = torch.randn(3,3)"
   ]
  },
  {
   "cell_type": "code",
   "execution_count": 22,
   "metadata": {},
   "outputs": [
    {
     "data": {
      "text/plain": [
       "tensor([[ 0.5952,  0.4880,  0.2048],\n",
       "        [-0.3997, -0.3645, -0.6762],\n",
       "        [ 0.9419, -1.9665, -1.9220]])"
      ]
     },
     "execution_count": 22,
     "metadata": {},
     "output_type": "execute_result"
    }
   ],
   "source": [
    "x"
   ]
  },
  {
   "cell_type": "code",
   "execution_count": 24,
   "metadata": {},
   "outputs": [
    {
     "data": {
      "text/plain": [
       "tensor(1.9665)"
      ]
     },
     "execution_count": 24,
     "metadata": {},
     "output_type": "execute_result"
    }
   ],
   "source": [
    "x.norm(p=float('inf'), dim=None)"
   ]
  },
  {
   "cell_type": "code",
   "execution_count": null,
   "metadata": {},
   "outputs": [],
   "source": []
  },
  {
   "cell_type": "code",
   "execution_count": 13,
   "metadata": {},
   "outputs": [
    {
     "data": {
      "text/plain": [
       "398755"
      ]
     },
     "execution_count": 13,
     "metadata": {},
     "output_type": "execute_result"
    }
   ],
   "source": [
    "util.count_parameters(model)"
   ]
  },
  {
   "cell_type": "code",
   "execution_count": 11,
   "metadata": {},
   "outputs": [],
   "source": [
    "q = torch.randn(64,10)"
   ]
  },
  {
   "cell_type": "code",
   "execution_count": 12,
   "metadata": {},
   "outputs": [
    {
     "data": {
      "text/plain": [
       "torch.Size([64, 3, 128, 128])"
      ]
     },
     "execution_count": 12,
     "metadata": {},
     "output_type": "execute_result"
    }
   ],
   "source": [
    "with torch.no_grad():\n",
    "    rec = model(q)\n",
    "rec.shape"
   ]
  },
  {
   "cell_type": "code",
   "execution_count": null,
   "metadata": {},
   "outputs": [],
   "source": []
  },
  {
   "cell_type": "code",
   "execution_count": 5,
   "metadata": {},
   "outputs": [
    {
     "name": "stdout",
     "output_type": "stream",
     "text": [
      "Loading dataset: 3dshapes\n",
      "dataroot: /is/ei/fleeb/workspace/local_data/\n",
      "load_memory: True (by default)\n",
      "train: True (by default)\n",
      "labeled: False\n",
      "noise: None (by default)\n",
      "din: (3, 64, 64) (by default)\n",
      "dout: (3, 64, 64) (by default)\n"
     ]
    },
    {
     "data": {
      "text/plain": [
       "384000"
      ]
     },
     "execution_count": 5,
     "metadata": {},
     "output_type": "execute_result"
    }
   ],
   "source": [
    "dataset = trn.get_dataset('3dshapes', labeled=False)\n",
    "len(dataset)"
   ]
  },
  {
   "cell_type": "code",
   "execution_count": 6,
   "metadata": {},
   "outputs": [
    {
     "name": "stdout",
     "output_type": "stream",
     "text": [
      "Using batched data loader\n"
     ]
    },
    {
     "data": {
      "text/plain": [
       "6000"
      ]
     },
     "execution_count": 6,
     "metadata": {},
     "output_type": "execute_result"
    }
   ],
   "source": [
    "dataloader = trn.get_loaders(dataset, batch_size=64, drop_last=False)\n",
    "len(dataloader)"
   ]
  },
  {
   "cell_type": "code",
   "execution_count": 7,
   "metadata": {},
   "outputs": [],
   "source": [
    "for batch in dataloader:\n",
    "    pass"
   ]
  },
  {
   "cell_type": "code",
   "execution_count": 8,
   "metadata": {},
   "outputs": [
    {
     "data": {
      "text/plain": [
       "torch.Size([64, 3, 64, 64])"
      ]
     },
     "execution_count": 8,
     "metadata": {},
     "output_type": "execute_result"
    }
   ],
   "source": [
    "X = batch[0]\n",
    "X.shape"
   ]
  },
  {
   "cell_type": "code",
   "execution_count": 11,
   "metadata": {},
   "outputs": [
    {
     "data": {
      "text/plain": [
       "(torch.Size([64, 10]), torch.Size([64, 10]))"
      ]
     },
     "execution_count": 11,
     "metadata": {},
     "output_type": "execute_result"
    }
   ],
   "source": [
    "q = model(X)\n",
    "q.loc.shape, q.stddev.shape"
   ]
  },
  {
   "cell_type": "code",
   "execution_count": null,
   "metadata": {},
   "outputs": [],
   "source": []
  },
  {
   "cell_type": "code",
   "execution_count": null,
   "metadata": {},
   "outputs": [],
   "source": []
  },
  {
   "cell_type": "code",
   "execution_count": null,
   "metadata": {},
   "outputs": [],
   "source": []
  },
  {
   "cell_type": "code",
   "execution_count": 13,
   "metadata": {},
   "outputs": [],
   "source": [
    "shapes, settings = models.plan_conv((3,64,64), channels=[32,32,64,64], kernels=[4,4,2,2], strides=[2,2,2,2])"
   ]
  },
  {
   "cell_type": "code",
   "execution_count": 16,
   "metadata": {},
   "outputs": [
    {
     "name": "stdout",
     "output_type": "stream",
     "text": [
      "[(3, 128, 128), (32, 64, 64), (32, 32, 32), (64, 16, 16), (64, 8, 8), (64, 4, 4)]\n"
     ]
    }
   ],
   "source": [
    "print(shapes)"
   ]
  },
  {
   "cell_type": "code",
   "execution_count": 14,
   "metadata": {},
   "outputs": [
    {
     "name": "stdout",
     "output_type": "stream",
     "text": [
      "[ConvLayer(\n",
      "  (conv): Conv2d(3, 32, kernel_size=(4, 4), stride=(2, 2), padding=(1, 1))\n",
      "  (norm): BatchNorm2d(32, eps=1e-05, momentum=0.1, affine=True, track_running_stats=True)\n",
      "  (nonlin): ELU(alpha=1.0, inplace=True)\n",
      "), ConvLayer(\n",
      "  (conv): Conv2d(32, 32, kernel_size=(4, 4), stride=(2, 2), padding=(1, 1))\n",
      "  (norm): BatchNorm2d(32, eps=1e-05, momentum=0.1, affine=True, track_running_stats=True)\n",
      "  (nonlin): ELU(alpha=1.0, inplace=True)\n",
      "), ConvLayer(\n",
      "  (conv): Conv2d(32, 64, kernel_size=(2, 2), stride=(2, 2))\n",
      "  (norm): BatchNorm2d(64, eps=1e-05, momentum=0.1, affine=True, track_running_stats=True)\n",
      "  (nonlin): ELU(alpha=1.0, inplace=True)\n",
      "), ConvLayer(\n",
      "  (conv): Conv2d(64, 64, kernel_size=(2, 2), stride=(2, 2))\n",
      "  (norm): BatchNorm2d(64, eps=1e-05, momentum=0.1, affine=True, track_running_stats=True)\n",
      "  (nonlin): ELU(alpha=1.0, inplace=True)\n",
      "), ConvLayer(\n",
      "  (conv): Conv2d(64, 64, kernel_size=(2, 2), stride=(2, 2))\n",
      ")]\n"
     ]
    }
   ],
   "source": [
    "print(models.build_conv_layers(settings))"
   ]
  },
  {
   "cell_type": "code",
   "execution_count": 2,
   "metadata": {},
   "outputs": [
    {
     "name": "stdout",
     "output_type": "stream",
     "text": [
      "[(64, 4, 4), (64, 8, 8), (32, 16, 16), (32, 32, 32), (3, 64, 64)]\n"
     ]
    }
   ],
   "source": [
    "shapes, settings = models.plan_deconv((3,64,64), channels=[64,64,32,32], kernels=[2,2,4,4,], strides=[2,2,2,2])\n",
    "print(shapes)"
   ]
  },
  {
   "cell_type": "code",
   "execution_count": 4,
   "metadata": {},
   "outputs": [
    {
     "name": "stdout",
     "output_type": "stream",
     "text": [
      "[DeconvLayer(\n",
      "  (deconv): ConvTranspose2d(64, 64, kernel_size=(2, 2), stride=(2, 2))\n",
      "  (norm): BatchNorm2d(64, eps=1e-05, momentum=0.1, affine=True, track_running_stats=True)\n",
      "  (nonlin): ELU(alpha=1.0, inplace=True)\n",
      "), DeconvLayer(\n",
      "  (deconv): ConvTranspose2d(64, 32, kernel_size=(2, 2), stride=(2, 2))\n",
      "  (norm): BatchNorm2d(32, eps=1e-05, momentum=0.1, affine=True, track_running_stats=True)\n",
      "  (nonlin): ELU(alpha=1.0, inplace=True)\n",
      "), DeconvLayer(\n",
      "  (deconv): ConvTranspose2d(32, 32, kernel_size=(4, 4), stride=(2, 2), padding=(1, 1))\n",
      "  (norm): BatchNorm2d(32, eps=1e-05, momentum=0.1, affine=True, track_running_stats=True)\n",
      "  (nonlin): ELU(alpha=1.0, inplace=True)\n",
      "), DeconvLayer(\n",
      "  (deconv): ConvTranspose2d(32, 3, kernel_size=(4, 4), stride=(2, 2), padding=(1, 1))\n",
      ")]\n"
     ]
    }
   ],
   "source": [
    "dec = models.build_deconv_layers(settings, shapes[:-1])\n",
    "print(dec)"
   ]
  },
  {
   "cell_type": "code",
   "execution_count": null,
   "metadata": {},
   "outputs": [],
   "source": []
  },
  {
   "cell_type": "code",
   "execution_count": null,
   "metadata": {},
   "outputs": [],
   "source": []
  },
  {
   "cell_type": "code",
   "execution_count": 2,
   "metadata": {},
   "outputs": [],
   "source": [
    "class T(object):\n",
    "    def __repr__(self):\n",
    "        return 'a\\nb\\nc'"
   ]
  },
  {
   "cell_type": "code",
   "execution_count": 3,
   "metadata": {},
   "outputs": [],
   "source": [
    "data = {'a':2, 'wow':T(), 'b':{'x':[1,2,3], 'y':{'t1': {'a','b','sdg'}, 't2':5}}}"
   ]
  },
  {
   "cell_type": "code",
   "execution_count": 4,
   "metadata": {},
   "outputs": [
    {
     "name": "stdout",
     "output_type": "stream",
     "text": [
      "{\n",
      "  'a': 2\n",
      "  'wow': a\n",
      "      b\n",
      "      c\n",
      "  'b': {\n",
      "    'x': [\n",
      "      1\n",
      "      2\n",
      "      3\n",
      "    ]\n",
      "    'y': {\n",
      "      't1': {\n",
      "        'a'\n",
      "        'b'\n",
      "        'sdg'\n",
      "      }\n",
      "      't2': 5\n",
      "    }\n",
      "  }\n",
      "}\n"
     ]
    }
   ],
   "source": [
    "print(util.pretty_format(data))"
   ]
  },
  {
   "cell_type": "code",
   "execution_count": null,
   "metadata": {},
   "outputs": [],
   "source": []
  },
  {
   "cell_type": "code",
   "execution_count": null,
   "metadata": {},
   "outputs": [],
   "source": []
  },
  {
   "cell_type": "code",
   "execution_count": null,
   "metadata": {},
   "outputs": [],
   "source": []
  },
  {
   "cell_type": "code",
   "execution_count": 2,
   "metadata": {},
   "outputs": [],
   "source": [
    "%matplotlib notebook"
   ]
  },
  {
   "cell_type": "code",
   "execution_count": 3,
   "metadata": {},
   "outputs": [],
   "source": [
    "# raw, labels = sklearn.datasets.fetch_openml('mnist_784', version=1, return_X_y=True)\n",
    "# labels = labels.astype(int)"
   ]
  },
  {
   "cell_type": "code",
   "execution_count": 4,
   "metadata": {},
   "outputs": [],
   "source": [
    "# data = raw.reshape(-1,28,28)[:10000, ::2, ::2]\n",
    "# _,H, W = data.shape\n",
    "# data = data.reshape(len(data),-1)\n",
    "# # data = data.astype('float32')\n",
    "# lbls = labels[:10000]\n",
    "# data.shape, lbls.shape"
   ]
  },
  {
   "cell_type": "code",
   "execution_count": 5,
   "metadata": {},
   "outputs": [],
   "source": [
    "# start = time.time()\n",
    "# mapper = umap.UMAP(random_state=1).fit(data)\n",
    "# print('took {:.2f}'.format(time.time() - start))"
   ]
  },
  {
   "cell_type": "code",
   "execution_count": 6,
   "metadata": {},
   "outputs": [],
   "source": [
    "# Q = mapper.embedding_\n",
    "# Q.shape"
   ]
  },
  {
   "cell_type": "code",
   "execution_count": 7,
   "metadata": {},
   "outputs": [],
   "source": [
    "# vals = set(lbls)\n",
    "# num = len(vals)\n",
    "# vals = sorted(list(vals))\n",
    "# num, vals"
   ]
  },
  {
   "cell_type": "code",
   "execution_count": 8,
   "metadata": {},
   "outputs": [],
   "source": [
    "# cmap = matplotlib.cm.get_cmap('Spectral')\n",
    "# cmap"
   ]
  },
  {
   "cell_type": "code",
   "execution_count": 9,
   "metadata": {},
   "outputs": [],
   "source": [
    "# plt.figure(figsize=(8,8))\n",
    "# plt.scatter(*Q.T, c=lbls, cmap=cmap, marker='.', s=10)\n",
    "\n",
    "# hdls = []\n",
    "# for i in np.arange(num):\n",
    "#     l = i/(num-1)\n",
    "#     v = vals[i]\n",
    "#     hdls.append( mpatches.Patch(color=cmap(l), label=str(v)))\n",
    "# plt.legend(handles=hdls)\n",
    "# pass"
   ]
  },
  {
   "cell_type": "code",
   "execution_count": null,
   "metadata": {},
   "outputs": [],
   "source": []
  },
  {
   "cell_type": "code",
   "execution_count": 10,
   "metadata": {},
   "outputs": [],
   "source": [
    "# Q.shape"
   ]
  },
  {
   "cell_type": "code",
   "execution_count": 11,
   "metadata": {},
   "outputs": [],
   "source": [
    "# gen = Q[:16]\n",
    "# # gen = np.random.randn(16,2)*10\n",
    "# gen.shape"
   ]
  },
  {
   "cell_type": "code",
   "execution_count": 12,
   "metadata": {},
   "outputs": [],
   "source": [
    "# rec = mapper.inverse_transform(gen)\n",
    "# rec.shape"
   ]
  },
  {
   "cell_type": "code",
   "execution_count": 13,
   "metadata": {},
   "outputs": [],
   "source": [
    "# util.show_nums(torch.from_numpy(rec.reshape(-1,1,H,W)))\n",
    "# pass"
   ]
  },
  {
   "cell_type": "code",
   "execution_count": 28,
   "metadata": {},
   "outputs": [
    {
     "name": "stderr",
     "output_type": "stream",
     "text": [
      "[autoreload of foundation.data.collectors failed: Traceback (most recent call last):\n",
      "  File \"/is/ei/fleeb/anaconda3/lib/python3.7/site-packages/IPython/extensions/autoreload.py\", line 245, in check\n",
      "    superreload(m, reload, self.old_objects)\n",
      "  File \"/is/ei/fleeb/anaconda3/lib/python3.7/site-packages/IPython/extensions/autoreload.py\", line 450, in superreload\n",
      "    update_generic(old_obj, new_obj)\n",
      "  File \"/is/ei/fleeb/anaconda3/lib/python3.7/site-packages/IPython/extensions/autoreload.py\", line 387, in update_generic\n",
      "    update(a, b)\n",
      "  File \"/is/ei/fleeb/anaconda3/lib/python3.7/site-packages/IPython/extensions/autoreload.py\", line 357, in update_class\n",
      "    update_instances(old, new)\n",
      "  File \"/is/ei/fleeb/anaconda3/lib/python3.7/site-packages/IPython/extensions/autoreload.py\", line 312, in update_instances\n",
      "    update_instances(old, new, obj.__dict__, visited)\n",
      "  File \"/is/ei/fleeb/anaconda3/lib/python3.7/site-packages/IPython/extensions/autoreload.py\", line 317, in update_instances\n",
      "    update_instances(old, new, obj, visited)\n",
      "  File \"/is/ei/fleeb/anaconda3/lib/python3.7/site-packages/IPython/extensions/autoreload.py\", line 317, in update_instances\n",
      "    update_instances(old, new, obj, visited)\n",
      "  File \"/is/ei/fleeb/anaconda3/lib/python3.7/site-packages/IPython/extensions/autoreload.py\", line 317, in update_instances\n",
      "    update_instances(old, new, obj, visited)\n",
      "  [Previous line repeated 1 more time]\n",
      "  File \"/is/ei/fleeb/anaconda3/lib/python3.7/site-packages/IPython/extensions/autoreload.py\", line 302, in update_instances\n",
      "    visited.update({id(obj):obj})\n",
      "KeyboardInterrupt\n",
      "]\n"
     ]
    }
   ],
   "source": [
    "N,C,H,W = 5, 3, 10,10"
   ]
  },
  {
   "cell_type": "code",
   "execution_count": 35,
   "metadata": {},
   "outputs": [
    {
     "data": {
      "text/plain": [
       "torch.Size([5, 3, 10, 10])"
      ]
     },
     "execution_count": 35,
     "metadata": {},
     "output_type": "execute_result"
    }
   ],
   "source": [
    "X = torch.arange(N*C*H*W).view(N,C,H,W).float()\n",
    "X.shape"
   ]
  },
  {
   "cell_type": "code",
   "execution_count": 38,
   "metadata": {},
   "outputs": [],
   "source": [
    "unf = nn.Unfold((2,2), padding=1)"
   ]
  },
  {
   "cell_type": "code",
   "execution_count": 39,
   "metadata": {},
   "outputs": [
    {
     "data": {
      "text/plain": [
       "torch.Size([5, 27, 100])"
      ]
     },
     "execution_count": 39,
     "metadata": {},
     "output_type": "execute_result"
    }
   ],
   "source": [
    "unf(X).shape"
   ]
  },
  {
   "cell_type": "code",
   "execution_count": null,
   "metadata": {},
   "outputs": [],
   "source": []
  },
  {
   "cell_type": "code",
   "execution_count": null,
   "metadata": {},
   "outputs": [],
   "source": []
  },
  {
   "cell_type": "code",
   "execution_count": 4,
   "metadata": {},
   "outputs": [
    {
     "name": "stdout",
     "output_type": "stream",
     "text": [
      "Loading dataset: 3dshapes\n",
      "dataroot: /is/ei/fleeb/workspace/local_data/\n",
      "load_memory: True (by default)\n",
      "train: True (by default)\n",
      "labeled: True\n",
      "noise: None (by default)\n",
      "din: (3, 64, 64) (by default)\n",
      "dout: 6 (by default)\n"
     ]
    },
    {
     "data": {
      "text/plain": [
       "384000"
      ]
     },
     "execution_count": 4,
     "metadata": {},
     "output_type": "execute_result"
    }
   ],
   "source": [
    "dataset = trn.get_dataset('3dshapes', labeled=True)\n",
    "len(dataset)"
   ]
  },
  {
   "cell_type": "code",
   "execution_count": 5,
   "metadata": {},
   "outputs": [
    {
     "data": {
      "text/plain": [
       "torch.Size([384000, 3, 64, 64])"
      ]
     },
     "execution_count": 5,
     "metadata": {},
     "output_type": "execute_result"
    }
   ],
   "source": [
    "dataset.images.shape"
   ]
  },
  {
   "cell_type": "code",
   "execution_count": 6,
   "metadata": {},
   "outputs": [
    {
     "name": "stdout",
     "output_type": "stream",
     "text": [
      "torch.Size([384000, 3, 64, 64])\n"
     ]
    },
    {
     "data": {
      "text/plain": [
       "(torch.Size([384000, 12288]), torch.Size([384000, 6]))"
      ]
     },
     "execution_count": 6,
     "metadata": {},
     "output_type": "execute_result"
    }
   ],
   "source": [
    "# X = dataset.images.view(-1, 28*28)\n",
    "torch.manual_seed(0)\n",
    "order = torch.randperm(len(dataset))\n",
    "# order = slice(None)\n",
    "X = dataset.images[order]#,:,::2,::2]\n",
    "print(X.shape)\n",
    "_, C, H, W = X.shape\n",
    "X = X.contiguous().view(len(dataset),-1)#.div(255)\n",
    "if X.dtype == torch.uint8:\n",
    "    X = X.float().div(255)\n",
    "X = X.float()\n",
    "Y = dataset.labels[order]\n",
    "X.shape, Y.shape"
   ]
  },
  {
   "cell_type": "code",
   "execution_count": 23,
   "metadata": {},
   "outputs": [
    {
     "data": {
      "text/plain": [
       "(torch.Size([30000, 12288]), torch.Size([30000, 6]))"
      ]
     },
     "execution_count": 23,
     "metadata": {},
     "output_type": "execute_result"
    }
   ],
   "source": [
    "N = 30000\n",
    "\n",
    "trainX, trainY = X[:N], Y[:N]\n",
    "trainX.shape, trainY.shape\n",
    "# trainY[:16]"
   ]
  },
  {
   "cell_type": "code",
   "execution_count": null,
   "metadata": {},
   "outputs": [],
   "source": []
  },
  {
   "cell_type": "code",
   "execution_count": 24,
   "metadata": {},
   "outputs": [
    {
     "data": {
      "text/plain": [
       "GPUMAP(a=None, angular_rp_forest=False, b=None, init='default',\n",
       "       learning_rate=1.0, local_connectivity=1.0, metric='euclidean',\n",
       "       metric_kwds=None, min_dist=0.1, n_components=64, n_epochs=None,\n",
       "       n_neighbors=15, negative_sample_rate=5, random_state=1,\n",
       "       repulsion_strength=1.0, set_op_mix_ratio=1.0, spread=1.0,\n",
       "       target_metric='categorical', target_metric_kwds=None,\n",
       "       target_n_neighbors=-1, target_weight=0.5, transform_queue_size=4.0,\n",
       "       transform_seed=42, use_gpu=True, verbose=False)"
      ]
     },
     "execution_count": 24,
     "metadata": {},
     "output_type": "execute_result"
    }
   ],
   "source": [
    "R = gpumap.GPUMAP(n_components=64, random_state=1)#, min_dist=0.8, n_neighbors=100)#target_metric='haversine')\n",
    "R"
   ]
  },
  {
   "cell_type": "code",
   "execution_count": 25,
   "metadata": {},
   "outputs": [],
   "source": [
    "# R = umap.UMAP()\n",
    "# R = umap.UMAP(n_components=12)\n",
    "# R"
   ]
  },
  {
   "cell_type": "code",
   "execution_count": 26,
   "metadata": {},
   "outputs": [
    {
     "name": "stderr",
     "output_type": "stream",
     "text": [
      "\u001b[1m\n",
      "Compilation is falling back to object mode WITH looplifting enabled because Function \"make_epochs_per_sample\" failed type inference due to: \u001b[1mUntyped global name 'make_epochs_per_sample_gpu':\u001b[0m \u001b[1m\u001b[1mcannot determine Numba type of <class 'function'>\u001b[0m\n",
      "\u001b[1m\n",
      "File \"../gpumap/gpumap/gpumap_.py\", line 816:\u001b[0m\n",
      "\u001b[1mdef make_epochs_per_sample(weights, n_epochs, use_gpu):\n",
      "    <source elided>\n",
      "\tif use_gpu:\n",
      "\u001b[1m\t\tfun = make_epochs_per_sample_gpu\n",
      "\u001b[0m  \u001b[1m^\u001b[0m\u001b[0m\n",
      "\u001b[0m\u001b[0m\n",
      "\u001b[1mFunction \"make_epochs_per_sample\" was compiled in object mode without forceobj=True.\n",
      "\u001b[1m\n",
      "File \"../gpumap/gpumap/gpumap_.py\", line 799:\u001b[0m\n",
      "\u001b[1m@numba.jit()\n",
      "\u001b[1mdef make_epochs_per_sample(weights, n_epochs, use_gpu):\n",
      "\u001b[0m\u001b[1m^\u001b[0m\u001b[0m\n",
      "\u001b[0m\n",
      "\u001b[1m\n",
      "Fall-back from the nopython compilation path to the object mode compilation path has been detected, this is deprecated behaviour.\n",
      "\n",
      "For more information visit http://numba.pydata.org/numba-doc/latest/reference/deprecation.html#deprecation-of-object-mode-fall-back-behaviour-when-using-jit\n",
      "\u001b[1m\n",
      "File \"../gpumap/gpumap/gpumap_.py\", line 799:\u001b[0m\n",
      "\u001b[1m@numba.jit()\n",
      "\u001b[1mdef make_epochs_per_sample(weights, n_epochs, use_gpu):\n",
      "\u001b[0m\u001b[1m^\u001b[0m\u001b[0m\n",
      "\u001b[0m\n"
     ]
    },
    {
     "name": "stdout",
     "output_type": "stream",
     "text": [
      "took 37.27\n"
     ]
    }
   ],
   "source": [
    "start = time.time()\n",
    "R.fit(trainX.numpy())\n",
    "print('took {:.2f}'.format(time.time() - start))"
   ]
  },
  {
   "cell_type": "code",
   "execution_count": null,
   "metadata": {},
   "outputs": [],
   "source": []
  },
  {
   "cell_type": "code",
   "execution_count": 10,
   "metadata": {},
   "outputs": [
    {
     "data": {
      "text/plain": [
       "torch.Size([10000, 64])"
      ]
     },
     "execution_count": 10,
     "metadata": {},
     "output_type": "execute_result"
    }
   ],
   "source": [
    "# start = time.time()\n",
    "# Q = torch.from_numpy(R.transform(trainX))\n",
    "ref = torch.from_numpy(R.embedding_)\n",
    "# print('took {:.2f}'.format(time.time() - start))\n",
    "# ref = Q\n",
    "ref.shape"
   ]
  },
  {
   "cell_type": "code",
   "execution_count": 38,
   "metadata": {},
   "outputs": [],
   "source": [
    "# np.save('temp.npy', ref.numpy())"
   ]
  },
  {
   "cell_type": "code",
   "execution_count": 39,
   "metadata": {},
   "outputs": [],
   "source": [
    "ref = np.load('temp.npy')\n",
    "ref = torch.from_numpy(ref)"
   ]
  },
  {
   "cell_type": "code",
   "execution_count": 12,
   "metadata": {},
   "outputs": [
    {
     "data": {
      "text/plain": [
       "torch.Size([10000, 64])"
      ]
     },
     "execution_count": 12,
     "metadata": {},
     "output_type": "execute_result"
    }
   ],
   "source": [
    "Q = ref\n",
    "Q.shape"
   ]
  },
  {
   "cell_type": "code",
   "execution_count": null,
   "metadata": {},
   "outputs": [],
   "source": []
  },
  {
   "cell_type": "code",
   "execution_count": null,
   "metadata": {},
   "outputs": [],
   "source": []
  },
  {
   "cell_type": "code",
   "execution_count": 54,
   "metadata": {},
   "outputs": [
    {
     "name": "stderr",
     "output_type": "stream",
     "text": [
      "From version 0.24, get_params will raise an AttributeError if a parameter cannot be retrieved as an instance attribute. Previously it would return None.\n"
     ]
    },
    {
     "data": {
      "text/plain": [
       "UMAP(a=None, angular_rp_forest=False, b=None,\n",
       "     force_approximation_algorithm=False, init='spectral', learning_rate=1.0,\n",
       "     local_connectivity=1.0, low_memory=False, metric='euclidean',\n",
       "     metric_kwds=None, min_dist=0.1, n_components=2, n_epochs=None,\n",
       "     n_neighbors=15, negative_sample_rate=5, output_metric='euclidean',\n",
       "     output_metric_kwds=None, random_state=1, repulsion_strength=1.0,\n",
       "     set_op_mix_ratio=1.0, spread=1.0, target_metric='categorical',\n",
       "     target_metric_kwds=None, target_n_neighbors=-1, target_weight=0.5,\n",
       "     transform_queue_size=4.0, transform_seed=42, unique=False, verbose=False)"
      ]
     },
     "execution_count": 54,
     "metadata": {},
     "output_type": "execute_result"
    }
   ],
   "source": [
    "# V = gpumap.GPUMAP()#min_dist=0.8, n_neighbors=100)\n",
    "V = umap.UMAP(random_state=1)#min_dist=0.8, n_neighbors=20)\n",
    "# V = PCA(n_components=2)\n",
    "V"
   ]
  },
  {
   "cell_type": "code",
   "execution_count": 55,
   "metadata": {
    "scrolled": true
   },
   "outputs": [
    {
     "name": "stderr",
     "output_type": "stream",
     "text": [
      "Embedding a total of 33 separate connected components using meta-embedding (experimental)\n"
     ]
    },
    {
     "name": "stdout",
     "output_type": "stream",
     "text": [
      "took 14.60\n"
     ]
    }
   ],
   "source": [
    "start = time.time()\n",
    "V.fit(Q.numpy())\n",
    "print('took {:.2f}'.format(time.time() - start))"
   ]
  },
  {
   "cell_type": "code",
   "execution_count": 56,
   "metadata": {},
   "outputs": [
    {
     "data": {
      "text/plain": [
       "torch.Size([10000, 2])"
      ]
     },
     "execution_count": 56,
     "metadata": {},
     "output_type": "execute_result"
    }
   ],
   "source": [
    "B = 10000\n",
    "\n",
    "if isinstance(V, PCA):\n",
    "    points = V.transform(Q[:B].numpy())\n",
    "else:\n",
    "    points = V.embedding_[:B]\n",
    "    \n",
    "# points = V.transform(Q[:B].numpy())\n",
    "# points = ref.numpy()\n",
    "    \n",
    "# points = R.embedding_[:B]\n",
    "\n",
    "# lb = trainY[:B].clone()\n",
    "\n",
    "points = torch.from_numpy(points)\n",
    "points.shape"
   ]
  },
  {
   "cell_type": "code",
   "execution_count": 57,
   "metadata": {},
   "outputs": [
    {
     "data": {
      "text/plain": [
       "<matplotlib.colors.LinearSegmentedColormap at 0x7f0383e0a410>"
      ]
     },
     "execution_count": 57,
     "metadata": {},
     "output_type": "execute_result"
    }
   ],
   "source": [
    "cmap = matplotlib.cm.get_cmap('Spectral')\n",
    "cmap"
   ]
  },
  {
   "cell_type": "code",
   "execution_count": 64,
   "metadata": {},
   "outputs": [
    {
     "data": {
      "application/javascript": [
       "/* Put everything inside the global mpl namespace */\n",
       "window.mpl = {};\n",
       "\n",
       "\n",
       "mpl.get_websocket_type = function() {\n",
       "    if (typeof(WebSocket) !== 'undefined') {\n",
       "        return WebSocket;\n",
       "    } else if (typeof(MozWebSocket) !== 'undefined') {\n",
       "        return MozWebSocket;\n",
       "    } else {\n",
       "        alert('Your browser does not have WebSocket support. ' +\n",
       "              'Please try Chrome, Safari or Firefox ≥ 6. ' +\n",
       "              'Firefox 4 and 5 are also supported but you ' +\n",
       "              'have to enable WebSockets in about:config.');\n",
       "    };\n",
       "}\n",
       "\n",
       "mpl.figure = function(figure_id, websocket, ondownload, parent_element) {\n",
       "    this.id = figure_id;\n",
       "\n",
       "    this.ws = websocket;\n",
       "\n",
       "    this.supports_binary = (this.ws.binaryType != undefined);\n",
       "\n",
       "    if (!this.supports_binary) {\n",
       "        var warnings = document.getElementById(\"mpl-warnings\");\n",
       "        if (warnings) {\n",
       "            warnings.style.display = 'block';\n",
       "            warnings.textContent = (\n",
       "                \"This browser does not support binary websocket messages. \" +\n",
       "                    \"Performance may be slow.\");\n",
       "        }\n",
       "    }\n",
       "\n",
       "    this.imageObj = new Image();\n",
       "\n",
       "    this.context = undefined;\n",
       "    this.message = undefined;\n",
       "    this.canvas = undefined;\n",
       "    this.rubberband_canvas = undefined;\n",
       "    this.rubberband_context = undefined;\n",
       "    this.format_dropdown = undefined;\n",
       "\n",
       "    this.image_mode = 'full';\n",
       "\n",
       "    this.root = $('<div/>');\n",
       "    this._root_extra_style(this.root)\n",
       "    this.root.attr('style', 'display: inline-block');\n",
       "\n",
       "    $(parent_element).append(this.root);\n",
       "\n",
       "    this._init_header(this);\n",
       "    this._init_canvas(this);\n",
       "    this._init_toolbar(this);\n",
       "\n",
       "    var fig = this;\n",
       "\n",
       "    this.waiting = false;\n",
       "\n",
       "    this.ws.onopen =  function () {\n",
       "            fig.send_message(\"supports_binary\", {value: fig.supports_binary});\n",
       "            fig.send_message(\"send_image_mode\", {});\n",
       "            if (mpl.ratio != 1) {\n",
       "                fig.send_message(\"set_dpi_ratio\", {'dpi_ratio': mpl.ratio});\n",
       "            }\n",
       "            fig.send_message(\"refresh\", {});\n",
       "        }\n",
       "\n",
       "    this.imageObj.onload = function() {\n",
       "            if (fig.image_mode == 'full') {\n",
       "                // Full images could contain transparency (where diff images\n",
       "                // almost always do), so we need to clear the canvas so that\n",
       "                // there is no ghosting.\n",
       "                fig.context.clearRect(0, 0, fig.canvas.width, fig.canvas.height);\n",
       "            }\n",
       "            fig.context.drawImage(fig.imageObj, 0, 0);\n",
       "        };\n",
       "\n",
       "    this.imageObj.onunload = function() {\n",
       "        fig.ws.close();\n",
       "    }\n",
       "\n",
       "    this.ws.onmessage = this._make_on_message_function(this);\n",
       "\n",
       "    this.ondownload = ondownload;\n",
       "}\n",
       "\n",
       "mpl.figure.prototype._init_header = function() {\n",
       "    var titlebar = $(\n",
       "        '<div class=\"ui-dialog-titlebar ui-widget-header ui-corner-all ' +\n",
       "        'ui-helper-clearfix\"/>');\n",
       "    var titletext = $(\n",
       "        '<div class=\"ui-dialog-title\" style=\"width: 100%; ' +\n",
       "        'text-align: center; padding: 3px;\"/>');\n",
       "    titlebar.append(titletext)\n",
       "    this.root.append(titlebar);\n",
       "    this.header = titletext[0];\n",
       "}\n",
       "\n",
       "\n",
       "\n",
       "mpl.figure.prototype._canvas_extra_style = function(canvas_div) {\n",
       "\n",
       "}\n",
       "\n",
       "\n",
       "mpl.figure.prototype._root_extra_style = function(canvas_div) {\n",
       "\n",
       "}\n",
       "\n",
       "mpl.figure.prototype._init_canvas = function() {\n",
       "    var fig = this;\n",
       "\n",
       "    var canvas_div = $('<div/>');\n",
       "\n",
       "    canvas_div.attr('style', 'position: relative; clear: both; outline: 0');\n",
       "\n",
       "    function canvas_keyboard_event(event) {\n",
       "        return fig.key_event(event, event['data']);\n",
       "    }\n",
       "\n",
       "    canvas_div.keydown('key_press', canvas_keyboard_event);\n",
       "    canvas_div.keyup('key_release', canvas_keyboard_event);\n",
       "    this.canvas_div = canvas_div\n",
       "    this._canvas_extra_style(canvas_div)\n",
       "    this.root.append(canvas_div);\n",
       "\n",
       "    var canvas = $('<canvas/>');\n",
       "    canvas.addClass('mpl-canvas');\n",
       "    canvas.attr('style', \"left: 0; top: 0; z-index: 0; outline: 0\")\n",
       "\n",
       "    this.canvas = canvas[0];\n",
       "    this.context = canvas[0].getContext(\"2d\");\n",
       "\n",
       "    var backingStore = this.context.backingStorePixelRatio ||\n",
       "\tthis.context.webkitBackingStorePixelRatio ||\n",
       "\tthis.context.mozBackingStorePixelRatio ||\n",
       "\tthis.context.msBackingStorePixelRatio ||\n",
       "\tthis.context.oBackingStorePixelRatio ||\n",
       "\tthis.context.backingStorePixelRatio || 1;\n",
       "\n",
       "    mpl.ratio = (window.devicePixelRatio || 1) / backingStore;\n",
       "\n",
       "    var rubberband = $('<canvas/>');\n",
       "    rubberband.attr('style', \"position: absolute; left: 0; top: 0; z-index: 1;\")\n",
       "\n",
       "    var pass_mouse_events = true;\n",
       "\n",
       "    canvas_div.resizable({\n",
       "        start: function(event, ui) {\n",
       "            pass_mouse_events = false;\n",
       "        },\n",
       "        resize: function(event, ui) {\n",
       "            fig.request_resize(ui.size.width, ui.size.height);\n",
       "        },\n",
       "        stop: function(event, ui) {\n",
       "            pass_mouse_events = true;\n",
       "            fig.request_resize(ui.size.width, ui.size.height);\n",
       "        },\n",
       "    });\n",
       "\n",
       "    function mouse_event_fn(event) {\n",
       "        if (pass_mouse_events)\n",
       "            return fig.mouse_event(event, event['data']);\n",
       "    }\n",
       "\n",
       "    rubberband.mousedown('button_press', mouse_event_fn);\n",
       "    rubberband.mouseup('button_release', mouse_event_fn);\n",
       "    // Throttle sequential mouse events to 1 every 20ms.\n",
       "    rubberband.mousemove('motion_notify', mouse_event_fn);\n",
       "\n",
       "    rubberband.mouseenter('figure_enter', mouse_event_fn);\n",
       "    rubberband.mouseleave('figure_leave', mouse_event_fn);\n",
       "\n",
       "    canvas_div.on(\"wheel\", function (event) {\n",
       "        event = event.originalEvent;\n",
       "        event['data'] = 'scroll'\n",
       "        if (event.deltaY < 0) {\n",
       "            event.step = 1;\n",
       "        } else {\n",
       "            event.step = -1;\n",
       "        }\n",
       "        mouse_event_fn(event);\n",
       "    });\n",
       "\n",
       "    canvas_div.append(canvas);\n",
       "    canvas_div.append(rubberband);\n",
       "\n",
       "    this.rubberband = rubberband;\n",
       "    this.rubberband_canvas = rubberband[0];\n",
       "    this.rubberband_context = rubberband[0].getContext(\"2d\");\n",
       "    this.rubberband_context.strokeStyle = \"#000000\";\n",
       "\n",
       "    this._resize_canvas = function(width, height) {\n",
       "        // Keep the size of the canvas, canvas container, and rubber band\n",
       "        // canvas in synch.\n",
       "        canvas_div.css('width', width)\n",
       "        canvas_div.css('height', height)\n",
       "\n",
       "        canvas.attr('width', width * mpl.ratio);\n",
       "        canvas.attr('height', height * mpl.ratio);\n",
       "        canvas.attr('style', 'width: ' + width + 'px; height: ' + height + 'px;');\n",
       "\n",
       "        rubberband.attr('width', width);\n",
       "        rubberband.attr('height', height);\n",
       "    }\n",
       "\n",
       "    // Set the figure to an initial 600x600px, this will subsequently be updated\n",
       "    // upon first draw.\n",
       "    this._resize_canvas(600, 600);\n",
       "\n",
       "    // Disable right mouse context menu.\n",
       "    $(this.rubberband_canvas).bind(\"contextmenu\",function(e){\n",
       "        return false;\n",
       "    });\n",
       "\n",
       "    function set_focus () {\n",
       "        canvas.focus();\n",
       "        canvas_div.focus();\n",
       "    }\n",
       "\n",
       "    window.setTimeout(set_focus, 100);\n",
       "}\n",
       "\n",
       "mpl.figure.prototype._init_toolbar = function() {\n",
       "    var fig = this;\n",
       "\n",
       "    var nav_element = $('<div/>');\n",
       "    nav_element.attr('style', 'width: 100%');\n",
       "    this.root.append(nav_element);\n",
       "\n",
       "    // Define a callback function for later on.\n",
       "    function toolbar_event(event) {\n",
       "        return fig.toolbar_button_onclick(event['data']);\n",
       "    }\n",
       "    function toolbar_mouse_event(event) {\n",
       "        return fig.toolbar_button_onmouseover(event['data']);\n",
       "    }\n",
       "\n",
       "    for(var toolbar_ind in mpl.toolbar_items) {\n",
       "        var name = mpl.toolbar_items[toolbar_ind][0];\n",
       "        var tooltip = mpl.toolbar_items[toolbar_ind][1];\n",
       "        var image = mpl.toolbar_items[toolbar_ind][2];\n",
       "        var method_name = mpl.toolbar_items[toolbar_ind][3];\n",
       "\n",
       "        if (!name) {\n",
       "            // put a spacer in here.\n",
       "            continue;\n",
       "        }\n",
       "        var button = $('<button/>');\n",
       "        button.addClass('ui-button ui-widget ui-state-default ui-corner-all ' +\n",
       "                        'ui-button-icon-only');\n",
       "        button.attr('role', 'button');\n",
       "        button.attr('aria-disabled', 'false');\n",
       "        button.click(method_name, toolbar_event);\n",
       "        button.mouseover(tooltip, toolbar_mouse_event);\n",
       "\n",
       "        var icon_img = $('<span/>');\n",
       "        icon_img.addClass('ui-button-icon-primary ui-icon');\n",
       "        icon_img.addClass(image);\n",
       "        icon_img.addClass('ui-corner-all');\n",
       "\n",
       "        var tooltip_span = $('<span/>');\n",
       "        tooltip_span.addClass('ui-button-text');\n",
       "        tooltip_span.html(tooltip);\n",
       "\n",
       "        button.append(icon_img);\n",
       "        button.append(tooltip_span);\n",
       "\n",
       "        nav_element.append(button);\n",
       "    }\n",
       "\n",
       "    var fmt_picker_span = $('<span/>');\n",
       "\n",
       "    var fmt_picker = $('<select/>');\n",
       "    fmt_picker.addClass('mpl-toolbar-option ui-widget ui-widget-content');\n",
       "    fmt_picker_span.append(fmt_picker);\n",
       "    nav_element.append(fmt_picker_span);\n",
       "    this.format_dropdown = fmt_picker[0];\n",
       "\n",
       "    for (var ind in mpl.extensions) {\n",
       "        var fmt = mpl.extensions[ind];\n",
       "        var option = $(\n",
       "            '<option/>', {selected: fmt === mpl.default_extension}).html(fmt);\n",
       "        fmt_picker.append(option);\n",
       "    }\n",
       "\n",
       "    // Add hover states to the ui-buttons\n",
       "    $( \".ui-button\" ).hover(\n",
       "        function() { $(this).addClass(\"ui-state-hover\");},\n",
       "        function() { $(this).removeClass(\"ui-state-hover\");}\n",
       "    );\n",
       "\n",
       "    var status_bar = $('<span class=\"mpl-message\"/>');\n",
       "    nav_element.append(status_bar);\n",
       "    this.message = status_bar[0];\n",
       "}\n",
       "\n",
       "mpl.figure.prototype.request_resize = function(x_pixels, y_pixels) {\n",
       "    // Request matplotlib to resize the figure. Matplotlib will then trigger a resize in the client,\n",
       "    // which will in turn request a refresh of the image.\n",
       "    this.send_message('resize', {'width': x_pixels, 'height': y_pixels});\n",
       "}\n",
       "\n",
       "mpl.figure.prototype.send_message = function(type, properties) {\n",
       "    properties['type'] = type;\n",
       "    properties['figure_id'] = this.id;\n",
       "    this.ws.send(JSON.stringify(properties));\n",
       "}\n",
       "\n",
       "mpl.figure.prototype.send_draw_message = function() {\n",
       "    if (!this.waiting) {\n",
       "        this.waiting = true;\n",
       "        this.ws.send(JSON.stringify({type: \"draw\", figure_id: this.id}));\n",
       "    }\n",
       "}\n",
       "\n",
       "\n",
       "mpl.figure.prototype.handle_save = function(fig, msg) {\n",
       "    var format_dropdown = fig.format_dropdown;\n",
       "    var format = format_dropdown.options[format_dropdown.selectedIndex].value;\n",
       "    fig.ondownload(fig, format);\n",
       "}\n",
       "\n",
       "\n",
       "mpl.figure.prototype.handle_resize = function(fig, msg) {\n",
       "    var size = msg['size'];\n",
       "    if (size[0] != fig.canvas.width || size[1] != fig.canvas.height) {\n",
       "        fig._resize_canvas(size[0], size[1]);\n",
       "        fig.send_message(\"refresh\", {});\n",
       "    };\n",
       "}\n",
       "\n",
       "mpl.figure.prototype.handle_rubberband = function(fig, msg) {\n",
       "    var x0 = msg['x0'] / mpl.ratio;\n",
       "    var y0 = (fig.canvas.height - msg['y0']) / mpl.ratio;\n",
       "    var x1 = msg['x1'] / mpl.ratio;\n",
       "    var y1 = (fig.canvas.height - msg['y1']) / mpl.ratio;\n",
       "    x0 = Math.floor(x0) + 0.5;\n",
       "    y0 = Math.floor(y0) + 0.5;\n",
       "    x1 = Math.floor(x1) + 0.5;\n",
       "    y1 = Math.floor(y1) + 0.5;\n",
       "    var min_x = Math.min(x0, x1);\n",
       "    var min_y = Math.min(y0, y1);\n",
       "    var width = Math.abs(x1 - x0);\n",
       "    var height = Math.abs(y1 - y0);\n",
       "\n",
       "    fig.rubberband_context.clearRect(\n",
       "        0, 0, fig.canvas.width / mpl.ratio, fig.canvas.height / mpl.ratio);\n",
       "\n",
       "    fig.rubberband_context.strokeRect(min_x, min_y, width, height);\n",
       "}\n",
       "\n",
       "mpl.figure.prototype.handle_figure_label = function(fig, msg) {\n",
       "    // Updates the figure title.\n",
       "    fig.header.textContent = msg['label'];\n",
       "}\n",
       "\n",
       "mpl.figure.prototype.handle_cursor = function(fig, msg) {\n",
       "    var cursor = msg['cursor'];\n",
       "    switch(cursor)\n",
       "    {\n",
       "    case 0:\n",
       "        cursor = 'pointer';\n",
       "        break;\n",
       "    case 1:\n",
       "        cursor = 'default';\n",
       "        break;\n",
       "    case 2:\n",
       "        cursor = 'crosshair';\n",
       "        break;\n",
       "    case 3:\n",
       "        cursor = 'move';\n",
       "        break;\n",
       "    }\n",
       "    fig.rubberband_canvas.style.cursor = cursor;\n",
       "}\n",
       "\n",
       "mpl.figure.prototype.handle_message = function(fig, msg) {\n",
       "    fig.message.textContent = msg['message'];\n",
       "}\n",
       "\n",
       "mpl.figure.prototype.handle_draw = function(fig, msg) {\n",
       "    // Request the server to send over a new figure.\n",
       "    fig.send_draw_message();\n",
       "}\n",
       "\n",
       "mpl.figure.prototype.handle_image_mode = function(fig, msg) {\n",
       "    fig.image_mode = msg['mode'];\n",
       "}\n",
       "\n",
       "mpl.figure.prototype.updated_canvas_event = function() {\n",
       "    // Called whenever the canvas gets updated.\n",
       "    this.send_message(\"ack\", {});\n",
       "}\n",
       "\n",
       "// A function to construct a web socket function for onmessage handling.\n",
       "// Called in the figure constructor.\n",
       "mpl.figure.prototype._make_on_message_function = function(fig) {\n",
       "    return function socket_on_message(evt) {\n",
       "        if (evt.data instanceof Blob) {\n",
       "            /* FIXME: We get \"Resource interpreted as Image but\n",
       "             * transferred with MIME type text/plain:\" errors on\n",
       "             * Chrome.  But how to set the MIME type?  It doesn't seem\n",
       "             * to be part of the websocket stream */\n",
       "            evt.data.type = \"image/png\";\n",
       "\n",
       "            /* Free the memory for the previous frames */\n",
       "            if (fig.imageObj.src) {\n",
       "                (window.URL || window.webkitURL).revokeObjectURL(\n",
       "                    fig.imageObj.src);\n",
       "            }\n",
       "\n",
       "            fig.imageObj.src = (window.URL || window.webkitURL).createObjectURL(\n",
       "                evt.data);\n",
       "            fig.updated_canvas_event();\n",
       "            fig.waiting = false;\n",
       "            return;\n",
       "        }\n",
       "        else if (typeof evt.data === 'string' && evt.data.slice(0, 21) == \"data:image/png;base64\") {\n",
       "            fig.imageObj.src = evt.data;\n",
       "            fig.updated_canvas_event();\n",
       "            fig.waiting = false;\n",
       "            return;\n",
       "        }\n",
       "\n",
       "        var msg = JSON.parse(evt.data);\n",
       "        var msg_type = msg['type'];\n",
       "\n",
       "        // Call the  \"handle_{type}\" callback, which takes\n",
       "        // the figure and JSON message as its only arguments.\n",
       "        try {\n",
       "            var callback = fig[\"handle_\" + msg_type];\n",
       "        } catch (e) {\n",
       "            console.log(\"No handler for the '\" + msg_type + \"' message type: \", msg);\n",
       "            return;\n",
       "        }\n",
       "\n",
       "        if (callback) {\n",
       "            try {\n",
       "                // console.log(\"Handling '\" + msg_type + \"' message: \", msg);\n",
       "                callback(fig, msg);\n",
       "            } catch (e) {\n",
       "                console.log(\"Exception inside the 'handler_\" + msg_type + \"' callback:\", e, e.stack, msg);\n",
       "            }\n",
       "        }\n",
       "    };\n",
       "}\n",
       "\n",
       "// from http://stackoverflow.com/questions/1114465/getting-mouse-location-in-canvas\n",
       "mpl.findpos = function(e) {\n",
       "    //this section is from http://www.quirksmode.org/js/events_properties.html\n",
       "    var targ;\n",
       "    if (!e)\n",
       "        e = window.event;\n",
       "    if (e.target)\n",
       "        targ = e.target;\n",
       "    else if (e.srcElement)\n",
       "        targ = e.srcElement;\n",
       "    if (targ.nodeType == 3) // defeat Safari bug\n",
       "        targ = targ.parentNode;\n",
       "\n",
       "    // jQuery normalizes the pageX and pageY\n",
       "    // pageX,Y are the mouse positions relative to the document\n",
       "    // offset() returns the position of the element relative to the document\n",
       "    var x = e.pageX - $(targ).offset().left;\n",
       "    var y = e.pageY - $(targ).offset().top;\n",
       "\n",
       "    return {\"x\": x, \"y\": y};\n",
       "};\n",
       "\n",
       "/*\n",
       " * return a copy of an object with only non-object keys\n",
       " * we need this to avoid circular references\n",
       " * http://stackoverflow.com/a/24161582/3208463\n",
       " */\n",
       "function simpleKeys (original) {\n",
       "  return Object.keys(original).reduce(function (obj, key) {\n",
       "    if (typeof original[key] !== 'object')\n",
       "        obj[key] = original[key]\n",
       "    return obj;\n",
       "  }, {});\n",
       "}\n",
       "\n",
       "mpl.figure.prototype.mouse_event = function(event, name) {\n",
       "    var canvas_pos = mpl.findpos(event)\n",
       "\n",
       "    if (name === 'button_press')\n",
       "    {\n",
       "        this.canvas.focus();\n",
       "        this.canvas_div.focus();\n",
       "    }\n",
       "\n",
       "    var x = canvas_pos.x * mpl.ratio;\n",
       "    var y = canvas_pos.y * mpl.ratio;\n",
       "\n",
       "    this.send_message(name, {x: x, y: y, button: event.button,\n",
       "                             step: event.step,\n",
       "                             guiEvent: simpleKeys(event)});\n",
       "\n",
       "    /* This prevents the web browser from automatically changing to\n",
       "     * the text insertion cursor when the button is pressed.  We want\n",
       "     * to control all of the cursor setting manually through the\n",
       "     * 'cursor' event from matplotlib */\n",
       "    event.preventDefault();\n",
       "    return false;\n",
       "}\n",
       "\n",
       "mpl.figure.prototype._key_event_extra = function(event, name) {\n",
       "    // Handle any extra behaviour associated with a key event\n",
       "}\n",
       "\n",
       "mpl.figure.prototype.key_event = function(event, name) {\n",
       "\n",
       "    // Prevent repeat events\n",
       "    if (name == 'key_press')\n",
       "    {\n",
       "        if (event.which === this._key)\n",
       "            return;\n",
       "        else\n",
       "            this._key = event.which;\n",
       "    }\n",
       "    if (name == 'key_release')\n",
       "        this._key = null;\n",
       "\n",
       "    var value = '';\n",
       "    if (event.ctrlKey && event.which != 17)\n",
       "        value += \"ctrl+\";\n",
       "    if (event.altKey && event.which != 18)\n",
       "        value += \"alt+\";\n",
       "    if (event.shiftKey && event.which != 16)\n",
       "        value += \"shift+\";\n",
       "\n",
       "    value += 'k';\n",
       "    value += event.which.toString();\n",
       "\n",
       "    this._key_event_extra(event, name);\n",
       "\n",
       "    this.send_message(name, {key: value,\n",
       "                             guiEvent: simpleKeys(event)});\n",
       "    return false;\n",
       "}\n",
       "\n",
       "mpl.figure.prototype.toolbar_button_onclick = function(name) {\n",
       "    if (name == 'download') {\n",
       "        this.handle_save(this, null);\n",
       "    } else {\n",
       "        this.send_message(\"toolbar_button\", {name: name});\n",
       "    }\n",
       "};\n",
       "\n",
       "mpl.figure.prototype.toolbar_button_onmouseover = function(tooltip) {\n",
       "    this.message.textContent = tooltip;\n",
       "};\n",
       "mpl.toolbar_items = [[\"Home\", \"Reset original view\", \"fa fa-home icon-home\", \"home\"], [\"Back\", \"Back to previous view\", \"fa fa-arrow-left icon-arrow-left\", \"back\"], [\"Forward\", \"Forward to next view\", \"fa fa-arrow-right icon-arrow-right\", \"forward\"], [\"\", \"\", \"\", \"\"], [\"Pan\", \"Pan axes with left mouse, zoom with right\", \"fa fa-arrows icon-move\", \"pan\"], [\"Zoom\", \"Zoom to rectangle\", \"fa fa-square-o icon-check-empty\", \"zoom\"], [\"\", \"\", \"\", \"\"], [\"Download\", \"Download plot\", \"fa fa-floppy-o icon-save\", \"download\"]];\n",
       "\n",
       "mpl.extensions = [\"eps\", \"jpeg\", \"pdf\", \"png\", \"ps\", \"raw\", \"svg\", \"tif\"];\n",
       "\n",
       "mpl.default_extension = \"png\";var comm_websocket_adapter = function(comm) {\n",
       "    // Create a \"websocket\"-like object which calls the given IPython comm\n",
       "    // object with the appropriate methods. Currently this is a non binary\n",
       "    // socket, so there is still some room for performance tuning.\n",
       "    var ws = {};\n",
       "\n",
       "    ws.close = function() {\n",
       "        comm.close()\n",
       "    };\n",
       "    ws.send = function(m) {\n",
       "        //console.log('sending', m);\n",
       "        comm.send(m);\n",
       "    };\n",
       "    // Register the callback with on_msg.\n",
       "    comm.on_msg(function(msg) {\n",
       "        //console.log('receiving', msg['content']['data'], msg);\n",
       "        // Pass the mpl event to the overridden (by mpl) onmessage function.\n",
       "        ws.onmessage(msg['content']['data'])\n",
       "    });\n",
       "    return ws;\n",
       "}\n",
       "\n",
       "mpl.mpl_figure_comm = function(comm, msg) {\n",
       "    // This is the function which gets called when the mpl process\n",
       "    // starts-up an IPython Comm through the \"matplotlib\" channel.\n",
       "\n",
       "    var id = msg.content.data.id;\n",
       "    // Get hold of the div created by the display call when the Comm\n",
       "    // socket was opened in Python.\n",
       "    var element = $(\"#\" + id);\n",
       "    var ws_proxy = comm_websocket_adapter(comm)\n",
       "\n",
       "    function ondownload(figure, format) {\n",
       "        window.open(figure.imageObj.src);\n",
       "    }\n",
       "\n",
       "    var fig = new mpl.figure(id, ws_proxy,\n",
       "                           ondownload,\n",
       "                           element.get(0));\n",
       "\n",
       "    // Call onopen now - mpl needs it, as it is assuming we've passed it a real\n",
       "    // web socket which is closed, not our websocket->open comm proxy.\n",
       "    ws_proxy.onopen();\n",
       "\n",
       "    fig.parent_element = element.get(0);\n",
       "    fig.cell_info = mpl.find_output_cell(\"<div id='\" + id + \"'></div>\");\n",
       "    if (!fig.cell_info) {\n",
       "        console.error(\"Failed to find cell for figure\", id, fig);\n",
       "        return;\n",
       "    }\n",
       "\n",
       "    var output_index = fig.cell_info[2]\n",
       "    var cell = fig.cell_info[0];\n",
       "\n",
       "};\n",
       "\n",
       "mpl.figure.prototype.handle_close = function(fig, msg) {\n",
       "    var width = fig.canvas.width/mpl.ratio\n",
       "    fig.root.unbind('remove')\n",
       "\n",
       "    // Update the output cell to use the data from the current canvas.\n",
       "    fig.push_to_output();\n",
       "    var dataURL = fig.canvas.toDataURL();\n",
       "    // Re-enable the keyboard manager in IPython - without this line, in FF,\n",
       "    // the notebook keyboard shortcuts fail.\n",
       "    IPython.keyboard_manager.enable()\n",
       "    $(fig.parent_element).html('<img src=\"' + dataURL + '\" width=\"' + width + '\">');\n",
       "    fig.close_ws(fig, msg);\n",
       "}\n",
       "\n",
       "mpl.figure.prototype.close_ws = function(fig, msg){\n",
       "    fig.send_message('closing', msg);\n",
       "    // fig.ws.close()\n",
       "}\n",
       "\n",
       "mpl.figure.prototype.push_to_output = function(remove_interactive) {\n",
       "    // Turn the data on the canvas into data in the output cell.\n",
       "    var width = this.canvas.width/mpl.ratio\n",
       "    var dataURL = this.canvas.toDataURL();\n",
       "    this.cell_info[1]['text/html'] = '<img src=\"' + dataURL + '\" width=\"' + width + '\">';\n",
       "}\n",
       "\n",
       "mpl.figure.prototype.updated_canvas_event = function() {\n",
       "    // Tell IPython that the notebook contents must change.\n",
       "    IPython.notebook.set_dirty(true);\n",
       "    this.send_message(\"ack\", {});\n",
       "    var fig = this;\n",
       "    // Wait a second, then push the new image to the DOM so\n",
       "    // that it is saved nicely (might be nice to debounce this).\n",
       "    setTimeout(function () { fig.push_to_output() }, 1000);\n",
       "}\n",
       "\n",
       "mpl.figure.prototype._init_toolbar = function() {\n",
       "    var fig = this;\n",
       "\n",
       "    var nav_element = $('<div/>');\n",
       "    nav_element.attr('style', 'width: 100%');\n",
       "    this.root.append(nav_element);\n",
       "\n",
       "    // Define a callback function for later on.\n",
       "    function toolbar_event(event) {\n",
       "        return fig.toolbar_button_onclick(event['data']);\n",
       "    }\n",
       "    function toolbar_mouse_event(event) {\n",
       "        return fig.toolbar_button_onmouseover(event['data']);\n",
       "    }\n",
       "\n",
       "    for(var toolbar_ind in mpl.toolbar_items){\n",
       "        var name = mpl.toolbar_items[toolbar_ind][0];\n",
       "        var tooltip = mpl.toolbar_items[toolbar_ind][1];\n",
       "        var image = mpl.toolbar_items[toolbar_ind][2];\n",
       "        var method_name = mpl.toolbar_items[toolbar_ind][3];\n",
       "\n",
       "        if (!name) { continue; };\n",
       "\n",
       "        var button = $('<button class=\"btn btn-default\" href=\"#\" title=\"' + name + '\"><i class=\"fa ' + image + ' fa-lg\"></i></button>');\n",
       "        button.click(method_name, toolbar_event);\n",
       "        button.mouseover(tooltip, toolbar_mouse_event);\n",
       "        nav_element.append(button);\n",
       "    }\n",
       "\n",
       "    // Add the status bar.\n",
       "    var status_bar = $('<span class=\"mpl-message\" style=\"text-align:right; float: right;\"/>');\n",
       "    nav_element.append(status_bar);\n",
       "    this.message = status_bar[0];\n",
       "\n",
       "    // Add the close button to the window.\n",
       "    var buttongrp = $('<div class=\"btn-group inline pull-right\"></div>');\n",
       "    var button = $('<button class=\"btn btn-mini btn-primary\" href=\"#\" title=\"Stop Interaction\"><i class=\"fa fa-power-off icon-remove icon-large\"></i></button>');\n",
       "    button.click(function (evt) { fig.handle_close(fig, {}); } );\n",
       "    button.mouseover('Stop Interaction', toolbar_mouse_event);\n",
       "    buttongrp.append(button);\n",
       "    var titlebar = this.root.find($('.ui-dialog-titlebar'));\n",
       "    titlebar.prepend(buttongrp);\n",
       "}\n",
       "\n",
       "mpl.figure.prototype._root_extra_style = function(el){\n",
       "    var fig = this\n",
       "    el.on(\"remove\", function(){\n",
       "\tfig.close_ws(fig, {});\n",
       "    });\n",
       "}\n",
       "\n",
       "mpl.figure.prototype._canvas_extra_style = function(el){\n",
       "    // this is important to make the div 'focusable\n",
       "    el.attr('tabindex', 0)\n",
       "    // reach out to IPython and tell the keyboard manager to turn it's self\n",
       "    // off when our div gets focus\n",
       "\n",
       "    // location in version 3\n",
       "    if (IPython.notebook.keyboard_manager) {\n",
       "        IPython.notebook.keyboard_manager.register_events(el);\n",
       "    }\n",
       "    else {\n",
       "        // location in version 2\n",
       "        IPython.keyboard_manager.register_events(el);\n",
       "    }\n",
       "\n",
       "}\n",
       "\n",
       "mpl.figure.prototype._key_event_extra = function(event, name) {\n",
       "    var manager = IPython.notebook.keyboard_manager;\n",
       "    if (!manager)\n",
       "        manager = IPython.keyboard_manager;\n",
       "\n",
       "    // Check for shift+enter\n",
       "    if (event.shiftKey && event.which == 13) {\n",
       "        this.canvas_div.blur();\n",
       "        event.shiftKey = false;\n",
       "        // Send a \"J\" for go to next cell\n",
       "        event.which = 74;\n",
       "        event.keyCode = 74;\n",
       "        manager.command_mode();\n",
       "        manager.handle_keydown(event);\n",
       "    }\n",
       "}\n",
       "\n",
       "mpl.figure.prototype.handle_save = function(fig, msg) {\n",
       "    fig.ondownload(fig, null);\n",
       "}\n",
       "\n",
       "\n",
       "mpl.find_output_cell = function(html_output) {\n",
       "    // Return the cell and output element which can be found *uniquely* in the notebook.\n",
       "    // Note - this is a bit hacky, but it is done because the \"notebook_saving.Notebook\"\n",
       "    // IPython event is triggered only after the cells have been serialised, which for\n",
       "    // our purposes (turning an active figure into a static one), is too late.\n",
       "    var cells = IPython.notebook.get_cells();\n",
       "    var ncells = cells.length;\n",
       "    for (var i=0; i<ncells; i++) {\n",
       "        var cell = cells[i];\n",
       "        if (cell.cell_type === 'code'){\n",
       "            for (var j=0; j<cell.output_area.outputs.length; j++) {\n",
       "                var data = cell.output_area.outputs[j];\n",
       "                if (data.data) {\n",
       "                    // IPython >= 3 moved mimebundle to data attribute of output\n",
       "                    data = data.data;\n",
       "                }\n",
       "                if (data['text/html'] == html_output) {\n",
       "                    return [cell, data, j];\n",
       "                }\n",
       "            }\n",
       "        }\n",
       "    }\n",
       "}\n",
       "\n",
       "// Register the function which deals with the matplotlib target/channel.\n",
       "// The kernel may be null if the page has been refreshed.\n",
       "if (IPython.notebook.kernel != null) {\n",
       "    IPython.notebook.kernel.comm_manager.register_target('matplotlib', mpl.mpl_figure_comm);\n",
       "}\n"
      ],
      "text/plain": [
       "<IPython.core.display.Javascript object>"
      ]
     },
     "metadata": {},
     "output_type": "display_data"
    },
    {
     "data": {
      "text/html": [
       "<img src=\"data:image/png;base64,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\" width=\"640\">"
      ],
      "text/plain": [
       "<IPython.core.display.HTML object>"
      ]
     },
     "metadata": {},
     "output_type": "display_data"
    }
   ],
   "source": [
    "\n",
    "# lb = trainY[:B].clone()\n",
    "lb = trainY[:B,5].clone()\n",
    "vals = np.array(sorted(set(lb.numpy())))\n",
    "num = len(vals)\n",
    "lb /= vals[1] - vals[0]\n",
    "vals /= vals[1] - vals[0]\n",
    "lb = lb.round().int()\n",
    "vals = vals.round().astype('int')\n",
    "\n",
    "fig, ax = plt.subplots()\n",
    "plt.scatter(*points.numpy().T, cmap=cmap, c=lb, marker='o', s=10)\n",
    "\n",
    "hdls = []\n",
    "for i in np.arange(num):\n",
    "    l = i/(num-1)\n",
    "    hdls.append( mpatches.Patch(color=cmap(l), label=str(int(vals[i]))))\n",
    "plt.legend(handles=hdls)\n",
    "pass"
   ]
  },
  {
   "cell_type": "code",
   "execution_count": 30,
   "metadata": {},
   "outputs": [],
   "source": [
    "# umap.plot.points(R, labels=Y[:10000], theme='fire')"
   ]
  },
  {
   "cell_type": "code",
   "execution_count": 15,
   "metadata": {},
   "outputs": [
    {
     "data": {
      "text/plain": [
       "torch.Size([1, 64])"
      ]
     },
     "execution_count": 15,
     "metadata": {},
     "output_type": "execute_result"
    }
   ],
   "source": [
    "# latent = torch.randn(16, 2)\n",
    "latent = Q[:1]\n",
    "# vlat = points[:16]\n",
    "# latent = F.normalize(latent, dim=-1)\n",
    "vlat = latent\n",
    "vlat.shape"
   ]
  },
  {
   "cell_type": "code",
   "execution_count": 66,
   "metadata": {},
   "outputs": [],
   "source": [
    "# gen = V.inverse_transform(vlat)\n",
    "# gen = torch.from_numpy(gen)\n",
    "# gen.shape"
   ]
  },
  {
   "cell_type": "code",
   "execution_count": 33,
   "metadata": {},
   "outputs": [],
   "source": [
    "# util.show_nums(gen.view(-1, C, H, W))\n",
    "# pass"
   ]
  },
  {
   "cell_type": "code",
   "execution_count": 35,
   "metadata": {},
   "outputs": [
    {
     "data": {
      "application/javascript": [
       "/* Put everything inside the global mpl namespace */\n",
       "window.mpl = {};\n",
       "\n",
       "\n",
       "mpl.get_websocket_type = function() {\n",
       "    if (typeof(WebSocket) !== 'undefined') {\n",
       "        return WebSocket;\n",
       "    } else if (typeof(MozWebSocket) !== 'undefined') {\n",
       "        return MozWebSocket;\n",
       "    } else {\n",
       "        alert('Your browser does not have WebSocket support. ' +\n",
       "              'Please try Chrome, Safari or Firefox ≥ 6. ' +\n",
       "              'Firefox 4 and 5 are also supported but you ' +\n",
       "              'have to enable WebSockets in about:config.');\n",
       "    };\n",
       "}\n",
       "\n",
       "mpl.figure = function(figure_id, websocket, ondownload, parent_element) {\n",
       "    this.id = figure_id;\n",
       "\n",
       "    this.ws = websocket;\n",
       "\n",
       "    this.supports_binary = (this.ws.binaryType != undefined);\n",
       "\n",
       "    if (!this.supports_binary) {\n",
       "        var warnings = document.getElementById(\"mpl-warnings\");\n",
       "        if (warnings) {\n",
       "            warnings.style.display = 'block';\n",
       "            warnings.textContent = (\n",
       "                \"This browser does not support binary websocket messages. \" +\n",
       "                    \"Performance may be slow.\");\n",
       "        }\n",
       "    }\n",
       "\n",
       "    this.imageObj = new Image();\n",
       "\n",
       "    this.context = undefined;\n",
       "    this.message = undefined;\n",
       "    this.canvas = undefined;\n",
       "    this.rubberband_canvas = undefined;\n",
       "    this.rubberband_context = undefined;\n",
       "    this.format_dropdown = undefined;\n",
       "\n",
       "    this.image_mode = 'full';\n",
       "\n",
       "    this.root = $('<div/>');\n",
       "    this._root_extra_style(this.root)\n",
       "    this.root.attr('style', 'display: inline-block');\n",
       "\n",
       "    $(parent_element).append(this.root);\n",
       "\n",
       "    this._init_header(this);\n",
       "    this._init_canvas(this);\n",
       "    this._init_toolbar(this);\n",
       "\n",
       "    var fig = this;\n",
       "\n",
       "    this.waiting = false;\n",
       "\n",
       "    this.ws.onopen =  function () {\n",
       "            fig.send_message(\"supports_binary\", {value: fig.supports_binary});\n",
       "            fig.send_message(\"send_image_mode\", {});\n",
       "            if (mpl.ratio != 1) {\n",
       "                fig.send_message(\"set_dpi_ratio\", {'dpi_ratio': mpl.ratio});\n",
       "            }\n",
       "            fig.send_message(\"refresh\", {});\n",
       "        }\n",
       "\n",
       "    this.imageObj.onload = function() {\n",
       "            if (fig.image_mode == 'full') {\n",
       "                // Full images could contain transparency (where diff images\n",
       "                // almost always do), so we need to clear the canvas so that\n",
       "                // there is no ghosting.\n",
       "                fig.context.clearRect(0, 0, fig.canvas.width, fig.canvas.height);\n",
       "            }\n",
       "            fig.context.drawImage(fig.imageObj, 0, 0);\n",
       "        };\n",
       "\n",
       "    this.imageObj.onunload = function() {\n",
       "        fig.ws.close();\n",
       "    }\n",
       "\n",
       "    this.ws.onmessage = this._make_on_message_function(this);\n",
       "\n",
       "    this.ondownload = ondownload;\n",
       "}\n",
       "\n",
       "mpl.figure.prototype._init_header = function() {\n",
       "    var titlebar = $(\n",
       "        '<div class=\"ui-dialog-titlebar ui-widget-header ui-corner-all ' +\n",
       "        'ui-helper-clearfix\"/>');\n",
       "    var titletext = $(\n",
       "        '<div class=\"ui-dialog-title\" style=\"width: 100%; ' +\n",
       "        'text-align: center; padding: 3px;\"/>');\n",
       "    titlebar.append(titletext)\n",
       "    this.root.append(titlebar);\n",
       "    this.header = titletext[0];\n",
       "}\n",
       "\n",
       "\n",
       "\n",
       "mpl.figure.prototype._canvas_extra_style = function(canvas_div) {\n",
       "\n",
       "}\n",
       "\n",
       "\n",
       "mpl.figure.prototype._root_extra_style = function(canvas_div) {\n",
       "\n",
       "}\n",
       "\n",
       "mpl.figure.prototype._init_canvas = function() {\n",
       "    var fig = this;\n",
       "\n",
       "    var canvas_div = $('<div/>');\n",
       "\n",
       "    canvas_div.attr('style', 'position: relative; clear: both; outline: 0');\n",
       "\n",
       "    function canvas_keyboard_event(event) {\n",
       "        return fig.key_event(event, event['data']);\n",
       "    }\n",
       "\n",
       "    canvas_div.keydown('key_press', canvas_keyboard_event);\n",
       "    canvas_div.keyup('key_release', canvas_keyboard_event);\n",
       "    this.canvas_div = canvas_div\n",
       "    this._canvas_extra_style(canvas_div)\n",
       "    this.root.append(canvas_div);\n",
       "\n",
       "    var canvas = $('<canvas/>');\n",
       "    canvas.addClass('mpl-canvas');\n",
       "    canvas.attr('style', \"left: 0; top: 0; z-index: 0; outline: 0\")\n",
       "\n",
       "    this.canvas = canvas[0];\n",
       "    this.context = canvas[0].getContext(\"2d\");\n",
       "\n",
       "    var backingStore = this.context.backingStorePixelRatio ||\n",
       "\tthis.context.webkitBackingStorePixelRatio ||\n",
       "\tthis.context.mozBackingStorePixelRatio ||\n",
       "\tthis.context.msBackingStorePixelRatio ||\n",
       "\tthis.context.oBackingStorePixelRatio ||\n",
       "\tthis.context.backingStorePixelRatio || 1;\n",
       "\n",
       "    mpl.ratio = (window.devicePixelRatio || 1) / backingStore;\n",
       "\n",
       "    var rubberband = $('<canvas/>');\n",
       "    rubberband.attr('style', \"position: absolute; left: 0; top: 0; z-index: 1;\")\n",
       "\n",
       "    var pass_mouse_events = true;\n",
       "\n",
       "    canvas_div.resizable({\n",
       "        start: function(event, ui) {\n",
       "            pass_mouse_events = false;\n",
       "        },\n",
       "        resize: function(event, ui) {\n",
       "            fig.request_resize(ui.size.width, ui.size.height);\n",
       "        },\n",
       "        stop: function(event, ui) {\n",
       "            pass_mouse_events = true;\n",
       "            fig.request_resize(ui.size.width, ui.size.height);\n",
       "        },\n",
       "    });\n",
       "\n",
       "    function mouse_event_fn(event) {\n",
       "        if (pass_mouse_events)\n",
       "            return fig.mouse_event(event, event['data']);\n",
       "    }\n",
       "\n",
       "    rubberband.mousedown('button_press', mouse_event_fn);\n",
       "    rubberband.mouseup('button_release', mouse_event_fn);\n",
       "    // Throttle sequential mouse events to 1 every 20ms.\n",
       "    rubberband.mousemove('motion_notify', mouse_event_fn);\n",
       "\n",
       "    rubberband.mouseenter('figure_enter', mouse_event_fn);\n",
       "    rubberband.mouseleave('figure_leave', mouse_event_fn);\n",
       "\n",
       "    canvas_div.on(\"wheel\", function (event) {\n",
       "        event = event.originalEvent;\n",
       "        event['data'] = 'scroll'\n",
       "        if (event.deltaY < 0) {\n",
       "            event.step = 1;\n",
       "        } else {\n",
       "            event.step = -1;\n",
       "        }\n",
       "        mouse_event_fn(event);\n",
       "    });\n",
       "\n",
       "    canvas_div.append(canvas);\n",
       "    canvas_div.append(rubberband);\n",
       "\n",
       "    this.rubberband = rubberband;\n",
       "    this.rubberband_canvas = rubberband[0];\n",
       "    this.rubberband_context = rubberband[0].getContext(\"2d\");\n",
       "    this.rubberband_context.strokeStyle = \"#000000\";\n",
       "\n",
       "    this._resize_canvas = function(width, height) {\n",
       "        // Keep the size of the canvas, canvas container, and rubber band\n",
       "        // canvas in synch.\n",
       "        canvas_div.css('width', width)\n",
       "        canvas_div.css('height', height)\n",
       "\n",
       "        canvas.attr('width', width * mpl.ratio);\n",
       "        canvas.attr('height', height * mpl.ratio);\n",
       "        canvas.attr('style', 'width: ' + width + 'px; height: ' + height + 'px;');\n",
       "\n",
       "        rubberband.attr('width', width);\n",
       "        rubberband.attr('height', height);\n",
       "    }\n",
       "\n",
       "    // Set the figure to an initial 600x600px, this will subsequently be updated\n",
       "    // upon first draw.\n",
       "    this._resize_canvas(600, 600);\n",
       "\n",
       "    // Disable right mouse context menu.\n",
       "    $(this.rubberband_canvas).bind(\"contextmenu\",function(e){\n",
       "        return false;\n",
       "    });\n",
       "\n",
       "    function set_focus () {\n",
       "        canvas.focus();\n",
       "        canvas_div.focus();\n",
       "    }\n",
       "\n",
       "    window.setTimeout(set_focus, 100);\n",
       "}\n",
       "\n",
       "mpl.figure.prototype._init_toolbar = function() {\n",
       "    var fig = this;\n",
       "\n",
       "    var nav_element = $('<div/>');\n",
       "    nav_element.attr('style', 'width: 100%');\n",
       "    this.root.append(nav_element);\n",
       "\n",
       "    // Define a callback function for later on.\n",
       "    function toolbar_event(event) {\n",
       "        return fig.toolbar_button_onclick(event['data']);\n",
       "    }\n",
       "    function toolbar_mouse_event(event) {\n",
       "        return fig.toolbar_button_onmouseover(event['data']);\n",
       "    }\n",
       "\n",
       "    for(var toolbar_ind in mpl.toolbar_items) {\n",
       "        var name = mpl.toolbar_items[toolbar_ind][0];\n",
       "        var tooltip = mpl.toolbar_items[toolbar_ind][1];\n",
       "        var image = mpl.toolbar_items[toolbar_ind][2];\n",
       "        var method_name = mpl.toolbar_items[toolbar_ind][3];\n",
       "\n",
       "        if (!name) {\n",
       "            // put a spacer in here.\n",
       "            continue;\n",
       "        }\n",
       "        var button = $('<button/>');\n",
       "        button.addClass('ui-button ui-widget ui-state-default ui-corner-all ' +\n",
       "                        'ui-button-icon-only');\n",
       "        button.attr('role', 'button');\n",
       "        button.attr('aria-disabled', 'false');\n",
       "        button.click(method_name, toolbar_event);\n",
       "        button.mouseover(tooltip, toolbar_mouse_event);\n",
       "\n",
       "        var icon_img = $('<span/>');\n",
       "        icon_img.addClass('ui-button-icon-primary ui-icon');\n",
       "        icon_img.addClass(image);\n",
       "        icon_img.addClass('ui-corner-all');\n",
       "\n",
       "        var tooltip_span = $('<span/>');\n",
       "        tooltip_span.addClass('ui-button-text');\n",
       "        tooltip_span.html(tooltip);\n",
       "\n",
       "        button.append(icon_img);\n",
       "        button.append(tooltip_span);\n",
       "\n",
       "        nav_element.append(button);\n",
       "    }\n",
       "\n",
       "    var fmt_picker_span = $('<span/>');\n",
       "\n",
       "    var fmt_picker = $('<select/>');\n",
       "    fmt_picker.addClass('mpl-toolbar-option ui-widget ui-widget-content');\n",
       "    fmt_picker_span.append(fmt_picker);\n",
       "    nav_element.append(fmt_picker_span);\n",
       "    this.format_dropdown = fmt_picker[0];\n",
       "\n",
       "    for (var ind in mpl.extensions) {\n",
       "        var fmt = mpl.extensions[ind];\n",
       "        var option = $(\n",
       "            '<option/>', {selected: fmt === mpl.default_extension}).html(fmt);\n",
       "        fmt_picker.append(option);\n",
       "    }\n",
       "\n",
       "    // Add hover states to the ui-buttons\n",
       "    $( \".ui-button\" ).hover(\n",
       "        function() { $(this).addClass(\"ui-state-hover\");},\n",
       "        function() { $(this).removeClass(\"ui-state-hover\");}\n",
       "    );\n",
       "\n",
       "    var status_bar = $('<span class=\"mpl-message\"/>');\n",
       "    nav_element.append(status_bar);\n",
       "    this.message = status_bar[0];\n",
       "}\n",
       "\n",
       "mpl.figure.prototype.request_resize = function(x_pixels, y_pixels) {\n",
       "    // Request matplotlib to resize the figure. Matplotlib will then trigger a resize in the client,\n",
       "    // which will in turn request a refresh of the image.\n",
       "    this.send_message('resize', {'width': x_pixels, 'height': y_pixels});\n",
       "}\n",
       "\n",
       "mpl.figure.prototype.send_message = function(type, properties) {\n",
       "    properties['type'] = type;\n",
       "    properties['figure_id'] = this.id;\n",
       "    this.ws.send(JSON.stringify(properties));\n",
       "}\n",
       "\n",
       "mpl.figure.prototype.send_draw_message = function() {\n",
       "    if (!this.waiting) {\n",
       "        this.waiting = true;\n",
       "        this.ws.send(JSON.stringify({type: \"draw\", figure_id: this.id}));\n",
       "    }\n",
       "}\n",
       "\n",
       "\n",
       "mpl.figure.prototype.handle_save = function(fig, msg) {\n",
       "    var format_dropdown = fig.format_dropdown;\n",
       "    var format = format_dropdown.options[format_dropdown.selectedIndex].value;\n",
       "    fig.ondownload(fig, format);\n",
       "}\n",
       "\n",
       "\n",
       "mpl.figure.prototype.handle_resize = function(fig, msg) {\n",
       "    var size = msg['size'];\n",
       "    if (size[0] != fig.canvas.width || size[1] != fig.canvas.height) {\n",
       "        fig._resize_canvas(size[0], size[1]);\n",
       "        fig.send_message(\"refresh\", {});\n",
       "    };\n",
       "}\n",
       "\n",
       "mpl.figure.prototype.handle_rubberband = function(fig, msg) {\n",
       "    var x0 = msg['x0'] / mpl.ratio;\n",
       "    var y0 = (fig.canvas.height - msg['y0']) / mpl.ratio;\n",
       "    var x1 = msg['x1'] / mpl.ratio;\n",
       "    var y1 = (fig.canvas.height - msg['y1']) / mpl.ratio;\n",
       "    x0 = Math.floor(x0) + 0.5;\n",
       "    y0 = Math.floor(y0) + 0.5;\n",
       "    x1 = Math.floor(x1) + 0.5;\n",
       "    y1 = Math.floor(y1) + 0.5;\n",
       "    var min_x = Math.min(x0, x1);\n",
       "    var min_y = Math.min(y0, y1);\n",
       "    var width = Math.abs(x1 - x0);\n",
       "    var height = Math.abs(y1 - y0);\n",
       "\n",
       "    fig.rubberband_context.clearRect(\n",
       "        0, 0, fig.canvas.width / mpl.ratio, fig.canvas.height / mpl.ratio);\n",
       "\n",
       "    fig.rubberband_context.strokeRect(min_x, min_y, width, height);\n",
       "}\n",
       "\n",
       "mpl.figure.prototype.handle_figure_label = function(fig, msg) {\n",
       "    // Updates the figure title.\n",
       "    fig.header.textContent = msg['label'];\n",
       "}\n",
       "\n",
       "mpl.figure.prototype.handle_cursor = function(fig, msg) {\n",
       "    var cursor = msg['cursor'];\n",
       "    switch(cursor)\n",
       "    {\n",
       "    case 0:\n",
       "        cursor = 'pointer';\n",
       "        break;\n",
       "    case 1:\n",
       "        cursor = 'default';\n",
       "        break;\n",
       "    case 2:\n",
       "        cursor = 'crosshair';\n",
       "        break;\n",
       "    case 3:\n",
       "        cursor = 'move';\n",
       "        break;\n",
       "    }\n",
       "    fig.rubberband_canvas.style.cursor = cursor;\n",
       "}\n",
       "\n",
       "mpl.figure.prototype.handle_message = function(fig, msg) {\n",
       "    fig.message.textContent = msg['message'];\n",
       "}\n",
       "\n",
       "mpl.figure.prototype.handle_draw = function(fig, msg) {\n",
       "    // Request the server to send over a new figure.\n",
       "    fig.send_draw_message();\n",
       "}\n",
       "\n",
       "mpl.figure.prototype.handle_image_mode = function(fig, msg) {\n",
       "    fig.image_mode = msg['mode'];\n",
       "}\n",
       "\n",
       "mpl.figure.prototype.updated_canvas_event = function() {\n",
       "    // Called whenever the canvas gets updated.\n",
       "    this.send_message(\"ack\", {});\n",
       "}\n",
       "\n",
       "// A function to construct a web socket function for onmessage handling.\n",
       "// Called in the figure constructor.\n",
       "mpl.figure.prototype._make_on_message_function = function(fig) {\n",
       "    return function socket_on_message(evt) {\n",
       "        if (evt.data instanceof Blob) {\n",
       "            /* FIXME: We get \"Resource interpreted as Image but\n",
       "             * transferred with MIME type text/plain:\" errors on\n",
       "             * Chrome.  But how to set the MIME type?  It doesn't seem\n",
       "             * to be part of the websocket stream */\n",
       "            evt.data.type = \"image/png\";\n",
       "\n",
       "            /* Free the memory for the previous frames */\n",
       "            if (fig.imageObj.src) {\n",
       "                (window.URL || window.webkitURL).revokeObjectURL(\n",
       "                    fig.imageObj.src);\n",
       "            }\n",
       "\n",
       "            fig.imageObj.src = (window.URL || window.webkitURL).createObjectURL(\n",
       "                evt.data);\n",
       "            fig.updated_canvas_event();\n",
       "            fig.waiting = false;\n",
       "            return;\n",
       "        }\n",
       "        else if (typeof evt.data === 'string' && evt.data.slice(0, 21) == \"data:image/png;base64\") {\n",
       "            fig.imageObj.src = evt.data;\n",
       "            fig.updated_canvas_event();\n",
       "            fig.waiting = false;\n",
       "            return;\n",
       "        }\n",
       "\n",
       "        var msg = JSON.parse(evt.data);\n",
       "        var msg_type = msg['type'];\n",
       "\n",
       "        // Call the  \"handle_{type}\" callback, which takes\n",
       "        // the figure and JSON message as its only arguments.\n",
       "        try {\n",
       "            var callback = fig[\"handle_\" + msg_type];\n",
       "        } catch (e) {\n",
       "            console.log(\"No handler for the '\" + msg_type + \"' message type: \", msg);\n",
       "            return;\n",
       "        }\n",
       "\n",
       "        if (callback) {\n",
       "            try {\n",
       "                // console.log(\"Handling '\" + msg_type + \"' message: \", msg);\n",
       "                callback(fig, msg);\n",
       "            } catch (e) {\n",
       "                console.log(\"Exception inside the 'handler_\" + msg_type + \"' callback:\", e, e.stack, msg);\n",
       "            }\n",
       "        }\n",
       "    };\n",
       "}\n",
       "\n",
       "// from http://stackoverflow.com/questions/1114465/getting-mouse-location-in-canvas\n",
       "mpl.findpos = function(e) {\n",
       "    //this section is from http://www.quirksmode.org/js/events_properties.html\n",
       "    var targ;\n",
       "    if (!e)\n",
       "        e = window.event;\n",
       "    if (e.target)\n",
       "        targ = e.target;\n",
       "    else if (e.srcElement)\n",
       "        targ = e.srcElement;\n",
       "    if (targ.nodeType == 3) // defeat Safari bug\n",
       "        targ = targ.parentNode;\n",
       "\n",
       "    // jQuery normalizes the pageX and pageY\n",
       "    // pageX,Y are the mouse positions relative to the document\n",
       "    // offset() returns the position of the element relative to the document\n",
       "    var x = e.pageX - $(targ).offset().left;\n",
       "    var y = e.pageY - $(targ).offset().top;\n",
       "\n",
       "    return {\"x\": x, \"y\": y};\n",
       "};\n",
       "\n",
       "/*\n",
       " * return a copy of an object with only non-object keys\n",
       " * we need this to avoid circular references\n",
       " * http://stackoverflow.com/a/24161582/3208463\n",
       " */\n",
       "function simpleKeys (original) {\n",
       "  return Object.keys(original).reduce(function (obj, key) {\n",
       "    if (typeof original[key] !== 'object')\n",
       "        obj[key] = original[key]\n",
       "    return obj;\n",
       "  }, {});\n",
       "}\n",
       "\n",
       "mpl.figure.prototype.mouse_event = function(event, name) {\n",
       "    var canvas_pos = mpl.findpos(event)\n",
       "\n",
       "    if (name === 'button_press')\n",
       "    {\n",
       "        this.canvas.focus();\n",
       "        this.canvas_div.focus();\n",
       "    }\n",
       "\n",
       "    var x = canvas_pos.x * mpl.ratio;\n",
       "    var y = canvas_pos.y * mpl.ratio;\n",
       "\n",
       "    this.send_message(name, {x: x, y: y, button: event.button,\n",
       "                             step: event.step,\n",
       "                             guiEvent: simpleKeys(event)});\n",
       "\n",
       "    /* This prevents the web browser from automatically changing to\n",
       "     * the text insertion cursor when the button is pressed.  We want\n",
       "     * to control all of the cursor setting manually through the\n",
       "     * 'cursor' event from matplotlib */\n",
       "    event.preventDefault();\n",
       "    return false;\n",
       "}\n",
       "\n",
       "mpl.figure.prototype._key_event_extra = function(event, name) {\n",
       "    // Handle any extra behaviour associated with a key event\n",
       "}\n",
       "\n",
       "mpl.figure.prototype.key_event = function(event, name) {\n",
       "\n",
       "    // Prevent repeat events\n",
       "    if (name == 'key_press')\n",
       "    {\n",
       "        if (event.which === this._key)\n",
       "            return;\n",
       "        else\n",
       "            this._key = event.which;\n",
       "    }\n",
       "    if (name == 'key_release')\n",
       "        this._key = null;\n",
       "\n",
       "    var value = '';\n",
       "    if (event.ctrlKey && event.which != 17)\n",
       "        value += \"ctrl+\";\n",
       "    if (event.altKey && event.which != 18)\n",
       "        value += \"alt+\";\n",
       "    if (event.shiftKey && event.which != 16)\n",
       "        value += \"shift+\";\n",
       "\n",
       "    value += 'k';\n",
       "    value += event.which.toString();\n",
       "\n",
       "    this._key_event_extra(event, name);\n",
       "\n",
       "    this.send_message(name, {key: value,\n",
       "                             guiEvent: simpleKeys(event)});\n",
       "    return false;\n",
       "}\n",
       "\n",
       "mpl.figure.prototype.toolbar_button_onclick = function(name) {\n",
       "    if (name == 'download') {\n",
       "        this.handle_save(this, null);\n",
       "    } else {\n",
       "        this.send_message(\"toolbar_button\", {name: name});\n",
       "    }\n",
       "};\n",
       "\n",
       "mpl.figure.prototype.toolbar_button_onmouseover = function(tooltip) {\n",
       "    this.message.textContent = tooltip;\n",
       "};\n",
       "mpl.toolbar_items = [[\"Home\", \"Reset original view\", \"fa fa-home icon-home\", \"home\"], [\"Back\", \"Back to previous view\", \"fa fa-arrow-left icon-arrow-left\", \"back\"], [\"Forward\", \"Forward to next view\", \"fa fa-arrow-right icon-arrow-right\", \"forward\"], [\"\", \"\", \"\", \"\"], [\"Pan\", \"Pan axes with left mouse, zoom with right\", \"fa fa-arrows icon-move\", \"pan\"], [\"Zoom\", \"Zoom to rectangle\", \"fa fa-square-o icon-check-empty\", \"zoom\"], [\"\", \"\", \"\", \"\"], [\"Download\", \"Download plot\", \"fa fa-floppy-o icon-save\", \"download\"]];\n",
       "\n",
       "mpl.extensions = [\"eps\", \"jpeg\", \"pdf\", \"png\", \"ps\", \"raw\", \"svg\", \"tif\"];\n",
       "\n",
       "mpl.default_extension = \"png\";var comm_websocket_adapter = function(comm) {\n",
       "    // Create a \"websocket\"-like object which calls the given IPython comm\n",
       "    // object with the appropriate methods. Currently this is a non binary\n",
       "    // socket, so there is still some room for performance tuning.\n",
       "    var ws = {};\n",
       "\n",
       "    ws.close = function() {\n",
       "        comm.close()\n",
       "    };\n",
       "    ws.send = function(m) {\n",
       "        //console.log('sending', m);\n",
       "        comm.send(m);\n",
       "    };\n",
       "    // Register the callback with on_msg.\n",
       "    comm.on_msg(function(msg) {\n",
       "        //console.log('receiving', msg['content']['data'], msg);\n",
       "        // Pass the mpl event to the overridden (by mpl) onmessage function.\n",
       "        ws.onmessage(msg['content']['data'])\n",
       "    });\n",
       "    return ws;\n",
       "}\n",
       "\n",
       "mpl.mpl_figure_comm = function(comm, msg) {\n",
       "    // This is the function which gets called when the mpl process\n",
       "    // starts-up an IPython Comm through the \"matplotlib\" channel.\n",
       "\n",
       "    var id = msg.content.data.id;\n",
       "    // Get hold of the div created by the display call when the Comm\n",
       "    // socket was opened in Python.\n",
       "    var element = $(\"#\" + id);\n",
       "    var ws_proxy = comm_websocket_adapter(comm)\n",
       "\n",
       "    function ondownload(figure, format) {\n",
       "        window.open(figure.imageObj.src);\n",
       "    }\n",
       "\n",
       "    var fig = new mpl.figure(id, ws_proxy,\n",
       "                           ondownload,\n",
       "                           element.get(0));\n",
       "\n",
       "    // Call onopen now - mpl needs it, as it is assuming we've passed it a real\n",
       "    // web socket which is closed, not our websocket->open comm proxy.\n",
       "    ws_proxy.onopen();\n",
       "\n",
       "    fig.parent_element = element.get(0);\n",
       "    fig.cell_info = mpl.find_output_cell(\"<div id='\" + id + \"'></div>\");\n",
       "    if (!fig.cell_info) {\n",
       "        console.error(\"Failed to find cell for figure\", id, fig);\n",
       "        return;\n",
       "    }\n",
       "\n",
       "    var output_index = fig.cell_info[2]\n",
       "    var cell = fig.cell_info[0];\n",
       "\n",
       "};\n",
       "\n",
       "mpl.figure.prototype.handle_close = function(fig, msg) {\n",
       "    var width = fig.canvas.width/mpl.ratio\n",
       "    fig.root.unbind('remove')\n",
       "\n",
       "    // Update the output cell to use the data from the current canvas.\n",
       "    fig.push_to_output();\n",
       "    var dataURL = fig.canvas.toDataURL();\n",
       "    // Re-enable the keyboard manager in IPython - without this line, in FF,\n",
       "    // the notebook keyboard shortcuts fail.\n",
       "    IPython.keyboard_manager.enable()\n",
       "    $(fig.parent_element).html('<img src=\"' + dataURL + '\" width=\"' + width + '\">');\n",
       "    fig.close_ws(fig, msg);\n",
       "}\n",
       "\n",
       "mpl.figure.prototype.close_ws = function(fig, msg){\n",
       "    fig.send_message('closing', msg);\n",
       "    // fig.ws.close()\n",
       "}\n",
       "\n",
       "mpl.figure.prototype.push_to_output = function(remove_interactive) {\n",
       "    // Turn the data on the canvas into data in the output cell.\n",
       "    var width = this.canvas.width/mpl.ratio\n",
       "    var dataURL = this.canvas.toDataURL();\n",
       "    this.cell_info[1]['text/html'] = '<img src=\"' + dataURL + '\" width=\"' + width + '\">';\n",
       "}\n",
       "\n",
       "mpl.figure.prototype.updated_canvas_event = function() {\n",
       "    // Tell IPython that the notebook contents must change.\n",
       "    IPython.notebook.set_dirty(true);\n",
       "    this.send_message(\"ack\", {});\n",
       "    var fig = this;\n",
       "    // Wait a second, then push the new image to the DOM so\n",
       "    // that it is saved nicely (might be nice to debounce this).\n",
       "    setTimeout(function () { fig.push_to_output() }, 1000);\n",
       "}\n",
       "\n",
       "mpl.figure.prototype._init_toolbar = function() {\n",
       "    var fig = this;\n",
       "\n",
       "    var nav_element = $('<div/>');\n",
       "    nav_element.attr('style', 'width: 100%');\n",
       "    this.root.append(nav_element);\n",
       "\n",
       "    // Define a callback function for later on.\n",
       "    function toolbar_event(event) {\n",
       "        return fig.toolbar_button_onclick(event['data']);\n",
       "    }\n",
       "    function toolbar_mouse_event(event) {\n",
       "        return fig.toolbar_button_onmouseover(event['data']);\n",
       "    }\n",
       "\n",
       "    for(var toolbar_ind in mpl.toolbar_items){\n",
       "        var name = mpl.toolbar_items[toolbar_ind][0];\n",
       "        var tooltip = mpl.toolbar_items[toolbar_ind][1];\n",
       "        var image = mpl.toolbar_items[toolbar_ind][2];\n",
       "        var method_name = mpl.toolbar_items[toolbar_ind][3];\n",
       "\n",
       "        if (!name) { continue; };\n",
       "\n",
       "        var button = $('<button class=\"btn btn-default\" href=\"#\" title=\"' + name + '\"><i class=\"fa ' + image + ' fa-lg\"></i></button>');\n",
       "        button.click(method_name, toolbar_event);\n",
       "        button.mouseover(tooltip, toolbar_mouse_event);\n",
       "        nav_element.append(button);\n",
       "    }\n",
       "\n",
       "    // Add the status bar.\n",
       "    var status_bar = $('<span class=\"mpl-message\" style=\"text-align:right; float: right;\"/>');\n",
       "    nav_element.append(status_bar);\n",
       "    this.message = status_bar[0];\n",
       "\n",
       "    // Add the close button to the window.\n",
       "    var buttongrp = $('<div class=\"btn-group inline pull-right\"></div>');\n",
       "    var button = $('<button class=\"btn btn-mini btn-primary\" href=\"#\" title=\"Stop Interaction\"><i class=\"fa fa-power-off icon-remove icon-large\"></i></button>');\n",
       "    button.click(function (evt) { fig.handle_close(fig, {}); } );\n",
       "    button.mouseover('Stop Interaction', toolbar_mouse_event);\n",
       "    buttongrp.append(button);\n",
       "    var titlebar = this.root.find($('.ui-dialog-titlebar'));\n",
       "    titlebar.prepend(buttongrp);\n",
       "}\n",
       "\n",
       "mpl.figure.prototype._root_extra_style = function(el){\n",
       "    var fig = this\n",
       "    el.on(\"remove\", function(){\n",
       "\tfig.close_ws(fig, {});\n",
       "    });\n",
       "}\n",
       "\n",
       "mpl.figure.prototype._canvas_extra_style = function(el){\n",
       "    // this is important to make the div 'focusable\n",
       "    el.attr('tabindex', 0)\n",
       "    // reach out to IPython and tell the keyboard manager to turn it's self\n",
       "    // off when our div gets focus\n",
       "\n",
       "    // location in version 3\n",
       "    if (IPython.notebook.keyboard_manager) {\n",
       "        IPython.notebook.keyboard_manager.register_events(el);\n",
       "    }\n",
       "    else {\n",
       "        // location in version 2\n",
       "        IPython.keyboard_manager.register_events(el);\n",
       "    }\n",
       "\n",
       "}\n",
       "\n",
       "mpl.figure.prototype._key_event_extra = function(event, name) {\n",
       "    var manager = IPython.notebook.keyboard_manager;\n",
       "    if (!manager)\n",
       "        manager = IPython.keyboard_manager;\n",
       "\n",
       "    // Check for shift+enter\n",
       "    if (event.shiftKey && event.which == 13) {\n",
       "        this.canvas_div.blur();\n",
       "        event.shiftKey = false;\n",
       "        // Send a \"J\" for go to next cell\n",
       "        event.which = 74;\n",
       "        event.keyCode = 74;\n",
       "        manager.command_mode();\n",
       "        manager.handle_keydown(event);\n",
       "    }\n",
       "}\n",
       "\n",
       "mpl.figure.prototype.handle_save = function(fig, msg) {\n",
       "    fig.ondownload(fig, null);\n",
       "}\n",
       "\n",
       "\n",
       "mpl.find_output_cell = function(html_output) {\n",
       "    // Return the cell and output element which can be found *uniquely* in the notebook.\n",
       "    // Note - this is a bit hacky, but it is done because the \"notebook_saving.Notebook\"\n",
       "    // IPython event is triggered only after the cells have been serialised, which for\n",
       "    // our purposes (turning an active figure into a static one), is too late.\n",
       "    var cells = IPython.notebook.get_cells();\n",
       "    var ncells = cells.length;\n",
       "    for (var i=0; i<ncells; i++) {\n",
       "        var cell = cells[i];\n",
       "        if (cell.cell_type === 'code'){\n",
       "            for (var j=0; j<cell.output_area.outputs.length; j++) {\n",
       "                var data = cell.output_area.outputs[j];\n",
       "                if (data.data) {\n",
       "                    // IPython >= 3 moved mimebundle to data attribute of output\n",
       "                    data = data.data;\n",
       "                }\n",
       "                if (data['text/html'] == html_output) {\n",
       "                    return [cell, data, j];\n",
       "                }\n",
       "            }\n",
       "        }\n",
       "    }\n",
       "}\n",
       "\n",
       "// Register the function which deals with the matplotlib target/channel.\n",
       "// The kernel may be null if the page has been refreshed.\n",
       "if (IPython.notebook.kernel != null) {\n",
       "    IPython.notebook.kernel.comm_manager.register_target('matplotlib', mpl.mpl_figure_comm);\n",
       "}\n"
      ],
      "text/plain": [
       "<IPython.core.display.Javascript object>"
      ]
     },
     "metadata": {},
     "output_type": "display_data"
    },
    {
     "data": {
      "text/html": [
       "<img src=\"data:image/png;base64,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\" width=\"600\">"
      ],
      "text/plain": [
       "<IPython.core.display.HTML object>"
      ]
     },
     "metadata": {},
     "output_type": "display_data"
    }
   ],
   "source": [
    "util.show_nums(trainX[:16].view(-1,C,H,W))\n",
    "pass"
   ]
  },
  {
   "cell_type": "code",
   "execution_count": null,
   "metadata": {},
   "outputs": [],
   "source": []
  },
  {
   "cell_type": "code",
   "execution_count": 16,
   "metadata": {},
   "outputs": [],
   "source": [
    "R.__class__.inverse_transform = umap.UMAP.inverse_transform\n",
    "R.output_metric = 'euclidean'\n",
    "R._output_metric_kwds = {}"
   ]
  },
  {
   "cell_type": "code",
   "execution_count": null,
   "metadata": {},
   "outputs": [],
   "source": [
    "gen = R.inverse_transform(vlat)\n",
    "gen = torch.from_numpy(gen)\n",
    "gen.shape"
   ]
  },
  {
   "cell_type": "code",
   "execution_count": null,
   "metadata": {},
   "outputs": [],
   "source": []
  },
  {
   "cell_type": "code",
   "execution_count": null,
   "metadata": {},
   "outputs": [],
   "source": []
  },
  {
   "cell_type": "code",
   "execution_count": null,
   "metadata": {},
   "outputs": [],
   "source": []
  },
  {
   "cell_type": "code",
   "execution_count": null,
   "metadata": {},
   "outputs": [],
   "source": []
  },
  {
   "cell_type": "code",
   "execution_count": 45,
   "metadata": {},
   "outputs": [],
   "source": [
    "reqs = ['_sparse_data', 'metric', 'transform_seed', 'embedding_', '_raw_data', 'output_metric', '_output_metric_kwds', '_a', '_b', 'n_epochs','_sigmas', '_rhos', 'repulsion_strength', '_initial_alpha', 'negative_sample_rate', 'verbose']\n",
    "reqs = set(reqs)"
   ]
  },
  {
   "cell_type": "code",
   "execution_count": 46,
   "metadata": {},
   "outputs": [
    {
     "name": "stdout",
     "output_type": "stream",
     "text": [
      "_raw_data (10000, 196) float32 (10000, 196) float32\n",
      "metric euclidean euclidean\n",
      "_rhos (10000,) float32 (10000,) float32\n",
      "verbose False False\n",
      "repulsion_strength 1.0 1.0\n",
      "embedding_ (10000, 2) float32 (10000, 2) float32\n",
      "transform_seed 42 42\n",
      "_a 1.576943460405378 1.576943460405378\n",
      "_b 0.8950608781227859 0.8950608781227859\n",
      "_initial_alpha 1.0 1.0\n",
      "negative_sample_rate 5 5\n",
      "_output_metric_kwds {} {}\n",
      "_sigmas (10000,) float32 (10000,) float32\n",
      "n_epochs None None\n",
      "output_metric euclidean euclidean\n",
      "_sparse_data False False\n"
     ]
    }
   ],
   "source": [
    "for r in reqs:\n",
    "    a = getattr(V,r)\n",
    "    b = getattr(R,r)\n",
    "    if isinstance(a, np.ndarray):\n",
    "        print(r, a.shape, a.dtype, b.shape, b.dtype)\n",
    "    else:\n",
    "        print(r, a, b)"
   ]
  },
  {
   "cell_type": "code",
   "execution_count": 16,
   "metadata": {},
   "outputs": [],
   "source": [
    "# langl = util.cart2angl(latent)\n",
    "\n",
    "# langl = angles[:16]\n",
    "# langl[8:] = util.cart2angl(util.angl2cart(angles[:8]))\n",
    "# langl\n",
    "\n",
    "# latent = points[:16]\n",
    "# latent.shape"
   ]
  },
  {
   "cell_type": "code",
   "execution_count": 33,
   "metadata": {},
   "outputs": [],
   "source": [
    "# plt.sca(ax)\n",
    "# # plt.scatter(*latent.numpy().T, c='k', marker='x', s=100)\n",
    "# for i,(x,y) in enumerate(vlat.numpy()):\n",
    "#     plt.text(x.item(),y.item(), s=str(i), fontsize=12, horizontalalignment='center', verticalalignment='center', )"
   ]
  },
  {
   "cell_type": "code",
   "execution_count": 68,
   "metadata": {},
   "outputs": [],
   "source": [
    "# gen = R.inverse_transform(latent.numpy())\n",
    "# gen = torch.from_numpy(gen).view(-1, 1, 28, 28)\n",
    "# gen.shape"
   ]
  },
  {
   "cell_type": "code",
   "execution_count": null,
   "metadata": {},
   "outputs": [],
   "source": []
  },
  {
   "cell_type": "code",
   "execution_count": 2,
   "metadata": {},
   "outputs": [
    {
     "data": {
      "text/plain": [
       "{{'_ipython_canary_method_should_not_exist_':{{}}}}"
      ]
     },
     "execution_count": 2,
     "metadata": {},
     "output_type": "execute_result"
    }
   ],
   "source": [
    "C = trn.get_config()\n",
    "C"
   ]
  },
  {
   "cell_type": "code",
   "execution_count": 3,
   "metadata": {},
   "outputs": [
    {
     "data": {
      "text/plain": [
       "{{'_ipython_canary_method_should_not_exist_':{{}}, 'criterion':{{'_type':'criterion', 'name':'bce', 'kwargs':{{'reduction':'sum'}}}}}}"
      ]
     },
     "execution_count": 3,
     "metadata": {},
     "output_type": "execute_result"
    }
   ],
   "source": [
    "C.criterion._type = 'criterion'\n",
    "C.criterion.name = 'bce'\n",
    "C.criterion.kwargs.reduction = 'sum'\n",
    "C"
   ]
  },
  {
   "cell_type": "code",
   "execution_count": 4,
   "metadata": {},
   "outputs": [
    {
     "name": "stdout",
     "output_type": "stream",
     "text": [
      "Creating criterion (type=criterion)\n",
      "  name: bce\n",
      "    kwargs (type=dict): \n",
      "    (reduction): sum\n",
      "WARNING: this Config is NOT currently in a transaction, so all subcomponents will be created again everytime they are pulled\n"
     ]
    }
   ],
   "source": [
    "criterion = C.pull('criterion')"
   ]
  },
  {
   "cell_type": "code",
   "execution_count": 6,
   "metadata": {},
   "outputs": [
    {
     "data": {
      "text/plain": [
       "'sum'"
      ]
     },
     "execution_count": 6,
     "metadata": {},
     "output_type": "execute_result"
    }
   ],
   "source": [
    "criterion.reduction"
   ]
  },
  {
   "cell_type": "code",
   "execution_count": null,
   "metadata": {},
   "outputs": [],
   "source": []
  },
  {
   "cell_type": "code",
   "execution_count": null,
   "metadata": {},
   "outputs": [],
   "source": []
  },
  {
   "cell_type": "code",
   "execution_count": 7,
   "metadata": {},
   "outputs": [],
   "source": [
    "import inspect"
   ]
  },
  {
   "cell_type": "code",
   "execution_count": null,
   "metadata": {},
   "outputs": [],
   "source": []
  },
  {
   "cell_type": "code",
   "execution_count": null,
   "metadata": {},
   "outputs": [],
   "source": [
    "util.show_nums(gen.view(-1, C, H, W))\n",
    "pass"
   ]
  },
  {
   "cell_type": "code",
   "execution_count": 44,
   "metadata": {},
   "outputs": [
    {
     "name": "stdout",
     "output_type": "stream",
     "text": [
      "a <class 'inspect._empty'> POSITIONAL_OR_KEYWORD\n",
      "b <class 'inspect._empty'> POSITIONAL_OR_KEYWORD\n",
      "c 1 POSITIONAL_OR_KEYWORD\n",
      "d [1, 2, 3] POSITIONAL_OR_KEYWORD\n",
      "e 13 POSITIONAL_OR_KEYWORD\n",
      "kwargs <class 'inspect._empty'> VAR_KEYWORD\n"
     ]
    }
   ],
   "source": [
    "for n, p in sig.parameters.items():\n",
    "    print(n, p.default, p.kind)\n",
    "#     break"
   ]
  },
  {
   "cell_type": "code",
   "execution_count": 35,
   "metadata": {},
   "outputs": [
    {
     "data": {
      "text/plain": [
       "<_ParameterKind.POSITIONAL_OR_KEYWORD: 1>"
      ]
     },
     "execution_count": 35,
     "metadata": {},
     "output_type": "execute_result"
    }
   ],
   "source": [
    "p.POSITIONAL_OR_KEYWORD"
   ]
  },
  {
   "cell_type": "code",
   "execution_count": 22,
   "metadata": {},
   "outputs": [
    {
     "data": {
      "text/plain": [
       "<_ParameterKind.VAR_KEYWORD: 4>"
      ]
     },
     "execution_count": 22,
     "metadata": {},
     "output_type": "execute_result"
    }
   ],
   "source": [
    "p.kind"
   ]
  },
  {
   "cell_type": "code",
   "execution_count": 17,
   "metadata": {},
   "outputs": [
    {
     "data": {
      "text/plain": [
       "True"
      ]
     },
     "execution_count": 17,
     "metadata": {},
     "output_type": "execute_result"
    }
   ],
   "source": [
    "p.default == inspect._empty"
   ]
  },
  {
   "cell_type": "code",
   "execution_count": 29,
   "metadata": {},
   "outputs": [
    {
     "data": {
      "text/plain": [
       "<enum '_ParameterKind'>"
      ]
     },
     "execution_count": 29,
     "metadata": {},
     "output_type": "execute_result"
    }
   ],
   "source": [
    "type(p.kind)"
   ]
  },
  {
   "cell_type": "code",
   "execution_count": 34,
   "metadata": {},
   "outputs": [
    {
     "data": {
      "text/plain": [
       "True"
      ]
     },
     "execution_count": 34,
     "metadata": {},
     "output_type": "execute_result"
    }
   ],
   "source": [
    "{inspect._ParameterKind.VAR_POSITIONAL, inspect._ParameterKind.VAR_KEYWORD} == p.kind"
   ]
  },
  {
   "cell_type": "code",
   "execution_count": 36,
   "metadata": {},
   "outputs": [
    {
     "data": {
      "text/plain": [
       "inspect._empty"
      ]
     },
     "execution_count": 36,
     "metadata": {},
     "output_type": "execute_result"
    }
   ],
   "source": [
    "p.default"
   ]
  },
  {
   "cell_type": "code",
   "execution_count": null,
   "metadata": {},
   "outputs": [],
   "source": []
  }
 ],
 "metadata": {
  "kernelspec": {
   "display_name": "Python 3",
   "language": "python",
   "name": "python3"
  },
  "language_info": {
   "codemirror_mode": {
    "name": "ipython",
    "version": 3
   },
   "file_extension": ".py",
   "mimetype": "text/x-python",
   "name": "python",
   "nbconvert_exporter": "python",
   "pygments_lexer": "ipython3",
   "version": "3.7.4"
  }
 },
 "nbformat": 4,
 "nbformat_minor": 2
}
